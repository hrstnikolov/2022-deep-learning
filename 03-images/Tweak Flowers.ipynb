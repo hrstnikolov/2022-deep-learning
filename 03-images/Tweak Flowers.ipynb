{
 "cells": [
  {
   "cell_type": "code",
   "execution_count": 3,
   "id": "26c87b51-56cb-48a1-ba61-036cc3cb234a",
   "metadata": {},
   "outputs": [],
   "source": [
    "%matplotlib inline"
   ]
  },
  {
   "cell_type": "code",
   "execution_count": 5,
   "id": "de19f267-6fbe-48d0-8707-235ed55cccc3",
   "metadata": {},
   "outputs": [],
   "source": [
    "import numpy as np\n",
    "import pandas as pd\n",
    "import matplotlib.pyplot as plt\n",
    "\n",
    "import os\n",
    "import pathlib\n",
    "\n",
    "import tensorflow as tf"
   ]
  },
  {
   "cell_type": "markdown",
   "id": "9089709d-9dee-4814-8b10-dfe3d3e55240",
   "metadata": {},
   "source": [
    "# Tweak Flowers"
   ]
  },
  {
   "cell_type": "markdown",
   "id": "6fb3f535-5af8-441b-902a-79b044740cf5",
   "metadata": {},
   "source": [
    "## Download the flowers dataset\n",
    "\n",
    "Flowers dataset in [Kagle](https://www.kaggle.com/datasets/sauravagarwal/flower-classification)."
   ]
  },
  {
   "cell_type": "code",
   "execution_count": 10,
   "id": "caf69d44-0632-4d02-99a9-6b85be047c7e",
   "metadata": {},
   "outputs": [],
   "source": [
    "dataset_url = \"https://storage.googleapis.com/download.tensorflow.org/example_images/flower_photos.tgz\"\n",
    "archive_file = tf.keras.utils.get_file(origin=dataset_url, extract=True)\n",
    "data_dir = pathlib.Path(archive_file).with_suffix('')"
   ]
  },
  {
   "cell_type": "code",
   "execution_count": 14,
   "id": "fc489cec-3f04-4593-9713-b198b42490a1",
   "metadata": {},
   "outputs": [
    {
     "data": {
      "text/plain": [
       "3670"
      ]
     },
     "execution_count": 14,
     "metadata": {},
     "output_type": "execute_result"
    }
   ],
   "source": [
    "image_count = len(list(data_dir.glob('*/*.jpg')))\n",
    "image_count"
   ]
  },
  {
   "cell_type": "code",
   "execution_count": null,
   "id": "682afb9d-0d8f-408e-ae72-8aca70f6e81a",
   "metadata": {},
   "outputs": [],
   "source": [
    "tf.io.read_file"
   ]
  }
 ],
 "metadata": {
  "kernelspec": {
   "display_name": "Python 3 (ipykernel)",
   "language": "python",
   "name": "python3"
  },
  "language_info": {
   "codemirror_mode": {
    "name": "ipython",
    "version": 3
   },
   "file_extension": ".py",
   "mimetype": "text/x-python",
   "name": "python",
   "nbconvert_exporter": "python",
   "pygments_lexer": "ipython3",
   "version": "3.10.10"
  }
 },
 "nbformat": 4,
 "nbformat_minor": 5
}
