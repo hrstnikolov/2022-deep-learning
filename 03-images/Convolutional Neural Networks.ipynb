{
 "cells": [
  {
   "cell_type": "code",
   "execution_count": 3,
   "id": "7c66637c-fc38-4b49-8452-8346c2c6c324",
   "metadata": {},
   "outputs": [],
   "source": [
    "%matplotlib inline"
   ]
  },
  {
   "cell_type": "code",
   "execution_count": 40,
   "id": "ede19128-d4b6-434c-8d67-f8f2c09ef6c1",
   "metadata": {},
   "outputs": [],
   "source": [
    "import numpy as np\n",
    "import pandas as pd\n",
    "import matplotlib.pyplot as plt\n",
    "\n",
    "from skimage.io import imread\n",
    "\n",
    "from scipy.ndimage import convolve, gaussian_filter\n",
    "\n",
    "import tensorflow as tf\n",
    "from tensorflow.keras.models import Sequential\n",
    "from tensorflow.keras.layers import Input, Dense, Conv2D, MaxPool2D, Flatten\n",
    "\n",
    "from tensorflow.keras.applications import VGG19"
   ]
  },
  {
   "cell_type": "markdown",
   "id": "de0094d9-6267-4688-93d7-b2bf772db564",
   "metadata": {},
   "source": [
    "# Convolutional Neural Networks"
   ]
  },
  {
   "cell_type": "markdown",
   "id": "0a7df945-2c75-4f64-bf10-8a3445531a87",
   "metadata": {
    "jp-MarkdownHeadingCollapsed": true,
    "tags": []
   },
   "source": [
    "### First CNN\n",
    "\n",
    "Define convolutional neural network.\n",
    "- 1 layer and 32 filters in it\n",
    "- CNN input is an image with dimensions (28, 28) and 3 channels\n",
    "- width and height shall not reduce\n",
    "- do not forget activation"
   ]
  },
  {
   "cell_type": "code",
   "execution_count": 8,
   "id": "b0112971-d07c-46c4-99f1-a1a97810ba86",
   "metadata": {},
   "outputs": [
    {
     "name": "stdout",
     "output_type": "stream",
     "text": [
      "Model: \"sequential_3\"\n",
      "_________________________________________________________________\n",
      " Layer (type)                Output Shape              Param #   \n",
      "=================================================================\n",
      " conv2d_3 (Conv2D)           (None, 28, 28, 32)        896       \n",
      "                                                                 \n",
      "=================================================================\n",
      "Total params: 896\n",
      "Trainable params: 896\n",
      "Non-trainable params: 0\n",
      "_________________________________________________________________\n"
     ]
    }
   ],
   "source": [
    "cnn = Sequential([\n",
    "    Input(shape = (28, 28, 3)),\n",
    "    Conv2D(filters=32, kernel_size=(3,3), padding='same', activation='relu'),\n",
    "])\n",
    "\n",
    "cnn.summary()"
   ]
  },
  {
   "cell_type": "markdown",
   "id": "4767e420-be20-4da5-961a-57bf09daee2a",
   "metadata": {
    "jp-MarkdownHeadingCollapsed": true,
    "tags": []
   },
   "source": [
    "### Second CNN\n",
    "Add a pooling layer:\n",
    "- function `max`\n",
    "- pooling window with size (2, 2)"
   ]
  },
  {
   "cell_type": "code",
   "execution_count": 13,
   "id": "052f41fa-aae9-4e14-920b-5ad7be1bb8ca",
   "metadata": {},
   "outputs": [
    {
     "name": "stdout",
     "output_type": "stream",
     "text": [
      "Model: \"sequential_8\"\n",
      "_________________________________________________________________\n",
      " Layer (type)                Output Shape              Param #   \n",
      "=================================================================\n",
      " conv2d_8 (Conv2D)           (None, 28, 28, 32)        896       \n",
      "                                                                 \n",
      " max_pooling2d_6 (MaxPooling  (None, 14, 14, 32)       0         \n",
      " 2D)                                                             \n",
      "                                                                 \n",
      "=================================================================\n",
      "Total params: 896\n",
      "Trainable params: 896\n",
      "Non-trainable params: 0\n",
      "_________________________________________________________________\n"
     ]
    }
   ],
   "source": [
    "cnn = Sequential([\n",
    "    Input(shape = (28, 28, 3)),\n",
    "    Conv2D(filters=32, kernel_size=(3,3), padding='same', activation='relu'),\n",
    "    MaxPool2D(pool_size=(2,2)),\n",
    "])\n",
    "cnn.summary()"
   ]
  },
  {
   "cell_type": "markdown",
   "id": "e864dc93-36ec-4e7f-8222-95ec8fce4e9b",
   "metadata": {
    "jp-MarkdownHeadingCollapsed": true,
    "tags": []
   },
   "source": [
    "### Deep NN for images\n",
    "Define a fully connected deep nn:\n",
    "- input image size (224, 224, 3)\n",
    "- 5 hidden fully-connected layers\n",
    "- 10 output classes\n",
    "- choose number of units like 'funnel' - starting big and converging to the 10 classes\n",
    "- too many weights -> too much memory to run - naive approach"
   ]
  },
  {
   "cell_type": "code",
   "execution_count": 19,
   "id": "22081a3d-b0df-4123-b53d-63d609984bfa",
   "metadata": {},
   "outputs": [],
   "source": [
    "# fcnn = Sequential([\n",
    "#     Input(shape = (224, 224, 3)),\n",
    "#     Flatten(),\n",
    "    \n",
    "#     Dense(10000, activation='relu'),\n",
    "#     Dense(5000, activation='relu'),\n",
    "#     Dense(2000, activation='relu'),\n",
    "#     Dense(500, activation='relu'),\n",
    "#     Dense(100, activation='relu'),\n",
    "    \n",
    "#     Dense(10, activation='softmax'),\n",
    "# ])"
   ]
  },
  {
   "cell_type": "markdown",
   "id": "ca84f8fc-1d05-4fe6-96e3-c026844f00c4",
   "metadata": {
    "jp-MarkdownHeadingCollapsed": true,
    "tags": []
   },
   "source": [
    "### Typical sequential CNN\n",
    "Типична последователна НМ:\n",
    "- check and make sense of the filter dimensions"
   ]
  },
  {
   "cell_type": "code",
   "execution_count": 25,
   "id": "a2c5a30d-8bdf-43f7-90a3-868990fcf896",
   "metadata": {},
   "outputs": [],
   "source": [
    "cnn = Sequential([\n",
    "    Input(shape = (20, 20, 3)),\n",
    "    Conv2D(filters=32, kernel_size=(3,3), padding='same', activation='relu'),\n",
    "    Conv2D(filters=32, kernel_size=(3,3), padding='same', activation='relu'),\n",
    "    MaxPool2D(),\n",
    "    Conv2D(filters=16, kernel_size=(3,3), padding='same', activation='relu'),\n",
    "    Conv2D(filters=16, kernel_size=(3,3), padding='same', activation='relu'),\n",
    "    MaxPool2D(),\n",
    "    Conv2D(filters=8, kernel_size=(3,3), padding='same', activation='relu'),\n",
    "    Conv2D(filters=8, kernel_size=(3,3), padding='same', activation='relu'),\n",
    "    MaxPool2D(),\n",
    "    Flatten(),\n",
    "    \n",
    "    Dense(32, activation='relu'),    \n",
    "    Dense(10, activation='softmax'),\n",
    "])"
   ]
  },
  {
   "cell_type": "code",
   "execution_count": 26,
   "id": "8e9e19c3-fcf4-48bb-a1ea-893addc95760",
   "metadata": {
    "collapsed": true,
    "jupyter": {
     "outputs_hidden": true
    },
    "tags": []
   },
   "outputs": [
    {
     "name": "stdout",
     "output_type": "stream",
     "text": [
      "Model: \"sequential_13\"\n",
      "_________________________________________________________________\n",
      " Layer (type)                Output Shape              Param #   \n",
      "=================================================================\n",
      " conv2d_21 (Conv2D)          (None, 20, 20, 32)        896       \n",
      "                                                                 \n",
      " conv2d_22 (Conv2D)          (None, 20, 20, 32)        9248      \n",
      "                                                                 \n",
      " max_pooling2d_13 (MaxPoolin  (None, 10, 10, 32)       0         \n",
      " g2D)                                                            \n",
      "                                                                 \n",
      " conv2d_23 (Conv2D)          (None, 10, 10, 16)        4624      \n",
      "                                                                 \n",
      " conv2d_24 (Conv2D)          (None, 10, 10, 16)        2320      \n",
      "                                                                 \n",
      " max_pooling2d_14 (MaxPoolin  (None, 5, 5, 16)         0         \n",
      " g2D)                                                            \n",
      "                                                                 \n",
      " conv2d_25 (Conv2D)          (None, 5, 5, 8)           1160      \n",
      "                                                                 \n",
      " conv2d_26 (Conv2D)          (None, 5, 5, 8)           584       \n",
      "                                                                 \n",
      " max_pooling2d_15 (MaxPoolin  (None, 2, 2, 8)          0         \n",
      " g2D)                                                            \n",
      "                                                                 \n",
      " flatten_1 (Flatten)         (None, 32)                0         \n",
      "                                                                 \n",
      " dense_12 (Dense)            (None, 32)                1056      \n",
      "                                                                 \n",
      " dense_13 (Dense)            (None, 10)                330       \n",
      "                                                                 \n",
      "=================================================================\n",
      "Total params: 20,218\n",
      "Trainable params: 20,218\n",
      "Non-trainable params: 0\n",
      "_________________________________________________________________\n"
     ]
    }
   ],
   "source": [
    "cnn.summary()"
   ]
  },
  {
   "cell_type": "code",
   "execution_count": 39,
   "id": "ee2adcc8-b32e-4347-a34d-1c91f2e4ccd1",
   "metadata": {},
   "outputs": [
    {
     "name": "stdout",
     "output_type": "stream",
     "text": [
      "conv2d_21/kernel:0: (3, 3, 3, 32)\n",
      "conv2d_22/kernel:0: (3, 3, 32, 32)\n",
      "conv2d_23/kernel:0: (3, 3, 32, 16)\n",
      "conv2d_24/kernel:0: (3, 3, 16, 16)\n",
      "conv2d_25/kernel:0: (3, 3, 16, 8)\n",
      "conv2d_26/kernel:0: (3, 3, 8, 8)\n",
      "dense_12/kernel:0: (32, 32)\n",
      "dense_13/kernel:0: (32, 10)\n"
     ]
    }
   ],
   "source": [
    "def print_filter_shapes(cnn):\n",
    "    for l in cnn.layers:\n",
    "        try:\n",
    "            name = l.kernel.name\n",
    "            shape = l.kernel.numpy().shape\n",
    "            print(f'{name}: {shape}')\n",
    "        except AttributeError:\n",
    "            pass\n",
    "        \n",
    "\n",
    "print_filter_shapes(cnn)"
   ]
  },
  {
   "cell_type": "markdown",
   "id": "03aa8356-b801-4764-8f19-3d0d7d0b6017",
   "metadata": {},
   "source": [
    "### VGG19"
   ]
  },
  {
   "cell_type": "code",
   "execution_count": 41,
   "id": "adc84c99-dd9a-4453-9931-9f0ef0adbd67",
   "metadata": {},
   "outputs": [],
   "source": [
    "vgg19 = VGG19()"
   ]
  },
  {
   "cell_type": "code",
   "execution_count": 42,
   "id": "09fa5ad4-e4fc-45b2-b0c3-5bc20268b1ba",
   "metadata": {},
   "outputs": [
    {
     "name": "stdout",
     "output_type": "stream",
     "text": [
      "Model: \"vgg19\"\n",
      "_________________________________________________________________\n",
      " Layer (type)                Output Shape              Param #   \n",
      "=================================================================\n",
      " input_15 (InputLayer)       [(None, 224, 224, 3)]     0         \n",
      "                                                                 \n",
      " block1_conv1 (Conv2D)       (None, 224, 224, 64)      1792      \n",
      "                                                                 \n",
      " block1_conv2 (Conv2D)       (None, 224, 224, 64)      36928     \n",
      "                                                                 \n",
      " block1_pool (MaxPooling2D)  (None, 112, 112, 64)      0         \n",
      "                                                                 \n",
      " block2_conv1 (Conv2D)       (None, 112, 112, 128)     73856     \n",
      "                                                                 \n",
      " block2_conv2 (Conv2D)       (None, 112, 112, 128)     147584    \n",
      "                                                                 \n",
      " block2_pool (MaxPooling2D)  (None, 56, 56, 128)       0         \n",
      "                                                                 \n",
      " block3_conv1 (Conv2D)       (None, 56, 56, 256)       295168    \n",
      "                                                                 \n",
      " block3_conv2 (Conv2D)       (None, 56, 56, 256)       590080    \n",
      "                                                                 \n",
      " block3_conv3 (Conv2D)       (None, 56, 56, 256)       590080    \n",
      "                                                                 \n",
      " block3_conv4 (Conv2D)       (None, 56, 56, 256)       590080    \n",
      "                                                                 \n",
      " block3_pool (MaxPooling2D)  (None, 28, 28, 256)       0         \n",
      "                                                                 \n",
      " block4_conv1 (Conv2D)       (None, 28, 28, 512)       1180160   \n",
      "                                                                 \n",
      " block4_conv2 (Conv2D)       (None, 28, 28, 512)       2359808   \n",
      "                                                                 \n",
      " block4_conv3 (Conv2D)       (None, 28, 28, 512)       2359808   \n",
      "                                                                 \n",
      " block4_conv4 (Conv2D)       (None, 28, 28, 512)       2359808   \n",
      "                                                                 \n",
      " block4_pool (MaxPooling2D)  (None, 14, 14, 512)       0         \n",
      "                                                                 \n",
      " block5_conv1 (Conv2D)       (None, 14, 14, 512)       2359808   \n",
      "                                                                 \n",
      " block5_conv2 (Conv2D)       (None, 14, 14, 512)       2359808   \n",
      "                                                                 \n",
      " block5_conv3 (Conv2D)       (None, 14, 14, 512)       2359808   \n",
      "                                                                 \n",
      " block5_conv4 (Conv2D)       (None, 14, 14, 512)       2359808   \n",
      "                                                                 \n",
      " block5_pool (MaxPooling2D)  (None, 7, 7, 512)         0         \n",
      "                                                                 \n",
      " flatten (Flatten)           (None, 25088)             0         \n",
      "                                                                 \n",
      " fc1 (Dense)                 (None, 4096)              102764544 \n",
      "                                                                 \n",
      " fc2 (Dense)                 (None, 4096)              16781312  \n",
      "                                                                 \n",
      " predictions (Dense)         (None, 1000)              4097000   \n",
      "                                                                 \n",
      "=================================================================\n",
      "Total params: 143,667,240\n",
      "Trainable params: 143,667,240\n",
      "Non-trainable params: 0\n",
      "_________________________________________________________________\n"
     ]
    }
   ],
   "source": [
    "vgg19.summary()"
   ]
  },
  {
   "cell_type": "markdown",
   "id": "f6cff6f4-79c7-4be8-ae20-e874fff17c51",
   "metadata": {},
   "source": [
    "### ImageDataGenerator"
   ]
  },
  {
   "cell_type": "code",
   "execution_count": 39,
   "id": "8bd27ba2-be05-4575-852d-7e257d6508b2",
   "metadata": {},
   "outputs": [],
   "source": [
    "from tensorflow.keras.preprocessing.image import ImageDataGenerator"
   ]
  },
  {
   "cell_type": "code",
   "execution_count": 40,
   "id": "ace4c7f9-bf97-4eae-a6dc-22eb0c825f0e",
   "metadata": {},
   "outputs": [],
   "source": [
    "generator = ImageDataGenerator()"
   ]
  },
  {
   "cell_type": "code",
   "execution_count": 41,
   "id": "1f0d8754-e85f-4c53-bdd0-e3ec5cdf1773",
   "metadata": {},
   "outputs": [
    {
     "data": {
      "text/plain": [
       "<keras.preprocessing.image.ImageDataGenerator at 0x16f1bd3d1c0>"
      ]
     },
     "execution_count": 41,
     "metadata": {},
     "output_type": "execute_result"
    }
   ],
   "source": [
    "generator"
   ]
  },
  {
   "cell_type": "code",
   "execution_count": null,
   "id": "34be6494-9507-4299-9088-0cec71b9b31e",
   "metadata": {},
   "outputs": [],
   "source": []
  }
 ],
 "metadata": {
  "kernelspec": {
   "display_name": "Python 3 (ipykernel)",
   "language": "python",
   "name": "python3"
  },
  "language_info": {
   "codemirror_mode": {
    "name": "ipython",
    "version": 3
   },
   "file_extension": ".py",
   "mimetype": "text/x-python",
   "name": "python",
   "nbconvert_exporter": "python",
   "pygments_lexer": "ipython3",
   "version": "3.10.10"
  }
 },
 "nbformat": 4,
 "nbformat_minor": 5
}
