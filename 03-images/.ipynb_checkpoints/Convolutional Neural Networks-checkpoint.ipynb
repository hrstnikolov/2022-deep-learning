{
 "cells": [
  {
   "cell_type": "code",
   "execution_count": 3,
   "id": "7c66637c-fc38-4b49-8452-8346c2c6c324",
   "metadata": {},
   "outputs": [],
   "source": [
    "%matplotlib inline"
   ]
  },
  {
   "cell_type": "code",
   "execution_count": 4,
   "id": "ede19128-d4b6-434c-8d67-f8f2c09ef6c1",
   "metadata": {},
   "outputs": [],
   "source": [
    "import numpy as np\n",
    "import pandas as pd\n",
    "import matplotlib.pyplot as plt\n",
    "\n",
    "from skimage.io import imread\n",
    "\n",
    "from scipy.ndimage import convolve, gaussian_filter\n",
    "\n",
    "import tensorflow as tf\n",
    "from tensorflow.keras.models import Sequential\n",
    "from tensorflow.keras.layers import Input, Dense, Conv2D, MaxPool2D, Flatten"
   ]
  },
  {
   "cell_type": "markdown",
   "id": "de0094d9-6267-4688-93d7-b2bf772db564",
   "metadata": {},
   "source": [
    "# Convolutional Neural Networks"
   ]
  },
  {
   "cell_type": "markdown",
   "id": "0a7df945-2c75-4f64-bf10-8a3445531a87",
   "metadata": {},
   "source": [
    "### First CNN\n",
    "\n",
    "Define convolutional neural network.\n",
    "- 1 layer and 32 filters in it\n",
    "- CNN input is an image with dimensions (28, 28) and 3 channels\n",
    "- width and height shall not reduce\n",
    "- do not forget activation"
   ]
  },
  {
   "cell_type": "code",
   "execution_count": 8,
   "id": "b0112971-d07c-46c4-99f1-a1a97810ba86",
   "metadata": {},
   "outputs": [
    {
     "name": "stdout",
     "output_type": "stream",
     "text": [
      "Model: \"sequential_3\"\n",
      "_________________________________________________________________\n",
      " Layer (type)                Output Shape              Param #   \n",
      "=================================================================\n",
      " conv2d_3 (Conv2D)           (None, 28, 28, 32)        896       \n",
      "                                                                 \n",
      "=================================================================\n",
      "Total params: 896\n",
      "Trainable params: 896\n",
      "Non-trainable params: 0\n",
      "_________________________________________________________________\n"
     ]
    }
   ],
   "source": [
    "cnn = Sequential([\n",
    "    Input(shape = (28, 28, 3)),\n",
    "    Conv2D(filters=32, kernel_size=(3,3), padding='same', activation='relu'),\n",
    "])\n",
    "\n",
    "cnn.summary()"
   ]
  },
  {
   "cell_type": "markdown",
   "id": "4767e420-be20-4da5-961a-57bf09daee2a",
   "metadata": {},
   "source": [
    "### Second CNN\n",
    "Add a pooling layer:\n",
    "- function `max`\n",
    "- pooling window with size (2, 2)"
   ]
  },
  {
   "cell_type": "code",
   "execution_count": 13,
   "id": "052f41fa-aae9-4e14-920b-5ad7be1bb8ca",
   "metadata": {},
   "outputs": [
    {
     "name": "stdout",
     "output_type": "stream",
     "text": [
      "Model: \"sequential_8\"\n",
      "_________________________________________________________________\n",
      " Layer (type)                Output Shape              Param #   \n",
      "=================================================================\n",
      " conv2d_8 (Conv2D)           (None, 28, 28, 32)        896       \n",
      "                                                                 \n",
      " max_pooling2d_6 (MaxPooling  (None, 14, 14, 32)       0         \n",
      " 2D)                                                             \n",
      "                                                                 \n",
      "=================================================================\n",
      "Total params: 896\n",
      "Trainable params: 896\n",
      "Non-trainable params: 0\n",
      "_________________________________________________________________\n"
     ]
    }
   ],
   "source": [
    "cnn = Sequential([\n",
    "    Input(shape = (28, 28, 3)),\n",
    "    Conv2D(filters=32, kernel_size=(3,3), padding='same', activation='relu'),\n",
    "    MaxPool2D(pool_size=(2,2)),\n",
    "])\n",
    "cnn.summary()"
   ]
  },
  {
   "cell_type": "markdown",
   "id": "e864dc93-36ec-4e7f-8222-95ec8fce4e9b",
   "metadata": {},
   "source": [
    "### Deep NN\n",
    "Define a fully connected deep nn:\n",
    "- input image size (224, 224, 3)\n",
    "- 5 hidden fully-connected layers\n",
    "- 10 output classes\n",
    "- choose number of units like 'funnel' - starting big and converging to the 10 classes"
   ]
  },
  {
   "cell_type": "code",
   "execution_count": 16,
   "id": "22081a3d-b0df-4123-b53d-63d609984bfa",
   "metadata": {},
   "outputs": [
    {
     "ename": "SyntaxError",
     "evalue": "invalid syntax (177180674.py, line 6)",
     "output_type": "error",
     "traceback": [
      "\u001b[1;36m  File \u001b[1;32m\"C:\\Users\\a1056968\\AppData\\Local\\Temp\\ipykernel_20064\\177180674.py\"\u001b[1;36m, line \u001b[1;32m6\u001b[0m\n\u001b[1;33m    Dense(5000, activation='relu')\u001b[0m\n\u001b[1;37m    ^\u001b[0m\n\u001b[1;31mSyntaxError\u001b[0m\u001b[1;31m:\u001b[0m invalid syntax\n"
     ]
    }
   ],
   "source": [
    "# fcnn = Sequential([\n",
    "#     Input(shape = (224, 224, 3)),\n",
    "#     Flatten(),\n",
    "    \n",
    "#     Dense(10000, activation='relu'),\n",
    "#     Dense(5000, activation='relu'),\n",
    "#     Dense(2000, activation='relu'),\n",
    "#     Dense(500, activation='relu'),\n",
    "#     Dense(100, activation='relu'),\n",
    "    \n",
    "#     Dense(10, activation='softmax'),\n",
    "# ])"
   ]
  },
  {
   "cell_type": "code",
   "execution_count": null,
   "id": "ca15cc24-b436-4217-96f3-f2cfbcc2be43",
   "metadata": {},
   "outputs": [],
   "source": [
    "fcnn.summary()"
   ]
  },
  {
   "cell_type": "markdown",
   "id": "f14430de-ad78-4c0d-8b5c-49b733d3c16f",
   "metadata": {},
   "source": [
    "Checking the shape of the convolution layers."
   ]
  },
  {
   "cell_type": "code",
   "execution_count": 30,
   "id": "40e6e262-2e34-45aa-a36a-e0cfcb0bbcd6",
   "metadata": {},
   "outputs": [
    {
     "data": {
      "text/plain": [
       "TensorShape([3, 3, 32, 16])"
      ]
     },
     "execution_count": 30,
     "metadata": {},
     "output_type": "execute_result"
    }
   ],
   "source": [
    "fcnn.layers[3].kernel.shape"
   ]
  },
  {
   "cell_type": "code",
   "execution_count": 33,
   "id": "b28e5b74-087c-4c90-9853-f689fb3215da",
   "metadata": {
    "collapsed": true,
    "jupyter": {
     "outputs_hidden": true
    },
    "tags": []
   },
   "outputs": [
    {
     "data": {
      "text/plain": [
       "array([[[[ 0.07526601,  0.07406337,  0.08155165, ..., -0.05776147,\n",
       "          -0.01988789,  0.03987297],\n",
       "         [-0.09968272,  0.00527083,  0.04383289, ..., -0.10389151,\n",
       "          -0.01077169, -0.00287189],\n",
       "         [-0.00447302,  0.09875942,  0.02985837, ...,  0.06805532,\n",
       "          -0.00223665,  0.00710469],\n",
       "         ...,\n",
       "         [ 0.04778304, -0.04861662,  0.02106556, ...,  0.0600464 ,\n",
       "           0.08684813, -0.06482565],\n",
       "         [ 0.08072434, -0.08729762,  0.09382846, ..., -0.1051721 ,\n",
       "           0.08017182, -0.05747066],\n",
       "         [ 0.02112097,  0.01628987, -0.09373715, ..., -0.0488899 ,\n",
       "           0.11299076, -0.07246096]],\n",
       "\n",
       "        [[-0.11052205, -0.01044736,  0.02707472, ..., -0.01537618,\n",
       "           0.11620355, -0.07767498],\n",
       "         [ 0.09031317, -0.03456163,  0.03176389, ...,  0.021694  ,\n",
       "          -0.06519414, -0.02933272],\n",
       "         [-0.08280552, -0.05994586,  0.10782156, ..., -0.00266115,\n",
       "          -0.07674593,  0.11525086],\n",
       "         ...,\n",
       "         [-0.11093323,  0.09566239,  0.035497  , ...,  0.03608043,\n",
       "          -0.09172885,  0.06672304],\n",
       "         [ 0.04062089, -0.07705231,  0.1029928 , ..., -0.08392601,\n",
       "          -0.11318168,  0.09036807],\n",
       "         [ 0.08602936,  0.08005274,  0.06690366, ...,  0.01400124,\n",
       "           0.03980672, -0.04324722]],\n",
       "\n",
       "        [[ 0.06194624,  0.02106958, -0.04127564, ..., -0.06494495,\n",
       "          -0.08502124, -0.02857438],\n",
       "         [ 0.0511691 ,  0.07212169, -0.04479505, ..., -0.05861115,\n",
       "          -0.09644426,  0.02633805],\n",
       "         [-0.10080734,  0.01075961, -0.04410584, ..., -0.10590345,\n",
       "          -0.01745678,  0.01353731],\n",
       "         ...,\n",
       "         [-0.06934216,  0.11343979, -0.07267274, ..., -0.09060418,\n",
       "           0.06469334,  0.04275849],\n",
       "         [-0.07815318,  0.04561401,  0.09079114, ..., -0.07338421,\n",
       "          -0.02585173,  0.02957927],\n",
       "         [-0.05224512,  0.05868151, -0.05281436, ...,  0.02146202,\n",
       "           0.06676035, -0.0059726 ]]],\n",
       "\n",
       "\n",
       "       [[[-0.09338983,  0.06050124,  0.07167424, ..., -0.10963904,\n",
       "           0.08501197,  0.00820027],\n",
       "         [-0.10235503,  0.04690976, -0.08379082, ...,  0.08596428,\n",
       "           0.03037647, -0.01709501],\n",
       "         [ 0.01197133,  0.01102831,  0.03773556, ...,  0.08451373,\n",
       "          -0.10077815, -0.11307292],\n",
       "         ...,\n",
       "         [-0.04855724,  0.09317092, -0.04231738, ...,  0.0769221 ,\n",
       "          -0.04724459, -0.00827567],\n",
       "         [ 0.00942291, -0.00633948,  0.10175713, ...,  0.08410559,\n",
       "          -0.07460863,  0.11650201],\n",
       "         [-0.10404107, -0.09873256,  0.01821902, ...,  0.09126229,\n",
       "          -0.06264381, -0.07380792]],\n",
       "\n",
       "        [[-0.0747954 ,  0.00808904,  0.00584032, ...,  0.06119574,\n",
       "           0.01641699, -0.09992784],\n",
       "         [ 0.04956292, -0.05290674, -0.02399743, ...,  0.06118806,\n",
       "          -0.05210415, -0.03653109],\n",
       "         [-0.08961213,  0.10733142,  0.10600431, ...,  0.04695836,\n",
       "          -0.00110107, -0.08944663],\n",
       "         ...,\n",
       "         [ 0.08881196,  0.02831785,  0.09467877, ...,  0.0359197 ,\n",
       "          -0.11061373,  0.03174552],\n",
       "         [-0.10181223,  0.00293618, -0.04474577, ...,  0.06771273,\n",
       "          -0.02049084, -0.03723972],\n",
       "         [-0.06035524,  0.04756016, -0.01881006, ...,  0.07510138,\n",
       "          -0.06751155,  0.03309817]],\n",
       "\n",
       "        [[-0.09538338,  0.02902482, -0.00381926, ...,  0.05066495,\n",
       "           0.06134924,  0.01741379],\n",
       "         [-0.01517056,  0.01520062, -0.10528187, ..., -0.03946361,\n",
       "           0.0720007 ,  0.00414222],\n",
       "         [-0.07004672, -0.06987433,  0.11518804, ..., -0.08976978,\n",
       "          -0.06289096,  0.0983853 ],\n",
       "         ...,\n",
       "         [-0.06126368,  0.03002193, -0.10640618, ...,  0.0938658 ,\n",
       "          -0.05807847,  0.02466408],\n",
       "         [ 0.04671375,  0.08712605, -0.07974066, ...,  0.04609517,\n",
       "           0.00220776, -0.03672297],\n",
       "         [ 0.01662426,  0.05192033, -0.05956462, ...,  0.03219404,\n",
       "          -0.10159793,  0.11125902]]],\n",
       "\n",
       "\n",
       "       [[[-0.09139131, -0.02940369, -0.04411117, ...,  0.00132743,\n",
       "          -0.09471847,  0.00020216],\n",
       "         [-0.0317234 , -0.05878564, -0.10806193, ..., -0.09101682,\n",
       "          -0.02217568, -0.04123954],\n",
       "         [-0.0214136 , -0.09945487, -0.0106756 , ...,  0.07811511,\n",
       "           0.0734966 , -0.04963848],\n",
       "         ...,\n",
       "         [ 0.11013716,  0.10976804, -0.02188487, ..., -0.06304845,\n",
       "          -0.05328112, -0.11638563],\n",
       "         [ 0.09956325,  0.01428682, -0.09679636, ..., -0.04361662,\n",
       "           0.08975596, -0.08231597],\n",
       "         [-0.00969537, -0.01137099,  0.08959787, ...,  0.02870878,\n",
       "          -0.01420487,  0.02856814]],\n",
       "\n",
       "        [[-0.10658103, -0.04303182, -0.03867378, ...,  0.01157878,\n",
       "          -0.0510008 , -0.00892223],\n",
       "         [-0.09078932,  0.05419096,  0.07677979, ..., -0.02581298,\n",
       "           0.1069855 ,  0.1040541 ],\n",
       "         [-0.04100461,  0.06001692,  0.00781577, ..., -0.07144389,\n",
       "          -0.03611884,  0.04744373],\n",
       "         ...,\n",
       "         [ 0.05397575,  0.11630733, -0.09551425, ...,  0.0211174 ,\n",
       "          -0.09146912, -0.01410284],\n",
       "         [ 0.07297007, -0.03974757, -0.04779714, ..., -0.08874792,\n",
       "          -0.02795617,  0.10806806],\n",
       "         [-0.08130622, -0.08882313,  0.03904442, ...,  0.09073017,\n",
       "           0.1137417 ,  0.07649729]],\n",
       "\n",
       "        [[ 0.00190037, -0.03511681, -0.06374146, ...,  0.05870334,\n",
       "          -0.06189312,  0.01222452],\n",
       "         [ 0.02982926, -0.05516621, -0.07930056, ..., -0.1079503 ,\n",
       "          -0.04109377, -0.03583378],\n",
       "         [-0.00743914,  0.07511608, -0.06359069, ...,  0.07973827,\n",
       "          -0.01087799, -0.06566951],\n",
       "         ...,\n",
       "         [-0.07540794,  0.08137534, -0.02424368, ..., -0.05994417,\n",
       "          -0.06538226, -0.11132377],\n",
       "         [-0.00146171, -0.04080267, -0.08657325, ..., -0.08505366,\n",
       "          -0.04114667,  0.06392277],\n",
       "         [ 0.03969472, -0.06598963, -0.11039288, ..., -0.06185466,\n",
       "           0.10595026, -0.10062718]]]], dtype=float32)"
      ]
     },
     "execution_count": 33,
     "metadata": {},
     "output_type": "execute_result"
    }
   ],
   "source": [
    "fcnn.layers[3].kernel.numpy()"
   ]
  },
  {
   "cell_type": "markdown",
   "id": "03aa8356-b801-4764-8f19-3d0d7d0b6017",
   "metadata": {},
   "source": [
    "### VGG19"
   ]
  },
  {
   "cell_type": "code",
   "execution_count": 35,
   "id": "7c07ff9f-f1a2-4cb7-803d-136dae6927fe",
   "metadata": {},
   "outputs": [],
   "source": [
    "from tensorflow.keras.applications import VGG19"
   ]
  },
  {
   "cell_type": "code",
   "execution_count": 36,
   "id": "adc84c99-dd9a-4453-9931-9f0ef0adbd67",
   "metadata": {},
   "outputs": [
    {
     "name": "stdout",
     "output_type": "stream",
     "text": [
      "Downloading data from https://storage.googleapis.com/tensorflow/keras-applications/vgg19/vgg19_weights_tf_dim_ordering_tf_kernels.h5\n",
      "574710816/574710816 [==============================] - 68s 0us/step\n"
     ]
    }
   ],
   "source": [
    "vgg19 = VGG19()"
   ]
  },
  {
   "cell_type": "code",
   "execution_count": 37,
   "id": "09fa5ad4-e4fc-45b2-b0c3-5bc20268b1ba",
   "metadata": {},
   "outputs": [
    {
     "name": "stdout",
     "output_type": "stream",
     "text": [
      "Model: \"vgg19\"\n",
      "_________________________________________________________________\n",
      " Layer (type)                Output Shape              Param #   \n",
      "=================================================================\n",
      " input_9 (InputLayer)        [(None, 224, 224, 3)]     0         \n",
      "                                                                 \n",
      " block1_conv1 (Conv2D)       (None, 224, 224, 64)      1792      \n",
      "                                                                 \n",
      " block1_conv2 (Conv2D)       (None, 224, 224, 64)      36928     \n",
      "                                                                 \n",
      " block1_pool (MaxPooling2D)  (None, 112, 112, 64)      0         \n",
      "                                                                 \n",
      " block2_conv1 (Conv2D)       (None, 112, 112, 128)     73856     \n",
      "                                                                 \n",
      " block2_conv2 (Conv2D)       (None, 112, 112, 128)     147584    \n",
      "                                                                 \n",
      " block2_pool (MaxPooling2D)  (None, 56, 56, 128)       0         \n",
      "                                                                 \n",
      " block3_conv1 (Conv2D)       (None, 56, 56, 256)       295168    \n",
      "                                                                 \n",
      " block3_conv2 (Conv2D)       (None, 56, 56, 256)       590080    \n",
      "                                                                 \n",
      " block3_conv3 (Conv2D)       (None, 56, 56, 256)       590080    \n",
      "                                                                 \n",
      " block3_conv4 (Conv2D)       (None, 56, 56, 256)       590080    \n",
      "                                                                 \n",
      " block3_pool (MaxPooling2D)  (None, 28, 28, 256)       0         \n",
      "                                                                 \n",
      " block4_conv1 (Conv2D)       (None, 28, 28, 512)       1180160   \n",
      "                                                                 \n",
      " block4_conv2 (Conv2D)       (None, 28, 28, 512)       2359808   \n",
      "                                                                 \n",
      " block4_conv3 (Conv2D)       (None, 28, 28, 512)       2359808   \n",
      "                                                                 \n",
      " block4_conv4 (Conv2D)       (None, 28, 28, 512)       2359808   \n",
      "                                                                 \n",
      " block4_pool (MaxPooling2D)  (None, 14, 14, 512)       0         \n",
      "                                                                 \n",
      " block5_conv1 (Conv2D)       (None, 14, 14, 512)       2359808   \n",
      "                                                                 \n",
      " block5_conv2 (Conv2D)       (None, 14, 14, 512)       2359808   \n",
      "                                                                 \n",
      " block5_conv3 (Conv2D)       (None, 14, 14, 512)       2359808   \n",
      "                                                                 \n",
      " block5_conv4 (Conv2D)       (None, 14, 14, 512)       2359808   \n",
      "                                                                 \n",
      " block5_pool (MaxPooling2D)  (None, 7, 7, 512)         0         \n",
      "                                                                 \n",
      " flatten (Flatten)           (None, 25088)             0         \n",
      "                                                                 \n",
      " fc1 (Dense)                 (None, 4096)              102764544 \n",
      "                                                                 \n",
      " fc2 (Dense)                 (None, 4096)              16781312  \n",
      "                                                                 \n",
      " predictions (Dense)         (None, 1000)              4097000   \n",
      "                                                                 \n",
      "=================================================================\n",
      "Total params: 143,667,240\n",
      "Trainable params: 143,667,240\n",
      "Non-trainable params: 0\n",
      "_________________________________________________________________\n"
     ]
    }
   ],
   "source": [
    "vgg19.summary()"
   ]
  },
  {
   "cell_type": "markdown",
   "id": "f6cff6f4-79c7-4be8-ae20-e874fff17c51",
   "metadata": {},
   "source": [
    "### ImageDataGenerator"
   ]
  },
  {
   "cell_type": "code",
   "execution_count": 39,
   "id": "8bd27ba2-be05-4575-852d-7e257d6508b2",
   "metadata": {},
   "outputs": [],
   "source": [
    "from tensorflow.keras.preprocessing.image import ImageDataGenerator"
   ]
  },
  {
   "cell_type": "code",
   "execution_count": 40,
   "id": "ace4c7f9-bf97-4eae-a6dc-22eb0c825f0e",
   "metadata": {},
   "outputs": [],
   "source": [
    "generator = ImageDataGenerator()"
   ]
  },
  {
   "cell_type": "code",
   "execution_count": 41,
   "id": "1f0d8754-e85f-4c53-bdd0-e3ec5cdf1773",
   "metadata": {},
   "outputs": [
    {
     "data": {
      "text/plain": [
       "<keras.preprocessing.image.ImageDataGenerator at 0x16f1bd3d1c0>"
      ]
     },
     "execution_count": 41,
     "metadata": {},
     "output_type": "execute_result"
    }
   ],
   "source": [
    "generator"
   ]
  },
  {
   "cell_type": "code",
   "execution_count": null,
   "id": "34be6494-9507-4299-9088-0cec71b9b31e",
   "metadata": {},
   "outputs": [],
   "source": []
  }
 ],
 "metadata": {
  "kernelspec": {
   "display_name": "Python 3 (ipykernel)",
   "language": "python",
   "name": "python3"
  },
  "language_info": {
   "codemirror_mode": {
    "name": "ipython",
    "version": 3
   },
   "file_extension": ".py",
   "mimetype": "text/x-python",
   "name": "python",
   "nbconvert_exporter": "python",
   "pygments_lexer": "ipython3",
   "version": "3.9.0"
  }
 },
 "nbformat": 4,
 "nbformat_minor": 5
}
