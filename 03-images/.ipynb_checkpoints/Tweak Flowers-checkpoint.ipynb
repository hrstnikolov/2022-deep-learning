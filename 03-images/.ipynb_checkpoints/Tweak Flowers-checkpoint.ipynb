{
 "cells": [
  {
   "cell_type": "code",
   "execution_count": 2,
   "id": "26c87b51-56cb-48a1-ba61-036cc3cb234a",
   "metadata": {},
   "outputs": [],
   "source": [
    "%matplotlib inline"
   ]
  },
  {
   "cell_type": "code",
   "execution_count": 5,
   "id": "de19f267-6fbe-48d0-8707-235ed55cccc3",
   "metadata": {},
   "outputs": [],
   "source": [
    "import numpy as np\n",
    "import pandas as pd\n",
    "import matplotlib.pyplot as plt\n",
    "\n",
    "import os\n",
    "\n",
    "import tensorflow as tf"
   ]
  },
  {
   "cell_type": "markdown",
   "id": "9089709d-9dee-4814-8b10-dfe3d3e55240",
   "metadata": {},
   "source": [
    "# Tweak Flowers"
   ]
  },
  {
   "cell_type": "markdown",
   "id": "bfd2951c-104f-40f7-99ef-c2b267652225",
   "metadata": {
    "jp-MarkdownHeadingCollapsed": true,
    "tags": []
   },
   "source": [
    "## Final function"
   ]
  },
  {
   "cell_type": "code",
   "execution_count": 4,
   "id": "03527365-620f-4b7f-956a-2c64a25505b6",
   "metadata": {},
   "outputs": [],
   "source": [
    "def load_natural_images():\n",
    "    pass"
   ]
  },
  {
   "cell_type": "markdown",
   "id": "7dee82b4-5441-47fd-842b-f59527f4f96f",
   "metadata": {},
   "source": [
    "## Draft"
   ]
  },
  {
   "cell_type": "code",
   "execution_count": null,
   "id": "caf69d44-0632-4d02-99a9-6b85be047c7e",
   "metadata": {},
   "outputs": [],
   "source": [
    "dataset_url = \"https://storage.googleapis.com/download.tensorflow.org/example_images/flower_photos.tgz\"\n",
    "dataset_path = tf.keras.utils.get_file(origin=dataset_url, extract=True)\n"
   ]
  }
 ],
 "metadata": {
  "kernelspec": {
   "display_name": "Python 3 (ipykernel)",
   "language": "python",
   "name": "python3"
  },
  "language_info": {
   "codemirror_mode": {
    "name": "ipython",
    "version": 3
   },
   "file_extension": ".py",
   "mimetype": "text/x-python",
   "name": "python",
   "nbconvert_exporter": "python",
   "pygments_lexer": "ipython3",
   "version": "3.10.10"
  }
 },
 "nbformat": 4,
 "nbformat_minor": 5
}
