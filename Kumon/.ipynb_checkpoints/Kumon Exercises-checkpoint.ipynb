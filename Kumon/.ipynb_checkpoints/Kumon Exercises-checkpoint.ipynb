{
 "cells": [
  {
   "cell_type": "code",
   "execution_count": 1,
   "id": "0796599d-115a-407f-9437-3c6c01d408e5",
   "metadata": {},
   "outputs": [],
   "source": [
    "%matplotlib inline"
   ]
  },
  {
   "cell_type": "code",
   "execution_count": 2,
   "id": "ea1893aa-5070-4fe9-98f2-81f0fc82c8bc",
   "metadata": {},
   "outputs": [],
   "source": [
    "import numpy as np\n",
    "import pandas as pd\n",
    "import matplotlib.pyplot as plt\n",
    "\n",
    "from pathlib import Path\n",
    "\n",
    "import tensorflow as tf\n",
    "\n",
    "from tensorflow.keras.models import Sequential\n",
    "from tensorflow.keras.layers import Dense, Input, Flatten, Normalization"
   ]
  },
  {
   "cell_type": "code",
   "execution_count": 3,
   "id": "1725b2d3-6675-49f5-af8e-3916d119678c",
   "metadata": {},
   "outputs": [],
   "source": [
    "RANDOM_STATE = 42\n",
    "\n",
    "np.set_printoptions(precision=3, suppress=True)"
   ]
  },
  {
   "cell_type": "markdown",
   "id": "0370afab-35a3-4dff-8398-1ed944daa390",
   "metadata": {
    "tags": []
   },
   "source": [
    "# Kumon Exercises"
   ]
  },
  {
   "cell_type": "markdown",
   "id": "7c57679c-d44d-452a-af63-5c95976f0865",
   "metadata": {
    "tags": []
   },
   "source": [
    "## Read datasets"
   ]
  },
  {
   "cell_type": "markdown",
   "id": "27e36d75-78ed-4a48-a648-cc00844300ac",
   "metadata": {
    "tags": []
   },
   "source": [
    "load_current\n",
    "power_factor\n",
    "power_factor_error\n",
    "excitation_current_change\n",
    "excitation_current\n",
    "### 26. Air pollution in US cities"
   ]
  },
  {
   "cell_type": "code",
   "execution_count": 4,
   "id": "10881958-cf42-4e2f-b258-8b3f49d19254",
   "metadata": {},
   "outputs": [
    {
     "data": {
      "text/html": [
       "<div>\n",
       "<style scoped>\n",
       "    .dataframe tbody tr th:only-of-type {\n",
       "        vertical-align: middle;\n",
       "    }\n",
       "\n",
       "    .dataframe tbody tr th {\n",
       "        vertical-align: top;\n",
       "    }\n",
       "\n",
       "    .dataframe thead th {\n",
       "        text-align: right;\n",
       "    }\n",
       "</style>\n",
       "<table border=\"1\" class=\"dataframe\">\n",
       "  <thead>\n",
       "    <tr style=\"text-align: right;\">\n",
       "      <th></th>\n",
       "      <th>so2_content</th>\n",
       "      <th>temperature</th>\n",
       "      <th>manufacturing_companies</th>\n",
       "      <th>population</th>\n",
       "      <th>wind_speed</th>\n",
       "      <th>precipitation</th>\n",
       "      <th>days_raining</th>\n",
       "    </tr>\n",
       "  </thead>\n",
       "  <tbody>\n",
       "    <tr>\n",
       "      <th>0</th>\n",
       "      <td>10</td>\n",
       "      <td>70.3</td>\n",
       "      <td>213</td>\n",
       "      <td>582</td>\n",
       "      <td>6.0</td>\n",
       "      <td>7.05</td>\n",
       "      <td>36</td>\n",
       "    </tr>\n",
       "    <tr>\n",
       "      <th>1</th>\n",
       "      <td>13</td>\n",
       "      <td>61.0</td>\n",
       "      <td>91</td>\n",
       "      <td>132</td>\n",
       "      <td>8.2</td>\n",
       "      <td>48.52</td>\n",
       "      <td>100</td>\n",
       "    </tr>\n",
       "    <tr>\n",
       "      <th>2</th>\n",
       "      <td>12</td>\n",
       "      <td>56.7</td>\n",
       "      <td>453</td>\n",
       "      <td>716</td>\n",
       "      <td>8.7</td>\n",
       "      <td>20.66</td>\n",
       "      <td>67</td>\n",
       "    </tr>\n",
       "    <tr>\n",
       "      <th>3</th>\n",
       "      <td>17</td>\n",
       "      <td>51.9</td>\n",
       "      <td>454</td>\n",
       "      <td>515</td>\n",
       "      <td>9.0</td>\n",
       "      <td>12.95</td>\n",
       "      <td>86</td>\n",
       "    </tr>\n",
       "    <tr>\n",
       "      <th>4</th>\n",
       "      <td>56</td>\n",
       "      <td>49.1</td>\n",
       "      <td>412</td>\n",
       "      <td>158</td>\n",
       "      <td>9.0</td>\n",
       "      <td>43.37</td>\n",
       "      <td>127</td>\n",
       "    </tr>\n",
       "  </tbody>\n",
       "</table>\n",
       "</div>"
      ],
      "text/plain": [
       "   so2_content  temperature  manufacturing_companies  population  wind_speed  \\\n",
       "0           10         70.3                      213         582         6.0   \n",
       "1           13         61.0                       91         132         8.2   \n",
       "2           12         56.7                      453         716         8.7   \n",
       "3           17         51.9                      454         515         9.0   \n",
       "4           56         49.1                      412         158         9.0   \n",
       "\n",
       "   precipitation  days_raining  \n",
       "0           7.05            36  \n",
       "1          48.52           100  \n",
       "2          20.66            67  \n",
       "3          12.95            86  \n",
       "4          43.37           127  "
      ]
     },
     "execution_count": 4,
     "metadata": {},
     "output_type": "execute_result"
    }
   ],
   "source": [
    "column_names = ['so2_content', 'temperature', 'manufacturing_companies', 'population', 'wind_speed', 'precipitation', 'days_raining']\n",
    "raw_usair = pd.read_csv('Datasets/USAIR.DAT', sep='\\t', header=None, names=column_names)\n",
    "usair = raw_usair.copy()\n",
    "usair.head()"
   ]
  },
  {
   "cell_type": "markdown",
   "id": "36299ad4-e4ab-455b-82de-2895a308c5dd",
   "metadata": {},
   "source": [
    "### 36. Yields of winter wheat"
   ]
  },
  {
   "cell_type": "code",
   "execution_count": 5,
   "id": "debb236d-f346-413f-b05c-48d9ac6ffee1",
   "metadata": {},
   "outputs": [
    {
     "data": {
      "text/html": [
       "<div>\n",
       "<style scoped>\n",
       "    .dataframe tbody tr th:only-of-type {\n",
       "        vertical-align: middle;\n",
       "    }\n",
       "\n",
       "    .dataframe tbody tr th {\n",
       "        vertical-align: top;\n",
       "    }\n",
       "\n",
       "    .dataframe thead th {\n",
       "        text-align: right;\n",
       "    }\n",
       "</style>\n",
       "<table border=\"1\" class=\"dataframe\">\n",
       "  <thead>\n",
       "    <tr style=\"text-align: right;\">\n",
       "      <th></th>\n",
       "      <th>1970</th>\n",
       "      <th>1971</th>\n",
       "      <th>1972</th>\n",
       "      <th>1973</th>\n",
       "    </tr>\n",
       "  </thead>\n",
       "  <tbody>\n",
       "    <tr>\n",
       "      <th>0</th>\n",
       "      <td>46.81</td>\n",
       "      <td>39.40</td>\n",
       "      <td>55.64</td>\n",
       "      <td>32.61</td>\n",
       "    </tr>\n",
       "    <tr>\n",
       "      <th>1</th>\n",
       "      <td>46.49</td>\n",
       "      <td>34.07</td>\n",
       "      <td>45.06</td>\n",
       "      <td>41.02</td>\n",
       "    </tr>\n",
       "    <tr>\n",
       "      <th>2</th>\n",
       "      <td>44.03</td>\n",
       "      <td>42.03</td>\n",
       "      <td>40.32</td>\n",
       "      <td>50.23</td>\n",
       "    </tr>\n",
       "    <tr>\n",
       "      <th>3</th>\n",
       "      <td>52.24</td>\n",
       "      <td>36.19</td>\n",
       "      <td>47.03</td>\n",
       "      <td>34.56</td>\n",
       "    </tr>\n",
       "    <tr>\n",
       "      <th>4</th>\n",
       "      <td>36.55</td>\n",
       "      <td>43.06</td>\n",
       "      <td>38.07</td>\n",
       "      <td>43.17</td>\n",
       "    </tr>\n",
       "    <tr>\n",
       "      <th>5</th>\n",
       "      <td>34.88</td>\n",
       "      <td>49.72</td>\n",
       "      <td>40.86</td>\n",
       "      <td>50.08</td>\n",
       "    </tr>\n",
       "    <tr>\n",
       "      <th>6</th>\n",
       "      <td>56.14</td>\n",
       "      <td>47.67</td>\n",
       "      <td>43.48</td>\n",
       "      <td>38.99</td>\n",
       "    </tr>\n",
       "    <tr>\n",
       "      <th>7</th>\n",
       "      <td>45.67</td>\n",
       "      <td>27.30</td>\n",
       "      <td>45.48</td>\n",
       "      <td>50.32</td>\n",
       "    </tr>\n",
       "    <tr>\n",
       "      <th>8</th>\n",
       "      <td>42.97</td>\n",
       "      <td>46.87</td>\n",
       "      <td>38.78</td>\n",
       "      <td>47.49</td>\n",
       "    </tr>\n",
       "    <tr>\n",
       "      <th>9</th>\n",
       "      <td>54.44</td>\n",
       "      <td>49.34</td>\n",
       "      <td>24.48</td>\n",
       "      <td>46.94</td>\n",
       "    </tr>\n",
       "    <tr>\n",
       "      <th>10</th>\n",
       "      <td>54.95</td>\n",
       "      <td>52.05</td>\n",
       "      <td>50.91</td>\n",
       "      <td>39.13</td>\n",
       "    </tr>\n",
       "    <tr>\n",
       "      <th>11</th>\n",
       "      <td>48.94</td>\n",
       "      <td>48.63</td>\n",
       "      <td>31.69</td>\n",
       "      <td>59.72</td>\n",
       "    </tr>\n",
       "  </tbody>\n",
       "</table>\n",
       "</div>"
      ],
      "text/plain": [
       "     1970   1971   1972   1973\n",
       "0   46.81  39.40  55.64  32.61\n",
       "1   46.49  34.07  45.06  41.02\n",
       "2   44.03  42.03  40.32  50.23\n",
       "3   52.24  36.19  47.03  34.56\n",
       "4   36.55  43.06  38.07  43.17\n",
       "5   34.88  49.72  40.86  50.08\n",
       "6   56.14  47.67  43.48  38.99\n",
       "7   45.67  27.30  45.48  50.32\n",
       "8   42.97  46.87  38.78  47.49\n",
       "9   54.44  49.34  24.48  46.94\n",
       "10  54.95  52.05  50.91  39.13\n",
       "11  48.94  48.63  31.69  59.72"
      ]
     },
     "execution_count": 5,
     "metadata": {},
     "output_type": "execute_result"
    }
   ],
   "source": [
    "column_names = ['1970', '1971', '1972', '1973']\n",
    "raw_wheat = pd.read_csv('Datasets/WHEAT.DAT', sep='\\t', header=None, names=column_names)\n",
    "wheat = raw_wheat.copy()\n",
    "wheat"
   ]
  },
  {
   "cell_type": "markdown",
   "id": "449df36a-1546-47b9-b05f-28ccf3dc49c1",
   "metadata": {},
   "source": [
    "### Housing\n",
    "\n",
    "The dataset is available from [here](https://archive.ics.uci.edu/ml/machine-learning-databases/housing/)."
   ]
  },
  {
   "cell_type": "code",
   "execution_count": 6,
   "id": "bff300e8-b83b-476a-9628-f3087630f3f2",
   "metadata": {},
   "outputs": [
    {
     "data": {
      "text/html": [
       "<div>\n",
       "<style scoped>\n",
       "    .dataframe tbody tr th:only-of-type {\n",
       "        vertical-align: middle;\n",
       "    }\n",
       "\n",
       "    .dataframe tbody tr th {\n",
       "        vertical-align: top;\n",
       "    }\n",
       "\n",
       "    .dataframe thead th {\n",
       "        text-align: right;\n",
       "    }\n",
       "</style>\n",
       "<table border=\"1\" class=\"dataframe\">\n",
       "  <thead>\n",
       "    <tr style=\"text-align: right;\">\n",
       "      <th></th>\n",
       "      <th>crime</th>\n",
       "      <th>residential</th>\n",
       "      <th>industrial</th>\n",
       "      <th>river</th>\n",
       "      <th>nox</th>\n",
       "      <th>rooms</th>\n",
       "      <th>age</th>\n",
       "      <th>centres</th>\n",
       "      <th>highway</th>\n",
       "      <th>tax</th>\n",
       "      <th>pt</th>\n",
       "      <th>black</th>\n",
       "      <th>lower</th>\n",
       "      <th>house_value</th>\n",
       "    </tr>\n",
       "  </thead>\n",
       "  <tbody>\n",
       "    <tr>\n",
       "      <th>0</th>\n",
       "      <td>0.00632</td>\n",
       "      <td>18.0</td>\n",
       "      <td>2.31</td>\n",
       "      <td>0</td>\n",
       "      <td>0.538</td>\n",
       "      <td>6.575</td>\n",
       "      <td>65.2</td>\n",
       "      <td>4.0900</td>\n",
       "      <td>1</td>\n",
       "      <td>296.0</td>\n",
       "      <td>15.3</td>\n",
       "      <td>396.90</td>\n",
       "      <td>4.98</td>\n",
       "      <td>24.0</td>\n",
       "    </tr>\n",
       "    <tr>\n",
       "      <th>1</th>\n",
       "      <td>0.02731</td>\n",
       "      <td>0.0</td>\n",
       "      <td>7.07</td>\n",
       "      <td>0</td>\n",
       "      <td>0.469</td>\n",
       "      <td>6.421</td>\n",
       "      <td>78.9</td>\n",
       "      <td>4.9671</td>\n",
       "      <td>2</td>\n",
       "      <td>242.0</td>\n",
       "      <td>17.8</td>\n",
       "      <td>396.90</td>\n",
       "      <td>9.14</td>\n",
       "      <td>21.6</td>\n",
       "    </tr>\n",
       "    <tr>\n",
       "      <th>2</th>\n",
       "      <td>0.02729</td>\n",
       "      <td>0.0</td>\n",
       "      <td>7.07</td>\n",
       "      <td>0</td>\n",
       "      <td>0.469</td>\n",
       "      <td>7.185</td>\n",
       "      <td>61.1</td>\n",
       "      <td>4.9671</td>\n",
       "      <td>2</td>\n",
       "      <td>242.0</td>\n",
       "      <td>17.8</td>\n",
       "      <td>392.83</td>\n",
       "      <td>4.03</td>\n",
       "      <td>34.7</td>\n",
       "    </tr>\n",
       "    <tr>\n",
       "      <th>3</th>\n",
       "      <td>0.03237</td>\n",
       "      <td>0.0</td>\n",
       "      <td>2.18</td>\n",
       "      <td>0</td>\n",
       "      <td>0.458</td>\n",
       "      <td>6.998</td>\n",
       "      <td>45.8</td>\n",
       "      <td>6.0622</td>\n",
       "      <td>3</td>\n",
       "      <td>222.0</td>\n",
       "      <td>18.7</td>\n",
       "      <td>394.63</td>\n",
       "      <td>2.94</td>\n",
       "      <td>33.4</td>\n",
       "    </tr>\n",
       "    <tr>\n",
       "      <th>4</th>\n",
       "      <td>0.06905</td>\n",
       "      <td>0.0</td>\n",
       "      <td>2.18</td>\n",
       "      <td>0</td>\n",
       "      <td>0.458</td>\n",
       "      <td>7.147</td>\n",
       "      <td>54.2</td>\n",
       "      <td>6.0622</td>\n",
       "      <td>3</td>\n",
       "      <td>222.0</td>\n",
       "      <td>18.7</td>\n",
       "      <td>396.90</td>\n",
       "      <td>5.33</td>\n",
       "      <td>36.2</td>\n",
       "    </tr>\n",
       "  </tbody>\n",
       "</table>\n",
       "</div>"
      ],
      "text/plain": [
       "     crime  residential  industrial  river    nox  rooms   age  centres  \\\n",
       "0  0.00632         18.0        2.31      0  0.538  6.575  65.2   4.0900   \n",
       "1  0.02731          0.0        7.07      0  0.469  6.421  78.9   4.9671   \n",
       "2  0.02729          0.0        7.07      0  0.469  7.185  61.1   4.9671   \n",
       "3  0.03237          0.0        2.18      0  0.458  6.998  45.8   6.0622   \n",
       "4  0.06905          0.0        2.18      0  0.458  7.147  54.2   6.0622   \n",
       "\n",
       "   highway    tax    pt   black  lower  house_value  \n",
       "0        1  296.0  15.3  396.90   4.98         24.0  \n",
       "1        2  242.0  17.8  396.90   9.14         21.6  \n",
       "2        2  242.0  17.8  392.83   4.03         34.7  \n",
       "3        3  222.0  18.7  394.63   2.94         33.4  \n",
       "4        3  222.0  18.7  396.90   5.33         36.2  "
      ]
     },
     "execution_count": 6,
     "metadata": {},
     "output_type": "execute_result"
    }
   ],
   "source": [
    "column_names = [\n",
    "    'crime',\n",
    "    'residential',\n",
    "    'industrial',\n",
    "    'river',\n",
    "    'nox',\n",
    "    'rooms',\n",
    "    'age',\n",
    "    'centres',\n",
    "    'highway',\n",
    "    'tax',\n",
    "    'pt',\n",
    "    'black',\n",
    "    'lower',\n",
    "    'house_value',\n",
    "]\n",
    "raw_housing = pd.read_fwf('Datasets/housing.data', header=None, names=column_names)\n",
    "housing = raw_housing.copy()\n",
    "housing.head()"
   ]
  },
  {
   "cell_type": "markdown",
   "id": "282b3d2c-0e46-425f-a576-ad59cf341dde",
   "metadata": {
    "tags": []
   },
   "source": [
    "### Syncronus motor\n",
    "\n",
    "The dataset is available from [UCI](https://archive.ics.uci.edu/ml/datasets/Synchronous+Machine+Data+Set)."
   ]
  },
  {
   "cell_type": "code",
   "execution_count": 7,
   "id": "a623e40c-ea57-4f0a-b9ca-599f311517e0",
   "metadata": {},
   "outputs": [
    {
     "data": {
      "text/html": [
       "<div>\n",
       "<style scoped>\n",
       "    .dataframe tbody tr th:only-of-type {\n",
       "        vertical-align: middle;\n",
       "    }\n",
       "\n",
       "    .dataframe tbody tr th {\n",
       "        vertical-align: top;\n",
       "    }\n",
       "\n",
       "    .dataframe thead th {\n",
       "        text-align: right;\n",
       "    }\n",
       "</style>\n",
       "<table border=\"1\" class=\"dataframe\">\n",
       "  <thead>\n",
       "    <tr style=\"text-align: right;\">\n",
       "      <th></th>\n",
       "      <th>load_current</th>\n",
       "      <th>power_factor</th>\n",
       "      <th>power_factor_error</th>\n",
       "      <th>excitation_current_change</th>\n",
       "      <th>excitation_current</th>\n",
       "    </tr>\n",
       "  </thead>\n",
       "  <tbody>\n",
       "    <tr>\n",
       "      <th>0</th>\n",
       "      <td>3</td>\n",
       "      <td>0,66</td>\n",
       "      <td>0,34</td>\n",
       "      <td>0,383</td>\n",
       "      <td>1,563</td>\n",
       "    </tr>\n",
       "    <tr>\n",
       "      <th>1</th>\n",
       "      <td>3</td>\n",
       "      <td>0,68</td>\n",
       "      <td>0,32</td>\n",
       "      <td>0,372</td>\n",
       "      <td>1,552</td>\n",
       "    </tr>\n",
       "    <tr>\n",
       "      <th>2</th>\n",
       "      <td>3</td>\n",
       "      <td>0,7</td>\n",
       "      <td>0,3</td>\n",
       "      <td>0,36</td>\n",
       "      <td>1,54</td>\n",
       "    </tr>\n",
       "    <tr>\n",
       "      <th>3</th>\n",
       "      <td>3</td>\n",
       "      <td>0,72</td>\n",
       "      <td>0,28</td>\n",
       "      <td>0,338</td>\n",
       "      <td>1,518</td>\n",
       "    </tr>\n",
       "    <tr>\n",
       "      <th>4</th>\n",
       "      <td>3</td>\n",
       "      <td>0,74</td>\n",
       "      <td>0,26</td>\n",
       "      <td>0,317</td>\n",
       "      <td>1,497</td>\n",
       "    </tr>\n",
       "  </tbody>\n",
       "</table>\n",
       "</div>"
      ],
      "text/plain": [
       "  load_current power_factor power_factor_error excitation_current_change  \\\n",
       "0            3         0,66               0,34                     0,383   \n",
       "1            3         0,68               0,32                     0,372   \n",
       "2            3          0,7                0,3                      0,36   \n",
       "3            3         0,72               0,28                     0,338   \n",
       "4            3         0,74               0,26                     0,317   \n",
       "\n",
       "  excitation_current  \n",
       "0              1,563  \n",
       "1              1,552  \n",
       "2               1,54  \n",
       "3              1,518  \n",
       "4              1,497  "
      ]
     },
     "execution_count": 7,
     "metadata": {},
     "output_type": "execute_result"
    }
   ],
   "source": [
    "raw_motor = pd.read_csv('Datasets/synchronous machine.csv', sep=';')\n",
    "raw_motor.columns = ['load_current', 'power_factor', 'power_factor_error', 'excitation_current_change', 'excitation_current']\n",
    "motor = raw_motor.copy()\n",
    "motor.head()"
   ]
  },
  {
   "cell_type": "markdown",
   "id": "d7a2c1f3-1ec9-46d5-9367-dda73e26d015",
   "metadata": {},
   "source": [
    "## Kumon Exercises"
   ]
  },
  {
   "attachments": {
    "22d7c843-194e-4e9e-98ca-2fd35ee96bb8.png": {
     "image/png": "[encoded data removed]"
    }
   },
   "cell_type": "markdown",
   "id": "df6470bd-c2b7-4d68-963a-0016f0af7e13",
   "metadata": {
    "jp-MarkdownHeadingCollapsed": true,
    "tags": []
   },
   "source": [
    "### Show the mean and std for the wheat yield per year\n",
    "\n",
    "![image.png](attachment:22d7c843-194e-4e9e-98ca-2fd35ee96bb8.png)"
   ]
  },
  {
   "cell_type": "code",
   "execution_count": 8,
   "id": "c94cff39-b618-4d09-b794-217324d23d69",
   "metadata": {
    "tags": []
   },
   "outputs": [
    {
     "data": {
      "text/html": [
       "<div>\n",
       "<style scoped>\n",
       "    .dataframe tbody tr th:only-of-type {\n",
       "        vertical-align: middle;\n",
       "    }\n",
       "\n",
       "    .dataframe tbody tr th {\n",
       "        vertical-align: top;\n",
       "    }\n",
       "\n",
       "    .dataframe thead th {\n",
       "        text-align: right;\n",
       "    }\n",
       "</style>\n",
       "<table border=\"1\" class=\"dataframe\">\n",
       "  <thead>\n",
       "    <tr style=\"text-align: right;\">\n",
       "      <th></th>\n",
       "      <th>mean</th>\n",
       "      <th>std</th>\n",
       "    </tr>\n",
       "  </thead>\n",
       "  <tbody>\n",
       "    <tr>\n",
       "      <th>1970</th>\n",
       "      <td>47.009167</td>\n",
       "      <td>6.852602</td>\n",
       "    </tr>\n",
       "    <tr>\n",
       "      <th>1971</th>\n",
       "      <td>43.027500</td>\n",
       "      <td>7.521156</td>\n",
       "    </tr>\n",
       "    <tr>\n",
       "      <th>1972</th>\n",
       "      <td>41.816667</td>\n",
       "      <td>8.296667</td>\n",
       "    </tr>\n",
       "    <tr>\n",
       "      <th>1973</th>\n",
       "      <td>44.521667</td>\n",
       "      <td>7.732048</td>\n",
       "    </tr>\n",
       "  </tbody>\n",
       "</table>\n",
       "</div>"
      ],
      "text/plain": [
       "           mean       std\n",
       "1970  47.009167  6.852602\n",
       "1971  43.027500  7.521156\n",
       "1972  41.816667  8.296667\n",
       "1973  44.521667  7.732048"
      ]
     },
     "execution_count": 8,
     "metadata": {},
     "output_type": "execute_result"
    }
   ],
   "source": [
    "wheat.describe().T[['mean', 'std']]"
   ]
  },
  {
   "cell_type": "markdown",
   "id": "e356e75e-207e-4578-ad2d-3084dde20da6",
   "metadata": {
    "jp-MarkdownHeadingCollapsed": true,
    "tags": []
   },
   "source": [
    "### Normalize the data in `usair`"
   ]
  },
  {
   "cell_type": "code",
   "execution_count": 9,
   "id": "3e27ca49-78ba-438c-b3c6-59ef0da63832",
   "metadata": {},
   "outputs": [
    {
     "data": {
      "text/plain": [
       "<tf.Tensor: shape=(41, 7), dtype=float32, numpy=\n",
       "array([[-0.865,  2.036, -0.449, -0.047, -2.441, -2.556, -2.976],\n",
       "       [-0.735,  0.734, -0.669, -0.833, -0.882,  1.011, -0.531],\n",
       "       [-0.778,  0.131, -0.018,  0.188, -0.527, -1.385, -1.791],\n",
       "       [-0.563, -0.541, -0.016, -0.164, -0.315, -2.049, -1.066],\n",
       "       [ 1.119, -0.933, -0.092, -0.788, -0.315,  0.568,  0.5  ],\n",
       "       [ 0.257, -0.247, -0.688, -0.924, -0.315,  0.299,  0.004],\n",
       "       [-0.045,  0.215, -0.052,  0.259, -0.102,  0.182, -0.111],\n",
       "       [-0.692,  1.77 , -0.588, -0.139, -0.456,  1.522,  0.08 ],\n",
       "       [-0.865,  2.765, -0.46 , -0.478, -0.315,  1.981,  0.538],\n",
       "       [-0.261,  0.804, -0.171, -0.195, -0.244,  0.995,  0.042],\n",
       "       [ 3.449, -0.723,  5.176,  4.826,  0.678, -0.2  ,  0.309],\n",
       "       [-0.088, -0.485, -0.183,  0.24 ,  0.181,  0.17 ,  0.271],\n",
       "       [-0.563, -0.947, -0.645, -0.713,  1.244, -0.509, -0.416],\n",
       "       [-0.951,  0.117, -0.607, -0.58 ,  2.307, -0.532, -1.219],\n",
       "       [-0.002, -0.023, -0.309, -0.027, -0.811,  0.545,  0.347],\n",
       "       [-0.908,  1.756, -0.466, -0.433, -0.74 ,  1.72 , -0.034],\n",
       "       [ 0.731, -0.107,  0.291,  0.518,  0.111,  0.391, -0.111],\n",
       "       [ 0.214, -0.821,  1.08 ,  1.581,  0.465, -0.5  ,  0.577],\n",
       "       [-0.045, -1.718,  0.424,  0.237,  0.819, -0.931,  0.882],\n",
       "       [-0.692, -0.177, -0.148, -0.178,  0.394,  0.02 , -0.569],\n",
       "       [ 1.119,  0.019,  0.56 ,  0.023,  0.04 , -0.076, -0.34 ],\n",
       "       [-0.692, -0.597, -0.507, -0.457,  1.032, -0.567, -0.607],\n",
       "       [-0.822,  0.145, -0.749, -0.637, -0.385, -2.494, -2.135],\n",
       "       [ 0.688, -1.143, -0.753, -0.861, -0.456, -0.293,  0.806],\n",
       "       [-0.822, -1.214, -0.13 , -0.255,  2.095, -0.057,  1.99 ],\n",
       "       [-0.304, -0.247, -0.002, -0.272, -1.661,  0.195,  0.691],\n",
       "       [ 1.508, -0.849,  0.977,  0.249,  1.032, -0.153,  1.57 ],\n",
       "       [-0.175, -0.597, -0.354, -0.12 , -0.598,  0.021,  0.768],\n",
       "       [ 1.68 , -0.163,  2.208,  2.345,  0.111,  0.272,  0.042],\n",
       "       [ 1.335, -0.751, -0.209, -0.155, -0.031, -0.047,  1.264],\n",
       "       [ 2.758, -0.807, -0.216, -0.751,  0.819,  0.514,  0.424],\n",
       "       [-0.865,  0.818, -0.227,  0.027, -0.173,  1.061, -0.34 ],\n",
       "       [-0.52 ,  0.509, -0.338, -0.281, -1.094,  0.794,  0.195],\n",
       "       [-0.908,  1.462,  0.32 ,  0.412,  1.032, -0.071, -1.371],\n",
       "       [-0.865,  1.84 ,  0.463,  1.092,  0.961,  0.982, -0.416],\n",
       "       [-0.088, -0.667, -0.586, -0.756, -0.527, -1.858, -0.951],\n",
       "       [ 0.041,  0.495, -0.66 , -0.526,  0.819,  0.68 ,  0.08 ],\n",
       "       [-0.175,  0.285, -0.478, -0.541, -1.307,  0.501,  0.042],\n",
       "       [-0.045, -0.653, -0.151, -0.136, -0.031,  0.174,  1.913],\n",
       "       [ 0.041, -0.079, -0.769, -0.94 , -2.086,  0.342,  1.302],\n",
       "       [-0.606, -1.41 ,  0.19 ,  0.189,  1.67 , -0.662,  0.347]],\n",
       "      dtype=float32)>"
      ]
     },
     "execution_count": 9,
     "metadata": {},
     "output_type": "execute_result"
    }
   ],
   "source": [
    "normalizer = Normalization(axis=1)\n",
    "\n",
    "normalizer.adapt(data=usair)\n",
    "\n",
    "normalizer(usair)"
   ]
  },
  {
   "cell_type": "markdown",
   "id": "2e6b7124-b4df-4b55-9067-bc9d93f80b86",
   "metadata": {
    "jp-MarkdownHeadingCollapsed": true,
    "tags": []
   },
   "source": [
    "### Cut and paste column `1971`"
   ]
  },
  {
   "cell_type": "code",
   "execution_count": 10,
   "id": "6aa2aa1b-bfa4-4765-9a6d-548000049d8d",
   "metadata": {},
   "outputs": [],
   "source": [
    "# yield_1971 = wheat.pop('1971')"
   ]
  },
  {
   "cell_type": "markdown",
   "id": "a45bcb97-cb2d-4bdc-a2b8-0fa578a4965c",
   "metadata": {},
   "source": [
    "### Predict house `value` from `crime`\n",
    "\n",
    "Linear regression with one variable. Output: house `value`, input `crime` rate of the neighbourhood.\n",
    "\n",
    "1. Build Keras `Sequential` model. Ensure `crime` is normalized.\n",
    "1. Compile the model and configure its `loss` and `optimizer`.\n",
    "1. Train.\n",
    "1. Plot the model prediction."
   ]
  },
  {
   "cell_type": "code",
   "execution_count": 11,
   "id": "bb3b3293-16bb-486c-b923-152102c4275b",
   "metadata": {},
   "outputs": [
    {
     "name": "stdout",
     "output_type": "stream",
     "text": [
      "Model: \"sequential\"\n",
      "_________________________________________________________________\n",
      " Layer (type)                Output Shape              Param #   \n",
      "=================================================================\n",
      " normalization_1 (Normalizat  (None, 1)                3         \n",
      " ion)                                                            \n",
      "                                                                 \n",
      " dense (Dense)               (None, 1)                 2         \n",
      "                                                                 \n",
      "=================================================================\n",
      "Total params: 5\n",
      "Trainable params: 2\n",
      "Non-trainable params: 3\n",
      "_________________________________________________________________\n"
     ]
    }
   ],
   "source": [
    "crime_model = Sequential([\n",
    "    Input(shape=(1,)),\n",
    "    Normalization(),\n",
    "    Dense(units=1),\n",
    "])\n",
    "crime_model.summary()"
   ]
  },
  {
   "cell_type": "code",
   "execution_count": 12,
   "id": "d5e47016-5db4-4e77-bd1c-387264778922",
   "metadata": {},
   "outputs": [],
   "source": [
    "crime_model.compile(\n",
    "    loss=tf.keras.losses.MeanSquaredError(),\n",
    "    optimizer=tf.keras.optimizers.SGD(learning_rate=0.01),\n",
    ")"
   ]
  },
  {
   "cell_type": "code",
   "execution_count": 13,
   "id": "195d7a1a-d89c-48bb-bb1c-3a22c6ea938a",
   "metadata": {
    "tags": []
   },
   "outputs": [
    {
     "data": {
      "text/plain": [
       "<keras.callbacks.History at 0x1f8d499b8e0>"
      ]
     },
     "execution_count": 13,
     "metadata": {},
     "output_type": "execute_result"
    }
   ],
   "source": [
    "crime_model.fit(\n",
    "    x=housing.crime, \n",
    "    y=housing.house_value,\n",
    "    batch_size=32,\n",
    "    epochs=100,\n",
    "    verbose=None,\n",
    "    callbacks=None,\n",
    "    validation_split=0.2\n",
    ")"
   ]
  },
  {
   "cell_type": "code",
   "execution_count": 14,
   "id": "510c54bb-dcd2-4cfb-bc85-2f056d75786a",
   "metadata": {},
   "outputs": [
    {
     "name": "stdout",
     "output_type": "stream",
     "text": [
      "4/4 [==============================] - 0s 8ms/step\n"
     ]
    },
    {
     "data": {
      "image/png": "[encoded data removed]",
      "text/plain": [
       "<Figure size 640x480 with 1 Axes>"
      ]
     },
     "metadata": {},
     "output_type": "display_data"
    }
   ],
   "source": [
    "x = np.linspace(housing.crime.max(), housing.crime.min(), 100)\n",
    "y_pred = crime_model.predict(x)\n",
    "\n",
    "plt.scatter(housing.crime, housing.house_value)\n",
    "plt.plot(x, y_pred, 'r')\n",
    "plt.show()"
   ]
  },
  {
   "cell_type": "code",
   "execution_count": null,
   "id": "b7d1258d-466d-4c0b-bff9-9f3c8aa4ae0d",
   "metadata": {},
   "outputs": [],
   "source": []
  }
 ],
 "metadata": {
  "kernelspec": {
   "display_name": "Python 3 (ipykernel)",
   "language": "python",
   "name": "python3"
  },
  "language_info": {
   "codemirror_mode": {
    "name": "ipython",
    "version": 3
   },
   "file_extension": ".py",
   "mimetype": "text/x-python",
   "name": "python",
   "nbconvert_exporter": "python",
   "pygments_lexer": "ipython3",
   "version": "3.9.0"
  }
 },
 "nbformat": 4,
 "nbformat_minor": 5
}
