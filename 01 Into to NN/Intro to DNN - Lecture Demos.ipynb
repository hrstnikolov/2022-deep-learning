{
 "cells": [
  {
   "cell_type": "code",
   "execution_count": 1,
   "id": "d18f13f0-3baf-471c-ba5c-5816b784b748",
   "metadata": {},
   "outputs": [],
   "source": [
    "%matplotlib inline"
   ]
  },
  {
   "cell_type": "code",
   "execution_count": 2,
   "id": "a8ae1bb3-3d98-4678-b86e-c56fb77c1372",
   "metadata": {},
   "outputs": [],
   "source": [
    "import numpy as np\n",
    "import pandas as pd\n",
    "import matplotlib.pyplot as plt\n",
    "\n",
    "from pathlib import Path\n",
    "\n",
    "import tensorflow as tf\n",
    "\n",
    "from sklearn.model_selection import train_test_split\n",
    "\n",
    "from tensorflow.keras.models import Sequential\n",
    "from tensorflow.keras.layers import Dense, Input, Flatten, Normalization"
   ]
  },
  {
   "cell_type": "markdown",
   "id": "d781a29c-1b40-4182-a8bc-64a6f3fb1a54",
   "metadata": {
    "jp-MarkdownHeadingCollapsed": true,
    "tags": []
   },
   "source": [
    "# Intro to NN - Lecture Demos"
   ]
  },
  {
   "cell_type": "code",
   "execution_count": 10,
   "id": "f2c30826-9de2-4660-a806-886bf02d6aef",
   "metadata": {},
   "outputs": [],
   "source": [
    "DESKTOP = Path().home() / 'Desktop'\n",
    "not_mnist_dir = DESKTOP / 'notMNIST_small'"
   ]
  }
 ],
 "metadata": {
  "kernelspec": {
   "display_name": "Python 3 (ipykernel)",
   "language": "python",
   "name": "python3"
  },
  "language_info": {
   "codemirror_mode": {
    "name": "ipython",
    "version": 3
   },
   "file_extension": ".py",
   "mimetype": "text/x-python",
   "name": "python",
   "nbconvert_exporter": "python",
   "pygments_lexer": "ipython3",
   "version": "3.9.0"
  }
 },
 "nbformat": 4,
 "nbformat_minor": 5
}
