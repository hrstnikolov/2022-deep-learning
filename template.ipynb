{
 "cells": [
  {
   "cell_type": "code",
   "execution_count": 1,
   "id": "f0ba60c8-d07b-4d50-b87d-3f3626e2ab1f",
   "metadata": {},
   "outputs": [],
   "source": [
    "%matplotlib inline"
   ]
  },
  {
   "cell_type": "code",
   "execution_count": 2,
   "id": "573b9a76-cf96-47eb-a4ce-1fbabbcd455f",
   "metadata": {},
   "outputs": [],
   "source": [
    "import numpy as np\n",
    "import pandas as pd\n",
    "import matplotlib.pyplot as plt"
   ]
  },
  {
   "cell_type": "markdown",
   "id": "860f77af-ded0-4e4f-acb1-62fbb1cc0691",
   "metadata": {
    "tags": []
   },
   "source": [
    "# Title"
   ]
  },
  {
   "cell_type": "markdown",
   "id": "acaa9989-3ec2-44e7-a516-eda9dca88573",
   "metadata": {
    "tags": []
   },
   "source": [
    "## Heading"
   ]
  },
  {
   "cell_type": "code",
   "execution_count": null,
   "id": "e483dee1-ee32-42c5-851c-9b7e1bc354d2",
   "metadata": {},
   "outputs": [],
   "source": []
  }
 ],
 "metadata": {
  "kernelspec": {
   "display_name": "Python 3 (ipykernel)",
   "language": "python",
   "name": "python3"
  },
  "language_info": {
   "codemirror_mode": {
    "name": "ipython",
    "version": 3
   },
   "file_extension": ".py",
   "mimetype": "text/x-python",
   "name": "python",
   "nbconvert_exporter": "python",
   "pygments_lexer": "ipython3",
   "version": "3.9.0"
  }
 },
 "nbformat": 4,
 "nbformat_minor": 5
}
