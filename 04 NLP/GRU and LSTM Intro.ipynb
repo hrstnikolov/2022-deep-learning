{
 "cells": [
  {
   "cell_type": "code",
   "execution_count": 8,
   "id": "a06aa5cf-55d8-46ba-a603-4f78e03abe96",
   "metadata": {},
   "outputs": [],
   "source": [
    "%matplotlib inline"
   ]
  },
  {
   "cell_type": "code",
   "execution_count": 22,
   "id": "84010859-4a67-48bb-a75e-1b536fcd5981",
   "metadata": {},
   "outputs": [],
   "source": [
    "import numpy as np\n",
    "import pandas as pd\n",
    "import matplotlib.pyplot as plt\n",
    "\n",
    "import tensorflow as tf\n",
    "from tensorflow.keras.models import Sequential\n",
    "from tensorflow.keras.layers import Input, LSTM, GRU, Bidirectional"
   ]
  },
  {
   "cell_type": "markdown",
   "id": "c5f66c51-92e1-49e6-bd97-37abeff12bcd",
   "metadata": {
    "tags": []
   },
   "source": [
    "# Bidirectional Intro"
   ]
  },
  {
   "cell_type": "markdown",
   "id": "33925026-3e53-4e8a-89fb-bb7e93af1bfc",
   "metadata": {},
   "source": [
    "## Merge mode 'concat'"
   ]
  },
  {
   "cell_type": "code",
   "execution_count": 18,
   "id": "af6d87a5-7d58-43e4-ae7d-ea5f099c3ae6",
   "metadata": {},
   "outputs": [],
   "source": [
    "model = Sequential([\n",
    "    Input(shape=(50,5)),\n",
    "    \n",
    "    Bidirectional(LSTM(20, return_sequences = True)),\n",
    "    Bidirectional(LSTM(20)),\n",
    "])"
   ]
  },
  {
   "cell_type": "code",
   "execution_count": 19,
   "id": "63d14279-68d7-48f5-b6a8-e5ce52aea424",
   "metadata": {},
   "outputs": [
    {
     "name": "stdout",
     "output_type": "stream",
     "text": [
      "Model: \"sequential_4\"\n",
      "_________________________________________________________________\n",
      " Layer (type)                Output Shape              Param #   \n",
      "=================================================================\n",
      " bidirectional_4 (Bidirectio  (None, 50, 40)           4160      \n",
      " nal)                                                            \n",
      "                                                                 \n",
      " bidirectional_5 (Bidirectio  (None, 40)               9760      \n",
      " nal)                                                            \n",
      "                                                                 \n",
      "=================================================================\n",
      "Total params: 13,920\n",
      "Trainable params: 13,920\n",
      "Non-trainable params: 0\n",
      "_________________________________________________________________\n"
     ]
    }
   ],
   "source": [
    "model.summary()"
   ]
  },
  {
   "cell_type": "markdown",
   "id": "6b09903e-a136-44fc-b19e-26a20c2801fe",
   "metadata": {},
   "source": [
    "## Merge mode 'sum'"
   ]
  },
  {
   "cell_type": "code",
   "execution_count": 20,
   "id": "957e38f8-b73c-4bca-bdd0-387655e59d4d",
   "metadata": {},
   "outputs": [],
   "source": [
    "model = Sequential([\n",
    "    Input(shape=(50,5)),\n",
    "    \n",
    "    Bidirectional(LSTM(20, return_sequences = True), merge_mode='sum'),\n",
    "    Bidirectional(LSTM(20)),\n",
    "])"
   ]
  },
  {
   "cell_type": "code",
   "execution_count": 21,
   "id": "7eeba3c8-32d0-4ec7-913e-097491c13dac",
   "metadata": {},
   "outputs": [
    {
     "name": "stdout",
     "output_type": "stream",
     "text": [
      "Model: \"sequential_5\"\n",
      "_________________________________________________________________\n",
      " Layer (type)                Output Shape              Param #   \n",
      "=================================================================\n",
      " bidirectional_6 (Bidirectio  (None, 50, 20)           4160      \n",
      " nal)                                                            \n",
      "                                                                 \n",
      " bidirectional_7 (Bidirectio  (None, 40)               6560      \n",
      " nal)                                                            \n",
      "                                                                 \n",
      "=================================================================\n",
      "Total params: 10,720\n",
      "Trainable params: 10,720\n",
      "Non-trainable params: 0\n",
      "_________________________________________________________________\n"
     ]
    }
   ],
   "source": [
    "model.summary()"
   ]
  },
  {
   "cell_type": "markdown",
   "id": "6c75a7b2-4609-47e5-a888-38405f9a3854",
   "metadata": {},
   "source": [
    "## Backward layer"
   ]
  },
  {
   "cell_type": "code",
   "execution_count": 24,
   "id": "76126ea8-9560-4814-b993-0b2de5c70a43",
   "metadata": {},
   "outputs": [],
   "source": [
    "model = Sequential([\n",
    "    Input(shape=(50,5)),\n",
    "    \n",
    "    Bidirectional(LSTM(20, return_sequences=True), merge_mode='sum'),\n",
    "    Bidirectional(LSTM(20), backward_layer=GRU(15, go_backwards=True)),\n",
    "])"
   ]
  },
  {
   "cell_type": "code",
   "execution_count": 25,
   "id": "e4934745-399a-4ce8-b40e-083c12dfdaef",
   "metadata": {},
   "outputs": [
    {
     "name": "stdout",
     "output_type": "stream",
     "text": [
      "Model: \"sequential_6\"\n",
      "_________________________________________________________________\n",
      " Layer (type)                Output Shape              Param #   \n",
      "=================================================================\n",
      " bidirectional_9 (Bidirectio  (None, 50, 20)           4160      \n",
      " nal)                                                            \n",
      "                                                                 \n",
      " bidirectional_10 (Bidirecti  (None, 35)               4945      \n",
      " onal)                                                           \n",
      "                                                                 \n",
      "=================================================================\n",
      "Total params: 9,105\n",
      "Trainable params: 9,105\n",
      "Non-trainable params: 0\n",
      "_________________________________________________________________\n"
     ]
    }
   ],
   "source": [
    "model.summary()"
   ]
  }
 ],
 "metadata": {
  "kernelspec": {
   "display_name": "Python 3 (ipykernel)",
   "language": "python",
   "name": "python3"
  },
  "language_info": {
   "codemirror_mode": {
    "name": "ipython",
    "version": 3
   },
   "file_extension": ".py",
   "mimetype": "text/x-python",
   "name": "python",
   "nbconvert_exporter": "python",
   "pygments_lexer": "ipython3",
   "version": "3.9.0"
  }
 },
 "nbformat": 4,
 "nbformat_minor": 5
}
