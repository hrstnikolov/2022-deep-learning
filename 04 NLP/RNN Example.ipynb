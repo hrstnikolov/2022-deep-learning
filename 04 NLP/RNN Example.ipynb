{
 "cells": [
  {
   "cell_type": "code",
   "execution_count": 2,
   "id": "4a94b594-a442-4417-8507-a8bc9a1e5545",
   "metadata": {},
   "outputs": [],
   "source": [
    "%matplotlib inline"
   ]
  },
  {
   "cell_type": "code",
   "execution_count": 3,
   "id": "aee3df1a-7223-4ac2-9791-109130fdc787",
   "metadata": {},
   "outputs": [],
   "source": [
    "import numpy as np\n",
    "import pandas as pd\n",
    "import matplotlib.pyplot as plt\n",
    "\n",
    "import tensorflow as tf\n",
    "from tensorflow.keras.models import Sequential\n",
    "from tensorflow.keras.layers import Input, Dense, SimpleRNN"
   ]
  },
  {
   "cell_type": "markdown",
   "id": "e5706644-98ba-4914-a030-639c374c10b0",
   "metadata": {
    "tags": []
   },
   "source": [
    "# RNN Example"
   ]
  },
  {
   "cell_type": "markdown",
   "id": "4fc8ed6d-bbdc-4070-abc7-5b508c60c92d",
   "metadata": {},
   "source": [
    "Example dataset:\n",
    "- #1: 'I like tomatoes in pasta.' - 6 words\n",
    "- #2:'My hair is black.' - 5 words\n",
    "- ...\n",
    "- #1000: 'Do you what what will be the wheather tomorrow?' - 10 words\n",
    "\n",
    "\n",
    "Notes:\n",
    "- All sentences (corpus) is 1000.\n",
    "- The batch size is 32. 32 sentences are processesd before GD update (?).\n",
    "- Each senstence consists of words, max sentence len 10.\n",
    "- Each word is represented as 8x1 vector (aka num of features is 8)."
   ]
  },
  {
   "cell_type": "code",
   "execution_count": 4,
   "id": "5397b553-e54d-413e-bcfe-5ea27611df82",
   "metadata": {},
   "outputs": [
    {
     "data": {
      "text/plain": [
       "(32, 10, 8)"
      ]
     },
     "execution_count": 4,
     "metadata": {},
     "output_type": "execute_result"
    }
   ],
   "source": [
    "inputs = np.random.random([32, 10, 8]).astype(np.float32)\n",
    "inputs.shape"
   ]
  },
  {
   "cell_type": "code",
   "execution_count": 5,
   "id": "48ae7d15-6da0-434a-ab00-f42c225f4c6d",
   "metadata": {},
   "outputs": [],
   "source": [
    "# Define the rnn layer\n",
    "simple_rnn = tf.keras.layers.SimpleRNN(4)"
   ]
  },
  {
   "cell_type": "markdown",
   "id": "3efdcf20-ffd1-4500-a50f-dcf6e835cdb4",
   "metadata": {},
   "source": [
    "- The layer has 4 units (neurons).\n",
    "- Each unit produces a single number on each time step (=when a word is 'fed').\n",
    "- The steps are equal to either the len(sentence) e.g. in #1 -> 6, OR max 10 steps.\n",
    "- However, the defalt layer return only the latest values for each of the 32 sentences.\n",
    "- Thus, the output shape is 32 sentences (in the batch) * 4 values (one from each unit in the `SimpleRNN` layer)."
   ]
  },
  {
   "cell_type": "code",
   "execution_count": 6,
   "id": "4241c866-ae08-43a6-87b1-b113df36da42",
   "metadata": {},
   "outputs": [
    {
     "data": {
      "text/plain": [
       "TensorShape([32, 4])"
      ]
     },
     "execution_count": 6,
     "metadata": {},
     "output_type": "execute_result"
    }
   ],
   "source": [
    "output = simple_rnn(inputs)\n",
    "output.shape"
   ]
  },
  {
   "cell_type": "markdown",
   "id": "3d57b071-b713-4b6f-b71b-f860bb139ac3",
   "metadata": {},
   "source": [
    "- We can get the outputs after each word as below:"
   ]
  },
  {
   "cell_type": "code",
   "execution_count": 7,
   "id": "b0b4a65b-e93b-4f3d-8597-26b7a93c4722",
   "metadata": {},
   "outputs": [
    {
     "data": {
      "text/plain": [
       "TensorShape([32, 10, 4])"
      ]
     },
     "execution_count": 7,
     "metadata": {},
     "output_type": "execute_result"
    }
   ],
   "source": [
    "simple_rnn = tf.keras.layers.SimpleRNN(\n",
    "    4, return_sequences=True)\n",
    "\n",
    "simple_rnn(inputs).shape"
   ]
  }
 ],
 "metadata": {
  "kernelspec": {
   "display_name": "Python 3 (ipykernel)",
   "language": "python",
   "name": "python3"
  },
  "language_info": {
   "codemirror_mode": {
    "name": "ipython",
    "version": 3
   },
   "file_extension": ".py",
   "mimetype": "text/x-python",
   "name": "python",
   "nbconvert_exporter": "python",
   "pygments_lexer": "ipython3",
   "version": "3.9.0"
  }
 },
 "nbformat": 4,
 "nbformat_minor": 5
}
