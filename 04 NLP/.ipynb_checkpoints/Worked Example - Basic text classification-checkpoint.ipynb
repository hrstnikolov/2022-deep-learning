{
 "cells": [
  {
   "cell_type": "code",
   "execution_count": 2,
   "id": "90cc2833-00a2-4ef8-8196-988dfa5a7a2e",
   "metadata": {},
   "outputs": [],
   "source": [
    "%matplotlib inline"
   ]
  },
  {
   "cell_type": "code",
   "execution_count": 3,
   "id": "737df90e-20d5-4f91-b553-81ec66aba1be",
   "metadata": {},
   "outputs": [],
   "source": [
    "import numpy as np\n",
    "import pandas as pd\n",
    "import matplotlib.pyplot as plt\n",
    "\n",
    "import os\n",
    "import re\n",
    "import shutil\n",
    "import string\n",
    "\n",
    "import tensorflow as tf\n",
    "from tensorflow.keras.models import Sequential\n",
    "from tensorflow.keras.layers import Input, Dense, Flatten"
   ]
  },
  {
   "cell_type": "markdown",
   "id": "6e7c4c6a-4b31-4f30-b426-0cfd483002c9",
   "metadata": {
    "tags": []
   },
   "source": [
    "# Worked Example - Basic text classification\n",
    "\n",
    "Task: classify IMDB movie reviews as positive or negative, based on the text of the review.\n",
    "\n",
    "Worked example from [here](https://www.tensorflow.org/tutorials/keras/text_classification).\n",
    "\n",
    "Dataset:\n",
    "- from [here](https://ai.stanford.edu/~amaas/data/sentiment/)\n",
    "- 25,000 reviews for training and 25,000 reviews for testing\n",
    "- sets are balanced\n",
    "\n",
    "acl = Association for Computational Linguistics"
   ]
  },
  {
   "cell_type": "markdown",
   "id": "203bacd2-d40b-40d8-a437-d54c5373538e",
   "metadata": {},
   "source": [
    "## Heading"
   ]
  },
  {
   "cell_type": "code",
   "execution_count": null,
   "id": "fa1d18d1-e9dc-4fe2-ba24-dd29ad242dd6",
   "metadata": {},
   "outputs": [],
   "source": [
    "url = \"https://ai.stanford.edu/~amaas/data/sentiment/aclImdb_v1.tar.gz\"\n",
    "\n",
    "dataset = tf.keras.utils.get_file(\"aclImdb_v1\", url,\n",
    "                                    untar=True, cache_dir='.',\n",
    "                                    cache_subdir='')\n",
    "\n",
    "dataset_dir = os.path.join(os.path.dirname(dataset), 'aclImdb')"
   ]
  },
  {
   "cell_type": "code",
   "execution_count": null,
   "id": "bd9a1c98-c945-419b-b37b-58f544fb0eb0",
   "metadata": {},
   "outputs": [],
   "source": []
  }
 ],
 "metadata": {
  "kernelspec": {
   "display_name": "Python 3 (ipykernel)",
   "language": "python",
   "name": "python3"
  },
  "language_info": {
   "codemirror_mode": {
    "name": "ipython",
    "version": 3
   },
   "file_extension": ".py",
   "mimetype": "text/x-python",
   "name": "python",
   "nbconvert_exporter": "python",
   "pygments_lexer": "ipython3",
   "version": "3.10.9"
  }
 },
 "nbformat": 4,
 "nbformat_minor": 5
}
