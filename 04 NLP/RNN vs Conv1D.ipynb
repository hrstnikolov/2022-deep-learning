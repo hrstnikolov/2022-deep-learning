{
 "cells": [
  {
   "cell_type": "code",
   "execution_count": 1,
   "id": "f0ba60c8-d07b-4d50-b87d-3f3626e2ab1f",
   "metadata": {},
   "outputs": [],
   "source": [
    "%matplotlib inline"
   ]
  },
  {
   "cell_type": "code",
   "execution_count": 27,
   "id": "573b9a76-cf96-47eb-a4ce-1fbabbcd455f",
   "metadata": {},
   "outputs": [],
   "source": [
    "import numpy as np\n",
    "import pandas as pd\n",
    "import matplotlib.pyplot as plt\n",
    "\n",
    "import itertools\n",
    "\n",
    "import tensorflow as tf\n",
    "from tensorflow.keras.models import Sequential\n",
    "from tensorflow.keras.layers import Input, SimpleRNN, Conv1D, Conv2D, Flatten, Dense"
   ]
  },
  {
   "cell_type": "markdown",
   "id": "860f77af-ded0-4e4f-acb1-62fbb1cc0691",
   "metadata": {
    "tags": []
   },
   "source": [
    "# RNN vs Conv1D"
   ]
  },
  {
   "cell_type": "code",
   "execution_count": 3,
   "id": "e483dee1-ee32-42c5-851c-9b7e1bc354d2",
   "metadata": {},
   "outputs": [],
   "source": [
    "rnn = Sequential([\n",
    "    Input(shape=(50, 5)),  # [batchsize=None, timesteps=50, features=5]\n",
    "    \n",
    "    SimpleRNN(64, return_sequences=True),  # timesteps remain 50, each RNN returns an output\n",
    "    SimpleRNN(64, return_sequences=True),\n",
    "    SimpleRNN(32, return_sequences=True),\n",
    "    Flatten(),\n",
    "    \n",
    "    Dense(42, activation='relu'),\n",
    "    Dense(1000, activation='softmax'),\n",
    "])"
   ]
  },
  {
   "cell_type": "code",
   "execution_count": 4,
   "id": "fa4010d0-b799-4120-973c-c314094634b2",
   "metadata": {},
   "outputs": [
    {
     "name": "stdout",
     "output_type": "stream",
     "text": [
      "Model: \"sequential\"\n",
      "_________________________________________________________________\n",
      " Layer (type)                Output Shape              Param #   \n",
      "=================================================================\n",
      " simple_rnn (SimpleRNN)      (None, 50, 64)            4480      \n",
      "                                                                 \n",
      " simple_rnn_1 (SimpleRNN)    (None, 50, 64)            8256      \n",
      "                                                                 \n",
      " simple_rnn_2 (SimpleRNN)    (None, 50, 32)            3104      \n",
      "                                                                 \n",
      " flatten (Flatten)           (None, 1600)              0         \n",
      "                                                                 \n",
      " dense (Dense)               (None, 42)                67242     \n",
      "                                                                 \n",
      " dense_1 (Dense)             (None, 1000)              43000     \n",
      "                                                                 \n",
      "=================================================================\n",
      "Total params: 126,082\n",
      "Trainable params: 126,082\n",
      "Non-trainable params: 0\n",
      "_________________________________________________________________\n"
     ]
    }
   ],
   "source": [
    "rnn.summary()"
   ]
  },
  {
   "cell_type": "code",
   "execution_count": 5,
   "id": "ae64c94c-b30f-41ac-97ab-d2208c1c2bc7",
   "metadata": {},
   "outputs": [],
   "source": [
    "conv_nn = Sequential([\n",
    "    Input(shape=(50, 5)),\n",
    "    \n",
    "    Conv1D(64, kernel_size=3, activation='relu'),\n",
    "    Conv1D(64, kernel_size=3, activation='relu'),\n",
    "    Conv1D(32, kernel_size=3, activation='relu'),\n",
    "    Flatten(),\n",
    "    \n",
    "    Dense(42, activation='relu'),\n",
    "    Dense(1000, activation='softmax'),\n",
    "])"
   ]
  },
  {
   "cell_type": "code",
   "execution_count": 6,
   "id": "4e9f23a8-d362-4180-9919-68326bf1adf2",
   "metadata": {
    "tags": []
   },
   "outputs": [
    {
     "name": "stdout",
     "output_type": "stream",
     "text": [
      "Model: \"sequential_1\"\n",
      "_________________________________________________________________\n",
      " Layer (type)                Output Shape              Param #   \n",
      "=================================================================\n",
      " conv1d (Conv1D)             (None, 48, 64)            1024      \n",
      "                                                                 \n",
      " conv1d_1 (Conv1D)           (None, 46, 64)            12352     \n",
      "                                                                 \n",
      " conv1d_2 (Conv1D)           (None, 44, 32)            6176      \n",
      "                                                                 \n",
      " flatten_1 (Flatten)         (None, 1408)              0         \n",
      "                                                                 \n",
      " dense_2 (Dense)             (None, 42)                59178     \n",
      "                                                                 \n",
      " dense_3 (Dense)             (None, 1000)              43000     \n",
      "                                                                 \n",
      "=================================================================\n",
      "Total params: 121,730\n",
      "Trainable params: 121,730\n",
      "Non-trainable params: 0\n",
      "_________________________________________________________________\n"
     ]
    }
   ],
   "source": [
    "conv_nn.summary()"
   ]
  }
 ],
 "metadata": {
  "kernelspec": {
   "display_name": "Python 3 (ipykernel)",
   "language": "python",
   "name": "python3"
  },
  "language_info": {
   "codemirror_mode": {
    "name": "ipython",
    "version": 3
   },
   "file_extension": ".py",
   "mimetype": "text/x-python",
   "name": "python",
   "nbconvert_exporter": "python",
   "pygments_lexer": "ipython3",
   "version": "3.9.0"
  }
 },
 "nbformat": 4,
 "nbformat_minor": 5
}
