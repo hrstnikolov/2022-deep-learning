{
 "cells": [
  {
   "cell_type": "code",
   "execution_count": 1,
   "id": "f0ba60c8-d07b-4d50-b87d-3f3626e2ab1f",
   "metadata": {},
   "outputs": [],
   "source": [
    "%matplotlib inline"
   ]
  },
  {
   "cell_type": "code",
   "execution_count": 52,
   "id": "573b9a76-cf96-47eb-a4ce-1fbabbcd455f",
   "metadata": {},
   "outputs": [],
   "source": [
    "import numpy as np\n",
    "import pandas as pd\n",
    "import matplotlib.pyplot as plt\n",
    "\n",
    "import itertools\n",
    "\n",
    "import tensorflow as tf\n",
    "from tensorflow.keras.models import Sequential\n",
    "from tensorflow.keras.layers import Input, SimpleRNN, Conv1D, Flatten, Dense"
   ]
  },
  {
   "cell_type": "markdown",
   "id": "860f77af-ded0-4e4f-acb1-62fbb1cc0691",
   "metadata": {
    "tags": []
   },
   "source": [
    "# Title"
   ]
  },
  {
   "cell_type": "markdown",
   "id": "acaa9989-3ec2-44e7-a516-eda9dca88573",
   "metadata": {
    "tags": []
   },
   "source": [
    "## Heading\n",
    "\n",
    "кодиране на входни данни"
   ]
  },
  {
   "cell_type": "code",
   "execution_count": 3,
   "id": "e483dee1-ee32-42c5-851c-9b7e1bc354d2",
   "metadata": {},
   "outputs": [],
   "source": [
    "rnn = Sequential([\n",
    "    Input(shape=(50, 5)),\n",
    "    \n",
    "    SimpleRNN(64, return_sequences=True),\n",
    "    SimpleRNN(64, return_sequences=True),\n",
    "    SimpleRNN(32, return_sequences=True),\n",
    "    Flatten(),\n",
    "    \n",
    "    Dense(42, activation='relu'),\n",
    "    Dense(1000, activation='softmax'),\n",
    "])"
   ]
  },
  {
   "cell_type": "code",
   "execution_count": 4,
   "id": "fa4010d0-b799-4120-973c-c314094634b2",
   "metadata": {},
   "outputs": [
    {
     "name": "stdout",
     "output_type": "stream",
     "text": [
      "Model: \"sequential\"\n",
      "_________________________________________________________________\n",
      " Layer (type)                Output Shape              Param #   \n",
      "=================================================================\n",
      " simple_rnn (SimpleRNN)      (None, 50, 64)            4480      \n",
      "                                                                 \n",
      " simple_rnn_1 (SimpleRNN)    (None, 50, 64)            8256      \n",
      "                                                                 \n",
      " simple_rnn_2 (SimpleRNN)    (None, 50, 32)            3104      \n",
      "                                                                 \n",
      " flatten (Flatten)           (None, 1600)              0         \n",
      "                                                                 \n",
      " dense (Dense)               (None, 42)                67242     \n",
      "                                                                 \n",
      " dense_1 (Dense)             (None, 1000)              43000     \n",
      "                                                                 \n",
      "=================================================================\n",
      "Total params: 126,082\n",
      "Trainable params: 126,082\n",
      "Non-trainable params: 0\n",
      "_________________________________________________________________\n"
     ]
    }
   ],
   "source": [
    "rnn.summary()"
   ]
  },
  {
   "cell_type": "code",
   "execution_count": 9,
   "id": "ae64c94c-b30f-41ac-97ab-d2208c1c2bc7",
   "metadata": {},
   "outputs": [],
   "source": [
    "conv_nn = Sequential([\n",
    "    Input(shape=(50, 5)),\n",
    "    \n",
    "    Conv1D(64, kernel_size=3, activation='relu'),\n",
    "    Conv1D(64, kernel_size=3, activation='relu'),\n",
    "    Conv1D(32, kernel_size=3, activation='relu'),\n",
    "    Flatten(),\n",
    "    \n",
    "    Dense(42, activation='relu'),\n",
    "    Dense(1000, activation='softmax'),\n",
    "])"
   ]
  },
  {
   "cell_type": "code",
   "execution_count": 10,
   "id": "4e9f23a8-d362-4180-9919-68326bf1adf2",
   "metadata": {},
   "outputs": [
    {
     "name": "stdout",
     "output_type": "stream",
     "text": [
      "Model: \"sequential_1\"\n",
      "_________________________________________________________________\n",
      " Layer (type)                Output Shape              Param #   \n",
      "=================================================================\n",
      " conv1d (Conv1D)             (None, 48, 64)            1024      \n",
      "                                                                 \n",
      " conv1d_1 (Conv1D)           (None, 46, 64)            12352     \n",
      "                                                                 \n",
      " conv1d_2 (Conv1D)           (None, 44, 32)            6176      \n",
      "                                                                 \n",
      " flatten_1 (Flatten)         (None, 1408)              0         \n",
      "                                                                 \n",
      " dense_2 (Dense)             (None, 42)                59178     \n",
      "                                                                 \n",
      " dense_3 (Dense)             (None, 1000)              43000     \n",
      "                                                                 \n",
      "=================================================================\n",
      "Total params: 121,730\n",
      "Trainable params: 121,730\n",
      "Non-trainable params: 0\n",
      "_________________________________________________________________\n"
     ]
    }
   ],
   "source": [
    "conv_nn.summary()"
   ]
  },
  {
   "cell_type": "code",
   "execution_count": 54,
   "id": "be375ed0-be80-4d78-a994-71b91e72051e",
   "metadata": {},
   "outputs": [],
   "source": [
    "a = np.arange(9).reshape(3,3)\n",
    "a = tf.Variable(a, dtype=tf.float32)\n",
    "a = tf.expand_dims(a, 0)"
   ]
  },
  {
   "cell_type": "code",
   "execution_count": 55,
   "id": "8b81b88c-1ff5-4283-8a07-3a8b0afb5084",
   "metadata": {},
   "outputs": [
    {
     "data": {
      "text/plain": [
       "<tf.Tensor: shape=(1, 3, 3), dtype=float32, numpy=\n",
       "array([[[0., 1., 2.],\n",
       "        [3., 4., 5.],\n",
       "        [6., 7., 8.]]], dtype=float32)>"
      ]
     },
     "execution_count": 55,
     "metadata": {},
     "output_type": "execute_result"
    }
   ],
   "source": [
    "a"
   ]
  },
  {
   "cell_type": "code",
   "execution_count": 59,
   "id": "ced44d38-a7ba-44e9-8fef-0feb85eb9a3c",
   "metadata": {},
   "outputs": [],
   "source": [
    "def create_const_conv(filters, size, weight, bias):\n",
    "    \"\"\"\n",
    "    Create 1d convolution layer with constant weights and biases.\n",
    "    \"\"\"\n",
    "    kernel_initializer = tf.keras.initializers.Constant(value=weight)\n",
    "    bias_initializer = tf.keras.initializers.Constant(value=bias)\n",
    "\n",
    "    conv1d = Conv1D(\n",
    "        filters=filters,\n",
    "        kernel_size=size, \n",
    "        kernel_initializer=kernel_initializer, \n",
    "        bias_initializer=bias_initializer,\n",
    "    )\n",
    "    \n",
    "    return conv1d"
   ]
  },
  {
   "cell_type": "code",
   "execution_count": 64,
   "id": "b9bc08b9-f856-4a8c-b415-f53145d8ac7b",
   "metadata": {},
   "outputs": [
    {
     "name": "stdout",
     "output_type": "stream",
     "text": [
      "--------------------------------------------------------------------------------\n",
      "n_filters = 1, kernel_size = 1, weights = 1, biases = 0\n",
      "[[[ 3.]\n",
      "  [12.]\n",
      "  [21.]]]\n",
      "--------------------------------------------------------------------------------\n",
      "n_filters = 1, kernel_size = 1, weights = 1, biases = 1\n",
      "[[[ 4.]\n",
      "  [13.]\n",
      "  [22.]]]\n",
      "--------------------------------------------------------------------------------\n",
      "n_filters = 1, kernel_size = 1, weights = 2, biases = 0\n",
      "[[[ 6.]\n",
      "  [24.]\n",
      "  [42.]]]\n",
      "--------------------------------------------------------------------------------\n",
      "n_filters = 1, kernel_size = 1, weights = 2, biases = 1\n",
      "[[[ 7.]\n",
      "  [25.]\n",
      "  [43.]]]\n",
      "--------------------------------------------------------------------------------\n",
      "n_filters = 1, kernel_size = 3, weights = 1, biases = 0\n",
      "[[[36.]]]\n",
      "--------------------------------------------------------------------------------\n",
      "n_filters = 1, kernel_size = 3, weights = 1, biases = 1\n",
      "[[[37.]]]\n",
      "--------------------------------------------------------------------------------\n",
      "n_filters = 1, kernel_size = 3, weights = 2, biases = 0\n",
      "[[[72.]]]\n",
      "--------------------------------------------------------------------------------\n",
      "n_filters = 1, kernel_size = 3, weights = 2, biases = 1\n",
      "[[[73.]]]\n",
      "--------------------------------------------------------------------------------\n",
      "n_filters = 2, kernel_size = 1, weights = 1, biases = 0\n",
      "[[[ 3.  3.]\n",
      "  [12. 12.]\n",
      "  [21. 21.]]]\n",
      "--------------------------------------------------------------------------------\n",
      "n_filters = 2, kernel_size = 1, weights = 1, biases = 1\n",
      "[[[ 4.  4.]\n",
      "  [13. 13.]\n",
      "  [22. 22.]]]\n",
      "--------------------------------------------------------------------------------\n",
      "n_filters = 2, kernel_size = 1, weights = 2, biases = 0\n",
      "[[[ 6.  6.]\n",
      "  [24. 24.]\n",
      "  [42. 42.]]]\n",
      "--------------------------------------------------------------------------------\n",
      "n_filters = 2, kernel_size = 1, weights = 2, biases = 1\n",
      "[[[ 7.  7.]\n",
      "  [25. 25.]\n",
      "  [43. 43.]]]\n",
      "--------------------------------------------------------------------------------\n",
      "n_filters = 2, kernel_size = 3, weights = 1, biases = 0\n",
      "[[[36. 36.]]]\n",
      "--------------------------------------------------------------------------------\n",
      "n_filters = 2, kernel_size = 3, weights = 1, biases = 1\n",
      "[[[37. 37.]]]\n",
      "--------------------------------------------------------------------------------\n",
      "n_filters = 2, kernel_size = 3, weights = 2, biases = 0\n",
      "[[[72. 72.]]]\n",
      "--------------------------------------------------------------------------------\n",
      "n_filters = 2, kernel_size = 3, weights = 2, biases = 1\n",
      "[[[73. 73.]]]\n"
     ]
    }
   ],
   "source": [
    "filters = [1, 2] \n",
    "sizes = [1, 3]\n",
    "weights = [1, 2]\n",
    "biases = [0, 1]\n",
    "cartesian_products = itertools.product(filters, sizes, weights, biases)\n",
    "\n",
    "for f, s, w, b in cartesian_products:\n",
    "    print('-' * 80)\n",
    "    print(f'n_filters = {f}, kernel_size = {s}, weights = {w}, biases = {b}')\n",
    "    conv1d = create_const_conv(filters=f, size=s, weight=w, bias=b)\n",
    "    print(conv1d(a).numpy())"
   ]
  },
  {
   "cell_type": "code",
   "execution_count": 53,
   "id": "fcfecc6d-bd1d-4bec-96ef-fb642f274e9a",
   "metadata": {},
   "outputs": [],
   "source": []
  },
  {
   "cell_type": "code",
   "execution_count": null,
   "id": "e90bd454-69f8-4439-9159-34a852a9412b",
   "metadata": {},
   "outputs": [],
   "source": []
  }
 ],
 "metadata": {
  "kernelspec": {
   "display_name": "Python 3 (ipykernel)",
   "language": "python",
   "name": "python3"
  },
  "language_info": {
   "codemirror_mode": {
    "name": "ipython",
    "version": 3
   },
   "file_extension": ".py",
   "mimetype": "text/x-python",
   "name": "python",
   "nbconvert_exporter": "python",
   "pygments_lexer": "ipython3",
   "version": "3.9.0"
  }
 },
 "nbformat": 4,
 "nbformat_minor": 5
}
