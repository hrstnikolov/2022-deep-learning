{
 "cells": [
  {
   "cell_type": "code",
   "execution_count": 1,
   "id": "891322f4-a071-4f18-99ea-2b1781e61258",
   "metadata": {},
   "outputs": [],
   "source": [
    "%matplotlib inline"
   ]
  },
  {
   "cell_type": "code",
   "execution_count": 25,
   "id": "c935cb0c-dcd9-428e-a402-9a855624136c",
   "metadata": {},
   "outputs": [],
   "source": [
    "import numpy as np\n",
    "import pandas as pd\n",
    "import matplotlib.pyplot as plt\n",
    "\n",
    "import collections\n",
    "import re\n",
    "import nltk\n",
    "\n",
    "from sklearn.datasets import fetch_20newsgroups\n",
    "from sklearn.feature_extraction.text import TfidfVectorizer"
   ]
  },
  {
   "cell_type": "markdown",
   "id": "e6bbbd21-6c6d-4ce3-b1b2-d9ef2b83272c",
   "metadata": {
    "tags": []
   },
   "source": [
    "# Tfidf (recap)"
   ]
  },
  {
   "cell_type": "markdown",
   "id": "69f7f93b-f7e1-405f-b803-124edf3d1b0f",
   "metadata": {
    "tags": []
   },
   "source": [
    "## Load 'news' dataset\n",
    "\n",
    "Описание:\n",
    "- постове в групи за дискусия\n",
    "- 20 теми напр. автомобили, медицина, оръжия, MS Windows...\n",
    "- 18,000 записа"
   ]
  },
  {
   "cell_type": "code",
   "execution_count": 37,
   "id": "692be558-13b6-4369-8f68-2979e238bb0d",
   "metadata": {},
   "outputs": [
    {
     "data": {
      "text/plain": [
       "(11314, 11314)"
      ]
     },
     "execution_count": 37,
     "metadata": {},
     "output_type": "execute_result"
    }
   ],
   "source": [
    "news_raw = fetch_20newsgroups()\n",
    "\n",
    "news_data = news_raw.data\n",
    "news_target = news_raw.target\n",
    "news_target_names = news_raw.target_names\n",
    "\n",
    "len(news_data), len(news_target)"
   ]
  },
  {
   "cell_type": "code",
   "execution_count": 27,
   "id": "2a335a54-18c5-44ca-b3ac-dd83852fb807",
   "metadata": {},
   "outputs": [
    {
     "name": "stdout",
     "output_type": "stream",
     "text": [
      "IN:\n",
      "--------------------------------------------------------------------------------\n",
      "From: lerxst@wam.umd.edu (where's my thing)\n",
      "Subject: WHAT car is this!?\n",
      "Nntp-Posting-Host: rac3.wam.umd.edu\n",
      "Organization: University of Maryland, College Park\n",
      "Lines: 15\n",
      "\n",
      " I was wondering if anyone out there could enlighten me on this car I saw\n",
      "the other day. It was a 2-door sports car, looked to be from the late 60s/\n",
      "early 70s. It was called a Bricklin. The doors were really small. In addition,\n",
      "the front bumper was separate from the rest of the body. This is \n",
      "all I know. If anyone can tellme a model name, engine specs, years\n",
      "of production, where this car is made, history, or whatever info you\n",
      "have on this funky looking car, please e-mail.\n",
      "\n",
      "Thanks,\n",
      "- IL\n",
      "   ---- brought to you by your neighborhood Lerxst ----\n",
      "\n",
      "\n",
      "\n",
      "\n",
      "\n",
      "OUT:\n",
      "--------------------------------------------------------------------------------\n",
      "rec.autos\n",
      "\n",
      "\n",
      "\n",
      "\n"
     ]
    }
   ],
   "source": [
    "for i in range(1):\n",
    "    print('IN:')\n",
    "    print('-' * 80)\n",
    "    print(news_data[i])\n",
    "\n",
    "    print('OUT:')\n",
    "    print('-' * 80)\n",
    "    print(news_target_names[news_target[i]])\n",
    "    \n",
    "    print('\\n' * 3 )"
   ]
  },
  {
   "cell_type": "code",
   "execution_count": 28,
   "id": "a44ae5bc-dcfd-4000-8036-e8e710b055ed",
   "metadata": {},
   "outputs": [
    {
     "data": {
      "text/plain": [
       "['alt.atheism',\n",
       " 'comp.graphics',\n",
       " 'comp.os.ms-windows.misc',\n",
       " 'comp.sys.ibm.pc.hardware',\n",
       " 'comp.sys.mac.hardware']"
      ]
     },
     "execution_count": 28,
     "metadata": {},
     "output_type": "execute_result"
    }
   ],
   "source": [
    "news_target_names[:5]"
   ]
  },
  {
   "cell_type": "code",
   "execution_count": null,
   "id": "78ef911b-27c8-4c9f-8979-bda8b3947324",
   "metadata": {},
   "outputs": [
    {
     "data": {
      "text/plain": [
       "array([7, 4, 4, ..., 3, 1, 8])"
      ]
     },
     "execution_count": 29,
     "metadata": {},
     "output_type": "execute_result"
    }
   ],
   "source": [
    "news_target"
   ]
  },
  {
   "cell_type": "code",
   "execution_count": 30,
   "id": "63036109-587d-41c5-829f-974431196fb6",
   "metadata": {},
   "outputs": [
    {
     "data": {
      "text/plain": [
       "11314"
      ]
     },
     "execution_count": 30,
     "metadata": {},
     "output_type": "execute_result"
    }
   ],
   "source": [
    "len(news_data)"
   ]
  },
  {
   "cell_type": "markdown",
   "id": "4f555f1f-4be3-4dd5-b76a-f67c91ac8050",
   "metadata": {
    "tags": []
   },
   "source": [
    "## Vectorize using TFIDF"
   ]
  },
  {
   "cell_type": "code",
   "execution_count": 31,
   "id": "0bd6d3ae-9180-4fd1-a61b-d28b668e0cea",
   "metadata": {},
   "outputs": [],
   "source": [
    "stopwords = nltk.corpus.stopwords.words(fileids=['english',])"
   ]
  },
  {
   "cell_type": "code",
   "execution_count": 32,
   "id": "277e13b2-52b8-4780-9b40-cbc87d730934",
   "metadata": {},
   "outputs": [],
   "source": [
    "vectorizer = TfidfVectorizer(\n",
    "    input = \"content\", \n",
    "    analyzer = \"word\", \n",
    "    ngram_range = (1, 4), \n",
    "    min_df = 0, \n",
    "    stop_words = stopwords, \n",
    "    sublinear_tf = True,\n",
    ")"
   ]
  },
  {
   "cell_type": "code",
   "execution_count": 33,
   "id": "059a1cbd-2d03-4d97-9370-303e2ddb096f",
   "metadata": {},
   "outputs": [
    {
     "data": {
      "text/plain": [
       "<11314x4264838 sparse matrix of type '<class 'numpy.float64'>'\n",
       "\twith 7309620 stored elements in Compressed Sparse Row format>"
      ]
     },
     "execution_count": 33,
     "metadata": {},
     "output_type": "execute_result"
    }
   ],
   "source": [
    "matrix = tfidf.fit_transform(news_data)\n",
    "matrix"
   ]
  },
  {
   "cell_type": "code",
   "execution_count": 34,
   "id": "d04107cc-7086-4e9f-a4f2-e478edbd1db3",
   "metadata": {},
   "outputs": [
    {
     "ename": "NotFittedError",
     "evalue": "Vocabulary not fitted or provided",
     "output_type": "error",
     "traceback": [
      "\u001b[1;31m---------------------------------------------------------------------------\u001b[0m",
      "\u001b[1;31mNotFittedError\u001b[0m                            Traceback (most recent call last)",
      "\u001b[1;32m~\\AppData\\Local\\Temp\\ipykernel_1956\\2339715825.py\u001b[0m in \u001b[0;36m<module>\u001b[1;34m\u001b[0m\n\u001b[1;32m----> 1\u001b[1;33m \u001b[0mfeature_names\u001b[0m \u001b[1;33m=\u001b[0m \u001b[0mvectorizer\u001b[0m\u001b[1;33m.\u001b[0m\u001b[0mget_feature_names_out\u001b[0m\u001b[1;33m(\u001b[0m\u001b[1;33m)\u001b[0m\u001b[1;33m\u001b[0m\u001b[1;33m\u001b[0m\u001b[0m\n\u001b[0m\u001b[0;32m      2\u001b[0m \u001b[0mfeature_names\u001b[0m\u001b[1;33m.\u001b[0m\u001b[0mshape\u001b[0m\u001b[1;33m\u001b[0m\u001b[1;33m\u001b[0m\u001b[0m\n",
      "\u001b[1;32m~\\Anaconda3\\envs\\deep_learning\\lib\\site-packages\\sklearn\\feature_extraction\\text.py\u001b[0m in \u001b[0;36mget_feature_names_out\u001b[1;34m(self, input_features)\u001b[0m\n\u001b[0;32m   1471\u001b[0m             \u001b[0mTransformed\u001b[0m \u001b[0mfeature\u001b[0m \u001b[0mnames\u001b[0m\u001b[1;33m.\u001b[0m\u001b[1;33m\u001b[0m\u001b[1;33m\u001b[0m\u001b[0m\n\u001b[0;32m   1472\u001b[0m         \"\"\"\n\u001b[1;32m-> 1473\u001b[1;33m         \u001b[0mself\u001b[0m\u001b[1;33m.\u001b[0m\u001b[0m_check_vocabulary\u001b[0m\u001b[1;33m(\u001b[0m\u001b[1;33m)\u001b[0m\u001b[1;33m\u001b[0m\u001b[1;33m\u001b[0m\u001b[0m\n\u001b[0m\u001b[0;32m   1474\u001b[0m         return np.asarray(\n\u001b[0;32m   1475\u001b[0m             \u001b[1;33m[\u001b[0m\u001b[0mt\u001b[0m \u001b[1;32mfor\u001b[0m \u001b[0mt\u001b[0m\u001b[1;33m,\u001b[0m \u001b[0mi\u001b[0m \u001b[1;32min\u001b[0m \u001b[0msorted\u001b[0m\u001b[1;33m(\u001b[0m\u001b[0mself\u001b[0m\u001b[1;33m.\u001b[0m\u001b[0mvocabulary_\u001b[0m\u001b[1;33m.\u001b[0m\u001b[0mitems\u001b[0m\u001b[1;33m(\u001b[0m\u001b[1;33m)\u001b[0m\u001b[1;33m,\u001b[0m \u001b[0mkey\u001b[0m\u001b[1;33m=\u001b[0m\u001b[0mitemgetter\u001b[0m\u001b[1;33m(\u001b[0m\u001b[1;36m1\u001b[0m\u001b[1;33m)\u001b[0m\u001b[1;33m)\u001b[0m\u001b[1;33m]\u001b[0m\u001b[1;33m,\u001b[0m\u001b[1;33m\u001b[0m\u001b[1;33m\u001b[0m\u001b[0m\n",
      "\u001b[1;32m~\\Anaconda3\\envs\\deep_learning\\lib\\site-packages\\sklearn\\feature_extraction\\text.py\u001b[0m in \u001b[0;36m_check_vocabulary\u001b[1;34m(self)\u001b[0m\n\u001b[0;32m    508\u001b[0m             \u001b[0mself\u001b[0m\u001b[1;33m.\u001b[0m\u001b[0m_validate_vocabulary\u001b[0m\u001b[1;33m(\u001b[0m\u001b[1;33m)\u001b[0m\u001b[1;33m\u001b[0m\u001b[1;33m\u001b[0m\u001b[0m\n\u001b[0;32m    509\u001b[0m             \u001b[1;32mif\u001b[0m \u001b[1;32mnot\u001b[0m \u001b[0mself\u001b[0m\u001b[1;33m.\u001b[0m\u001b[0mfixed_vocabulary_\u001b[0m\u001b[1;33m:\u001b[0m\u001b[1;33m\u001b[0m\u001b[1;33m\u001b[0m\u001b[0m\n\u001b[1;32m--> 510\u001b[1;33m                 \u001b[1;32mraise\u001b[0m \u001b[0mNotFittedError\u001b[0m\u001b[1;33m(\u001b[0m\u001b[1;34m\"Vocabulary not fitted or provided\"\u001b[0m\u001b[1;33m)\u001b[0m\u001b[1;33m\u001b[0m\u001b[1;33m\u001b[0m\u001b[0m\n\u001b[0m\u001b[0;32m    511\u001b[0m \u001b[1;33m\u001b[0m\u001b[0m\n\u001b[0;32m    512\u001b[0m         \u001b[1;32mif\u001b[0m \u001b[0mlen\u001b[0m\u001b[1;33m(\u001b[0m\u001b[0mself\u001b[0m\u001b[1;33m.\u001b[0m\u001b[0mvocabulary_\u001b[0m\u001b[1;33m)\u001b[0m \u001b[1;33m==\u001b[0m \u001b[1;36m0\u001b[0m\u001b[1;33m:\u001b[0m\u001b[1;33m\u001b[0m\u001b[1;33m\u001b[0m\u001b[0m\n",
      "\u001b[1;31mNotFittedError\u001b[0m: Vocabulary not fitted or provided"
     ]
    }
   ],
   "source": [
    "feature_names = vectorizer.get_feature_names_out()\n",
    "feature_names.shape"
   ]
  },
  {
   "cell_type": "code",
   "execution_count": 38,
   "id": "720f4f5e-5004-4dd5-a64c-44f8b60a794b",
   "metadata": {},
   "outputs": [
    {
     "data": {
      "text/html": [
       "<div>\n",
       "<style scoped>\n",
       "    .dataframe tbody tr th:only-of-type {\n",
       "        vertical-align: middle;\n",
       "    }\n",
       "\n",
       "    .dataframe tbody tr th {\n",
       "        vertical-align: top;\n",
       "    }\n",
       "\n",
       "    .dataframe thead th {\n",
       "        text-align: right;\n",
       "    }\n",
       "</style>\n",
       "<table border=\"1\" class=\"dataframe\">\n",
       "  <thead>\n",
       "    <tr style=\"text-align: right;\">\n",
       "      <th></th>\n",
       "      <th>token</th>\n",
       "      <th>tfidf</th>\n",
       "    </tr>\n",
       "  </thead>\n",
       "  <tbody>\n",
       "    <tr>\n",
       "      <th>265</th>\n",
       "      <td>lerxst</td>\n",
       "      <td>0.117097</td>\n",
       "    </tr>\n",
       "    <tr>\n",
       "      <th>264</th>\n",
       "      <td>wam</td>\n",
       "      <td>0.085947</td>\n",
       "    </tr>\n",
       "    <tr>\n",
       "      <th>202</th>\n",
       "      <td>wam umd</td>\n",
       "      <td>0.085947</td>\n",
       "    </tr>\n",
       "    <tr>\n",
       "      <th>134</th>\n",
       "      <td>wam umd edu</td>\n",
       "      <td>0.085947</td>\n",
       "    </tr>\n",
       "    <tr>\n",
       "      <th>259</th>\n",
       "      <td>car</td>\n",
       "      <td>0.077798</td>\n",
       "    </tr>\n",
       "    <tr>\n",
       "      <th>...</th>\n",
       "      <td>...</td>\n",
       "      <td>...</td>\n",
       "    </tr>\n",
       "    <tr>\n",
       "      <th>256</th>\n",
       "      <td>host</td>\n",
       "      <td>0.013847</td>\n",
       "    </tr>\n",
       "    <tr>\n",
       "      <th>257</th>\n",
       "      <td>posting</td>\n",
       "      <td>0.013475</td>\n",
       "    </tr>\n",
       "    <tr>\n",
       "      <th>254</th>\n",
       "      <td>organization</td>\n",
       "      <td>0.007790</td>\n",
       "    </tr>\n",
       "    <tr>\n",
       "      <th>249</th>\n",
       "      <td>lines</td>\n",
       "      <td>0.007513</td>\n",
       "    </tr>\n",
       "    <tr>\n",
       "      <th>260</th>\n",
       "      <td>subject</td>\n",
       "      <td>0.007489</td>\n",
       "    </tr>\n",
       "  </tbody>\n",
       "</table>\n",
       "<p>266 rows × 2 columns</p>\n",
       "</div>"
      ],
      "text/plain": [
       "            token     tfidf\n",
       "265        lerxst  0.117097\n",
       "264           wam  0.085947\n",
       "202       wam umd  0.085947\n",
       "134   wam umd edu  0.085947\n",
       "259           car  0.077798\n",
       "..            ...       ...\n",
       "256          host  0.013847\n",
       "257       posting  0.013475\n",
       "254  organization  0.007790\n",
       "249         lines  0.007513\n",
       "260       subject  0.007489\n",
       "\n",
       "[266 rows x 2 columns]"
      ]
     },
     "execution_count": 38,
     "metadata": {},
     "output_type": "execute_result"
    }
   ],
   "source": [
    "doc = 0 # Change the index to view another document\n",
    "\n",
    "feature_index = matrix[doc, :].nonzero()[1]\n",
    "tfidf_scores = zip(feature_index, [matrix[doc, x] for x in feature_index])\n",
    "\n",
    "scores = [(feature_names[i], s) for (i, s) in tfidf_scores]\n",
    "scores = pd.DataFrame(scores, columns=['token', 'tfidf'])\n",
    "\n",
    "scores_sorted = scores.sort_values('tfidf', ascending=False)\n",
    "scores_sorted"
   ]
  },
  {
   "cell_type": "code",
   "execution_count": 45,
   "id": "01e650ba-096c-4933-946e-2a8851a84cd5",
   "metadata": {},
   "outputs": [
    {
     "data": {
      "text/plain": [
       "(266,)"
      ]
     },
     "execution_count": 45,
     "metadata": {},
     "output_type": "execute_result"
    }
   ],
   "source": [
    "# tf-idf scores for the first document\n",
    "s = matrix[0, :].toarray()\n",
    "s[s != 0].shape"
   ]
  },
  {
   "cell_type": "code",
   "execution_count": 47,
   "id": "95d9b74f-abe3-4bac-95b8-d213461cd33e",
   "metadata": {},
   "outputs": [
    {
     "data": {
      "text/plain": [
       "(array([0, 0, 0, 0, 0, 0, 0, 0, 0, 0, 0, 0, 0, 0, 0, 0, 0, 0, 0, 0, 0, 0,\n",
       "        0, 0, 0, 0, 0, 0, 0, 0, 0, 0, 0, 0, 0, 0, 0, 0, 0, 0, 0, 0, 0, 0,\n",
       "        0, 0, 0, 0, 0, 0, 0, 0, 0, 0, 0, 0, 0, 0, 0, 0, 0, 0, 0, 0, 0, 0,\n",
       "        0, 0, 0, 0, 0, 0, 0, 0, 0, 0, 0, 0, 0, 0, 0, 0, 0, 0, 0, 0, 0, 0,\n",
       "        0, 0, 0, 0, 0, 0, 0, 0, 0, 0, 0, 0, 0, 0, 0, 0, 0, 0, 0, 0, 0, 0,\n",
       "        0, 0, 0, 0, 0, 0, 0, 0, 0, 0, 0, 0, 0, 0, 0, 0, 0, 0, 0, 0, 0, 0,\n",
       "        0, 0, 0, 0, 0, 0, 0, 0, 0, 0, 0, 0, 0, 0, 0, 0, 0, 0, 0, 0, 0, 0,\n",
       "        0, 0, 0, 0, 0, 0, 0, 0, 0, 0, 0, 0, 0, 0, 0, 0, 0, 0, 0, 0, 0, 0,\n",
       "        0, 0, 0, 0, 0, 0, 0, 0, 0, 0, 0, 0, 0, 0, 0, 0, 0, 0, 0, 0, 0, 0,\n",
       "        0, 0, 0, 0, 0, 0, 0, 0, 0, 0, 0, 0, 0, 0, 0, 0, 0, 0, 0, 0, 0, 0,\n",
       "        0, 0, 0, 0, 0, 0, 0, 0, 0, 0, 0, 0, 0, 0, 0, 0, 0, 0, 0, 0, 0, 0,\n",
       "        0, 0, 0, 0, 0, 0, 0, 0, 0, 0, 0, 0, 0, 0, 0, 0, 0, 0, 0, 0, 0, 0,\n",
       "        0, 0], dtype=int64),\n",
       " array([  69990,   73411,   73412,   73413,  271586,  271610,  271611,\n",
       "         271612,  294852,  294859,  294860,  294861,  409663,  409902,\n",
       "         409903,  409904,  509762,  510304,  510318,  510319,  513439,\n",
       "         513440,  513441,  745321,  745791,  745792,  745793,  773093,\n",
       "         773094,  773095,  773096,  778944,  779338,  779339,  792412,\n",
       "         792446,  792447,  792448,  826069,  826400,  826401,  826402,\n",
       "         844365,  845767,  845768,  845769,  845806,  845809,  845810,\n",
       "         846022,  846023,  846024,  846187,  846188,  846190,  846453,\n",
       "         846456,  846457,  971769,  972385,  972392,  972398, 1088336,\n",
       "        1090115, 1090116, 1090117, 1168121, 1168879, 1168880, 1168881,\n",
       "        1293602, 1294147, 1294148, 1294149, 1294257, 1294411, 1294412,\n",
       "        1294413, 1331664, 1331784, 1331785, 1331786, 1346955, 1361723,\n",
       "        1361966, 1361981, 1367560, 1367563, 1367564, 1409953, 1410644,\n",
       "        1410645, 1410646, 1414297, 1414298, 1414299, 1414300, 1642143,\n",
       "        1642267, 1642278, 1642279, 1654234, 1654243, 1654244, 1654245,\n",
       "        1867453, 1868776, 1868777, 1868778, 1891537, 1895687, 1895688,\n",
       "        1895689, 1942488, 1942635, 1942636, 1942637, 1983472, 1984139,\n",
       "        1984140, 1984141, 2139166, 2139571, 2139602, 2139603, 2180274,\n",
       "        2180374, 2180377, 2180378, 2214242, 2214246, 2214247, 2214248,\n",
       "        2256523, 2258943, 2259334, 2259335, 2305422, 2305733, 2305734,\n",
       "        2305735, 2306156, 2306530, 2306533, 2306534, 2347493, 2348992,\n",
       "        2348995, 2348996, 2354241, 2357498, 2357523, 2357524, 2399555,\n",
       "        2399606, 2399607, 2399610, 2507441, 2508057, 2508058, 2508059,\n",
       "        2580004, 2580784, 2580785, 2580786, 2609704, 2609757, 2649052,\n",
       "        2649063, 2649064, 2650251, 2760167, 2766628, 2766800, 2766803,\n",
       "        2811824, 2812058, 2812072, 2812074, 2914887, 2916368, 2916550,\n",
       "        2916556, 2954514, 2955127, 2957626, 2957627, 3017260, 3017297,\n",
       "        3017298, 3017299, 3098104, 3098105, 3098106, 3098107, 3132814,\n",
       "        3136040, 3136041, 3136042, 3214546, 3214655, 3214656, 3214657,\n",
       "        3312934, 3313247, 3313248, 3313249, 3391326, 3391716, 3391717,\n",
       "        3391718, 3479335, 3479380, 3479381, 3479382, 3535088, 3535379,\n",
       "        3535380, 3535381, 3545713, 3545747, 3545768, 3545769, 3617085,\n",
       "        3619607, 3619622, 3619623, 3730624, 3730625, 3730626, 3730627,\n",
       "        3746896, 3748474, 3748475, 3748476, 3756489, 3759133, 3759134,\n",
       "        3759135, 3904479, 3904480, 3904625, 3904628, 3904666, 3904667,\n",
       "        3920557, 3923142, 3923147, 3923148, 4048164, 4048165, 4048166,\n",
       "        4048189, 4048198, 4095480, 4095874, 4095875, 4095876, 4139002,\n",
       "        4139033, 4139038, 4139040, 4234229, 4237071, 4237072, 4237073],\n",
       "       dtype=int64))"
      ]
     },
     "execution_count": 47,
     "metadata": {},
     "output_type": "execute_result"
    }
   ],
   "source": [
    "s.nonzero()"
   ]
  },
  {
   "cell_type": "markdown",
   "id": "0f329a49-0801-4b66-b882-b2c5d34759c8",
   "metadata": {},
   "source": [
    "## Custom function"
   ]
  },
  {
   "cell_type": "code",
   "execution_count": 17,
   "id": "ad93709a-6d26-481f-a686-d184d50fea9c",
   "metadata": {},
   "outputs": [
    {
     "data": {
      "text/plain": [
       "(0.18548078908228172, 0.19892024684591447)"
      ]
     },
     "execution_count": 17,
     "metadata": {},
     "output_type": "execute_result"
    }
   ],
   "source": [
    "def calculate_tfidf(tf, idf):\n",
    "    return tf * np.log(idf)\n",
    "\n",
    "calculate_tfidf(2/15, 10000/2488), calculate_tfidf(1/15, 10000/506) "
   ]
  },
  {
   "cell_type": "code",
   "execution_count": 18,
   "id": "62a84bd0-0b64-4554-911e-894a5e10c42c",
   "metadata": {},
   "outputs": [
    {
     "data": {
      "text/plain": [
       "0.04296980229618667"
      ]
     },
     "execution_count": 18,
     "metadata": {},
     "output_type": "execute_result"
    }
   ],
   "source": [
    "calculate_tfidf(2/15, 10000/7245)"
   ]
  },
  {
   "cell_type": "code",
   "execution_count": 19,
   "id": "70e25ab9-5e32-4091-893e-e837f613a357",
   "metadata": {},
   "outputs": [
    {
     "data": {
      "text/plain": [
       "0.3056911705794608"
      ]
     },
     "execution_count": 19,
     "metadata": {},
     "output_type": "execute_result"
    }
   ],
   "source": [
    "calculate_tfidf(1/15, 10000/102)"
   ]
  },
  {
   "cell_type": "code",
   "execution_count": 20,
   "id": "cdb0e896-b2db-4095-ad29-3341a60ec581",
   "metadata": {},
   "outputs": [
    {
     "data": {
      "text/plain": [
       "(0.3056911705794608, 1.2227646823178433)"
      ]
     },
     "execution_count": 20,
     "metadata": {},
     "output_type": "execute_result"
    }
   ],
   "source": [
    "calculate_tfidf(1/15, 10000/102), calculate_tfidf(4/15, 10000/102)"
   ]
  },
  {
   "cell_type": "code",
   "execution_count": null,
   "id": "a4438ab1-5152-4cf3-9005-58dfd519b654",
   "metadata": {},
   "outputs": [],
   "source": []
  }
 ],
 "metadata": {
  "kernelspec": {
   "display_name": "Python 3 (ipykernel)",
   "language": "python",
   "name": "python3"
  },
  "language_info": {
   "codemirror_mode": {
    "name": "ipython",
    "version": 3
   },
   "file_extension": ".py",
   "mimetype": "text/x-python",
   "name": "python",
   "nbconvert_exporter": "python",
   "pygments_lexer": "ipython3",
   "version": "3.10.9"
  }
 },
 "nbformat": 4,
 "nbformat_minor": 5
}
