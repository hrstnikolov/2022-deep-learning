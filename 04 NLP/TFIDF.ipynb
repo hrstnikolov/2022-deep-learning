{
 "cells": [
  {
   "cell_type": "code",
   "execution_count": 2,
   "id": "891322f4-a071-4f18-99ea-2b1781e61258",
   "metadata": {},
   "outputs": [],
   "source": [
    "%matplotlib inline"
   ]
  },
  {
   "cell_type": "code",
   "execution_count": 3,
   "id": "c935cb0c-dcd9-428e-a402-9a855624136c",
   "metadata": {},
   "outputs": [],
   "source": [
    "import numpy as np\n",
    "import pandas as pd\n",
    "import matplotlib.pyplot as plt\n",
    "\n",
    "import collections\n",
    "import re\n",
    "import nltk\n",
    "\n",
    "from sklearn.datasets import fetch_20newsgroups\n",
    "from sklearn.feature_extraction.text import TfidfVectorizer"
   ]
  },
  {
   "cell_type": "markdown",
   "id": "e6bbbd21-6c6d-4ce3-b1b2-d9ef2b83272c",
   "metadata": {
    "tags": []
   },
   "source": [
    "# Tfidf (recap)"
   ]
  },
  {
   "cell_type": "markdown",
   "id": "69f7f93b-f7e1-405f-b803-124edf3d1b0f",
   "metadata": {},
   "source": [
    "## Load 'news' dataset"
   ]
  },
  {
   "cell_type": "code",
   "execution_count": 5,
   "id": "692be558-13b6-4369-8f68-2979e238bb0d",
   "metadata": {},
   "outputs": [],
   "source": [
    "news_raw = fetch_20newsgroups()\n",
    "\n",
    "news_data = news_raw.data\n",
    "news_target = news_raw.target\n",
    "news_target_names = news_raw.target_names"
   ]
  },
  {
   "cell_type": "code",
   "execution_count": 21,
   "id": "2a335a54-18c5-44ca-b3ac-dd83852fb807",
   "metadata": {},
   "outputs": [
    {
     "name": "stdout",
     "output_type": "stream",
     "text": [
      "IN:\n",
      "--------------------------------------------------------------------------------\n",
      "From: lerxst@wam.umd.edu (where's my thing)\n",
      "Subject: WHAT car is this!?\n",
      "Nntp-Posting-Host: rac3.wam.umd.edu\n",
      "Organization: University of Maryland, College Park\n",
      "Lines: 15\n",
      "\n",
      " I was wondering if anyone out there could enlighten me on this car I saw\n",
      "the other day. It was a 2-door sports car, looked to be from the late 60s/\n",
      "early 70s. It was called a Bricklin. The doors were really small. In addition,\n",
      "the front bumper was separate from the rest of the body. This is \n",
      "all I know. If anyone can tellme a model name, engine specs, years\n",
      "of production, where this car is made, history, or whatever info you\n",
      "have on this funky looking car, please e-mail.\n",
      "\n",
      "Thanks,\n",
      "- IL\n",
      "   ---- brought to you by your neighborhood Lerxst ----\n",
      "\n",
      "\n",
      "\n",
      "\n",
      "\n",
      "OUT:\n",
      "--------------------------------------------------------------------------------\n",
      "rec.autos\n",
      "\n",
      "\n",
      "\n",
      "\n",
      "IN:\n",
      "--------------------------------------------------------------------------------\n",
      "From: guykuo@carson.u.washington.edu (Guy Kuo)\n",
      "Subject: SI Clock Poll - Final Call\n",
      "Summary: Final call for SI clock reports\n",
      "Keywords: SI,acceleration,clock,upgrade\n",
      "Article-I.D.: shelley.1qvfo9INNc3s\n",
      "Organization: University of Washington\n",
      "Lines: 11\n",
      "NNTP-Posting-Host: carson.u.washington.edu\n",
      "\n",
      "A fair number of brave souls who upgraded their SI clock oscillator have\n",
      "shared their experiences for this poll. Please send a brief message detailing\n",
      "your experiences with the procedure. Top speed attained, CPU rated speed,\n",
      "add on cards and adapters, heat sinks, hour of usage per day, floppy disk\n",
      "functionality with 800 and 1.4 m floppies are especially requested.\n",
      "\n",
      "I will be summarizing in the next two days, so please add to the network\n",
      "knowledge base if you have done the clock upgrade and haven't answered this\n",
      "poll. Thanks.\n",
      "\n",
      "Guy Kuo <guykuo@u.washington.edu>\n",
      "\n",
      "OUT:\n",
      "--------------------------------------------------------------------------------\n",
      "comp.sys.mac.hardware\n",
      "\n",
      "\n",
      "\n",
      "\n"
     ]
    }
   ],
   "source": [
    "for i in range(2):\n",
    "    print('IN:')\n",
    "    print('-' * 80)\n",
    "    print(news_data[i])\n",
    "\n",
    "    print('OUT:')\n",
    "    print('-' * 80)\n",
    "    print(news_target_names[news_target[i]])\n",
    "    \n",
    "    print('\\n' * 3 )"
   ]
  },
  {
   "cell_type": "code",
   "execution_count": 22,
   "id": "a44ae5bc-dcfd-4000-8036-e8e710b055ed",
   "metadata": {},
   "outputs": [
    {
     "data": {
      "text/plain": [
       "['alt.atheism',\n",
       " 'comp.graphics',\n",
       " 'comp.os.ms-windows.misc',\n",
       " 'comp.sys.ibm.pc.hardware',\n",
       " 'comp.sys.mac.hardware',\n",
       " 'comp.windows.x',\n",
       " 'misc.forsale',\n",
       " 'rec.autos',\n",
       " 'rec.motorcycles',\n",
       " 'rec.sport.baseball',\n",
       " 'rec.sport.hockey',\n",
       " 'sci.crypt',\n",
       " 'sci.electronics',\n",
       " 'sci.med',\n",
       " 'sci.space',\n",
       " 'soc.religion.christian',\n",
       " 'talk.politics.guns',\n",
       " 'talk.politics.mideast',\n",
       " 'talk.politics.misc',\n",
       " 'talk.religion.misc']"
      ]
     },
     "execution_count": 22,
     "metadata": {},
     "output_type": "execute_result"
    }
   ],
   "source": [
    "news_target_names"
   ]
  },
  {
   "cell_type": "code",
   "execution_count": 23,
   "id": "78ef911b-27c8-4c9f-8979-bda8b3947324",
   "metadata": {},
   "outputs": [
    {
     "data": {
      "text/plain": [
       "array([7, 4, 4, ..., 3, 1, 8])"
      ]
     },
     "execution_count": 23,
     "metadata": {},
     "output_type": "execute_result"
    }
   ],
   "source": [
    "news_target"
   ]
  },
  {
   "cell_type": "code",
   "execution_count": 24,
   "id": "63036109-587d-41c5-829f-974431196fb6",
   "metadata": {},
   "outputs": [
    {
     "data": {
      "text/plain": [
       "11314"
      ]
     },
     "execution_count": 24,
     "metadata": {},
     "output_type": "execute_result"
    }
   ],
   "source": [
    "len(news_data)"
   ]
  },
  {
   "cell_type": "markdown",
   "id": "4f555f1f-4be3-4dd5-b76a-f67c91ac8050",
   "metadata": {},
   "source": [
    "## Load 'news' dataset"
   ]
  },
  {
   "cell_type": "code",
   "execution_count": 25,
   "id": "0bd6d3ae-9180-4fd1-a61b-d28b668e0cea",
   "metadata": {},
   "outputs": [],
   "source": [
    "stopwords = nltk.corpus.stopwords.words(fileids=['english',])"
   ]
  },
  {
   "cell_type": "code",
   "execution_count": 27,
   "id": "277e13b2-52b8-4780-9b40-cbc87d730934",
   "metadata": {},
   "outputs": [],
   "source": [
    "tfidf = TfidfVectorizer(\n",
    "    input = \"content\", \n",
    "    analyzer = \"word\", \n",
    "    ngram_range = (1, 4), \n",
    "    min_df = 0, \n",
    "    stop_words = stopwords, \n",
    "    sublinear_tf = True,\n",
    ")"
   ]
  },
  {
   "cell_type": "code",
   "execution_count": 28,
   "id": "059a1cbd-2d03-4d97-9370-303e2ddb096f",
   "metadata": {},
   "outputs": [],
   "source": [
    "tfidf_matrix = tfidf.fit_transform(news_data)"
   ]
  },
  {
   "cell_type": "code",
   "execution_count": 29,
   "id": "d04107cc-7086-4e9f-a4f2-e478edbd1db3",
   "metadata": {},
   "outputs": [],
   "source": [
    "feature_names = tfidf.get_feature_names_out()"
   ]
  },
  {
   "cell_type": "code",
   "execution_count": 41,
   "id": "720f4f5e-5004-4dd5-a64c-44f8b60a794b",
   "metadata": {},
   "outputs": [],
   "source": [
    "doc = 0 # Change the index to view another document\n",
    "\n",
    "feature_index = tfidf_matrix[doc, :].nonzero()[1]\n",
    "tfidf_scores = zip(feature_index, [tfidf_matrix[doc, x] for x in feature_index])\n",
    "\n",
    "scores = [(feature_names[i], s) for (i, s) in tfidf_scores]\n",
    "scores = pd.DataFrame(scores, columns=['token', 'tfidf'])"
   ]
  },
  {
   "cell_type": "code",
   "execution_count": 47,
   "id": "5ffa07c1-e1fa-4ee2-8a08-0690f567584e",
   "metadata": {},
   "outputs": [],
   "source": [
    "scores_sorted = scores.sort_values('tfidf', ascending=False)"
   ]
  },
  {
   "cell_type": "code",
   "execution_count": 48,
   "id": "8db97bb9-36ef-4264-b8f0-32777500ce91",
   "metadata": {},
   "outputs": [
    {
     "data": {
      "text/html": [
       "<div>\n",
       "<style scoped>\n",
       "    .dataframe tbody tr th:only-of-type {\n",
       "        vertical-align: middle;\n",
       "    }\n",
       "\n",
       "    .dataframe tbody tr th {\n",
       "        vertical-align: top;\n",
       "    }\n",
       "\n",
       "    .dataframe thead th {\n",
       "        text-align: right;\n",
       "    }\n",
       "</style>\n",
       "<table border=\"1\" class=\"dataframe\">\n",
       "  <thead>\n",
       "    <tr style=\"text-align: right;\">\n",
       "      <th></th>\n",
       "      <th>token</th>\n",
       "      <th>tfidf</th>\n",
       "    </tr>\n",
       "  </thead>\n",
       "  <tbody>\n",
       "    <tr>\n",
       "      <th>265</th>\n",
       "      <td>lerxst</td>\n",
       "      <td>0.117097</td>\n",
       "    </tr>\n",
       "    <tr>\n",
       "      <th>264</th>\n",
       "      <td>wam</td>\n",
       "      <td>0.085947</td>\n",
       "    </tr>\n",
       "    <tr>\n",
       "      <th>202</th>\n",
       "      <td>wam umd</td>\n",
       "      <td>0.085947</td>\n",
       "    </tr>\n",
       "    <tr>\n",
       "      <th>134</th>\n",
       "      <td>wam umd edu</td>\n",
       "      <td>0.085947</td>\n",
       "    </tr>\n",
       "    <tr>\n",
       "      <th>259</th>\n",
       "      <td>car</td>\n",
       "      <td>0.077798</td>\n",
       "    </tr>\n",
       "    <tr>\n",
       "      <th>...</th>\n",
       "      <td>...</td>\n",
       "      <td>...</td>\n",
       "    </tr>\n",
       "    <tr>\n",
       "      <th>256</th>\n",
       "      <td>host</td>\n",
       "      <td>0.013847</td>\n",
       "    </tr>\n",
       "    <tr>\n",
       "      <th>257</th>\n",
       "      <td>posting</td>\n",
       "      <td>0.013475</td>\n",
       "    </tr>\n",
       "    <tr>\n",
       "      <th>254</th>\n",
       "      <td>organization</td>\n",
       "      <td>0.007790</td>\n",
       "    </tr>\n",
       "    <tr>\n",
       "      <th>249</th>\n",
       "      <td>lines</td>\n",
       "      <td>0.007513</td>\n",
       "    </tr>\n",
       "    <tr>\n",
       "      <th>260</th>\n",
       "      <td>subject</td>\n",
       "      <td>0.007489</td>\n",
       "    </tr>\n",
       "  </tbody>\n",
       "</table>\n",
       "<p>266 rows × 2 columns</p>\n",
       "</div>"
      ],
      "text/plain": [
       "            token     tfidf\n",
       "265        lerxst  0.117097\n",
       "264           wam  0.085947\n",
       "202       wam umd  0.085947\n",
       "134   wam umd edu  0.085947\n",
       "259           car  0.077798\n",
       "..            ...       ...\n",
       "256          host  0.013847\n",
       "257       posting  0.013475\n",
       "254  organization  0.007790\n",
       "249         lines  0.007513\n",
       "260       subject  0.007489\n",
       "\n",
       "[266 rows x 2 columns]"
      ]
     },
     "execution_count": 48,
     "metadata": {},
     "output_type": "execute_result"
    }
   ],
   "source": [
    "scores_sorted"
   ]
  }
 ],
 "metadata": {
  "kernelspec": {
   "display_name": "Python 3 (ipykernel)",
   "language": "python",
   "name": "python3"
  },
  "language_info": {
   "codemirror_mode": {
    "name": "ipython",
    "version": 3
   },
   "file_extension": ".py",
   "mimetype": "text/x-python",
   "name": "python",
   "nbconvert_exporter": "python",
   "pygments_lexer": "ipython3",
   "version": "3.9.0"
  }
 },
 "nbformat": 4,
 "nbformat_minor": 5
}
