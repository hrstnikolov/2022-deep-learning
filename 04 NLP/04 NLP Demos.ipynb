{
 "cells": [
  {
   "cell_type": "code",
   "execution_count": 1,
   "id": "891322f4-a071-4f18-99ea-2b1781e61258",
   "metadata": {},
   "outputs": [],
   "source": [
    "%matplotlib inline"
   ]
  },
  {
   "cell_type": "code",
   "execution_count": 98,
   "id": "c935cb0c-dcd9-428e-a402-9a855624136c",
   "metadata": {},
   "outputs": [],
   "source": [
    "import numpy as np\n",
    "import pandas as pd\n",
    "import matplotlib.pyplot as plt\n",
    "\n",
    "import requests\n",
    "import collections\n",
    "import re\n",
    "import nltk\n",
    "\n",
    "from sklearn.datasets import fetch_20newsgroups\n",
    "from sklearn.feature_extraction.text import TfidfVectorizer\n",
    "\n",
    "import tensorflow as tf\n",
    "from tensorflow.keras.models import Sequential\n",
    "from tensorflow.keras.layers import Input, Dense, Flatten, Conv1D, Conv2D, MaxPool2D, SimpleRNN"
   ]
  },
  {
   "cell_type": "markdown",
   "id": "6d02c89f-0656-4ebf-9a4a-b66b9f120b55",
   "metadata": {
    "tags": []
   },
   "source": [
    "# NLP Demos"
   ]
  },
  {
   "cell_type": "markdown",
   "id": "ee94ba79-2f6e-4bb2-a32a-d0bfb4504163",
   "metadata": {
    "tags": []
   },
   "source": [
    "## Recap: text preprocessing"
   ]
  },
  {
   "cell_type": "code",
   "execution_count": 49,
   "id": "da3d7299-c001-41ef-bc16-24f475d666bf",
   "metadata": {},
   "outputs": [],
   "source": [
    "response = requests.get('https://www.gutenberg.org/cache/epub/67098/pg67098.txt')\n",
    "pooh_raw = response.text\n",
    "\n",
    "starting_index = pooh_raw.index('Here is Edward Bear, coming downstairs now')\n",
    "pooh_text = pooh_raw[starting_index:]"
   ]
  },
  {
   "cell_type": "code",
   "execution_count": 50,
   "id": "49d008ce-c58b-42fa-a82e-aa78c4feff18",
   "metadata": {},
   "outputs": [],
   "source": [
    "counter_characters = collections.Counter(pooh_text)"
   ]
  },
  {
   "cell_type": "code",
   "execution_count": 51,
   "id": "2a41a3ca-6d09-42b4-b076-8c838f09c58a",
   "metadata": {},
   "outputs": [
    {
     "data": {
      "text/plain": [
       "[(' ', 24539),\n",
       " ('e', 11107),\n",
       " ('t', 9216),\n",
       " ('o', 8936),\n",
       " ('a', 7831),\n",
       " ('i', 6912),\n",
       " ('n', 6684),\n",
       " ('h', 6483),\n",
       " ('s', 5649),\n",
       " ('r', 4853)]"
      ]
     },
     "execution_count": 51,
     "metadata": {},
     "output_type": "execute_result"
    }
   ],
   "source": [
    "counter_characters.most_common(10)"
   ]
  },
  {
   "cell_type": "code",
   "execution_count": 52,
   "id": "89ce6e9b-7fd4-422f-85ad-be475762cc7c",
   "metadata": {},
   "outputs": [],
   "source": [
    "pooh_words = re.split(pattern='\\W', string=pooh_text)"
   ]
  },
  {
   "cell_type": "code",
   "execution_count": 53,
   "id": "9b2407a6-3834-4367-841c-897d7607640f",
   "metadata": {},
   "outputs": [],
   "source": [
    "counter_words = collections.Counter(pooh_words)"
   ]
  },
  {
   "cell_type": "code",
   "execution_count": 59,
   "id": "9b307fbd-82b0-4d70-9bb1-1e0dd8bbc34c",
   "metadata": {},
   "outputs": [
    {
     "data": {
      "text/plain": [
       "[('', 14793),\n",
       " ('and', 882),\n",
       " ('the', 853),\n",
       " ('to', 613),\n",
       " ('he', 572),\n",
       " ('a', 568),\n",
       " ('said', 553),\n",
       " ('it', 505),\n",
       " ('of', 487),\n",
       " ('I', 468)]"
      ]
     },
     "execution_count": 59,
     "metadata": {},
     "output_type": "execute_result"
    }
   ],
   "source": [
    "counter_words.most_common(n=10)"
   ]
  },
  {
   "cell_type": "code",
   "execution_count": 66,
   "id": "70b3b7c1-cd94-4947-92b4-9d726bc54aff",
   "metadata": {},
   "outputs": [],
   "source": [
    "stopwords = nltk.corpus.stopwords.words(fileids=['english',])"
   ]
  },
  {
   "cell_type": "code",
   "execution_count": 93,
   "id": "2f658466-6a03-4969-a4c1-6d3f09ee5d03",
   "metadata": {},
   "outputs": [],
   "source": [
    "counter_words_nostop = {\n",
    "    word: counter_words[word]\n",
    "    for word, count in counter_words.items()\n",
    "    if word not in stopwords\n",
    "}\n",
    "\n",
    "counter_words_nostop = collections.Counter(counter_words_nostop)"
   ]
  },
  {
   "cell_type": "code",
   "execution_count": 94,
   "id": "37743514-7098-4fcc-b687-47aa7fe987aa",
   "metadata": {},
   "outputs": [
    {
     "data": {
      "text/plain": [
       "(2905, 2765)"
      ]
     },
     "execution_count": 94,
     "metadata": {},
     "output_type": "execute_result"
    }
   ],
   "source": [
    "len(counter_words), len(counter_words_nostop)"
   ]
  },
  {
   "cell_type": "code",
   "execution_count": 95,
   "id": "955e6e24-ebdd-4595-afaf-c3ddaab0dabe",
   "metadata": {},
   "outputs": [
    {
     "data": {
      "text/plain": [
       "[('', 14793),\n",
       " ('said', 553),\n",
       " ('I', 468),\n",
       " ('Pooh', 409),\n",
       " ('Piglet', 211),\n",
       " ('Robin', 156),\n",
       " ('Christopher', 154),\n",
       " ('And', 139),\n",
       " ('Eeyore', 117),\n",
       " ('Rabbit', 112)]"
      ]
     },
     "execution_count": 95,
     "metadata": {},
     "output_type": "execute_result"
    }
   ],
   "source": [
    "counter_words_nostop.most_common(10)"
   ]
  },
  {
   "cell_type": "markdown",
   "id": "e6bbbd21-6c6d-4ce3-b1b2-d9ef2b83272c",
   "metadata": {
    "tags": []
   },
   "source": [
    "## Recap: tfidf"
   ]
  },
  {
   "cell_type": "code",
   "execution_count": 104,
   "id": "692be558-13b6-4369-8f68-2979e238bb0d",
   "metadata": {},
   "outputs": [],
   "source": [
    "news_raw = fetch_20newsgroups()\n",
    "\n",
    "news_data = news.data\n",
    "news_target = news.target\n",
    "news_target_names = news.target_names"
   ]
  },
  {
   "cell_type": "code",
   "execution_count": 105,
   "id": "a44ae5bc-dcfd-4000-8036-e8e710b055ed",
   "metadata": {},
   "outputs": [
    {
     "data": {
      "text/plain": [
       "['alt.atheism',\n",
       " 'comp.graphics',\n",
       " 'comp.os.ms-windows.misc',\n",
       " 'comp.sys.ibm.pc.hardware',\n",
       " 'comp.sys.mac.hardware',\n",
       " 'comp.windows.x',\n",
       " 'misc.forsale',\n",
       " 'rec.autos',\n",
       " 'rec.motorcycles',\n",
       " 'rec.sport.baseball',\n",
       " 'rec.sport.hockey',\n",
       " 'sci.crypt',\n",
       " 'sci.electronics',\n",
       " 'sci.med',\n",
       " 'sci.space',\n",
       " 'soc.religion.christian',\n",
       " 'talk.politics.guns',\n",
       " 'talk.politics.mideast',\n",
       " 'talk.politics.misc',\n",
       " 'talk.religion.misc']"
      ]
     },
     "execution_count": 105,
     "metadata": {},
     "output_type": "execute_result"
    }
   ],
   "source": [
    "news_target_names"
   ]
  },
  {
   "cell_type": "code",
   "execution_count": 106,
   "id": "78ef911b-27c8-4c9f-8979-bda8b3947324",
   "metadata": {},
   "outputs": [
    {
     "data": {
      "text/plain": [
       "array([7, 4, 4, ..., 3, 1, 8])"
      ]
     },
     "execution_count": 106,
     "metadata": {},
     "output_type": "execute_result"
    }
   ],
   "source": [
    "news_target"
   ]
  },
  {
   "cell_type": "code",
   "execution_count": 109,
   "id": "63036109-587d-41c5-829f-974431196fb6",
   "metadata": {},
   "outputs": [
    {
     "data": {
      "text/plain": [
       "11314"
      ]
     },
     "execution_count": 109,
     "metadata": {},
     "output_type": "execute_result"
    }
   ],
   "source": [
    "len(news_data)"
   ]
  },
  {
   "cell_type": "code",
   "execution_count": null,
   "id": "4c8ebf66-6835-45c2-b0aa-bc30c9c37607",
   "metadata": {},
   "outputs": [],
   "source": []
  },
  {
   "cell_type": "code",
   "execution_count": 110,
   "id": "277e13b2-52b8-4780-9b40-cbc87d730934",
   "metadata": {},
   "outputs": [],
   "source": [
    "tfidf = TfidfVectorizer(\n",
    "    input = \"content\", \n",
    "    analyzer = \"word\", \n",
    "    ngram_range = (1, 4), \n",
    "    min_df = 0, \n",
    "    stop_words = stopwords, \n",
    "    sublinear_tf = True,\n",
    ")"
   ]
  },
  {
   "cell_type": "code",
   "execution_count": 111,
   "id": "059a1cbd-2d03-4d97-9370-303e2ddb096f",
   "metadata": {},
   "outputs": [],
   "source": [
    "tfidf_matrix = tfidf.fit_transform(news_data)"
   ]
  },
  {
   "cell_type": "code",
   "execution_count": 113,
   "id": "d04107cc-7086-4e9f-a4f2-e478edbd1db3",
   "metadata": {},
   "outputs": [],
   "source": [
    "feature_names = tfidf.get_feature_names_out()"
   ]
  },
  {
   "cell_type": "code",
   "execution_count": 114,
   "id": "720f4f5e-5004-4dd5-a64c-44f8b60a794b",
   "metadata": {},
   "outputs": [
    {
     "name": "stdout",
     "output_type": "stream",
     "text": [
      "il brought neighborhood lerxst 0.07219586632049384\n",
      "thanks il brought neighborhood 0.07219586632049384\n",
      "mail thanks il brought 0.07219586632049384\n",
      "please mail thanks il 0.07219586632049384\n",
      "car please mail thanks 0.07219586632049384\n",
      "looking car please mail 0.06915949020149523\n",
      "funky looking car please 0.06915949020149523\n",
      "info funky looking car 0.06915949020149523\n",
      "whatever info funky looking 0.06915949020149523\n",
      "history whatever info funky 0.06915949020149523\n",
      "made history whatever info 0.06915949020149523\n",
      "car made history whatever 0.06915949020149523\n",
      "production car made history 0.06915949020149523\n",
      "years production car made 0.06915949020149523\n",
      "specs years production car 0.06915949020149523\n",
      "engine specs years production 0.06915949020149523\n",
      "name engine specs years 0.06915949020149523\n",
      "model name engine specs 0.06915949020149523\n",
      "tellme model name engine 0.06915949020149523\n",
      "anyone tellme model name 0.06915949020149523\n",
      "know anyone tellme model 0.06915949020149523\n",
      "body know anyone tellme 0.06915949020149523\n",
      "rest body know anyone 0.06915949020149523\n",
      "separate rest body know 0.06915949020149523\n",
      "bumper separate rest body 0.06915949020149523\n",
      "front bumper separate rest 0.06915949020149523\n",
      "addition front bumper separate 0.06915949020149523\n",
      "small addition front bumper 0.06915949020149523\n",
      "really small addition front 0.06915949020149523\n",
      "doors really small addition 0.06915949020149523\n",
      "bricklin doors really small 0.06915949020149523\n",
      "called bricklin doors really 0.06915949020149523\n",
      "70s called bricklin doors 0.06915949020149523\n",
      "early 70s called bricklin 0.06915949020149523\n",
      "60s early 70s called 0.06915949020149523\n",
      "late 60s early 70s 0.06533410869773869\n",
      "looked late 60s early 0.06915949020149523\n",
      "car looked late 60s 0.06915949020149523\n",
      "sports car looked late 0.06915949020149523\n",
      "door sports car looked 0.06915949020149523\n",
      "day door sports car 0.06915949020149523\n",
      "saw day door sports 0.06915949020149523\n",
      "car saw day door 0.06915949020149523\n",
      "enlighten car saw day 0.06915949020149523\n",
      "could enlighten car saw 0.06915949020149523\n",
      "anyone could enlighten car 0.06915949020149523\n",
      "wondering anyone could enlighten 0.06915949020149523\n",
      "15 wondering anyone could 0.07219586632049384\n",
      "lines 15 wondering anyone 0.06915949020149523\n",
      "park lines 15 wondering 0.07219586632049384\n",
      "college park lines 15 0.06915949020149523\n",
      "maryland college park lines 0.051670743373485616\n",
      "university maryland college park 0.052432955796083515\n",
      "organization university maryland college 0.05942964724844401\n",
      "edu organization university maryland 0.061814427800057775\n",
      "umd edu organization university 0.061814427800057775\n",
      "wam umd edu organization 0.057623675056301546\n",
      "rac3 wam umd edu 0.06281439431651957\n",
      "host rac3 wam umd 0.06281439431651957\n",
      "posting host rac3 wam 0.06281439431651957\n",
      "nntp posting host rac3 0.06281439431651957\n",
      "car nntp posting host 0.0670051470602758\n",
      "subject car nntp posting 0.07219586632049384\n",
      "thing subject car nntp 0.07219586632049384\n",
      "edu thing subject car 0.07219586632049384\n",
      "umd edu thing subject 0.07219586632049384\n",
      "wam umd edu thing 0.06915949020149523\n",
      "lerxst wam umd edu 0.06915949020149523\n",
      "brought neighborhood lerxst 0.06915949020149523\n",
      "il brought neighborhood 0.07219586632049384\n",
      "thanks il brought 0.07219586632049384\n",
      "mail thanks il 0.07219586632049384\n",
      "please mail thanks 0.057623675056301546\n",
      "car please mail 0.06915949020149523\n",
      "looking car please 0.06915949020149523\n",
      "funky looking car 0.06915949020149523\n",
      "info funky looking 0.06915949020149523\n",
      "whatever info funky 0.06915949020149523\n",
      "history whatever info 0.06915949020149523\n",
      "made history whatever 0.06915949020149523\n",
      "car made history 0.06915949020149523\n",
      "production car made 0.06915949020149523\n",
      "years production car 0.06915949020149523\n",
      "specs years production 0.06915949020149523\n",
      "engine specs years 0.06915949020149523\n",
      "name engine specs 0.06915949020149523\n",
      "model name engine 0.06915949020149523\n",
      "tellme model name 0.06915949020149523\n",
      "anyone tellme model 0.06915949020149523\n",
      "know anyone tellme 0.06915949020149523\n",
      "body know anyone 0.06915949020149523\n",
      "rest body know 0.06915949020149523\n",
      "separate rest body 0.06915949020149523\n",
      "bumper separate rest 0.06915949020149523\n",
      "front bumper separate 0.06915949020149523\n",
      "addition front bumper 0.06915949020149523\n",
      "small addition front 0.06915949020149523\n",
      "really small addition 0.06915949020149523\n",
      "doors really small 0.06915949020149523\n",
      "bricklin doors really 0.06915949020149523\n",
      "called bricklin doors 0.06915949020149523\n",
      "70s called bricklin 0.06915949020149523\n",
      "early 70s called 0.06915949020149523\n",
      "60s early 70s 0.06533410869773869\n",
      "late 60s early 0.06533410869773869\n",
      "looked late 60s 0.06915949020149523\n",
      "car looked late 0.06915949020149523\n",
      "sports car looked 0.06915949020149523\n",
      "door sports car 0.06915949020149523\n",
      "day door sports 0.06915949020149523\n",
      "saw day door 0.06915949020149523\n",
      "car saw day 0.06915949020149523\n",
      "enlighten car saw 0.06915949020149523\n",
      "could enlighten car 0.06915949020149523\n",
      "anyone could enlighten 0.06915949020149523\n",
      "wondering anyone could 0.05574167556206056\n",
      "15 wondering anyone 0.06915949020149523\n",
      "lines 15 wondering 0.06915949020149523\n",
      "park lines 15 0.06915949020149523\n",
      "college park lines 0.051670743373485616\n",
      "maryland college park 0.050345775660534046\n",
      "university maryland college 0.052432955796083515\n",
      "organization university maryland 0.053281631814765494\n",
      "edu organization university 0.03377997888803236\n",
      "umd edu organization 0.056169713485208224\n",
      "rac3 wam umd 0.06281439431651957\n",
      "host rac3 wam 0.06281439431651957\n",
      "posting host rac3 0.06281439431651957\n",
      "nntp posting host 0.01394932605414902\n",
      "car nntp posting 0.0670051470602758\n",
      "subject car nntp 0.07219586632049384\n",
      "thing subject car 0.07219586632049384\n",
      "edu thing subject 0.07219586632049384\n",
      "umd edu thing 0.06915949020149523\n",
      "wam umd edu 0.08594739738242582\n",
      "lerxst wam umd 0.06915949020149523\n",
      "neighborhood lerxst 0.06915949020149523\n",
      "brought neighborhood 0.06915949020149523\n",
      "il brought 0.07219586632049384\n",
      "thanks il 0.07219586632049384\n",
      "mail thanks 0.05014606716045214\n",
      "please mail 0.04070850032538429\n",
      "car please 0.06915949020149523\n",
      "looking car 0.0609323948222786\n",
      "funky looking 0.0670051470602758\n",
      "info funky 0.06915949020149523\n",
      "whatever info 0.06915949020149523\n",
      "history whatever 0.06915949020149523\n",
      "made history 0.0670051470602758\n",
      "car made 0.0639687709412772\n",
      "production car 0.06915949020149523\n",
      "years production 0.06915949020149523\n",
      "specs years 0.06915949020149523\n",
      "engine specs 0.06915949020149523\n",
      "name engine 0.06915949020149523\n",
      "model name 0.0639687709412772\n",
      "tellme model 0.06915949020149523\n",
      "anyone tellme 0.06915949020149523\n",
      "know anyone 0.05270529944306195\n",
      "body know 0.06014338943752064\n",
      "rest body 0.06915949020149523\n",
      "separate rest 0.06915949020149523\n",
      "bumper separate 0.06915949020149523\n",
      "front bumper 0.06014338943752064\n",
      "addition front 0.06915949020149523\n",
      "small addition 0.06915949020149523\n",
      "really small 0.06533410869773869\n",
      "doors really 0.06915949020149523\n",
      "bricklin doors 0.06915949020149523\n",
      "called bricklin 0.06915949020149523\n",
      "70s called 0.06915949020149523\n",
      "early 70s 0.0609323948222786\n",
      "60s early 0.06533410869773869\n",
      "late 60s 0.06281439431651957\n",
      "looked late 0.06915949020149523\n",
      "car looked 0.06533410869773869\n",
      "sports car 0.056623708539839744\n",
      "door sports 0.0639687709412772\n",
      "day door 0.06915949020149523\n",
      "saw day 0.06915949020149523\n",
      "car saw 0.0670051470602758\n",
      "enlighten car 0.06915949020149523\n",
      "could enlighten 0.0639687709412772\n",
      "anyone could 0.05014606716045214\n",
      "wondering anyone 0.0452569440255628\n",
      "15 wondering 0.06915949020149523\n",
      "lines 15 0.033042105770657526\n",
      "park lines 0.051670743373485616\n",
      "college park 0.04995154648526449\n",
      "maryland college 0.050345775660534046\n",
      "university maryland 0.04871532615039916\n",
      "organization university 0.021251124083715985\n",
      "edu organization 0.026446002535896174\n",
      "rac3 wam 0.06281439431651957\n",
      "host rac3 0.06281439431651957\n",
      "posting host 0.01394932605414902\n",
      "nntp posting 0.01394932605414902\n",
      "car nntp 0.0670051470602758\n",
      "subject car 0.054238927988225986\n",
      "thing subject 0.07219586632049384\n",
      "edu thing 0.0639687709412772\n",
      "umd edu 0.07011504284015367\n",
      "wam umd 0.08594739738242582\n",
      "lerxst wam 0.06915949020149523\n",
      "neighborhood 0.05143298927962173\n",
      "brought 0.036565803093715134\n",
      "il 0.03825292873405096\n",
      "thanks 0.02154366913430515\n",
      "mail 0.02341517560198688\n",
      "please 0.021678917420436403\n",
      "looking 0.02700737261503909\n",
      "funky 0.0609323948222786\n",
      "info 0.028589259627814334\n",
      "whatever 0.03208240077555978\n",
      "history 0.03261295255598418\n",
      "made 0.02478162368908059\n",
      "production 0.0423238609226259\n",
      "years 0.023698012275524566\n",
      "specs 0.04239352305227545\n",
      "engine 0.03797627260498653\n",
      "name 0.0273655725593647\n",
      "model 0.034573909379798054\n",
      "tellme 0.06915949020149523\n",
      "know 0.016734335865883302\n",
      "body 0.03407368809853476\n",
      "rest 0.03194242240218984\n",
      "separate 0.038582152076338784\n",
      "bumper 0.051916294058304016\n",
      "front 0.033802167422592413\n",
      "addition 0.03727312003577781\n",
      "small 0.02942023203320299\n",
      "really 0.022151370605287327\n",
      "doors 0.04536023704162451\n",
      "bricklin 0.06533410869773869\n",
      "called 0.02700737261503909\n",
      "70s 0.054238927988225986\n",
      "early 0.033042105770657526\n",
      "60s 0.05533678642067017\n",
      "late 0.03603843567157429\n",
      "looked 0.03532469348249764\n",
      "sports 0.04225484084938653\n",
      "door 0.0391500749862542\n",
      "day 0.025885094731819623\n",
      "saw 0.03308236729202158\n",
      "enlighten 0.052432955796083515\n",
      "could 0.019358044691118827\n",
      "anyone 0.0340156929996514\n",
      "wondering 0.034723189238571206\n",
      "15 0.024755021085845697\n",
      "lines 0.007513152830757153\n",
      "park 0.03875235542409537\n",
      "college 0.030496622820934877\n",
      "maryland 0.042751898845773566\n",
      "university 0.014497419632135763\n",
      "organization 0.007790465851735535\n",
      "rac3 0.06281439431651957\n",
      "host 0.013846527175808488\n",
      "posting 0.013475338841501093\n",
      "nntp 0.013944622636260479\n",
      "car 0.07779811248049706\n",
      "subject 0.007488624935363376\n",
      "thing 0.02429165939467675\n",
      "edu 0.01807390328424002\n",
      "umd 0.07011504284015367\n",
      "wam 0.08594739738242582\n",
      "lerxst 0.11709719584362481\n"
     ]
    }
   ],
   "source": [
    "doc = 0 # Change the index to view another document\n",
    "\n",
    "feature_index = tfidf_matrix[doc, :].nonzero()[1]\n",
    "tfidf_scores = zip(feature_index, [tfidf_matrix[doc, x] for x in feature_index])\n",
    "\n",
    "for w, s in [(feature_names[i], s) for (i, s) in tfidf_scores]:\n",
    "    print(w, s)"
   ]
  },
  {
   "cell_type": "code",
   "execution_count": null,
   "id": "1798503a-3b36-46d1-9d20-29d796ce8f87",
   "metadata": {},
   "outputs": [],
   "source": []
  }
 ],
 "metadata": {
  "kernelspec": {
   "display_name": "Python 3 (ipykernel)",
   "language": "python",
   "name": "python3"
  },
  "language_info": {
   "codemirror_mode": {
    "name": "ipython",
    "version": 3
   },
   "file_extension": ".py",
   "mimetype": "text/x-python",
   "name": "python",
   "nbconvert_exporter": "python",
   "pygments_lexer": "ipython3",
   "version": "3.9.0"
  }
 },
 "nbformat": 4,
 "nbformat_minor": 5
}
