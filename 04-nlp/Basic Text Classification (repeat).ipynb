{
 "cells": [
  {
   "cell_type": "code",
   "execution_count": 2,
   "id": "5916d5af-0811-4865-a229-37de3ff37bdd",
   "metadata": {},
   "outputs": [],
   "source": [
    "%matplotlib inline"
   ]
  },
  {
   "cell_type": "code",
   "execution_count": 3,
   "id": "8d248a1c-4bb2-414c-84e9-14b30ee3ff73",
   "metadata": {},
   "outputs": [],
   "source": [
    "import numpy as np\n",
    "import pandas as pd\n",
    "import matplotlib.pyplot as plt\n",
    "\n",
    "import os\n",
    "import re\n",
    "import string\n",
    "from IPython.display import display\n",
    "\n",
    "import tensorflow as tf\n",
    "from tensorflow.keras.utils import text_dataset_from_directory\n",
    "from tensorflow.keras.layers import TextVectorization, Input, Embedding, Dense, Dropout, GlobalAveragePooling1D\n",
    "from tensorflow.keras.models import Sequential"
   ]
  },
  {
   "cell_type": "markdown",
   "id": "50555180-45ef-4710-9ca8-a28c989e8356",
   "metadata": {
    "tags": []
   },
   "source": [
    "# Basic Text Classification (repeat)\n",
    "\n",
    "Класификация на отзиви за филми - положителен или отрицателен отзив."
   ]
  },
  {
   "cell_type": "markdown",
   "id": "4f5146bf-e6c6-4744-8f10-566389da2595",
   "metadata": {},
   "source": [
    "## Constants"
   ]
  },
  {
   "cell_type": "code",
   "execution_count": 4,
   "id": "00922df7-5be0-40a4-8a06-09a3383e56c1",
   "metadata": {},
   "outputs": [],
   "source": [
    "SEED = 123\n",
    "BATCH_SIZE = 32\n",
    "MAX_TOKENS = 10_000  # the number of unique words (and ngrams) in the dictionary (vocabulary) will be max 10K\n",
    "OUTPUT_SEQUENCE_LENGTH = 250  # each int encoding of a text will contain exactly 250 numbers\n",
    "AUTOTUNE = tf.data.AUTOTUNE"
   ]
  },
  {
   "cell_type": "markdown",
   "id": "6f8a7730-cd42-42ac-9cd0-aabd2f38deab",
   "metadata": {
    "toc-hr-collapsed": true
   },
   "source": [
    "## Open directory"
   ]
  },
  {
   "cell_type": "markdown",
   "id": "bd63a8f2-3362-43ff-909d-fe680824a472",
   "metadata": {},
   "source": [
    "### Folder"
   ]
  },
  {
   "cell_type": "code",
   "execution_count": 5,
   "id": "0e1455ae-be07-4309-8e52-2b87f43d6704",
   "metadata": {},
   "outputs": [
    {
     "data": {
      "text/plain": [
       "['imdb.vocab', 'imdbEr.txt', 'README', 'test', 'train']"
      ]
     },
     "execution_count": 5,
     "metadata": {},
     "output_type": "execute_result"
    }
   ],
   "source": [
    "movies_path = os.path.join(\n",
    "    os.environ['HOME'],\n",
    "    'Desktop/datasets/aclImdb',\n",
    ")\n",
    "\n",
    "os.listdir(movies_path)"
   ]
  },
  {
   "cell_type": "markdown",
   "id": "d3a289f2-0840-48ce-94e5-7358e1d0bf17",
   "metadata": {
    "tags": [],
    "toc-hr-collapsed": true
   },
   "source": [
    "## Explore data"
   ]
  },
  {
   "cell_type": "markdown",
   "id": "0c6039d0-c7e7-44b2-833e-56343df7d824",
   "metadata": {},
   "source": [
    "### Integrated vocabulary."
   ]
  },
  {
   "cell_type": "code",
   "execution_count": 6,
   "id": "ab70678b-73a1-4e23-830c-bea44065e711",
   "metadata": {},
   "outputs": [
    {
     "name": "stdout",
     "output_type": "stream",
     "text": [
      "the, and, a, of, to, is, it, in, i, this\n"
     ]
    }
   ],
   "source": [
    "with open(os.path.join(movies_path, 'imdb.vocab'), encoding='ISO-8859-1') as f:\n",
    "    vocab = [v.strip() for v in f.readlines()[:10]]\n",
    "    print(', '.join(vocab))"
   ]
  },
  {
   "cell_type": "markdown",
   "id": "c6e237ca-bd12-4f48-b22d-9635d16396c6",
   "metadata": {},
   "source": [
    "### Sample review. Случаен отзив."
   ]
  },
  {
   "cell_type": "code",
   "execution_count": 7,
   "id": "960b1d6e-ced0-4e29-909d-489f3eb1aee2",
   "metadata": {},
   "outputs": [
    {
     "name": "stdout",
     "output_type": "stream",
     "text": [
      "Any story comprises a premise, characters and conflict. Characters plotting their own play promises triumph, and a militant character readily lends oneself to this. Ardh Satya's premise is summarized by the poem of the same name scripted by Dilip Chitre. The line goes - \"ek palde mein napunsaktha, doosre palde mein paurush, aur teek tarazu ke kaante par, ardh satya ?\". A rough translation - \"The delicate balance of right & wrong ( commonly seen on the busts of blind justice in the courts ) has powerlessness on one plate and prowess on another. Is the needle on the center a half-truth ? \"<br /><br />The poem is recited midway in the film by Smita Patil to Om Puri at a resturant. It makes a deep impact on the protagonist & lays the foundation for much of the later events that follow. At the end of the film, Om Puri ends up in exactly the same situation described so aptly in the poem.<br /><br />The film tries mighty hard to do a one-up on the poem. However, Chitre's words are too powerful, and at best, the film matches up to the poem in every aspect.<br /><br />\n"
     ]
    }
   ],
   "source": [
    "path_train_positive = os.path.join(movies_path, 'train', 'pos')\n",
    "a_file = os.listdir(path_train_positive)[123]\n",
    "with open(os.path.join(path_train_positive, a_file)) as f:\n",
    "    print(f.read())"
   ]
  },
  {
   "cell_type": "markdown",
   "id": "2890d54e-def4-4e58-be3a-8a090aba285c",
   "metadata": {
    "tags": [],
    "toc-hr-collapsed": true
   },
   "source": [
    "## Create datasets"
   ]
  },
  {
   "cell_type": "markdown",
   "id": "7c205926-38e5-4510-abed-efe4c9630de4",
   "metadata": {},
   "source": [
    "### Directories, train and test."
   ]
  },
  {
   "cell_type": "code",
   "execution_count": 8,
   "id": "4f5c2da0-9c34-4ab0-bbd0-518de43b8c62",
   "metadata": {},
   "outputs": [],
   "source": [
    "path_train = os.path.join(movies_path, 'train')\n",
    "path_test = os.path.join(movies_path, 'test')"
   ]
  },
  {
   "cell_type": "markdown",
   "id": "c6c02ee1-10e3-4af4-b805-40016c871fcc",
   "metadata": {},
   "source": [
    "### Datasets, training and val."
   ]
  },
  {
   "cell_type": "code",
   "execution_count": 16,
   "id": "ace9f74e-b773-45c3-94f3-203b681549c6",
   "metadata": {},
   "outputs": [
    {
     "name": "stdout",
     "output_type": "stream",
     "text": [
      "Found 25000 files belonging to 2 classes.\n",
      "Using 20000 files for training.\n",
      "Using 5000 files for validation.\n"
     ]
    },
    {
     "data": {
      "text/plain": [
       "(<BatchDataset element_spec=(TensorSpec(shape=(None,), dtype=tf.string, name=None), TensorSpec(shape=(None,), dtype=tf.int32, name=None))>,\n",
       " <BatchDataset element_spec=(TensorSpec(shape=(None,), dtype=tf.string, name=None), TensorSpec(shape=(None,), dtype=tf.int32, name=None))>)"
      ]
     },
     "execution_count": 16,
     "metadata": {},
     "output_type": "execute_result"
    }
   ],
   "source": [
    "raw_training_ds, raw_val_ds = text_dataset_from_directory(\n",
    "    directory=path_train,\n",
    "    labels='inferred',\n",
    "    label_mode='int',\n",
    "    batch_size=BATCH_SIZE,\n",
    "    max_length=None,\n",
    "    shuffle=True,\n",
    "    seed=SEED,\n",
    "    validation_split=0.2,\n",
    "    subset='both',\n",
    ")\n",
    "\n",
    "raw_training_ds, raw_val_ds"
   ]
  },
  {
   "cell_type": "markdown",
   "id": "67f03588-c6b9-46e2-bbb4-bca45d54215b",
   "metadata": {},
   "source": [
    "### Test: number of records."
   ]
  },
  {
   "cell_type": "code",
   "execution_count": 17,
   "id": "f46b90e2-4e63-4918-9d21-f7b9d1936c5c",
   "metadata": {},
   "outputs": [
    {
     "data": {
      "text/plain": [
       "(20000, 5024)"
      ]
     },
     "execution_count": 17,
     "metadata": {},
     "output_type": "execute_result"
    }
   ],
   "source": [
    "n_training = raw_training_ds.cardinality().numpy() * BATCH_SIZE\n",
    "n_validation = raw_val_ds.cardinality().numpy() * BATCH_SIZE\n",
    "\n",
    "n_training, n_validation"
   ]
  },
  {
   "cell_type": "markdown",
   "id": "e8a1bc36-043b-4b77-b0cb-a15e70459560",
   "metadata": {},
   "source": [
    "### Test: sample review.\n",
    "\n",
    "Случаен отзив и неговия клас."
   ]
  },
  {
   "cell_type": "code",
   "execution_count": 18,
   "id": "553c5fa7-3706-45b2-af2b-1eb5290e7361",
   "metadata": {},
   "outputs": [
    {
     "name": "stdout",
     "output_type": "stream",
     "text": [
      "b'After, I watched the films... I thought, \"Why the heck was this film such a high success in the Korean Box Office?\" Even thought the movie had a clever/unusal scenario, the acting wasn\\'t that good and the characters weren\\'t very interesting. For a Korean movie... I liked the fighting scenes. If you want to watch a film without thinking, this is the film for you. But I got to admit... the film was kind of childish... 6/10'\n",
      "1\n"
     ]
    }
   ],
   "source": [
    "for texts_batch, labels_batch in raw_training_ds.take(1):\n",
    "    sample_review = texts_batch[0].numpy()\n",
    "    sample_label = labels_batch[0].numpy()\n",
    "    print(sample_review, sample_label, sep='\\n')"
   ]
  },
  {
   "cell_type": "markdown",
   "id": "71127425-6a90-40de-a4fd-0942f5b7b81f",
   "metadata": {},
   "source": [
    "### Dataset, test."
   ]
  },
  {
   "cell_type": "code",
   "execution_count": 19,
   "id": "c994d89b-cfbe-4313-ba2f-ad9cc6177e68",
   "metadata": {},
   "outputs": [
    {
     "data": {
      "text/plain": [
       "True"
      ]
     },
     "metadata": {},
     "output_type": "display_data"
    },
    {
     "name": "stdout",
     "output_type": "stream",
     "text": [
      "Found 25000 files belonging to 2 classes.\n"
     ]
    }
   ],
   "source": [
    "display(os.path.exists(path_test))\n",
    "\n",
    "raw_test_ds = text_dataset_from_directory(\n",
    "    directory=path_test,\n",
    "    labels='inferred',\n",
    "    label_mode='int',\n",
    "    class_names=None,\n",
    "    batch_size=BATCH_SIZE,\n",
    "    max_length=None,\n",
    "    shuffle=True,\n",
    "    seed=SEED,\n",
    ")"
   ]
  },
  {
   "cell_type": "code",
   "execution_count": 20,
   "id": "69179ebd-830d-4ec2-8567-9f644a02ee97",
   "metadata": {},
   "outputs": [
    {
     "data": {
      "text/plain": [
       "['neg', 'pos']"
      ]
     },
     "execution_count": 20,
     "metadata": {},
     "output_type": "execute_result"
    }
   ],
   "source": [
    "raw_test_ds.class_names"
   ]
  },
  {
   "cell_type": "markdown",
   "id": "ed27fb19-2f7c-4d85-9da0-9e042369c9fd",
   "metadata": {
    "tags": []
   },
   "source": [
    "## Prepare the dataset for training"
   ]
  },
  {
   "cell_type": "markdown",
   "id": "150a7817-6dd2-43d8-9df4-d7f95100252f",
   "metadata": {},
   "source": [
    "### Preprocessing\n",
    "Implement a function to clean each review.\n",
    "\n",
    "3 стъпки:\n",
    "1. всички букви -> малки\n",
    "1. махаме хтмл тагове\n",
    "1. махаме пунктуационни знаци"
   ]
  },
  {
   "cell_type": "code",
   "execution_count": 21,
   "id": "ccd7bba3-9cec-47cd-b93f-f9079145dba2",
   "metadata": {},
   "outputs": [
    {
     "name": "stdout",
     "output_type": "stream",
     "text": [
      "b'After, I watched the films... I thought, \"Why the heck was this film such a high success in the Korean Box Office?\" Even thought the movie had a clever/unusal scenario, the acting wasn\\'t that good and the characters weren\\'t very interesting. For a Korean movie... I liked the fighting scenes. If you want to watch a film without thinking, this is the film for you. But I got to admit... the film was kind of childish... 6/10'\n",
      "\n",
      "tf.Tensor(b'after i watched the films i thought why the heck was this film such a high success in the korean box office even thought the movie had a cleverunusal scenario the acting wasnt that good and the characters werent very interesting for a korean movie i liked the fighting scenes if you want to watch a film without thinking this is the film for you but i got to admit the film was kind of childish 610', shape=(), dtype=string)\n"
     ]
    }
   ],
   "source": [
    "def clean_review(review):\n",
    "    cleaned = tf.strings.lower(review)\n",
    "    cleaned = tf.strings.regex_replace(cleaned, '<[^>]+>', '')\n",
    "    cleaned = tf.strings.regex_replace(cleaned, f'[{re.escape(string.punctuation)}]', '')\n",
    "    \n",
    "    return cleaned\n",
    "\n",
    "print(sample_review, clean_review(sample_review), sep='\\n\\n')"
   ]
  },
  {
   "cell_type": "markdown",
   "id": "717428bb-0390-41aa-97b0-9e573cd3552f",
   "metadata": {},
   "source": [
    "### `TextVectorization` layer"
   ]
  },
  {
   "cell_type": "code",
   "execution_count": 22,
   "id": "e39fcedc-7b92-4274-a2df-9e0297ec1686",
   "metadata": {},
   "outputs": [],
   "source": [
    "vectorize_layer = TextVectorization(\n",
    "    max_tokens=MAX_TOKENS,\n",
    "    standardize=clean_review,\n",
    "    split='whitespace',\n",
    "    ngrams=None,\n",
    "    output_mode='int',\n",
    "    output_sequence_length=OUTPUT_SEQUENCE_LENGTH,\n",
    "    encoding='utf-8',\n",
    ")"
   ]
  },
  {
   "cell_type": "markdown",
   "id": "0f3a6de9-51f7-461f-989c-a7e59df2eda8",
   "metadata": {},
   "source": [
    "### Datasets, only input"
   ]
  },
  {
   "cell_type": "code",
   "execution_count": 23,
   "id": "a7b06218-cb40-4585-9e80-29bcfeca557c",
   "metadata": {},
   "outputs": [
    {
     "data": {
      "text/plain": [
       "<BatchDataset element_spec=(TensorSpec(shape=(None,), dtype=tf.string, name=None), TensorSpec(shape=(None,), dtype=tf.int32, name=None))>"
      ]
     },
     "execution_count": 23,
     "metadata": {},
     "output_type": "execute_result"
    }
   ],
   "source": [
    "raw_training_ds"
   ]
  },
  {
   "cell_type": "code",
   "execution_count": 24,
   "id": "acd53f9e-c113-45a8-ba8a-d7b4758cc5e2",
   "metadata": {},
   "outputs": [
    {
     "name": "stdout",
     "output_type": "stream",
     "text": [
      "WARNING:tensorflow:From C:\\Users\\a1056968\\Anaconda3\\envs\\deep_learning\\lib\\site-packages\\tensorflow\\python\\autograph\\pyct\\static_analysis\\liveness.py:83: Analyzer.lamba_check (from tensorflow.python.autograph.pyct.static_analysis.liveness) is deprecated and will be removed after 2023-09-23.\n",
      "Instructions for updating:\n",
      "Lambda fuctions will be no more assumed to be used in the statement where they are used, or at least in the same block. https://github.com/tensorflow/tensorflow/issues/56089\n"
     ]
    }
   ],
   "source": [
    "train_data = raw_training_ds.map(lambda review, label: review)\n"
   ]
  },
  {
   "cell_type": "markdown",
   "id": "8992b927-210d-438a-9271-97b22b05eda5",
   "metadata": {},
   "source": [
    "### Vocabulary\n",
    "\n",
    "Compute vocab.\n",
    "Vocab is ordered (most frequent words first)."
   ]
  },
  {
   "cell_type": "code",
   "execution_count": 25,
   "id": "496f5bfa-7112-4f8e-bf53-97b206f22be5",
   "metadata": {},
   "outputs": [
    {
     "data": {
      "text/plain": [
       "['', '[UNK]', 'the', 'and', 'a', 'of', 'to', 'is', 'in', 'it']"
      ]
     },
     "execution_count": 25,
     "metadata": {},
     "output_type": "execute_result"
    }
   ],
   "source": [
    "vectorize_layer.adapt(train_data)\n",
    "vectorize_layer.get_vocabulary()[:10]"
   ]
  },
  {
   "cell_type": "markdown",
   "id": "4da8743b-825a-4d32-b909-2f2361f0916f",
   "metadata": {},
   "source": [
    "### Test: sample review\n",
    "\n",
    "The **words are integer encoded** - a unique number is assigned to each word. The whole text on the other hand becomes a sequence of those numbrers - the **text is multi-hot** encoded."
   ]
  },
  {
   "cell_type": "code",
   "execution_count": 26,
   "id": "3b9b489e-1344-4911-9f3f-72789fdc2f27",
   "metadata": {},
   "outputs": [
    {
     "data": {
      "text/plain": [
       "b\"This Documentary (Now available free on Video.Google.Com) is a fantastic demonstration of the power of ordinary people to overcome injustice. Everyone must see this.<br /><br />Chavez was elected in a landslide vote in 1998. His platform was to divert the fantastic oil wealth from the 20% middle class to the 80% poor. He banned foreign drift net fishing in Venezuelan waters. He sent 10,000 Cuban doctors to the slums to treat the sick for free. He wiped out illiteracy and set up new free Universities. <br /><br />But it was his 30% tax on oil company profits that got him in trouble with the Bush administration. In 2002, while Irish film makers Kim Bartley and Donnacha O'Briain were interviewing Chavez inside the Presidential Palace about his social programs, a CIA backed coup was launched. With the cameras rolling, Chavez was captured and flown out of the country. It was announced on national TV that he had 'resigned'.<br /><br />But the poor of Venezuela didn't believe the media. They went to the Palace in their millions and demanded that Chavez be returned. In the face of such overwhelming numbers, the military turned on the coup leaders and the plotters fled to the US. Chavez was rescued by military helicopter and returned to jubilation.\""
      ]
     },
     "metadata": {},
     "output_type": "display_data"
    },
    {
     "data": {
      "text/plain": [
       "<tf.Tensor: shape=(250,), dtype=int64, numpy=\n",
       "array([  10,  676,  158, 1412,  962,   20,    1,    7,    4,  768,    1,\n",
       "          5,    2,  664,    5, 1809,   77,    6, 3042, 8554,  302,  217,\n",
       "         65,    1,   13, 8402,    8,    4,    1, 2187,    8, 6825,   24,\n",
       "       7397,   13,    6,    1,    2,  768, 3340, 3671,   36,    2,  955,\n",
       "        759,  797,    6,    2, 3461,  339,   27, 3921, 2060, 8011, 5767,\n",
       "       5627,    8,    1, 3956,   27, 1345,    1, 6336, 3835,    6,    2,\n",
       "          1,    6, 1656,    2, 1187,   16,  962,   27, 6585,   44,    1,\n",
       "          3,  272,   54,  153,  962,    1,   18,    9,   13,   24, 1183,\n",
       "       6840,   20, 3340, 1145, 9978,   12,  183,   88,    8, 1137,   15,\n",
       "          2, 3458, 9612,    8, 3847,  136, 2524,   19, 1346, 2560,    1,\n",
       "          3,    1,    1,   66,    1, 6344,  979,    2, 8951, 5388,   42,\n",
       "         24, 1007, 5528,    4, 3600, 7342, 5801,   13,    1,   15,    2,\n",
       "       3948, 2698, 6344,   13, 1798,    3,    1,   44,    5,    2,  694,\n",
       "          9,   13, 8070,   20, 1987,  245,   12,   27,   67,    1,    2,\n",
       "        339,    5,    1,  150,  253,    2, 1802,   34,  412,    6,    2,\n",
       "       5388,    8,   64, 3022,    3,    1,   12, 6344,   26, 3616,    8,\n",
       "          2,  376,    5,  135, 4269, 1494,    2, 1239,  660,   20,    2,\n",
       "       5801, 5611,    3,    2,    1,    1,    6,    2,  169, 6344,   13,\n",
       "       6616,   32, 1239, 4055,    3, 3616,    6,    1,    0,    0,    0,\n",
       "          0,    0,    0,    0,    0,    0,    0,    0,    0,    0,    0,\n",
       "          0,    0,    0,    0,    0,    0,    0,    0,    0,    0,    0,\n",
       "          0,    0,    0,    0,    0,    0,    0,    0,    0,    0,    0,\n",
       "          0,    0,    0,    0,    0,    0,    0,    0], dtype=int64)>"
      ]
     },
     "metadata": {},
     "output_type": "display_data"
    }
   ],
   "source": [
    "# The review printed below is before preprocessing \n",
    "# that is before lowercasing, removing punctuation and html.\n",
    "sample_review = list(train_data.as_numpy_iterator())[0][0]\n",
    "display(sample_review)\n",
    "display(vectorize_layer(sample_review))"
   ]
  },
  {
   "cell_type": "markdown",
   "id": "2d836c83-af4d-4dd4-928d-148350fd8156",
   "metadata": {},
   "source": [
    "### Final datasets\n",
    "\n",
    "Contain both input (vectorized amazon review) and the label."
   ]
  },
  {
   "cell_type": "code",
   "execution_count": 27,
   "id": "e3d854a3-7126-44a4-a03f-8357c9f249ed",
   "metadata": {
    "tags": []
   },
   "outputs": [
    {
     "data": {
      "text/plain": [
       "<MapDataset element_spec=(TensorSpec(shape=(None, 250), dtype=tf.int64, name=None), TensorSpec(shape=(None,), dtype=tf.int32, name=None))>"
      ]
     },
     "metadata": {},
     "output_type": "display_data"
    },
    {
     "data": {
      "text/plain": [
       "<MapDataset element_spec=(TensorSpec(shape=(None, 250), dtype=tf.int64, name=None), TensorSpec(shape=(None,), dtype=tf.int32, name=None))>"
      ]
     },
     "metadata": {},
     "output_type": "display_data"
    },
    {
     "data": {
      "text/plain": [
       "<MapDataset element_spec=(TensorSpec(shape=(None, 250), dtype=tf.int64, name=None), TensorSpec(shape=(None,), dtype=tf.int32, name=None))>"
      ]
     },
     "metadata": {},
     "output_type": "display_data"
    }
   ],
   "source": [
    "def vectorize_ds(review, label):\n",
    "    review = vectorize_layer(review)\n",
    "    return review, label\n",
    "\n",
    "train_ds = raw_training_ds.map(vectorize_ds)\n",
    "val_ds = raw_val_ds.map(vectorize_ds)\n",
    "test_ds = raw_test_ds.map(vectorize_ds)\n",
    "\n",
    "display(train_ds)\n",
    "display(val_ds)\n",
    "display(test_ds)"
   ]
  },
  {
   "cell_type": "markdown",
   "id": "939aff6e-005e-4863-9262-379e2e647167",
   "metadata": {},
   "source": [
    "### Test: single batch\n",
    "\n",
    "32 texts (review), 250 integers each. Each integer represents a unique word. The words are integer encoded, the sentences are multi-hot encoded."
   ]
  },
  {
   "cell_type": "code",
   "execution_count": 28,
   "id": "a68e08c7-134b-4588-a7f4-0136af04f374",
   "metadata": {},
   "outputs": [
    {
     "data": {
      "text/plain": [
       "(<tf.Tensor: shape=(32, 250), dtype=int64, numpy=\n",
       " array([[  11,  253,   10, ...,    0,    0,    0],\n",
       "        [1020, 2288, 3077, ...,    0,    0,    0],\n",
       "        [ 651, 1981,    1, ...,    7, 3940,   46],\n",
       "        ...,\n",
       "        [ 121,  233,   11, ..., 5329,   74,   26],\n",
       "        [  10,  348,   19, ...,    0,    0,    0],\n",
       "        [   2, 3170,    5, ...,    0,    0,    0]], dtype=int64)>,\n",
       " <tf.Tensor: shape=(32,), dtype=int32, numpy=\n",
       " array([1, 0, 0, 1, 1, 0, 0, 1, 0, 1, 0, 1, 0, 0, 1, 1, 1, 0, 1, 1, 1, 0,\n",
       "        0, 0, 1, 0, 0, 0, 0, 0, 1, 1])>)"
      ]
     },
     "execution_count": 28,
     "metadata": {},
     "output_type": "execute_result"
    }
   ],
   "source": [
    "first_train_batch = next(iter(train_ds))\n",
    "first_train_batch"
   ]
  },
  {
   "cell_type": "markdown",
   "id": "9635cc22-481d-4c15-83d7-fc202ed000ed",
   "metadata": {},
   "source": [
    "## Configure for performance"
   ]
  },
  {
   "cell_type": "code",
   "execution_count": 29,
   "id": "43369576-fc9b-4b2c-bbd7-d5776363496e",
   "metadata": {},
   "outputs": [],
   "source": [
    "train_ds = train_ds.cache().prefetch(buffer_size=AUTOTUNE)\n",
    "test_ds = test_ds.cache().prefetch(buffer_size=AUTOTUNE)\n",
    "val_ds = val_ds.cache().prefetch(buffer_size=AUTOTUNE)"
   ]
  },
  {
   "cell_type": "markdown",
   "id": "cee8423f-ae88-46d5-896b-f4c755119969",
   "metadata": {},
   "source": [
    "## Create model"
   ]
  },
  {
   "cell_type": "code",
   "execution_count": 32,
   "id": "edcfa7fc-a52b-46d5-9d9e-1fb5a1f0e4ce",
   "metadata": {},
   "outputs": [
    {
     "name": "stdout",
     "output_type": "stream",
     "text": [
      "Model: \"sequential_1\"\n",
      "_________________________________________________________________\n",
      " Layer (type)                Output Shape              Param #   \n",
      "=================================================================\n",
      " embedding_1 (Embedding)     (None, None, 16)          160016    \n",
      "                                                                 \n",
      " global_average_pooling1d_1   (None, 16)               0         \n",
      " (GlobalAveragePooling1D)                                        \n",
      "                                                                 \n",
      " dense_1 (Dense)             (None, 1)                 17        \n",
      "                                                                 \n",
      "=================================================================\n",
      "Total params: 160,033\n",
      "Trainable params: 160,033\n",
      "Non-trainable params: 0\n",
      "_________________________________________________________________\n"
     ]
    }
   ],
   "source": [
    "model = Sequential([\n",
    "    Embedding(input_dim=MAX_TOKENS+1, output_dim=16),\n",
    "    GlobalAveragePooling1D(),\n",
    "    Dense(1)])\n",
    "\n",
    "model.summary()"
   ]
  },
  {
   "cell_type": "markdown",
   "id": "f7d0bf78-2c71-497e-8146-e7804a0e47f9",
   "metadata": {},
   "source": [
    "## Add loss func and optimizer"
   ]
  },
  {
   "cell_type": "markdown",
   "id": "409429f4-7d91-4627-830b-0714d10c4404",
   "metadata": {},
   "source": [
    "The three types of cross-entropy loss functions in TensorFlow are binary_crossentropy, categorical_crossentropy, and sparse_categorical_crossentropy. While all three loss functions measure the dissimilarity between the predicted probabilities and the true labels, there are some differences in their input requirements and use cases.\n",
    "\n",
    "binary_crossentropy: This loss function is used for binary classification problems where there are only two classes. It expects the model output to be a scalar value between 0 and 1, representing the predicted probability of the positive class. The true label should be either 0 or 1. The formula for binary cross-entropy is:\n",
    "\n",
    "$L(y, \\hat{y}) = -(y\\log(\\hat{y}) + (1-y)\\log(1-\\hat{y}))$\n",
    "\n",
    "where $y$ is the true label, $\\hat{y}$ is the predicted probability, and $\\log$ is the natural logarithm.\n",
    "\n",
    "categorical_crossentropy: This loss function is used for multi-class classification problems where there are more than two classes. It expects the model output to be a vector of probabilities for each class, with the sum of probabilities equal to 1. The true label should be a one-hot encoded vector. The formula for categorical cross-entropy is:\n",
    "\n",
    "$L(y, \\hat{y}) = -\\sum_{i} y_i \\log(\\hat{y_i})$\n",
    "\n",
    "where $y$ is the true label (one-hot encoded), $\\hat{y}$ is the predicted vector of probabilities, $y_i$ is the $i$-th element of $y$, and $\\hat{y_i}$ is the $i$-th element of $\\hat{y}$.\n",
    "\n",
    "sparse_categorical_crossentropy: This loss function is used for multi-class classification problems where there are more than two classes and the true label is not one-hot encoded but represented as integers. It expects the model output to be a vector of probabilities for each class, with the sum of probabilities equal to 1. The true label should be an integer vector. The formula for sparse categorical cross-entropy is the same as categorical cross-entropy, but the true label vector $y$ is not one-hot encoded.\n",
    "\n",
    "In summary, binary_crossentropy is used for binary classification problems, categorical_crossentropy is used for multi-class classification problems with one-hot encoded labels, and sparse_categorical_crossentropy is used for multi-class classification problems with integer labels."
   ]
  },
  {
   "cell_type": "code",
   "execution_count": 78,
   "id": "317efdf7-0f56-43c9-9812-c01ff6cd797b",
   "metadata": {},
   "outputs": [],
   "source": [
    "model.compile(optimizer='adam', loss='binary_crossentropy', metrics=['accuracy'])"
   ]
  },
  {
   "cell_type": "markdown",
   "id": "016bbb92-ee9c-4cba-b7f9-8ee44e9d560a",
   "metadata": {},
   "source": [
    "## Train the model\n",
    "\n",
    "Обучаваме модела."
   ]
  },
  {
   "cell_type": "code",
   "execution_count": 79,
   "id": "42fe46b4-d1bc-40ef-bcc7-5e98c88821ab",
   "metadata": {},
   "outputs": [
    {
     "name": "stdout",
     "output_type": "stream",
     "text": [
      "Epoch 1/10\n",
      "625/625 [==============================] - 6s 7ms/step - loss: 0.8173 - accuracy: 0.5598 - val_loss: 0.6504 - val_accuracy: 0.7336\n",
      "Epoch 2/10\n",
      "625/625 [==============================] - 4s 6ms/step - loss: 0.6017 - accuracy: 0.8062 - val_loss: 0.5521 - val_accuracy: 0.8322\n",
      "Epoch 3/10\n",
      "625/625 [==============================] - 4s 6ms/step - loss: 0.4758 - accuracy: 0.8443 - val_loss: 0.4350 - val_accuracy: 0.8458\n",
      "Epoch 4/10\n",
      "625/625 [==============================] - 4s 7ms/step - loss: 0.3672 - accuracy: 0.8721 - val_loss: 0.3851 - val_accuracy: 0.8708\n",
      "Epoch 5/10\n",
      "625/625 [==============================] - 5s 8ms/step - loss: 0.3114 - accuracy: 0.8885 - val_loss: 0.3676 - val_accuracy: 0.8742\n",
      "Epoch 6/10\n",
      "625/625 [==============================] - 5s 8ms/step - loss: 0.2756 - accuracy: 0.9017 - val_loss: 0.3747 - val_accuracy: 0.8738\n",
      "Epoch 7/10\n",
      "625/625 [==============================] - 4s 7ms/step - loss: 0.2469 - accuracy: 0.9093 - val_loss: 0.4071 - val_accuracy: 0.8754\n",
      "Epoch 8/10\n",
      "625/625 [==============================] - 4s 7ms/step - loss: 0.2245 - accuracy: 0.9165 - val_loss: 0.4295 - val_accuracy: 0.8770\n",
      "Epoch 9/10\n",
      "625/625 [==============================] - 4s 6ms/step - loss: 0.2058 - accuracy: 0.9237 - val_loss: 0.4656 - val_accuracy: 0.8758\n",
      "Epoch 10/10\n",
      "625/625 [==============================] - 4s 7ms/step - loss: 0.1887 - accuracy: 0.9294 - val_loss: 0.5168 - val_accuracy: 0.8758\n"
     ]
    }
   ],
   "source": [
    "history = model.fit(train_ds, validation_data=val_ds, epochs=10)"
   ]
  },
  {
   "cell_type": "markdown",
   "id": "c28241e7-1f4d-4ebf-94ee-416ab4d927b6",
   "metadata": {},
   "source": [
    "## Evaluate the model"
   ]
  },
  {
   "cell_type": "code",
   "execution_count": 81,
   "id": "3d9fb5e0-9573-4016-90e4-b188ded50c5f",
   "metadata": {},
   "outputs": [
    {
     "name": "stdout",
     "output_type": "stream",
     "text": [
      "782/782 [==============================] - 3s 4ms/step - loss: 0.5203 - accuracy: 0.8662\n"
     ]
    }
   ],
   "source": [
    "loss, metrics = model.evaluate(test_ds)"
   ]
  },
  {
   "cell_type": "code",
   "execution_count": 82,
   "id": "f63a283f-0359-43ab-81a9-3c422b9ea04b",
   "metadata": {},
   "outputs": [
    {
     "data": {
      "text/plain": [
       "(0.5202870965003967, 0.8661999702453613)"
      ]
     },
     "execution_count": 82,
     "metadata": {},
     "output_type": "execute_result"
    }
   ],
   "source": [
    "loss, metrics"
   ]
  },
  {
   "cell_type": "markdown",
   "id": "0cea98b5-36cc-4bd0-afa9-7a1a2fbcfa04",
   "metadata": {},
   "source": [
    "## Inspect training process"
   ]
  },
  {
   "cell_type": "code",
   "execution_count": 83,
   "id": "6945ec12-d92d-4362-8a50-cd731668969d",
   "metadata": {},
   "outputs": [
    {
     "data": {
      "text/plain": [
       "[0, 1, 2, 3, 4, 5, 6, 7, 8, 9]"
      ]
     },
     "execution_count": 83,
     "metadata": {},
     "output_type": "execute_result"
    }
   ],
   "source": [
    "history.epoch"
   ]
  },
  {
   "cell_type": "code",
   "execution_count": 84,
   "id": "bfb3483c-b7b9-4514-b4ee-0599ae15c529",
   "metadata": {},
   "outputs": [
    {
     "data": {
      "text/plain": [
       "<keras.engine.sequential.Sequential at 0x212c318cdf0>"
      ]
     },
     "execution_count": 84,
     "metadata": {},
     "output_type": "execute_result"
    }
   ],
   "source": [
    "history.model"
   ]
  },
  {
   "cell_type": "code",
   "execution_count": 102,
   "id": "0b1d778b-4642-47aa-9278-5ae315ba1767",
   "metadata": {},
   "outputs": [],
   "source": [
    "epochs = history.epoch\n",
    "train_loss = history.history['loss']\n",
    "train_acc = history.history['accuracy']\n",
    "val_loss = history.history['val_loss']\n",
    "val_acc = history.history['val_accuracy']"
   ]
  },
  {
   "cell_type": "code",
   "execution_count": 106,
   "id": "f65b1817-2db5-4dd9-91d8-48ed307d4585",
   "metadata": {},
   "outputs": [
    {
     "data": {
      "image/png": "[encoded data removed]",
      "text/plain": [
       "<Figure size 640x480 with 1 Axes>"
      ]
     },
     "metadata": {},
     "output_type": "display_data"
    }
   ],
   "source": [
    "plt.plot(epochs, train_loss, 'o-', label='Training loss')\n",
    "plt.plot(epochs, val_loss, 'o-', label='Validation loss')\n",
    "\n",
    "plt.xlabel('epoch')\n",
    "plt.ylabel('loss')\n",
    "plt.ylim((0, 1))\n",
    "plt.legend()\n",
    "plt.title('Loss - train vs val')\n",
    "plt.show()"
   ]
  },
  {
   "cell_type": "code",
   "execution_count": null,
   "id": "e04e5a07-a51a-4847-983e-897027a66c94",
   "metadata": {},
   "outputs": [],
   "source": []
  },
  {
   "cell_type": "code",
   "execution_count": null,
   "id": "7dc79658-0ba7-4a3b-ab94-cde2a33bb0e4",
   "metadata": {},
   "outputs": [],
   "source": []
  },
  {
   "cell_type": "code",
   "execution_count": null,
   "id": "09d3c66a-f86f-492f-9da7-99f03819a0c3",
   "metadata": {},
   "outputs": [],
   "source": []
  },
  {
   "cell_type": "markdown",
   "id": "3cc8c4f1-2531-464c-a26b-af09b023feb1",
   "metadata": {},
   "source": [
    "## DEMO `cos` between vectors"
   ]
  },
  {
   "cell_type": "code",
   "execution_count": 63,
   "id": "0c75e2a5-ebbe-4628-ba77-880e69ac9dc7",
   "metadata": {
    "tags": []
   },
   "outputs": [
    {
     "data": {
      "text/plain": [
       "(0.0, 1.0, 0.70710677)"
      ]
     },
     "execution_count": 63,
     "metadata": {},
     "output_type": "execute_result"
    }
   ],
   "source": [
    "# Helper function to get the cosine between two vectors\n",
    "def get_cos(a, b):\n",
    "    dot_product = tf.tensordot(a, b, axes=1)\n",
    "    len_a = tf.norm(a)\n",
    "    len_b = tf.norm(b)\n",
    "    cosine = dot_product / (len_a * len_b)\n",
    "    return cosine\n",
    "\n",
    "a = tf.constant([0.0, 1.0])\n",
    "b = tf.constant([2.0, 0.0])\n",
    "c = tf.constant([4.0, 0.0])\n",
    "d = tf.constant([1.0, 1.0])\n",
    "\n",
    "get_cos(a, b).numpy(), get_cos(b, c).numpy(), get_cos(c, d).numpy()"
   ]
  },
  {
   "cell_type": "code",
   "execution_count": 30,
   "id": "36e97ef2-a46d-4e03-9799-75ab218bd2f9",
   "metadata": {
    "tags": []
   },
   "outputs": [
    {
     "name": "stdout",
     "output_type": "stream",
     "text": [
      "see seen\n",
      "Cos(see, seen) = 0.986045241355896\n",
      "Cos(see, depicting) = -0.9597927927970886\n"
     ]
    }
   ],
   "source": [
    "embedding = model.layers[0]\n",
    "\n",
    "# Two similar words\n",
    "word_067 = vectorize_layer.get_vocabulary()[67]\n",
    "word_105 = vectorize_layer.get_vocabulary()[105]\n",
    "print(word_067, word_105)\n",
    "\n",
    "# Expecting the words to be similar therefore\n",
    "# the cos to be close to 1\n",
    "a = embedding(tf.constant(67))\n",
    "b = embedding(tf.constant(105))\n",
    "print(f'Cos({word_067}, {word_105}) = {get_cos(a, b)}')    \n",
    "\n",
    "# Expecting cos close to 0 for dissimilar words\n",
    "# take word 5000 at random\n",
    "word_5000 = vectorize_layer.get_vocabulary()[5000]\n",
    "c = embedding(tf.constant(5000))\n",
    "print(f'Cos({word_067}, {word_5000}) = {get_cos(a, c)}')    "
   ]
  },
  {
   "cell_type": "markdown",
   "id": "73898198-e3f6-4a8f-9c9f-cf879152b0de",
   "metadata": {
    "tags": [],
    "toc-hr-collapsed": true
   },
   "source": [
    "## DEMO Encoding (1)"
   ]
  },
  {
   "cell_type": "markdown",
   "id": "1c129cc0-4a99-4986-956a-8a4b92412f7e",
   "metadata": {
    "jp-MarkdownHeadingCollapsed": true,
    "tags": []
   },
   "source": [
    "### Define a Vectorizer layer."
   ]
  },
  {
   "cell_type": "code",
   "execution_count": 22,
   "id": "9cd70d14-1b08-4094-b196-8697517ba84b",
   "metadata": {},
   "outputs": [],
   "source": [
    "vectorizer = TextVectorization(name='dummy_vectorizer')\n",
    "texts = [\n",
    "\t\"She she doesn’t study German on Monday.\",\n",
    "\t\"Does she live in Paris?\",\n",
    "\t\"He doesn’t teach math.\",\n",
    "\t\"Cats hate water.\",\n",
    "\t# \"Every child likes an ice cream.\",\n",
    "\t# \"My brother takes out the trash.\",\n",
    "\t# \"The course starts next Sunday.\",\n",
    "\t# \"She swims every morning.\",\n",
    "\t# \"I don’t wash the dishes.\",\n",
    "\t# \"We see them every week.\",\n",
    "\t# \"I don’t like tea.\",\n",
    "\t# \"When does the train usually leave?\",\n",
    "\t# \"She always forgets her purse.\",\n",
    "\t# \"You don’t have children.\",\n",
    "\t# \"I and my sister don’t see each other anymore.\",\n",
    "\t# \"They don’t go to school tomorrow.\",\n",
    "]"
   ]
  },
  {
   "cell_type": "markdown",
   "id": "c580f5fc-6a04-4b7d-bf80-37e0daf25da1",
   "metadata": {},
   "source": [
    "### Teach vocab."
   ]
  },
  {
   "cell_type": "code",
   "execution_count": 23,
   "id": "ff1cfbc7-6a62-43a9-9dd0-397676a4aeda",
   "metadata": {},
   "outputs": [],
   "source": [
    "vectorizer.adapt(texts)"
   ]
  },
  {
   "cell_type": "markdown",
   "id": "a15918a7-9a82-4bab-a00f-b4597446ed16",
   "metadata": {},
   "source": [
    "### Display some attributes."
   ]
  },
  {
   "cell_type": "code",
   "execution_count": 24,
   "id": "382a1849-9e0a-4f2c-bde5-49ae2fa93172",
   "metadata": {},
   "outputs": [
    {
     "data": {
      "text/plain": [
       "18"
      ]
     },
     "metadata": {},
     "output_type": "display_data"
    },
    {
     "data": {
      "text/plain": [
       "'string'"
      ]
     },
     "metadata": {},
     "output_type": "display_data"
    },
    {
     "data": {
      "text/plain": [
       "'dummy_vectorizer'"
      ]
     },
     "metadata": {},
     "output_type": "display_data"
    },
    {
     "data": {
      "text/plain": [
       "['', '[UNK]', 'she', 'doesn’t', 'water', 'teach', 'study', 'paris']"
      ]
     },
     "metadata": {},
     "output_type": "display_data"
    }
   ],
   "source": [
    "# `[UNK]` =  unknown word\n",
    "display(vectorizer.vocabulary_size())\n",
    "display(vectorizer.dtype)\n",
    "display(vectorizer.name)\n",
    "display(vectorizer.get_vocabulary()[:8])"
   ]
  },
  {
   "cell_type": "markdown",
   "id": "6e921c0a-ced4-4e34-bb23-4e43e5c36ce8",
   "metadata": {},
   "source": [
    "### Default integer encoding"
   ]
  },
  {
   "cell_type": "code",
   "execution_count": 25,
   "id": "74a8f483-4cc6-4740-9167-21102c0bdafc",
   "metadata": {},
   "outputs": [
    {
     "data": {
      "text/plain": [
       "['She she doesn’t study German on Monday.',\n",
       " 'Does she live in Paris?',\n",
       " 'He doesn’t teach math.',\n",
       " 'Cats hate water.']"
      ]
     },
     "metadata": {},
     "output_type": "display_data"
    },
    {
     "data": {
      "text/plain": [
       "<tf.Tensor: shape=(4, 7), dtype=int64, numpy=\n",
       "array([[ 2,  2,  3,  6, 15,  8,  9],\n",
       "       [16,  2, 11, 12,  7,  0,  0],\n",
       "       [13,  3,  5, 10,  0,  0,  0],\n",
       "       [17, 14,  4,  0,  0,  0,  0]], dtype=int64)>"
      ]
     },
     "metadata": {},
     "output_type": "display_data"
    }
   ],
   "source": [
    "# Default integer encoding: integer indices, one integer index per split string token.\n",
    "# Each sentence need to be a separate record -> `tf.expand_dims()`.\n",
    "display(texts)\n",
    "display(vectorizer(tf.expand_dims(texts, -1)))"
   ]
  },
  {
   "cell_type": "markdown",
   "id": "c91f2742-0c25-42e1-af43-e7fe13c77364",
   "metadata": {},
   "source": [
    "### Cap the number of tokens"
   ]
  },
  {
   "cell_type": "code",
   "execution_count": 26,
   "id": "aab59724-bac3-4090-afd4-3f440603340a",
   "metadata": {},
   "outputs": [
    {
     "data": {
      "text/plain": [
       "['', '[UNK]', 'she', 'doesn’t', 'water', 'teach', 'study', 'paris']"
      ]
     },
     "metadata": {},
     "output_type": "display_data"
    },
    {
     "data": {
      "text/plain": [
       "['She she doesn’t study German on Monday.',\n",
       " 'Does she live in Paris?',\n",
       " 'He doesn’t teach math.',\n",
       " 'Cats hate water.']"
      ]
     },
     "metadata": {},
     "output_type": "display_data"
    },
    {
     "data": {
      "text/plain": [
       "<tf.Tensor: shape=(4, 7), dtype=int64, numpy=\n",
       "array([[2, 2, 3, 6, 1, 1, 1],\n",
       "       [1, 2, 1, 1, 7, 0, 0],\n",
       "       [1, 3, 5, 1, 0, 0, 0],\n",
       "       [1, 1, 4, 0, 0, 0, 0]], dtype=int64)>"
      ]
     },
     "metadata": {},
     "output_type": "display_data"
    }
   ],
   "source": [
    "# Cap the number of tokens -> a lot of `[UNK]` (unknown words).\n",
    "vectorizer = TextVectorization(max_tokens=8)\n",
    "vectorizer.adapt(texts)\n",
    "display(vectorizer.get_vocabulary())\n",
    "\n",
    "display(texts)\n",
    "display(vectorizer(tf.expand_dims(texts, -1)))"
   ]
  },
  {
   "cell_type": "markdown",
   "id": "e9024a90-7041-470e-939d-b64fcb9e7adf",
   "metadata": {},
   "source": [
    "### Increase the len of the output encoding."
   ]
  },
  {
   "cell_type": "code",
   "execution_count": 27,
   "id": "308c9ec0-aacf-406c-8c74-1a682cbf0957",
   "metadata": {},
   "outputs": [
    {
     "data": {
      "text/plain": [
       "['', '[UNK]', 'she', 'doesn’t', 'water', 'teach', 'study', 'paris']"
      ]
     },
     "metadata": {},
     "output_type": "display_data"
    },
    {
     "data": {
      "text/plain": [
       "['She she doesn’t study German on Monday.',\n",
       " 'Does she live in Paris?',\n",
       " 'He doesn’t teach math.',\n",
       " 'Cats hate water.']"
      ]
     },
     "metadata": {},
     "output_type": "display_data"
    },
    {
     "data": {
      "text/plain": [
       "<tf.Tensor: shape=(4, 20), dtype=int64, numpy=\n",
       "array([[2, 2, 3, 6, 1, 1, 1, 0, 0, 0, 0, 0, 0, 0, 0, 0, 0, 0, 0, 0],\n",
       "       [1, 2, 1, 1, 7, 0, 0, 0, 0, 0, 0, 0, 0, 0, 0, 0, 0, 0, 0, 0],\n",
       "       [1, 3, 5, 1, 0, 0, 0, 0, 0, 0, 0, 0, 0, 0, 0, 0, 0, 0, 0, 0],\n",
       "       [1, 1, 4, 0, 0, 0, 0, 0, 0, 0, 0, 0, 0, 0, 0, 0, 0, 0, 0, 0]],\n",
       "      dtype=int64)>"
      ]
     },
     "metadata": {},
     "output_type": "display_data"
    }
   ],
   "source": [
    "# Increase the len of the output encoding -> trailing zeros.\n",
    "vectorizer = TextVectorization(max_tokens=8, output_sequence_length=20)\n",
    "vectorizer.adapt(texts)\n",
    "display(vectorizer.get_vocabulary())\n",
    "\n",
    "display(texts)\n",
    "display(vectorizer(tf.expand_dims(texts, -1)))"
   ]
  },
  {
   "cell_type": "markdown",
   "id": "2a3e4548-02db-442b-867d-606905c0d535",
   "metadata": {
    "tags": []
   },
   "source": [
    "### Add ngrams"
   ]
  },
  {
   "cell_type": "code",
   "execution_count": 28,
   "id": "b5f578d1-1198-487d-b520-152da6d9b269",
   "metadata": {
    "tags": []
   },
   "outputs": [
    {
     "name": "stdout",
     "output_type": "stream",
     "text": [
      "WARNING:tensorflow:5 out of the last 629 calls to <function PreprocessingLayer.make_adapt_function.<locals>.adapt_step at 0x00000212B087FF40> triggered tf.function retracing. Tracing is expensive and the excessive number of tracings could be due to (1) creating @tf.function repeatedly in a loop, (2) passing tensors with different shapes, (3) passing Python objects instead of tensors. For (1), please define your @tf.function outside of the loop. For (2), @tf.function has reduce_retracing=True option that can avoid unnecessary retracing. For (3), please refer to https://www.tensorflow.org/guide/function#controlling_retracing and https://www.tensorflow.org/api_docs/python/tf/function for  more details.\n"
     ]
    },
    {
     "data": {
      "text/plain": [
       "['',\n",
       " '[UNK]',\n",
       " 'she',\n",
       " 'doesn’t',\n",
       " 'water',\n",
       " 'teach math',\n",
       " 'teach',\n",
       " 'study german',\n",
       " 'study',\n",
       " 'she she',\n",
       " 'she live',\n",
       " 'she doesn’t',\n",
       " 'paris',\n",
       " 'on monday',\n",
       " 'on',\n",
       " 'monday',\n",
       " 'math',\n",
       " 'live in',\n",
       " 'live',\n",
       " 'in paris',\n",
       " 'in',\n",
       " 'he doesn’t',\n",
       " 'he',\n",
       " 'hate water',\n",
       " 'hate',\n",
       " 'german on',\n",
       " 'german',\n",
       " 'doesn’t teach',\n",
       " 'doesn’t study',\n",
       " 'does she',\n",
       " 'does',\n",
       " 'cats hate',\n",
       " 'cats']"
      ]
     },
     "metadata": {},
     "output_type": "display_data"
    },
    {
     "data": {
      "text/plain": [
       "['She she doesn’t study German on Monday.',\n",
       " 'Does she live in Paris?',\n",
       " 'He doesn’t teach math.',\n",
       " 'Cats hate water.']"
      ]
     },
     "metadata": {},
     "output_type": "display_data"
    },
    {
     "data": {
      "text/plain": [
       "<tf.Tensor: shape=(4, 13), dtype=int64, numpy=\n",
       "array([[ 2,  2,  3,  8, 26, 14, 15,  9, 11, 28,  7, 25, 13],\n",
       "       [30,  2, 18, 20, 12, 29, 10, 17, 19,  0,  0,  0,  0],\n",
       "       [22,  3,  6, 16, 21, 27,  5,  0,  0,  0,  0,  0,  0],\n",
       "       [32, 24,  4, 31, 23,  0,  0,  0,  0,  0,  0,  0,  0]], dtype=int64)>"
      ]
     },
     "metadata": {},
     "output_type": "display_data"
    }
   ],
   "source": [
    "# Add ngrams -> vocabulary size increases.\n",
    "vectorizer = TextVectorization(ngrams=2)\n",
    "vectorizer.adapt(texts)\n",
    "display(vectorizer.get_vocabulary())\n",
    "\n",
    "display(texts)\n",
    "display(vectorizer(tf.expand_dims(texts, -1)))"
   ]
  },
  {
   "cell_type": "markdown",
   "id": "0dfe7b5f-a569-4470-9aa4-f437c0f380fd",
   "metadata": {
    "tags": []
   },
   "source": [
    "### One-hot encode"
   ]
  },
  {
   "cell_type": "code",
   "execution_count": 29,
   "id": "f59afc1f-b615-4188-a329-f3999f90ef91",
   "metadata": {
    "tags": []
   },
   "outputs": [
    {
     "name": "stdout",
     "output_type": "stream",
     "text": [
      "WARNING:tensorflow:6 out of the last 630 calls to <function PreprocessingLayer.make_adapt_function.<locals>.adapt_step at 0x00000212BCCF6560> triggered tf.function retracing. Tracing is expensive and the excessive number of tracings could be due to (1) creating @tf.function repeatedly in a loop, (2) passing tensors with different shapes, (3) passing Python objects instead of tensors. For (1), please define your @tf.function outside of the loop. For (2), @tf.function has reduce_retracing=True option that can avoid unnecessary retracing. For (3), please refer to https://www.tensorflow.org/guide/function#controlling_retracing and https://www.tensorflow.org/api_docs/python/tf/function for  more details.\n"
     ]
    },
    {
     "data": {
      "text/plain": [
       "['[UNK]',\n",
       " 'she',\n",
       " 'doesn’t',\n",
       " 'water',\n",
       " 'teach',\n",
       " 'study',\n",
       " 'paris',\n",
       " 'on',\n",
       " 'monday',\n",
       " 'math',\n",
       " 'live',\n",
       " 'in',\n",
       " 'he',\n",
       " 'hate',\n",
       " 'german',\n",
       " 'does',\n",
       " 'cats']"
      ]
     },
     "metadata": {},
     "output_type": "display_data"
    },
    {
     "data": {
      "text/plain": [
       "['She she doesn’t study German on Monday.',\n",
       " 'Does she live in Paris?',\n",
       " 'He doesn’t teach math.',\n",
       " 'Cats hate water.']"
      ]
     },
     "metadata": {},
     "output_type": "display_data"
    },
    {
     "data": {
      "text/plain": [
       "<tf.Tensor: shape=(4, 17), dtype=float32, numpy=\n",
       "array([[0., 1., 1., 0., 0., 1., 0., 1., 1., 0., 0., 0., 0., 0., 1., 0.,\n",
       "        0.],\n",
       "       [0., 1., 0., 0., 0., 0., 1., 0., 0., 0., 1., 1., 0., 0., 0., 1.,\n",
       "        0.],\n",
       "       [0., 0., 1., 0., 1., 0., 0., 0., 0., 1., 0., 0., 1., 0., 0., 0.,\n",
       "        0.],\n",
       "       [0., 0., 0., 1., 0., 0., 0., 0., 0., 0., 0., 0., 0., 1., 0., 0.,\n",
       "        1.]], dtype=float32)>"
      ]
     },
     "metadata": {},
     "output_type": "display_data"
    }
   ],
   "source": [
    "# One-hot encode each text (sentence).\n",
    "vectorizer = TextVectorization(output_mode='multi_hot')\n",
    "vectorizer.adapt(texts)\n",
    "display(vectorizer.get_vocabulary())\n",
    "\n",
    "display(texts)\n",
    "display(vectorizer(tf.expand_dims(texts, -1)))"
   ]
  },
  {
   "cell_type": "markdown",
   "id": "c50c6f4e-1009-4314-b7a6-66d9b7efda01",
   "metadata": {
    "tags": []
   },
   "source": [
    "### `output_mode='count'`"
   ]
  },
  {
   "cell_type": "code",
   "execution_count": 30,
   "id": "166ee760-56d6-46a6-94cb-eeb27fdae0f4",
   "metadata": {
    "tags": []
   },
   "outputs": [
    {
     "data": {
      "text/plain": [
       "['[UNK]',\n",
       " 'she',\n",
       " 'doesn’t',\n",
       " 'water',\n",
       " 'teach',\n",
       " 'study',\n",
       " 'paris',\n",
       " 'on',\n",
       " 'monday',\n",
       " 'math',\n",
       " 'live',\n",
       " 'in',\n",
       " 'he',\n",
       " 'hate',\n",
       " 'german',\n",
       " 'does',\n",
       " 'cats']"
      ]
     },
     "metadata": {},
     "output_type": "display_data"
    },
    {
     "data": {
      "text/plain": [
       "['She she doesn’t study German on Monday.',\n",
       " 'Does she live in Paris?',\n",
       " 'He doesn’t teach math.',\n",
       " 'Cats hate water.']"
      ]
     },
     "metadata": {},
     "output_type": "display_data"
    },
    {
     "data": {
      "text/plain": [
       "<tf.Tensor: shape=(4, 17), dtype=float32, numpy=\n",
       "array([[0., 2., 1., 0., 0., 1., 0., 1., 1., 0., 0., 0., 0., 0., 1., 0.,\n",
       "        0.],\n",
       "       [0., 1., 0., 0., 0., 0., 1., 0., 0., 0., 1., 1., 0., 0., 0., 1.,\n",
       "        0.],\n",
       "       [0., 0., 1., 0., 1., 0., 0., 0., 0., 1., 0., 0., 1., 0., 0., 0.,\n",
       "        0.],\n",
       "       [0., 0., 0., 1., 0., 0., 0., 0., 0., 0., 0., 0., 0., 1., 0., 0.,\n",
       "        1.]], dtype=float32)>"
      ]
     },
     "metadata": {},
     "output_type": "display_data"
    }
   ],
   "source": [
    "vectorizer = TextVectorization(output_mode='count')\n",
    "vectorizer.adapt(texts)\n",
    "display(vectorizer.get_vocabulary())\n",
    "\n",
    "display(texts)\n",
    "display(vectorizer(tf.expand_dims(texts, -1)))"
   ]
  },
  {
   "cell_type": "markdown",
   "id": "3d15c0da-6731-43f0-9d28-697a68197e12",
   "metadata": {
    "tags": []
   },
   "source": [
    "### One-hot encoding with TF-IDF instead of ints. "
   ]
  },
  {
   "cell_type": "code",
   "execution_count": 31,
   "id": "1c5519b2-bc14-45f7-a63a-420b234497c3",
   "metadata": {
    "tags": []
   },
   "outputs": [
    {
     "data": {
      "text/plain": [
       "['[UNK]',\n",
       " 'she',\n",
       " 'doesn’t',\n",
       " 'water',\n",
       " 'teach',\n",
       " 'study',\n",
       " 'paris',\n",
       " 'on',\n",
       " 'monday',\n",
       " 'math',\n",
       " 'live',\n",
       " 'in',\n",
       " 'he',\n",
       " 'hate',\n",
       " 'german',\n",
       " 'does',\n",
       " 'cats']"
      ]
     },
     "metadata": {},
     "output_type": "display_data"
    },
    {
     "data": {
      "text/plain": [
       "['She she doesn’t study German on Monday.',\n",
       " 'Does she live in Paris?',\n",
       " 'He doesn’t teach math.',\n",
       " 'Cats hate water.']"
      ]
     },
     "metadata": {},
     "output_type": "display_data"
    },
    {
     "data": {
      "text/plain": [
       "<tf.Tensor: shape=(4, 17), dtype=float32, numpy=\n",
       "array([[0.        , 1.6945957 , 0.84729785, 0.        , 0.        ,\n",
       "        1.0986123 , 0.        , 1.0986123 , 1.0986123 , 0.        ,\n",
       "        0.        , 0.        , 0.        , 0.        , 1.0986123 ,\n",
       "        0.        , 0.        ],\n",
       "       [0.        , 0.84729785, 0.        , 0.        , 0.        ,\n",
       "        0.        , 1.0986123 , 0.        , 0.        , 0.        ,\n",
       "        1.0986123 , 1.0986123 , 0.        , 0.        , 0.        ,\n",
       "        1.0986123 , 0.        ],\n",
       "       [0.        , 0.        , 0.84729785, 0.        , 1.0986123 ,\n",
       "        0.        , 0.        , 0.        , 0.        , 1.0986123 ,\n",
       "        0.        , 0.        , 1.0986123 , 0.        , 0.        ,\n",
       "        0.        , 0.        ],\n",
       "       [0.        , 0.        , 0.        , 1.0986123 , 0.        ,\n",
       "        0.        , 0.        , 0.        , 0.        , 0.        ,\n",
       "        0.        , 0.        , 0.        , 1.0986123 , 0.        ,\n",
       "        0.        , 1.0986123 ]], dtype=float32)>"
      ]
     },
     "metadata": {},
     "output_type": "display_data"
    }
   ],
   "source": [
    "vectorizer = TextVectorization(output_mode='tf-idf')\n",
    "vectorizer.adapt(texts)\n",
    "display(vectorizer.get_vocabulary())\n",
    "\n",
    "display(texts)\n",
    "display(vectorizer(tf.expand_dims(texts, -1)))"
   ]
  },
  {
   "cell_type": "markdown",
   "id": "e659e57e-85f0-441d-a1c9-60c444ca70e9",
   "metadata": {
    "jp-MarkdownHeadingCollapsed": true,
    "tags": []
   },
   "source": [
    "## DEMO Encoding (2)"
   ]
  },
  {
   "cell_type": "code",
   "execution_count": 32,
   "id": "933cbea3-0d3f-4e8f-be84-0aa9b59cf046",
   "metadata": {},
   "outputs": [],
   "source": [
    "textual_data = [\n",
    "    'She is in Paris.',\n",
    "    'Is she here?',\n",
    "    'She is outside.'\n",
    "]"
   ]
  },
  {
   "cell_type": "code",
   "execution_count": 33,
   "id": "bd053ff8-991b-4d4b-814b-06fe87683ff3",
   "metadata": {},
   "outputs": [
    {
     "data": {
      "text/plain": [
       "array([[2, 3, 6, 4],\n",
       "       [3, 2, 7, 0],\n",
       "       [2, 3, 5, 0]], dtype=int64)"
      ]
     },
     "execution_count": 33,
     "metadata": {},
     "output_type": "execute_result"
    }
   ],
   "source": [
    "# Integer encoding = type of label encoding\n",
    "vectorizer = tf.keras.layers.TextVectorization()\n",
    "vectorizer.adapt(textual_data)\n",
    "vectorizer(textual_data).numpy()"
   ]
  },
  {
   "cell_type": "code",
   "execution_count": 34,
   "id": "5ebe85d2-c4fa-4e1b-bec9-28d1e4b80e64",
   "metadata": {},
   "outputs": [
    {
     "data": {
      "text/plain": [
       "array([array([2, 3, 6, 4], dtype=int64), array([3, 2, 7], dtype=int64),\n",
       "       array([2, 3, 5], dtype=int64)], dtype=object)"
      ]
     },
     "execution_count": 34,
     "metadata": {},
     "output_type": "execute_result"
    }
   ],
   "source": [
    "# Integer encoding, неравен (ragged)\n",
    "vectorizer = tf.keras.layers.TextVectorization(ragged=True)\n",
    "vectorizer.adapt(textual_data)\n",
    "vectorizer(textual_data).numpy()"
   ]
  },
  {
   "cell_type": "code",
   "execution_count": 35,
   "id": "011f5db0-c25b-4de9-bc61-ffcd7451fbb8",
   "metadata": {},
   "outputs": [
    {
     "ename": "ValueError",
     "evalue": "setting an array element with a sequence.",
     "output_type": "error",
     "traceback": [
      "\u001b[1;31m---------------------------------------------------------------------------\u001b[0m",
      "\u001b[1;31mValueError\u001b[0m                                Traceback (most recent call last)",
      "\u001b[1;32m~\\AppData\\Local\\Temp\\ipykernel_13972\\2874358903.py\u001b[0m in \u001b[0;36m<module>\u001b[1;34m\u001b[0m\n\u001b[0;32m      1\u001b[0m \u001b[1;31m# one-hot encoding of each\u001b[0m\u001b[1;33m\u001b[0m\u001b[1;33m\u001b[0m\u001b[0m\n\u001b[1;32m----> 2\u001b[1;33m \u001b[0mvectorizer\u001b[0m\u001b[1;33m(\u001b[0m\u001b[0mtextual_data\u001b[0m\u001b[1;33m)\u001b[0m\u001b[1;33m.\u001b[0m\u001b[0mnumpy\u001b[0m\u001b[1;33m(\u001b[0m\u001b[1;33m)\u001b[0m\u001b[1;33m,\u001b[0m \u001b[0mtf\u001b[0m\u001b[1;33m.\u001b[0m\u001b[0mone_hot\u001b[0m\u001b[1;33m(\u001b[0m\u001b[0mvectorizer\u001b[0m\u001b[1;33m(\u001b[0m\u001b[0mtextual_data\u001b[0m\u001b[1;33m)\u001b[0m\u001b[1;33m.\u001b[0m\u001b[0mnumpy\u001b[0m\u001b[1;33m(\u001b[0m\u001b[1;33m)\u001b[0m\u001b[1;33m,\u001b[0m \u001b[1;36m8\u001b[0m\u001b[1;33m)\u001b[0m\u001b[1;33m\u001b[0m\u001b[1;33m\u001b[0m\u001b[0m\n\u001b[0m",
      "\u001b[1;32m~\\Anaconda3\\envs\\deep_learning\\lib\\site-packages\\tensorflow\\python\\util\\traceback_utils.py\u001b[0m in \u001b[0;36merror_handler\u001b[1;34m(*args, **kwargs)\u001b[0m\n\u001b[0;32m    151\u001b[0m     \u001b[1;32mexcept\u001b[0m \u001b[0mException\u001b[0m \u001b[1;32mas\u001b[0m \u001b[0me\u001b[0m\u001b[1;33m:\u001b[0m\u001b[1;33m\u001b[0m\u001b[1;33m\u001b[0m\u001b[0m\n\u001b[0;32m    152\u001b[0m       \u001b[0mfiltered_tb\u001b[0m \u001b[1;33m=\u001b[0m \u001b[0m_process_traceback_frames\u001b[0m\u001b[1;33m(\u001b[0m\u001b[0me\u001b[0m\u001b[1;33m.\u001b[0m\u001b[0m__traceback__\u001b[0m\u001b[1;33m)\u001b[0m\u001b[1;33m\u001b[0m\u001b[1;33m\u001b[0m\u001b[0m\n\u001b[1;32m--> 153\u001b[1;33m       \u001b[1;32mraise\u001b[0m \u001b[0me\u001b[0m\u001b[1;33m.\u001b[0m\u001b[0mwith_traceback\u001b[0m\u001b[1;33m(\u001b[0m\u001b[0mfiltered_tb\u001b[0m\u001b[1;33m)\u001b[0m \u001b[1;32mfrom\u001b[0m \u001b[1;32mNone\u001b[0m\u001b[1;33m\u001b[0m\u001b[1;33m\u001b[0m\u001b[0m\n\u001b[0m\u001b[0;32m    154\u001b[0m     \u001b[1;32mfinally\u001b[0m\u001b[1;33m:\u001b[0m\u001b[1;33m\u001b[0m\u001b[1;33m\u001b[0m\u001b[0m\n\u001b[0;32m    155\u001b[0m       \u001b[1;32mdel\u001b[0m \u001b[0mfiltered_tb\u001b[0m\u001b[1;33m\u001b[0m\u001b[1;33m\u001b[0m\u001b[0m\n",
      "\u001b[1;32m~\\Anaconda3\\envs\\deep_learning\\lib\\site-packages\\tensorflow\\python\\ops\\gen_array_ops.py\u001b[0m in \u001b[0;36mone_hot\u001b[1;34m(indices, depth, on_value, off_value, axis, name)\u001b[0m\n\u001b[0;32m   8064\u001b[0m   \u001b[1;32mif\u001b[0m \u001b[0mtld\u001b[0m\u001b[1;33m.\u001b[0m\u001b[0mis_eager\u001b[0m\u001b[1;33m:\u001b[0m\u001b[1;33m\u001b[0m\u001b[1;33m\u001b[0m\u001b[0m\n\u001b[0;32m   8065\u001b[0m     \u001b[1;32mtry\u001b[0m\u001b[1;33m:\u001b[0m\u001b[1;33m\u001b[0m\u001b[1;33m\u001b[0m\u001b[0m\n\u001b[1;32m-> 8066\u001b[1;33m       _result = pywrap_tfe.TFE_Py_FastPathExecute(\n\u001b[0m\u001b[0;32m   8067\u001b[0m         \u001b[0m_ctx\u001b[0m\u001b[1;33m,\u001b[0m \u001b[1;34m\"OneHot\"\u001b[0m\u001b[1;33m,\u001b[0m \u001b[0mname\u001b[0m\u001b[1;33m,\u001b[0m \u001b[0mindices\u001b[0m\u001b[1;33m,\u001b[0m \u001b[0mdepth\u001b[0m\u001b[1;33m,\u001b[0m \u001b[0mon_value\u001b[0m\u001b[1;33m,\u001b[0m \u001b[0moff_value\u001b[0m\u001b[1;33m,\u001b[0m \u001b[1;34m\"axis\"\u001b[0m\u001b[1;33m,\u001b[0m\u001b[1;33m\u001b[0m\u001b[1;33m\u001b[0m\u001b[0m\n\u001b[0;32m   8068\u001b[0m         axis)\n",
      "\u001b[1;31mValueError\u001b[0m: setting an array element with a sequence."
     ]
    }
   ],
   "source": [
    "# one-hot encoding of each\n",
    "vectorizer(textual_data).numpy(), tf.one_hot(vectorizer(textual_data).numpy(), 8)"
   ]
  },
  {
   "cell_type": "code",
   "execution_count": null,
   "id": "8309d928-3250-4f5c-abac-71687105112d",
   "metadata": {},
   "outputs": [],
   "source": [
    "# Multi-hot encoding\n",
    "vectorizer = tf.keras.layers.TextVectorization(output_mode='multi_hot')\n",
    "vectorizer.adapt(textual_data)\n",
    "print(textual_data)\n",
    "vectorizer(textual_data)"
   ]
  },
  {
   "cell_type": "markdown",
   "id": "d5eb4a38-ee2b-438c-bdcb-e4b47fec6900",
   "metadata": {
    "jp-MarkdownHeadingCollapsed": true,
    "tags": []
   },
   "source": [
    "## DEMO `tf.expand_dims()`"
   ]
  },
  {
   "cell_type": "code",
   "execution_count": null,
   "id": "c88341e7-8294-48b7-9e63-55f50129e1a6",
   "metadata": {},
   "outputs": [],
   "source": [
    "display(tf.expand_dims([1, 2], -1))\n",
    "display(tf.expand_dims([1, 2], 0))\n",
    "display(tf.expand_dims(tf.expand_dims([1, 2], 0), 0))\n",
    "display(tf.expand_dims(tf.expand_dims([1, 2], -1), -1))"
   ]
  },
  {
   "cell_type": "code",
   "execution_count": null,
   "id": "8e7e3885-265a-4b1b-b12f-f9d8514c9901",
   "metadata": {},
   "outputs": [],
   "source": [
    "tf.expand_dims('asd', -1)"
   ]
  },
  {
   "cell_type": "markdown",
   "id": "84931368-8163-457e-80b9-7471d98d373e",
   "metadata": {
    "jp-MarkdownHeadingCollapsed": true,
    "tags": []
   },
   "source": [
    "## DEMO Caching"
   ]
  },
  {
   "cell_type": "code",
   "execution_count": null,
   "id": "c97e4588-9b15-4a49-a8e4-ca26b20163f0",
   "metadata": {},
   "outputs": [],
   "source": [
    "# Make folder to store cache files.\n",
    "cache_dir = '/tmp_cache'\n",
    "if not os.path.exists(cache_dir):\n",
    "    os.mkdir(cache_dir)\n",
    "\n",
    "    \n",
    "train_ds = train_ds.cache(cache_dir)\n",
    "iterator = train_ds.as_numpy_iterator()\n",
    "\n",
    "# Iterating happens here!\n",
    "list(iterator)"
   ]
  },
  {
   "cell_type": "markdown",
   "id": "85eb1a6c-1e98-4ba1-906a-08d512797ed2",
   "metadata": {
    "jp-MarkdownHeadingCollapsed": true,
    "tags": []
   },
   "source": [
    "## DEMO `tf.data`"
   ]
  },
  {
   "cell_type": "code",
   "execution_count": null,
   "id": "33ef0a80-cbbb-465e-abbc-d8ce218267bb",
   "metadata": {},
   "outputs": [],
   "source": [
    "tf.data.INFINITE_CARDINALITY"
   ]
  },
  {
   "cell_type": "code",
   "execution_count": null,
   "id": "9cbfac31-595a-42db-a67b-d248a2fb32d8",
   "metadata": {},
   "outputs": [],
   "source": [
    "tf.data.UNKNOWN_CARDINALITY"
   ]
  },
  {
   "cell_type": "code",
   "execution_count": null,
   "id": "8b9ddb24-37e7-4977-af75-7530c400370f",
   "metadata": {},
   "outputs": [],
   "source": [
    "tf.data.Dataset"
   ]
  },
  {
   "cell_type": "code",
   "execution_count": null,
   "id": "7d057054-3822-4a99-b9e1-0ff1621a4011",
   "metadata": {},
   "outputs": [],
   "source": [
    "tf.data.experimental.AUTOTUNE"
   ]
  },
  {
   "cell_type": "code",
   "execution_count": null,
   "id": "024213f5-6e9e-47c4-9e74-eaf8435b338b",
   "metadata": {},
   "outputs": [],
   "source": [
    "tf.data.FixedLengthRecordDataset()"
   ]
  },
  {
   "cell_type": "markdown",
   "id": "299573c3-6f95-49a5-95a9-87b130a34a85",
   "metadata": {
    "jp-MarkdownHeadingCollapsed": true,
    "tags": []
   },
   "source": [
    "## DEMO Binary files"
   ]
  },
  {
   "cell_type": "code",
   "execution_count": null,
   "id": "373d8f4f-2891-4236-8d0b-e91a4250941f",
   "metadata": {},
   "outputs": [],
   "source": [
    "filename = 'dummy_text.txt'\n",
    "some_text = 'ю'\n",
    "\n",
    "with open(filename, 'w', encoding='utf-8') as f:\n",
    "    f.write(some_text)\n",
    "    \n",
    "with open(filename, 'br') as f:\n",
    "    print(f'Bytes stored in the file: \\t{f.read()}')\n",
    "    \n",
    "print(f'Unicode value for {some_text}: \\t\\t{ord(some_text)}')\n",
    "print(hex(ord(some_text)))"
   ]
  },
  {
   "cell_type": "markdown",
   "id": "c8949300-f29c-4ed7-9bdf-228f45bc1aa6",
   "metadata": {
    "jp-MarkdownHeadingCollapsed": true,
    "tags": []
   },
   "source": [
    "## DEMO `io`"
   ]
  },
  {
   "cell_type": "code",
   "execution_count": 36,
   "id": "dc7c20ea-9a90-41e4-8abe-c614a14634b8",
   "metadata": {},
   "outputs": [],
   "source": [
    "import io"
   ]
  },
  {
   "cell_type": "code",
   "execution_count": 43,
   "id": "52ad93ff-211b-4446-b017-61ab8a71f0ef",
   "metadata": {},
   "outputs": [],
   "source": [
    "# out = io.open('dummy.tsv', 'w')\n",
    "# out.write('\\t'.join(list('asvd')))\n",
    "# out.close()"
   ]
  },
  {
   "cell_type": "markdown",
   "id": "41f93d17-b737-4443-82d9-2420005111c5",
   "metadata": {
    "jp-MarkdownHeadingCollapsed": true,
    "tags": []
   },
   "source": [
    "## DEMO `itertools`"
   ]
  },
  {
   "cell_type": "code",
   "execution_count": 62,
   "id": "b33deb56-82be-477b-83b4-99736e7bfca5",
   "metadata": {},
   "outputs": [],
   "source": [
    "from itertools import cycle, chain"
   ]
  },
  {
   "cell_type": "code",
   "execution_count": 61,
   "id": "ee9060cb-ee6d-4c83-be70-520884489ae4",
   "metadata": {},
   "outputs": [
    {
     "data": {
      "image/png": "[encoded data removed]",
      "text/plain": [
       "<Figure size 640x480 with 1 Axes>"
      ]
     },
     "metadata": {},
     "output_type": "display_data"
    }
   ],
   "source": [
    "colors = cycle([f'C{i}' for i in range(3)])\n",
    "\n",
    "plt.plot((0,1), (0,1), c=next(colors))\n",
    "plt.plot((0,1), (0,2), c=next(colors))\n",
    "plt.plot((0,3), (0,1), c=next(colors))\n",
    "plt.plot((0,1.5), (0,1), c=next(colors))\n",
    "plt.plot((0,3), (0,1.5), c=next(colors))\n",
    "plt.show()"
   ]
  },
  {
   "cell_type": "markdown",
   "id": "f2d79496-a89d-48a9-a289-a3c210a80609",
   "metadata": {
    "jp-MarkdownHeadingCollapsed": true,
    "tags": []
   },
   "source": [
    "## DEMO `decode`"
   ]
  },
  {
   "cell_type": "code",
   "execution_count": 65,
   "id": "129136dc-5731-46f5-9252-592f77149fdb",
   "metadata": {},
   "outputs": [
    {
     "data": {
      "text/plain": [
       "'日本'"
      ]
     },
     "execution_count": 65,
     "metadata": {},
     "output_type": "execute_result"
    }
   ],
   "source": [
    "b'\\xE6\\x97\\xA5\\xE6\\x9C\\xAC'.decode('utf-8')"
   ]
  }
 ],
 "metadata": {
  "kernelspec": {
   "display_name": "Python 3 (ipykernel)",
   "language": "python",
   "name": "python3"
  },
  "language_info": {
   "codemirror_mode": {
    "name": "ipython",
    "version": 3
   },
   "file_extension": ".py",
   "mimetype": "text/x-python",
   "name": "python",
   "nbconvert_exporter": "python",
   "pygments_lexer": "ipython3",
   "version": "3.10.9"
  },
  "toc-autonumbering": false,
  "toc-showcode": false,
  "toc-showmarkdowntxt": false,
  "toc-showtags": false
 },
 "nbformat": 4,
 "nbformat_minor": 5
}
