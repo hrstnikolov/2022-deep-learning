{
 "cells": [
  {
   "cell_type": "code",
   "execution_count": 1,
   "id": "a06aa5cf-55d8-46ba-a603-4f78e03abe96",
   "metadata": {},
   "outputs": [],
   "source": [
    "%matplotlib inline"
   ]
  },
  {
   "cell_type": "code",
   "execution_count": 2,
   "id": "84010859-4a67-48bb-a75e-1b536fcd5981",
   "metadata": {},
   "outputs": [],
   "source": [
    "import numpy as np\n",
    "import pandas as pd\n",
    "import matplotlib.pyplot as plt\n",
    "\n",
    "import tensorflow as tf\n",
    "from tensorflow.keras.models import Sequential\n",
    "from tensorflow.keras.layers import Input, GRU, LSTM"
   ]
  },
  {
   "cell_type": "markdown",
   "id": "c5f66c51-92e1-49e6-bd97-37abeff12bcd",
   "metadata": {
    "tags": []
   },
   "source": [
    "# GRU and LSTM Intro\n",
    "\n",
    "Layers with gates. Identical use as `SimpleRNN`"
   ]
  },
  {
   "cell_type": "code",
   "execution_count": 6,
   "id": "af6d87a5-7d58-43e4-ae7d-ea5f099c3ae6",
   "metadata": {},
   "outputs": [
    {
     "name": "stdout",
     "output_type": "stream",
     "text": [
      "Model: \"sequential_3\"\n",
      "_________________________________________________________________\n",
      " Layer (type)                Output Shape              Param #   \n",
      "=================================================================\n",
      " gru_3 (GRU)                 (None, 20)                1620      \n",
      "                                                                 \n",
      "=================================================================\n",
      "Total params: 1,620\n",
      "Trainable params: 1,620\n",
      "Non-trainable params: 0\n",
      "_________________________________________________________________\n"
     ]
    }
   ],
   "source": [
    "gru = Sequential([\n",
    "    Input(shape=(50,5)),\n",
    "    GRU(20),\n",
    "])\n",
    "\n",
    "gru.summary()"
   ]
  },
  {
   "cell_type": "code",
   "execution_count": 7,
   "id": "524db01c-82eb-4f54-9246-362963b318e2",
   "metadata": {},
   "outputs": [
    {
     "name": "stdout",
     "output_type": "stream",
     "text": [
      "Model: \"sequential_4\"\n",
      "_________________________________________________________________\n",
      " Layer (type)                Output Shape              Param #   \n",
      "=================================================================\n",
      " gru_4 (GRU)                 (None, 50, 20)            1620      \n",
      "                                                                 \n",
      "=================================================================\n",
      "Total params: 1,620\n",
      "Trainable params: 1,620\n",
      "Non-trainable params: 0\n",
      "_________________________________________________________________\n"
     ]
    }
   ],
   "source": [
    "gru = Sequential([\n",
    "    Input(shape=(50,5)),\n",
    "    GRU(20, return_sequences=True),\n",
    "])\n",
    "\n",
    "gru.summary()"
   ]
  },
  {
   "cell_type": "code",
   "execution_count": 13,
   "id": "6ebe6bfd-2324-4f28-97bd-77c916b7d14c",
   "metadata": {},
   "outputs": [],
   "source": [
    "lstm = Sequential([\n",
    "    Input(shape=(50,5)),\n",
    "    LSTM(20),\n",
    "])"
   ]
  },
  {
   "cell_type": "code",
   "execution_count": 14,
   "id": "50e9a28d-bff9-4e6e-94dd-f0fa43b4e18f",
   "metadata": {},
   "outputs": [
    {
     "name": "stdout",
     "output_type": "stream",
     "text": [
      "Model: \"sequential_1\"\n",
      "_________________________________________________________________\n",
      " Layer (type)                Output Shape              Param #   \n",
      "=================================================================\n",
      " lstm (LSTM)                 (None, 20)                2080      \n",
      "                                                                 \n",
      "=================================================================\n",
      "Total params: 2,080\n",
      "Trainable params: 2,080\n",
      "Non-trainable params: 0\n",
      "_________________________________________________________________\n"
     ]
    }
   ],
   "source": [
    "lstm.summary()"
   ]
  },
  {
   "cell_type": "markdown",
   "id": "ccb298d5-6266-4d16-a5a4-c9e8aed13322",
   "metadata": {},
   "source": [
    "Observations:\n",
    "- No of params to train: Dense < GRU < LSTM (1000 < 1620 < 2080)\n",
    "   "
   ]
  }
 ],
 "metadata": {
  "kernelspec": {
   "display_name": "Python 3 (ipykernel)",
   "language": "python",
   "name": "python3"
  },
  "language_info": {
   "codemirror_mode": {
    "name": "ipython",
    "version": 3
   },
   "file_extension": ".py",
   "mimetype": "text/x-python",
   "name": "python",
   "nbconvert_exporter": "python",
   "pygments_lexer": "ipython3",
   "version": "3.10.9"
  }
 },
 "nbformat": 4,
 "nbformat_minor": 5
}
