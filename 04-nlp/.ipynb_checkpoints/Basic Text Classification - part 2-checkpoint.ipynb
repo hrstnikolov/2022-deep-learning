{
 "cells": [
  {
   "cell_type": "code",
   "execution_count": 1,
   "id": "90cc2833-00a2-4ef8-8196-988dfa5a7a2e",
   "metadata": {},
   "outputs": [],
   "source": [
    "%matplotlib inline"
   ]
  },
  {
   "cell_type": "code",
   "execution_count": 2,
   "id": "737df90e-20d5-4f91-b553-81ec66aba1be",
   "metadata": {},
   "outputs": [],
   "source": [
    "import numpy as np\n",
    "import pandas as pd\n",
    "import matplotlib.pyplot as plt\n",
    "\n",
    "import os\n",
    "from pathlib import Path\n",
    "import re\n",
    "import shutil\n",
    "import string\n",
    "\n",
    "import tensorflow as tf\n",
    "from tensorflow.keras.utils import text_dataset_from_directory\n",
    "from tensorflow.keras.models import Sequential\n",
    "from tensorflow.keras.layers import Input, Dense, Flatten, \\\n",
    "    TextVectorization, Embedding, Dropout, GlobalAveragePooling1D, Activation\n",
    "from tensorflow.keras.losses import BinaryCrossentropy"
   ]
  },
  {
   "cell_type": "markdown",
   "id": "f4c25959-3df0-4049-bad0-9f7b8f47e5f7",
   "metadata": {
    "tags": []
   },
   "source": [
    "# Worked Example - Basic text classification"
   ]
  },
  {
   "cell_type": "markdown",
   "id": "203bacd2-d40b-40d8-a437-d54c5373538e",
   "metadata": {
    "tags": []
   },
   "source": [
    "## Download and explore the IMDB dataset"
   ]
  },
  {
   "cell_type": "markdown",
   "id": "950fe39c-cf46-4acf-aa4e-d592955df253",
   "metadata": {
    "tags": []
   },
   "source": [
    "Task: classify IMDB movie reviews as positive or negative, based on the text of the review.\n",
    "\n",
    "Worked example from [here](https://www.tensorflow.org/tutorials/keras/text_classification).\n",
    "\n",
    "Dataset:\n",
    "- from [here](https://ai.stanford.edu/~amaas/data/sentiment/)\n",
    "- 25,000 reviews for training and 25,000 reviews for testing\n",
    "- sets are balanced\n",
    "\n",
    "acl = Association for Computational Linguistics"
   ]
  },
  {
   "cell_type": "code",
   "execution_count": 3,
   "id": "fa1d18d1-e9dc-4fe2-ba24-dd29ad242dd6",
   "metadata": {},
   "outputs": [],
   "source": [
    "def download_data():\n",
    "    \"\"\"Downloads the data in the current folder and return the `dataset_dir`.\"\"\"\n",
    "    \n",
    "    url = \"https://ai.stanford.edu/~amaas/data/sentiment/aclImdb_v1.tar.gz\"\n",
    "\n",
    "    dataset = tf.keras.utils.get_file(\"aclImdb_v1\", url,\n",
    "                                        untar=True, cache_dir='.',\n",
    "                                        cache_subdir='')\n",
    "\n",
    "    dataset_dir = os.path.join(os.path.dirname(dataset), 'aclImdb')\n",
    "    \n",
    "    return dataset_dir"
   ]
  },
  {
   "cell_type": "code",
   "execution_count": 4,
   "id": "fe4dcacb-a29d-48b7-94ef-55758461235d",
   "metadata": {},
   "outputs": [
    {
     "data": {
      "text/plain": [
       "True"
      ]
     },
     "execution_count": 4,
     "metadata": {},
     "output_type": "execute_result"
    }
   ],
   "source": [
    "# Data is already download on the Desktop\n",
    "dataset_dir = Path().home() / r'Desktop\\datasets\\aclImdb'\n",
    "\n",
    "dataset_dir.exists()"
   ]
  },
  {
   "cell_type": "code",
   "execution_count": 5,
   "id": "0c9708e0-456e-41c1-ad81-496ac1b0d241",
   "metadata": {},
   "outputs": [
    {
     "data": {
      "text/plain": [
       "['imdb.vocab', 'imdbEr.txt', 'README', 'test', 'train']"
      ]
     },
     "execution_count": 5,
     "metadata": {},
     "output_type": "execute_result"
    }
   ],
   "source": [
    "[obj.name for obj in dataset_dir.glob('*')]"
   ]
  },
  {
   "cell_type": "code",
   "execution_count": 6,
   "id": "633b3889-7615-44f4-bdba-7768f86e4308",
   "metadata": {},
   "outputs": [
    {
     "data": {
      "text/plain": [
       "(True, True)"
      ]
     },
     "execution_count": 6,
     "metadata": {},
     "output_type": "execute_result"
    }
   ],
   "source": [
    "train_dir = dataset_dir / 'train'\n",
    "test_dir = dataset_dir / 'test'\n",
    "\n",
    "train_dir.exists(), test_dir.exists()"
   ]
  },
  {
   "cell_type": "code",
   "execution_count": 7,
   "id": "53429547-0383-4c5c-8402-f03ca1eae04d",
   "metadata": {},
   "outputs": [
    {
     "name": "stdout",
     "output_type": "stream",
     "text": [
      "I basically skimmed through the movie but just enough to catch watch the plot was about. To tell you the truth it was kind of boring to me and at some spots it didn't make sense. The only reason I watched this movie in the first place was to see CHACE CRAWFORD!!! He is so hot, but in this movie his hair was kind of weird. But still hot.<br /><br />However, despite how hot CHACE is, it really did not make up for the film. I guess the plot isn't that bad but what really threw me over was the fact that they cuss in like every sentence. Is it that hard to express your anger without saying the F word every time?The cussing was annoying and the whole flashy, camera shaking thing gave me a headache.<br /><br />All in all, although the plot was OK, I found the film to be a bore and over dramatic. That's why I only cut to scenes with CHACE in it. LOL Anyways, not worth renting unless your a die-hard fan of a specific cast member like I was. Oh yeah the cast was Hot. The girls were HOT!!! But CHACE IS THE BEST!!\n"
     ]
    }
   ],
   "source": [
    "sample_file = train_dir / 'neg' / '5_3.txt'\n",
    "with open(sample_file) as f:\n",
    "    print(f.read())"
   ]
  },
  {
   "cell_type": "markdown",
   "id": "1e453ca1-1df3-4bea-82fa-9467bc325ad0",
   "metadata": {
    "tags": []
   },
   "source": [
    "## Load the dataset"
   ]
  },
  {
   "cell_type": "code",
   "execution_count": 8,
   "id": "05c90240-6de0-432a-8638-5fcf445ce5a8",
   "metadata": {},
   "outputs": [
    {
     "data": {
      "text/plain": [
       "['labeledBow.feat',\n",
       " 'neg',\n",
       " 'pos',\n",
       " 'unsupBow.feat',\n",
       " 'urls_neg.txt',\n",
       " 'urls_pos.txt',\n",
       " 'urls_unsup.txt']"
      ]
     },
     "execution_count": 8,
     "metadata": {},
     "output_type": "execute_result"
    }
   ],
   "source": [
    "# List file and folders in train dir\n",
    "\n",
    "[obj.name for obj in train_dir.glob('*')]"
   ]
  },
  {
   "cell_type": "code",
   "execution_count": 12,
   "id": "379b8216-f540-44f0-b62a-c3c1727bc595",
   "metadata": {},
   "outputs": [
    {
     "data": {
      "text/plain": [
       "['labeledBow.feat',\n",
       " 'neg',\n",
       " 'pos',\n",
       " 'unsupBow.feat',\n",
       " 'urls_neg.txt',\n",
       " 'urls_pos.txt',\n",
       " 'urls_unsup.txt']"
      ]
     },
     "execution_count": 12,
     "metadata": {},
     "output_type": "execute_result"
    }
   ],
   "source": [
    "# Remove not-used dirs if needed. Only 'neg' and 'pos' shall remain.\n",
    "def remove_unneccessary_dirs():\n",
    "    remove_dir = os.path.join(str(train_dir), 'unsup')\n",
    "    shutil.rmtree(remove_dir)\n",
    "\n",
    "[obj.name for obj in train_dir.glob('*')]"
   ]
  },
  {
   "cell_type": "code",
   "execution_count": 13,
   "id": "1d3be3f3-858c-404f-ab53-50f8b4beef20",
   "metadata": {},
   "outputs": [
    {
     "name": "stdout",
     "output_type": "stream",
     "text": [
      "Found 25000 files belonging to 2 classes.\n",
      "Using 20000 files for training.\n"
     ]
    }
   ],
   "source": [
    "batch_size = 32\n",
    "seed = 42\n",
    "\n",
    "raw_train_ds = text_dataset_from_directory(\n",
    "    directory=train_dir.as_posix(), \n",
    "    batch_size=batch_size, \n",
    "    validation_split=0.2, \n",
    "    subset='training', \n",
    "    seed=seed)"
   ]
  },
  {
   "cell_type": "code",
   "execution_count": 14,
   "id": "87bb5f6d-06ed-47bf-ad6d-849b674fa319",
   "metadata": {
    "tags": []
   },
   "outputs": [
    {
     "name": "stdout",
     "output_type": "stream",
     "text": [
      "Review b'\"Pandemonium\" is a horror movie spoof that comes off more stupid than funny. Believe me when I tell you, I love comedies. Especially comedy spoofs. \"Airplane\", \"The Naked Gun\" trilogy, \"Blazing Saddles\", \"High Anxiety\", and \"Spaceballs\" are some of my favorite comedies that spoof a particular genre. \"Pandemonium\" is not up there with those films. Most of the scenes in this movie had me sitting there in stunned silence because the movie wasn\\'t all that funny. There are a few laughs in the film, but when you watch a comedy, you expect to laugh a lot more than a few times and that\\'s all this film has going for it. Geez, \"Scream\" had more laughs than this film and that was more of a horror film. How bizarre is that?<br /><br />*1/2 (out of four)'\n",
      "Label 0\n",
      "Review b\"David Mamet is a very interesting and a very un-equal director. His first movie 'House of Games' was the one I liked best, and it set a series of films with characters whose perspective of life changes as they get into complicated situations, and so does the perspective of the viewer.<br /><br />So is 'Homicide' which from the title tries to set the mind of the viewer to the usual crime drama. The principal characters are two cops, one Jewish and one Irish who deal with a racially charged area. The murder of an old Jewish shop owner who proves to be an ancient veteran of the Israeli Independence war triggers the Jewish identity in the mind and heart of the Jewish detective.<br /><br />This is were the flaws of the film are the more obvious. The process of awakening is theatrical and hard to believe, the group of Jewish militants is operatic, and the way the detective eventually walks to the final violent confrontation is pathetic. The end of the film itself is Mamet-like smart, but disappoints from a human emotional perspective.<br /><br />Joe Mantegna and William Macy give strong performances, but the flaws of the story are too evident to be easily compensated.\"\n",
      "Label 0\n",
      "Review b'Great documentary about the lives of NY firefighters during the worst terrorist attack of all time.. That reason alone is why this should be a must see collectors item.. What shocked me was not only the attacks, but the\"High Fat Diet\" and physical appearance of some of these firefighters. I think a lot of Doctors would agree with me that,in the physical shape they were in, some of these firefighters would NOT of made it to the 79th floor carrying over 60 lbs of gear. Having said that i now have a greater respect for firefighters and i realize becoming a firefighter is a life altering job. The French have a history of making great documentary\\'s and that is what this is, a Great Documentary.....'\n",
      "Label 1\n"
     ]
    }
   ],
   "source": [
    "for text_batch, label_batch in raw_train_ds.take(1):\n",
    "    for i in range(3):\n",
    "        print(\"Review\", text_batch.numpy()[i])\n",
    "        print(\"Label\", label_batch.numpy()[i])"
   ]
  },
  {
   "cell_type": "code",
   "execution_count": 15,
   "id": "5195ad51-4ada-4948-a794-73f172d83ae9",
   "metadata": {},
   "outputs": [
    {
     "name": "stdout",
     "output_type": "stream",
     "text": [
      "Label 0 corresponds to neg\n",
      "Label 1 corresponds to pos\n"
     ]
    }
   ],
   "source": [
    "print(\"Label 0 corresponds to\", raw_train_ds.class_names[0])\n",
    "print(\"Label 1 corresponds to\", raw_train_ds.class_names[1])"
   ]
  },
  {
   "cell_type": "code",
   "execution_count": 16,
   "id": "3235d6fa-c5b7-4572-94df-292388d7cfb0",
   "metadata": {},
   "outputs": [
    {
     "name": "stdout",
     "output_type": "stream",
     "text": [
      "Found 25000 files belonging to 2 classes.\n",
      "Using 5000 files for validation.\n"
     ]
    }
   ],
   "source": [
    "raw_val_ds = text_dataset_from_directory(\n",
    "    directory=train_dir.as_posix(), \n",
    "    batch_size=batch_size, \n",
    "    validation_split=0.2, \n",
    "    subset='validation', \n",
    "    seed=seed)"
   ]
  },
  {
   "cell_type": "code",
   "execution_count": 17,
   "id": "d05a01e9-e5b3-4f95-a7a5-82eeddf77d16",
   "metadata": {},
   "outputs": [
    {
     "name": "stdout",
     "output_type": "stream",
     "text": [
      "Found 25000 files belonging to 2 classes.\n"
     ]
    }
   ],
   "source": [
    "raw_test_ds = text_dataset_from_directory(\n",
    "    directory=test_dir.as_posix(), \n",
    "    batch_size=batch_size)"
   ]
  },
  {
   "cell_type": "markdown",
   "id": "336af046-3061-4fa0-8a16-5a8f225befa6",
   "metadata": {
    "tags": []
   },
   "source": [
    "## Prepare the dataset for training"
   ]
  },
  {
   "cell_type": "code",
   "execution_count": 18,
   "id": "21f37316-4ac2-4a11-b95c-c7b96a902111",
   "metadata": {},
   "outputs": [],
   "source": [
    "def custom_standardization(input_data):\n",
    "    lowercase = tf.strings.lower(input_data)\n",
    "    stripped_html = tf.strings.regex_replace(lowercase, '<br />', ' ')\n",
    "    return tf.strings.regex_replace(stripped_html,\n",
    "                                  '[%s]' % re.escape(string.punctuation),\n",
    "                                  '')"
   ]
  },
  {
   "cell_type": "code",
   "execution_count": 19,
   "id": "b8d736b7-cdd6-4aa4-a379-7f017ae67607",
   "metadata": {},
   "outputs": [],
   "source": [
    "max_features = 10000\n",
    "sequence_length = 250\n",
    "\n",
    "vectorize_layer = TextVectorization(\n",
    "    standardize=custom_standardization,\n",
    "    max_tokens=max_features,\n",
    "    output_mode='int',\n",
    "    output_sequence_length=sequence_length)"
   ]
  },
  {
   "cell_type": "code",
   "execution_count": 20,
   "id": "607aae3c-56e2-4f76-8515-4c1cf027eb95",
   "metadata": {},
   "outputs": [
    {
     "name": "stdout",
     "output_type": "stream",
     "text": [
      "WARNING:tensorflow:From C:\\Users\\a1056968\\Anaconda3\\envs\\deep_learning\\lib\\site-packages\\tensorflow\\python\\autograph\\pyct\\static_analysis\\liveness.py:83: Analyzer.lamba_check (from tensorflow.python.autograph.pyct.static_analysis.liveness) is deprecated and will be removed after 2023-09-23.\n",
      "Instructions for updating:\n",
      "Lambda fuctions will be no more assumed to be used in the statement where they are used, or at least in the same block. https://github.com/tensorflow/tensorflow/issues/56089\n"
     ]
    }
   ],
   "source": [
    "# Make a text-only dataset (without labels)\n",
    "train_text = raw_train_ds.map(lambda x, y: x)\n",
    "\n",
    "# Fit the vectorize obj with the tesxts\n",
    "vectorize_layer.adapt(train_text)"
   ]
  },
  {
   "cell_type": "code",
   "execution_count": 21,
   "id": "adb5b8c4-3703-4b36-bdf8-1f2ff0410216",
   "metadata": {},
   "outputs": [],
   "source": [
    "# need to add a dimension to vectorize\n",
    "def vectorize_text(text, label):\n",
    "    text = tf.expand_dims(text, -1)\n",
    "    return vectorize_layer(text), label"
   ]
  },
  {
   "cell_type": "code",
   "execution_count": 22,
   "id": "f833fc72-2d1c-4a79-9b9d-3e90fe28507f",
   "metadata": {
    "scrolled": true,
    "tags": []
   },
   "outputs": [
    {
     "name": "stdout",
     "output_type": "stream",
     "text": [
      "Review tf.Tensor(b'Great movie - especially the music - Etta James - \"At Last\". This speaks volumes when you have finally found that special someone.', shape=(), dtype=string)\n",
      "Label neg\n",
      "Vectorized review (<tf.Tensor: shape=(1, 250), dtype=int64, numpy=\n",
      "array([[  86,   17,  260,    2,  222,    1,  571,   31,  229,   11, 2418,\n",
      "           1,   51,   22,   25,  404,  251,   12,  306,  282,    0,    0,\n",
      "           0,    0,    0,    0,    0,    0,    0,    0,    0,    0,    0,\n",
      "           0,    0,    0,    0,    0,    0,    0,    0,    0,    0,    0,\n",
      "           0,    0,    0,    0,    0,    0,    0,    0,    0,    0,    0,\n",
      "           0,    0,    0,    0,    0,    0,    0,    0,    0,    0,    0,\n",
      "           0,    0,    0,    0,    0,    0,    0,    0,    0,    0,    0,\n",
      "           0,    0,    0,    0,    0,    0,    0,    0,    0,    0,    0,\n",
      "           0,    0,    0,    0,    0,    0,    0,    0,    0,    0,    0,\n",
      "           0,    0,    0,    0,    0,    0,    0,    0,    0,    0,    0,\n",
      "           0,    0,    0,    0,    0,    0,    0,    0,    0,    0,    0,\n",
      "           0,    0,    0,    0,    0,    0,    0,    0,    0,    0,    0,\n",
      "           0,    0,    0,    0,    0,    0,    0,    0,    0,    0,    0,\n",
      "           0,    0,    0,    0,    0,    0,    0,    0,    0,    0,    0,\n",
      "           0,    0,    0,    0,    0,    0,    0,    0,    0,    0,    0,\n",
      "           0,    0,    0,    0,    0,    0,    0,    0,    0,    0,    0,\n",
      "           0,    0,    0,    0,    0,    0,    0,    0,    0,    0,    0,\n",
      "           0,    0,    0,    0,    0,    0,    0,    0,    0,    0,    0,\n",
      "           0,    0,    0,    0,    0,    0,    0,    0,    0,    0,    0,\n",
      "           0,    0,    0,    0,    0,    0,    0,    0,    0,    0,    0,\n",
      "           0,    0,    0,    0,    0,    0,    0,    0,    0,    0,    0,\n",
      "           0,    0,    0,    0,    0,    0,    0,    0,    0,    0,    0,\n",
      "           0,    0,    0,    0,    0,    0,    0,    0]], dtype=int64)>, <tf.Tensor: shape=(), dtype=int32, numpy=0>)\n"
     ]
    }
   ],
   "source": [
    "# retrieve a batch (of 32 reviews and labels) from the dataset\n",
    "text_batch, label_batch = next(iter(raw_train_ds))\n",
    "\n",
    "# take the first observation\n",
    "first_review, first_label = text_batch[0], label_batch[0]\n",
    "print(\"Review\", first_review)\n",
    "print(\"Label\", raw_train_ds.class_names[first_label])\n",
    "print(\"Vectorized review\", vectorize_text(first_review, first_label))"
   ]
  },
  {
   "cell_type": "code",
   "execution_count": 23,
   "id": "66e2feed-664e-425f-bf1f-0a9bbf86fd50",
   "metadata": {},
   "outputs": [
    {
     "name": "stdout",
     "output_type": "stream",
     "text": [
      "1287 --->  silent\n",
      " 313 --->  night\n",
      "Vocabulary size: 10000\n"
     ]
    }
   ],
   "source": [
    "print(\"1287 ---> \",vectorize_layer.get_vocabulary()[1287])\n",
    "print(\" 313 ---> \",vectorize_layer.get_vocabulary()[313])\n",
    "print(f'Vocabulary size: {len(vectorize_layer.get_vocabulary())}')"
   ]
  },
  {
   "cell_type": "code",
   "execution_count": 24,
   "id": "4c13d8b7-1e6f-4602-bffb-ad5566312df1",
   "metadata": {},
   "outputs": [],
   "source": [
    "# Create the final datasets by\n",
    "# mapping the TextVectorization layer\n",
    "\n",
    "train_ds = raw_train_ds.map(vectorize_text)\n",
    "val_ds = raw_val_ds.map(vectorize_text)\n",
    "test_ds = raw_test_ds.map(vectorize_text)"
   ]
  },
  {
   "cell_type": "markdown",
   "id": "5e7f9c58-4df9-4c47-8dc4-7210b1833ccd",
   "metadata": {
    "tags": []
   },
   "source": [
    "## Configure the dataset for performance"
   ]
  },
  {
   "cell_type": "code",
   "execution_count": 25,
   "id": "60a86980-700c-46af-9750-e41638f16944",
   "metadata": {},
   "outputs": [],
   "source": [
    "AUTOTUNE = tf.data.AUTOTUNE\n",
    "\n",
    "train_ds = train_ds.cache().prefetch(buffer_size=AUTOTUNE)\n",
    "val_ds = val_ds.cache().prefetch(buffer_size=AUTOTUNE)\n",
    "test_ds = test_ds.cache().prefetch(buffer_size=AUTOTUNE)"
   ]
  },
  {
   "cell_type": "markdown",
   "id": "624e6f35-303c-43a7-8937-6ddab449e949",
   "metadata": {
    "tags": []
   },
   "source": [
    "## Create the model\n",
    "\n",
    "- > The Embedding layer can be understood as a lookup table that maps from integer indices (which stand for specific words) to dense vectors (their embeddings).\n",
    "- Below, we embed a 10,001-word vocabulary (`max_features` + 1) into 16 dimensions.\n",
    "- The weight are initially random and are gradually adjusted via backpropagation during training."
   ]
  },
  {
   "cell_type": "code",
   "execution_count": 26,
   "id": "dfd9c214-5f40-4d6d-b3b9-1b7f124c6478",
   "metadata": {},
   "outputs": [
    {
     "name": "stdout",
     "output_type": "stream",
     "text": [
      "Model: \"sequential\"\n",
      "_________________________________________________________________\n",
      " Layer (type)                Output Shape              Param #   \n",
      "=================================================================\n",
      " embedding (Embedding)       (None, None, 16)          160016    \n",
      "                                                                 \n",
      " dropout (Dropout)           (None, None, 16)          0         \n",
      "                                                                 \n",
      " global_average_pooling1d (G  (None, 16)               0         \n",
      " lobalAveragePooling1D)                                          \n",
      "                                                                 \n",
      " dropout_1 (Dropout)         (None, 16)                0         \n",
      "                                                                 \n",
      " dense (Dense)               (None, 1)                 17        \n",
      "                                                                 \n",
      "=================================================================\n",
      "Total params: 160,033\n",
      "Trainable params: 160,033\n",
      "Non-trainable params: 0\n",
      "_________________________________________________________________\n"
     ]
    }
   ],
   "source": [
    "embedding_dim = 16\n",
    "\n",
    "\n",
    "model = tf.keras.Sequential([\n",
    "    Embedding(max_features + 1, embedding_dim),\n",
    "    Dropout(0.2),\n",
    "    GlobalAveragePooling1D(),\n",
    "    Dropout(0.2),\n",
    "    Dense(1)])\n",
    "\n",
    "model.summary()"
   ]
  },
  {
   "cell_type": "markdown",
   "id": "db263e32-7b4c-46cb-9b79-1bbbc0346b86",
   "metadata": {
    "tags": []
   },
   "source": [
    "## Loss function and optimizer\n",
    "\n",
    "- single column contains the output var -> `from_logits=True`\n",
    "- Classes are ballanced -> accuracy is good performance metric"
   ]
  },
  {
   "cell_type": "code",
   "execution_count": 27,
   "id": "587c0009-a922-4933-b0a8-86f8c00afb28",
   "metadata": {},
   "outputs": [],
   "source": [
    "model.compile(loss=BinaryCrossentropy(from_logits=True),\n",
    "              optimizer='adam',\n",
    "              metrics=tf.metrics.BinaryAccuracy(threshold=0.0))"
   ]
  },
  {
   "cell_type": "markdown",
   "id": "80890342-9267-4d68-9a5a-97a81dd6e77a",
   "metadata": {
    "tags": []
   },
   "source": [
    "## Train the model"
   ]
  },
  {
   "cell_type": "code",
   "execution_count": null,
   "id": "ad362771-a150-4702-a58f-ccc6fa4ab4f1",
   "metadata": {
    "scrolled": true,
    "tags": []
   },
   "outputs": [
    {
     "name": "stdout",
     "output_type": "stream",
     "text": [
      "Epoch 1/10\n",
      "625/625 [==============================] - 15s 21ms/step - loss: 0.6621 - binary_accuracy: 0.6999 - val_loss: 0.6121 - val_binary_accuracy: 0.7744\n",
      "Epoch 2/10\n",
      "625/625 [==============================] - 5s 8ms/step - loss: 0.5458 - binary_accuracy: 0.8029 - val_loss: 0.4959 - val_binary_accuracy: 0.8252\n",
      "Epoch 3/10\n",
      "625/625 [==============================] - 5s 8ms/step - loss: 0.4427 - binary_accuracy: 0.8461 - val_loss: 0.4183 - val_binary_accuracy: 0.8480\n",
      "Epoch 4/10\n",
      "625/625 [==============================] - 5s 8ms/step - loss: 0.3763 - binary_accuracy: 0.8665 - val_loss: 0.3724 - val_binary_accuracy: 0.8628\n",
      "Epoch 5/10\n",
      "625/625 [==============================] - 5s 8ms/step - loss: 0.3338 - binary_accuracy: 0.8792 - val_loss: 0.3441 - val_binary_accuracy: 0.8680\n",
      "Epoch 6/10\n",
      "625/625 [==============================] - 4s 7ms/step - loss: 0.3036 - binary_accuracy: 0.8903 - val_loss: 0.3253 - val_binary_accuracy: 0.8708\n",
      "Epoch 7/10\n",
      "625/625 [==============================] - 4s 7ms/step - loss: 0.2802 - binary_accuracy: 0.8985 - val_loss: 0.3120 - val_binary_accuracy: 0.8730\n",
      "Epoch 8/10\n",
      "562/625 [=========================>....] - ETA: 0s - loss: 0.2594 - binary_accuracy: 0.9054"
     ]
    }
   ],
   "source": [
    "epochs = 10\n",
    "history = model.fit(\n",
    "    train_ds,\n",
    "    validation_data=val_ds,\n",
    "    epochs=epochs)"
   ]
  },
  {
   "cell_type": "code",
   "execution_count": null,
   "id": "0c75e2a5-ebbe-4628-ba77-880e69ac9dc7",
   "metadata": {},
   "outputs": [],
   "source": [
    "# Helper function to get the cosine between two vectors\n",
    "def get_cos(a, b):\n",
    "    dot_product = tf.tensordot(a, b, axes=1)\n",
    "    len_a = tf.norm(a)\n",
    "    len_b = tf.norm(b)\n",
    "    cosine = dot_product / (len_a * len_b)\n",
    "    return cosine\n",
    "\n",
    "a = tf.constant([0.0, 1.0])\n",
    "b = tf.constant([2.0, 0.0])\n",
    "c = tf.constant([4.0, 0.0])\n",
    "d = tf.constant([1.0, 1.0])\n",
    "\n",
    "get_cos(a, b).numpy(), get_cos(b, c).numpy(), get_cos(c, d).numpy()"
   ]
  },
  {
   "cell_type": "code",
   "execution_count": null,
   "id": "36e97ef2-a46d-4e03-9799-75ab218bd2f9",
   "metadata": {},
   "outputs": [],
   "source": [
    "embedding = model.layers[0]\n",
    "\n",
    "# Two similar words\n",
    "word_067 = vectorize_layer.get_vocabulary()[67]\n",
    "word_105 = vectorize_layer.get_vocabulary()[105]\n",
    "print(word_067, word_105)\n",
    "\n",
    "# Expecting the words to be similar therefore\n",
    "# the cos to be close to 1\n",
    "a = embedding(tf.constant(67))\n",
    "b = embedding(tf.constant(105))\n",
    "print(f'Cos({word_067}, {word_105}) = {get_cos(a, b)}')    \n",
    "\n",
    "# Expecting cos close to 0 for dissimilar words\n",
    "# take word 5000 at random\n",
    "word_5000 = vectorize_layer.get_vocabulary()[5000]\n",
    "c = embedding(tf.constant(5000))\n",
    "print(f'Cos({word_067}, {word_5000}) = {get_cos(a, c)}')    "
   ]
  },
  {
   "cell_type": "markdown",
   "id": "6fce499a-2a2c-4dec-98f6-e3eca5bd3115",
   "metadata": {
    "tags": []
   },
   "source": [
    "## Evaluate the model"
   ]
  },
  {
   "cell_type": "code",
   "execution_count": null,
   "id": "d18d0d45-04e4-4c86-b654-d1b99d3a754e",
   "metadata": {},
   "outputs": [],
   "source": [
    "loss, accuracy = model.evaluate(test_ds)\n",
    "\n",
    "print(\"Loss: \", loss)\n",
    "print(\"Accuracy: \", accuracy)"
   ]
  },
  {
   "cell_type": "markdown",
   "id": "22a9f9fc-3e45-411f-8f7e-b0d44bbc611e",
   "metadata": {
    "tags": []
   },
   "source": [
    "## Create a plot of accuracy and loss over time\n",
    "\n",
    "Training vs validation accuracy:\n",
    "- The training accuracy peaks earlier.\n",
    "- After several epochs training gets larger than validation meaning the model over-fits the data. Solution: stop when valid acc no longer increases significantly (early stopping). "
   ]
  },
  {
   "cell_type": "code",
   "execution_count": null,
   "id": "d6596a1f-4b29-4713-8241-17273534c226",
   "metadata": {},
   "outputs": [],
   "source": [
    "history_dict = history.history\n",
    "history_dict.keys()"
   ]
  },
  {
   "cell_type": "code",
   "execution_count": null,
   "id": "83b82ddb-8b08-422e-9696-4e9744521f56",
   "metadata": {},
   "outputs": [],
   "source": [
    "acc = history_dict['binary_accuracy']\n",
    "val_acc = history_dict['val_binary_accuracy']\n",
    "loss = history_dict['loss']\n",
    "val_loss = history_dict['val_loss']\n",
    "\n",
    "epochs = range(1, len(acc) + 1)\n",
    "\n",
    "plt.plot(epochs, loss, 'b-o', label='Training loss')\n",
    "plt.plot(epochs, val_loss, 'r-o', label='Validation loss')\n",
    "plt.title('Training and validation loss')\n",
    "plt.xlabel('Epochs')\n",
    "plt.ylabel('Loss')\n",
    "plt.legend()\n",
    "\n",
    "plt.show()"
   ]
  },
  {
   "cell_type": "code",
   "execution_count": null,
   "id": "00ac9d59-bb6d-49e5-97ba-577b710f4c03",
   "metadata": {},
   "outputs": [],
   "source": [
    "plt.plot(epochs, acc, 'b-o', label='Training acc')\n",
    "plt.plot(epochs, val_acc, 'r-o', label='Validation acc')\n",
    "plt.title('Training and validation accuracy')\n",
    "plt.xlabel('Epochs')\n",
    "plt.ylabel('Accuracy')\n",
    "plt.legend(loc='lower right')\n",
    "\n",
    "plt.show()"
   ]
  },
  {
   "cell_type": "markdown",
   "id": "34422eba-bb93-4bef-a246-56ff1f60c959",
   "metadata": {
    "tags": []
   },
   "source": [
    "## Export the model\n",
    "\n",
    "- Add the preprocess layer to allow to directly predict raw IMDS reviews."
   ]
  },
  {
   "cell_type": "code",
   "execution_count": null,
   "id": "c770386a-0dd1-43b6-8ca2-db5b8d11be44",
   "metadata": {},
   "outputs": [],
   "source": [
    "export_model = Sequential([\n",
    "  vectorize_layer,\n",
    "  model,\n",
    "  Activation('sigmoid')\n",
    "])\n",
    "\n",
    "export_model.compile(\n",
    "    loss=BinaryCrossentropy(from_logits=False), optimizer=\"adam\", metrics=['accuracy']\n",
    ")\n",
    "\n",
    "# Test it with `raw_test_ds`, which yields raw strings\n",
    "loss, accuracy = export_model.evaluate(raw_test_ds)\n",
    "print(accuracy)"
   ]
  },
  {
   "cell_type": "markdown",
   "id": "62904be6-0668-4227-9dc3-87abeb2d6698",
   "metadata": {
    "tags": []
   },
   "source": [
    "## Inference on new data"
   ]
  },
  {
   "cell_type": "code",
   "execution_count": null,
   "id": "3771b4a9-da43-4c8f-a299-9159210cbd4f",
   "metadata": {},
   "outputs": [],
   "source": [
    "examples = [\n",
    "    \"The movie was great!\",\n",
    "    \"The movie was okay.\",\n",
    "    \"The movie was terrible...\",\n",
    "    \"I do not know what to say! I am speechless!\",\n",
    "    \"The 'greatest' movie eeeever!\",\n",
    "    \"It is really good! Can't wait for the second part! Yey!\",\n",
    "    \"Best\",\n",
    "    \"Worst\"\n",
    "]\n",
    "\n",
    "export_model.predict(examples)"
   ]
  },
  {
   "cell_type": "markdown",
   "id": "3367b281-345e-4eff-a271-4a39c7f68591",
   "metadata": {
    "tags": []
   },
   "source": [
    "## Heading"
   ]
  },
  {
   "cell_type": "code",
   "execution_count": null,
   "id": "73fbc054-5467-4391-a48d-8d38a638e304",
   "metadata": {},
   "outputs": [],
   "source": []
  },
  {
   "cell_type": "code",
   "execution_count": null,
   "id": "5ed17dfb-7db0-4314-824e-fc96c4c93867",
   "metadata": {},
   "outputs": [],
   "source": []
  }
 ],
 "metadata": {
  "kernelspec": {
   "display_name": "Python 3 (ipykernel)",
   "language": "python",
   "name": "python3"
  },
  "language_info": {
   "codemirror_mode": {
    "name": "ipython",
    "version": 3
   },
   "file_extension": ".py",
   "mimetype": "text/x-python",
   "name": "python",
   "nbconvert_exporter": "python",
   "pygments_lexer": "ipython3",
   "version": "3.10.9"
  }
 },
 "nbformat": 4,
 "nbformat_minor": 5
}
