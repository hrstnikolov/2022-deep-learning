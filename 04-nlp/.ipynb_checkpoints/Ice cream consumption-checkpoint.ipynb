{
 "cells": [
  {
   "cell_type": "code",
   "execution_count": 1,
   "id": "4a94b594-a442-4417-8507-a8bc9a1e5545",
   "metadata": {},
   "outputs": [],
   "source": [
    "%matplotlib inline"
   ]
  },
  {
   "cell_type": "code",
   "execution_count": 2,
   "id": "aee3df1a-7223-4ac2-9791-109130fdc787",
   "metadata": {},
   "outputs": [],
   "source": [
    "import numpy as np\n",
    "import pandas as pd\n",
    "import matplotlib.pyplot as plt\n",
    "\n",
    "import tensorflow as tf\n",
    "from tensorflow.keras.models import Sequential\n",
    "from tensorflow.keras.layers import Input, Dense, SimpleRNN"
   ]
  },
  {
   "cell_type": "markdown",
   "id": "e5706644-98ba-4914-a030-639c374c10b0",
   "metadata": {
    "tags": []
   },
   "source": [
    "# Ice cream consumption"
   ]
  },
  {
   "cell_type": "markdown",
   "id": "175336ee-2f93-4d87-ace0-1cb13c9ddc25",
   "metadata": {
    "tags": []
   },
   "source": [
    "## Prepare data"
   ]
  },
  {
   "cell_type": "markdown",
   "id": "c2c7d762-dae8-4e7b-8857-42764752f72c",
   "metadata": {},
   "source": [
    "268.  Ice cream consumption\n",
    "\n",
    "> Ice cream consumption (Y,  pints per capita) was measured over 30 four-week periods \n",
    "from  March  18th  1951  to July  11th  1953.  lt was  thought that variables  influencing \n",
    "consumption might include the price of ice cream per pint (X 1,  USD), the weekly family \n",
    "income  (X2,  USD) and the mean temperature  (X3,  o  F).  In fact it can be shown that of \n",
    "these three only X3 has any real effect on consumption. "
   ]
  },
  {
   "cell_type": "code",
   "execution_count": 3,
   "id": "70fabbc2-f48a-4288-a1ac-3ea76cf1998a",
   "metadata": {},
   "outputs": [],
   "source": [
    "icecream = pd.read_csv('../Datasets/ICECREAM.DAT', sep='\\t', header=None)"
   ]
  },
  {
   "cell_type": "code",
   "execution_count": 4,
   "id": "a1cfa41d-da87-47d0-9411-36d92a95f496",
   "metadata": {},
   "outputs": [],
   "source": [
    "icecream.columns = ['day', 'consumption', 'price', 'income', 'temperature']"
   ]
  },
  {
   "cell_type": "code",
   "execution_count": 5,
   "id": "61edaf80-193a-4ba3-8250-17d01c6e520e",
   "metadata": {},
   "outputs": [],
   "source": [
    "icecream = icecream.set_index('day')"
   ]
  },
  {
   "cell_type": "code",
   "execution_count": 6,
   "id": "0dd2592e-2ab1-476f-a930-4fa38f608550",
   "metadata": {},
   "outputs": [],
   "source": [
    "icecream = icecream[['price', 'income', 'temperature', 'consumption']]"
   ]
  },
  {
   "cell_type": "code",
   "execution_count": 7,
   "id": "cf1811d7-6c30-4bfa-9ec7-e43ad31d736d",
   "metadata": {},
   "outputs": [
    {
     "data": {
      "text/html": [
       "<div>\n",
       "<style scoped>\n",
       "    .dataframe tbody tr th:only-of-type {\n",
       "        vertical-align: middle;\n",
       "    }\n",
       "\n",
       "    .dataframe tbody tr th {\n",
       "        vertical-align: top;\n",
       "    }\n",
       "\n",
       "    .dataframe thead th {\n",
       "        text-align: right;\n",
       "    }\n",
       "</style>\n",
       "<table border=\"1\" class=\"dataframe\">\n",
       "  <thead>\n",
       "    <tr style=\"text-align: right;\">\n",
       "      <th></th>\n",
       "      <th>price</th>\n",
       "      <th>income</th>\n",
       "      <th>temperature</th>\n",
       "      <th>consumption</th>\n",
       "    </tr>\n",
       "    <tr>\n",
       "      <th>day</th>\n",
       "      <th></th>\n",
       "      <th></th>\n",
       "      <th></th>\n",
       "      <th></th>\n",
       "    </tr>\n",
       "  </thead>\n",
       "  <tbody>\n",
       "    <tr>\n",
       "      <th>1</th>\n",
       "      <td>0.270</td>\n",
       "      <td>78</td>\n",
       "      <td>41</td>\n",
       "      <td>0.386</td>\n",
       "    </tr>\n",
       "    <tr>\n",
       "      <th>2</th>\n",
       "      <td>0.282</td>\n",
       "      <td>79</td>\n",
       "      <td>56</td>\n",
       "      <td>0.374</td>\n",
       "    </tr>\n",
       "    <tr>\n",
       "      <th>3</th>\n",
       "      <td>0.277</td>\n",
       "      <td>81</td>\n",
       "      <td>63</td>\n",
       "      <td>0.393</td>\n",
       "    </tr>\n",
       "    <tr>\n",
       "      <th>4</th>\n",
       "      <td>0.280</td>\n",
       "      <td>80</td>\n",
       "      <td>68</td>\n",
       "      <td>0.425</td>\n",
       "    </tr>\n",
       "    <tr>\n",
       "      <th>5</th>\n",
       "      <td>0.272</td>\n",
       "      <td>76</td>\n",
       "      <td>69</td>\n",
       "      <td>0.406</td>\n",
       "    </tr>\n",
       "  </tbody>\n",
       "</table>\n",
       "</div>"
      ],
      "text/plain": [
       "     price  income  temperature  consumption\n",
       "day                                         \n",
       "1    0.270      78           41        0.386\n",
       "2    0.282      79           56        0.374\n",
       "3    0.277      81           63        0.393\n",
       "4    0.280      80           68        0.425\n",
       "5    0.272      76           69        0.406"
      ]
     },
     "execution_count": 7,
     "metadata": {},
     "output_type": "execute_result"
    }
   ],
   "source": [
    "icecream.head()"
   ]
  },
  {
   "cell_type": "code",
   "execution_count": 9,
   "id": "e67b2c8e-4653-440d-86c4-5c8f349c8364",
   "metadata": {},
   "outputs": [
    {
     "data": {
      "text/plain": [
       "(30, 4)"
      ]
     },
     "execution_count": 9,
     "metadata": {},
     "output_type": "execute_result"
    }
   ],
   "source": [
    "icecream.shape"
   ]
  },
  {
   "cell_type": "markdown",
   "id": "cdc3a33d-5077-44fb-a98d-72e31098c1ac",
   "metadata": {
    "tags": []
   },
   "source": [
    "## Model data"
   ]
  },
  {
   "cell_type": "markdown",
   "id": "2bf7b44f-f198-4356-90a7-096773b8af9f",
   "metadata": {},
   "source": [
    "There is 30 rounds of measurements (=sequences).\n",
    "\n",
    "1 set of measurements per round (=lenght of the sequence = time step is 1)\n",
    "\n",
    "3 input variables (=input dimensions = number of features).\n",
    "\n",
    "Finally, the input shape to the RNN is:\n",
    "(batch_size, len of the sequence = time steps, input dimensions = # of features) = \n",
    "(30, 1, 3)\n",
    "\n",
    "[More explanation](https://stackoverflow.com/questions/47268608/confusion-about-keras-rnn-input-shape-requirement)"
   ]
  },
  {
   "cell_type": "code",
   "execution_count": 56,
   "id": "42f48546-a49e-4b14-a687-abc4bc3f6631",
   "metadata": {},
   "outputs": [],
   "source": [
    "inputs = icecream[['price', 'income', 'temperature']].to_numpy()\n",
    "inputs = inputs.reshape(30, 1, 3)"
   ]
  },
  {
   "cell_type": "code",
   "execution_count": 57,
   "id": "1d35c39a-8d20-458a-9a88-385d18d9a18d",
   "metadata": {},
   "outputs": [],
   "source": [
    "outputs = icecream['consumption'].to_numpy()"
   ]
  },
  {
   "cell_type": "markdown",
   "id": "bdabc77b-121f-4674-89e7-3a7ae6c10574",
   "metadata": {},
   "source": [
    "> `Sequential`: shape: A shape tuple (integers), not including the batch size."
   ]
  },
  {
   "cell_type": "code",
   "execution_count": 82,
   "id": "7890cda5-90fc-45c2-a55d-634ca3fc8ace",
   "metadata": {},
   "outputs": [],
   "source": [
    "model = Sequential([\n",
    "    Input(shape=(1, 3)),\n",
    "    SimpleRNN(10, return_sequences=True),\n",
    "    SimpleRNN(1)\n",
    "])"
   ]
  },
  {
   "cell_type": "code",
   "execution_count": 83,
   "id": "aafdc764-138f-4bae-998d-a2e03171e445",
   "metadata": {},
   "outputs": [
    {
     "name": "stdout",
     "output_type": "stream",
     "text": [
      "Model: \"sequential_11\"\n",
      "_________________________________________________________________\n",
      " Layer (type)                Output Shape              Param #   \n",
      "=================================================================\n",
      " simple_rnn_15 (SimpleRNN)   (None, 1, 10)             140       \n",
      "                                                                 \n",
      " simple_rnn_16 (SimpleRNN)   (None, 1)                 12        \n",
      "                                                                 \n",
      "=================================================================\n",
      "Total params: 152\n",
      "Trainable params: 152\n",
      "Non-trainable params: 0\n",
      "_________________________________________________________________\n"
     ]
    }
   ],
   "source": [
    "model.summary()"
   ]
  },
  {
   "cell_type": "code",
   "execution_count": 84,
   "id": "c6dc362f-bccb-4bf0-a55a-8d9dfaaaf129",
   "metadata": {},
   "outputs": [],
   "source": [
    "model.compile(optimizer='sgd', loss='mean_squared_error')"
   ]
  },
  {
   "cell_type": "code",
   "execution_count": 8,
   "id": "561783a9-4db7-4297-bfcd-e064b4c812ca",
   "metadata": {},
   "outputs": [
    {
     "ename": "NameError",
     "evalue": "name 'model' is not defined",
     "output_type": "error",
     "traceback": [
      "\u001b[1;31m---------------------------------------------------------------------------\u001b[0m",
      "\u001b[1;31mNameError\u001b[0m                                 Traceback (most recent call last)",
      "\u001b[1;32m~\\AppData\\Local\\Temp\\ipykernel_20188\\2915961864.py\u001b[0m in \u001b[0;36m<module>\u001b[1;34m\u001b[0m\n\u001b[1;32m----> 1\u001b[1;33m \u001b[0mmodel\u001b[0m\u001b[1;33m.\u001b[0m\u001b[0mfit\u001b[0m\u001b[1;33m(\u001b[0m\u001b[0minputs\u001b[0m\u001b[1;33m,\u001b[0m \u001b[0moutputs\u001b[0m\u001b[1;33m,\u001b[0m \u001b[0mepochs\u001b[0m\u001b[1;33m=\u001b[0m\u001b[1;36m4\u001b[0m\u001b[1;33m)\u001b[0m\u001b[1;33m\u001b[0m\u001b[1;33m\u001b[0m\u001b[0m\n\u001b[0m",
      "\u001b[1;31mNameError\u001b[0m: name 'model' is not defined"
     ]
    }
   ],
   "source": [
    "model.fit(inputs, outputs, epochs=4)"
   ]
  },
  {
   "cell_type": "markdown",
   "id": "0a42df9b-dde0-4aba-a1e9-26349cfc43aa",
   "metadata": {},
   "source": [
    "## Predict"
   ]
  },
  {
   "cell_type": "code",
   "execution_count": 87,
   "id": "945720be-f567-48e9-9e16-78503390f4c5",
   "metadata": {},
   "outputs": [
    {
     "name": "stdout",
     "output_type": "stream",
     "text": [
      "WARNING:tensorflow:6 out of the last 7 calls to <function Model.make_predict_function.<locals>.predict_function at 0x000001ED3DFB1EE0> triggered tf.function retracing. Tracing is expensive and the excessive number of tracings could be due to (1) creating @tf.function repeatedly in a loop, (2) passing tensors with different shapes, (3) passing Python objects instead of tensors. For (1), please define your @tf.function outside of the loop. For (2), @tf.function has reduce_retracing=True option that can avoid unnecessary retracing. For (3), please refer to https://www.tensorflow.org/guide/function#controlling_retracing and https://www.tensorflow.org/api_docs/python/tf/function for  more details.\n",
      "1/1 [==============================] - 1s 604ms/step\n"
     ]
    }
   ],
   "source": [
    "predictions = model.predict(inputs)"
   ]
  },
  {
   "cell_type": "code",
   "execution_count": 88,
   "id": "22a77f7d-f889-4692-8a23-938a560baa00",
   "metadata": {},
   "outputs": [
    {
     "data": {
      "text/plain": [
       "(30, 1)"
      ]
     },
     "execution_count": 88,
     "metadata": {},
     "output_type": "execute_result"
    }
   ],
   "source": [
    "predictions.shape"
   ]
  },
  {
   "cell_type": "markdown",
   "id": "28face34-33df-4e05-b192-5690f27abcdb",
   "metadata": {},
   "source": [
    "The network returns a set of 10 numbers (the activations in the RNN layer) 30 times in total - one time per a row (or timestep) in the input data. Therefore output shape is 30 rows of 10 numbers = (30, 10)."
   ]
  },
  {
   "cell_type": "code",
   "execution_count": 89,
   "id": "55820a44-0299-4a31-a4eb-b3ebde7f7a94",
   "metadata": {},
   "outputs": [
    {
     "data": {
      "text/plain": [
       "array([-0.94039184], dtype=float32)"
      ]
     },
     "execution_count": 89,
     "metadata": {},
     "output_type": "execute_result"
    }
   ],
   "source": [
    "predictions[-1]"
   ]
  }
 ],
 "metadata": {
  "kernelspec": {
   "display_name": "Python 3 (ipykernel)",
   "language": "python",
   "name": "python3"
  },
  "language_info": {
   "codemirror_mode": {
    "name": "ipython",
    "version": 3
   },
   "file_extension": ".py",
   "mimetype": "text/x-python",
   "name": "python",
   "nbconvert_exporter": "python",
   "pygments_lexer": "ipython3",
   "version": "3.10.9"
  }
 },
 "nbformat": 4,
 "nbformat_minor": 5
}
