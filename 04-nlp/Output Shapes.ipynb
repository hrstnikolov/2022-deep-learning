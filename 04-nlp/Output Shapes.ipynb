{
 "cells": [
  {
   "cell_type": "code",
   "execution_count": 2,
   "id": "4a94b594-a442-4417-8507-a8bc9a1e5545",
   "metadata": {},
   "outputs": [],
   "source": [
    "%matplotlib inline"
   ]
  },
  {
   "cell_type": "code",
   "execution_count": 3,
   "id": "aee3df1a-7223-4ac2-9791-109130fdc787",
   "metadata": {},
   "outputs": [],
   "source": [
    "import numpy as np\n",
    "import pandas as pd\n",
    "import matplotlib.pyplot as plt\n",
    "\n",
    "import tensorflow as tf\n",
    "from tensorflow.keras.layers import SimpleRNN, GRU, LSTM"
   ]
  },
  {
   "cell_type": "markdown",
   "id": "e5706644-98ba-4914-a030-639c374c10b0",
   "metadata": {
    "tags": []
   },
   "source": [
    "# Output Shapes"
   ]
  },
  {
   "cell_type": "markdown",
   "id": "b8d0a041-d7f4-48d7-9a7d-c9ef46bdc3f6",
   "metadata": {
    "tags": []
   },
   "source": [
    "## Recurrent Neural Network (RNN)"
   ]
  },
  {
   "cell_type": "markdown",
   "id": "4fc8ed6d-bbdc-4070-abc7-5b508c60c92d",
   "metadata": {},
   "source": [
    "Example dataset:\n",
    "- #1: 'I like tomatoes in pasta.' - 6 words\n",
    "- #2:'My hair is black.' - 5 words\n",
    "- ...\n",
    "- #1000: 'Do you what what will be the wheather tomorrow?' - 10 words\n",
    "\n",
    "\n",
    "Notes:\n",
    "- All sentences (=corpus) is 1000. One sentence = one document.\n",
    "- The batch size is 32. 32 sentences of all 1000 are processesd before GD update. `batchsize=32`\n",
    "- Each senstence consists of words, max sentence len 10. `max_num_timesteps=max_sequence_length=10`\n",
    "- Each word (more correct: token) is represented as 8x1 vector (that is the num of features is 8). `features=8` "
   ]
  },
  {
   "cell_type": "code",
   "execution_count": 4,
   "id": "5397b553-e54d-413e-bcfe-5ea27611df82",
   "metadata": {},
   "outputs": [
    {
     "data": {
      "text/plain": [
       "(32, 10, 8)"
      ]
     },
     "execution_count": 4,
     "metadata": {},
     "output_type": "execute_result"
    }
   ],
   "source": [
    "inputs = np.random.random([32, 10, 8]).astype(np.float32)\n",
    "inputs.shape"
   ]
  },
  {
   "cell_type": "markdown",
   "id": "3efdcf20-ffd1-4500-a50f-dcf6e835cdb4",
   "metadata": {},
   "source": [
    "- The layer has 4 units (neurons).\n",
    "- Each unit produces a single number on each time step (=when a word is 'fed').\n",
    "- The steps are equal the length of the sequence/sentence. However, the max length is 10 (the remaining words are not used).\n",
    "- By the default settings, only the latest values for each of the 32 sentences is returned -> the output shape is 32 sentences (in the batch) * 4 values (one from each unit in the `SimpleRNN` layer)."
   ]
  },
  {
   "cell_type": "code",
   "execution_count": 5,
   "id": "4241c866-ae08-43a6-87b1-b113df36da42",
   "metadata": {},
   "outputs": [
    {
     "data": {
      "text/plain": [
       "TensorShape([32, 4])"
      ]
     },
     "execution_count": 5,
     "metadata": {},
     "output_type": "execute_result"
    }
   ],
   "source": [
    "simple_rnn = SimpleRNN(units=4)\n",
    "output = simple_rnn(inputs)\n",
    "output.shape"
   ]
  },
  {
   "cell_type": "markdown",
   "id": "3d57b071-b713-4b6f-b71b-f860bb139ac3",
   "metadata": {},
   "source": [
    "We can get the outputs after each word, each element/token of the sequence as below:"
   ]
  },
  {
   "cell_type": "code",
   "execution_count": 6,
   "id": "b0b4a65b-e93b-4f3d-8597-26b7a93c4722",
   "metadata": {},
   "outputs": [
    {
     "data": {
      "text/plain": [
       "TensorShape([32, 10, 4])"
      ]
     },
     "execution_count": 6,
     "metadata": {},
     "output_type": "execute_result"
    }
   ],
   "source": [
    "simple_rnn = SimpleRNN(4, return_sequences=True)\n",
    "simple_rnn(inputs).shape"
   ]
  },
  {
   "cell_type": "markdown",
   "id": "a7748623-b998-443d-8f0b-09f5b20bd797",
   "metadata": {},
   "source": [
    "## Gated Recurrent Unit (GRU)"
   ]
  },
  {
   "cell_type": "code",
   "execution_count": 7,
   "id": "0cc69027-0cc2-4826-a411-dcea0d771b2b",
   "metadata": {},
   "outputs": [
    {
     "data": {
      "text/plain": [
       "TensorShape([32, 4])"
      ]
     },
     "execution_count": 7,
     "metadata": {},
     "output_type": "execute_result"
    }
   ],
   "source": [
    "gru_layer = GRU(4)\n",
    "output = gru_layer(inputs)\n",
    "output.shape"
   ]
  },
  {
   "cell_type": "code",
   "execution_count": 8,
   "id": "741648f3-c29d-403b-9dcf-a3b5628e79b0",
   "metadata": {},
   "outputs": [
    {
     "data": {
      "text/plain": [
       "TensorShape([32, 10, 4])"
      ]
     },
     "execution_count": 8,
     "metadata": {},
     "output_type": "execute_result"
    }
   ],
   "source": [
    "gru_layer = GRU(4, return_sequences=True)\n",
    "output = gru_layer(inputs)\n",
    "output.shape"
   ]
  },
  {
   "cell_type": "markdown",
   "id": "7acdea1c-7801-4a47-8d88-b0602ba1d432",
   "metadata": {},
   "source": [
    "## Long Short-Term Memory (LSTM)"
   ]
  },
  {
   "cell_type": "code",
   "execution_count": 9,
   "id": "370fdd8b-f2d3-4ad7-9a1f-a7aa91ba0ee1",
   "metadata": {},
   "outputs": [
    {
     "data": {
      "text/plain": [
       "TensorShape([32, 8])"
      ]
     },
     "execution_count": 9,
     "metadata": {},
     "output_type": "execute_result"
    }
   ],
   "source": [
    "lstm_layer = LSTM(8)\n",
    "output = lstm_layer(inputs)\n",
    "output.shape"
   ]
  },
  {
   "cell_type": "code",
   "execution_count": 10,
   "id": "6827c353-871f-4225-abaf-acb0c4d40bd6",
   "metadata": {},
   "outputs": [
    {
     "data": {
      "text/plain": [
       "TensorShape([32, 10, 8])"
      ]
     },
     "execution_count": 10,
     "metadata": {},
     "output_type": "execute_result"
    }
   ],
   "source": [
    "lstm_layer = LSTM(8, return_sequences=True)\n",
    "output = lstm_layer(inputs)\n",
    "output.shape"
   ]
  },
  {
   "cell_type": "code",
   "execution_count": 11,
   "id": "835a64a1-9ea5-4043-9469-5086f89408d1",
   "metadata": {},
   "outputs": [
    {
     "data": {
      "text/plain": [
       "(3, [TensorShape([32, 8]), TensorShape([32, 8]), TensorShape([32, 8])])"
      ]
     },
     "execution_count": 11,
     "metadata": {},
     "output_type": "execute_result"
    }
   ],
   "source": [
    "lstm_layer = LSTM(8, return_state=True)\n",
    "output = lstm_layer(inputs)\n",
    "len(output), [x.shape for x in output]"
   ]
  }
 ],
 "metadata": {
  "kernelspec": {
   "display_name": "Python 3 (ipykernel)",
   "language": "python",
   "name": "python3"
  },
  "language_info": {
   "codemirror_mode": {
    "name": "ipython",
    "version": 3
   },
   "file_extension": ".py",
   "mimetype": "text/x-python",
   "name": "python",
   "nbconvert_exporter": "python",
   "pygments_lexer": "ipython3",
   "version": "3.10.10"
  }
 },
 "nbformat": 4,
 "nbformat_minor": 5
}
