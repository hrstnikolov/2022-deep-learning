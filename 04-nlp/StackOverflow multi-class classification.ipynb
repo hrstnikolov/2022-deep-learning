{
 "cells": [
  {
   "cell_type": "code",
   "execution_count": 2,
   "id": "408c68e4-7181-4196-ba3e-cc89f3952469",
   "metadata": {},
   "outputs": [],
   "source": [
    "%matplotlib inline"
   ]
  },
  {
   "cell_type": "code",
   "execution_count": 7,
   "id": "2143a2b2-3875-4941-b114-0acc140a6815",
   "metadata": {},
   "outputs": [],
   "source": [
    "import numpy as np\n",
    "import pandas as pd\n",
    "import matplotlib.pyplot as plt\n",
    "\n",
    "import os\n",
    "from pathlib import Path\n",
    "\n",
    "import tensorflow as tf\n",
    "from tensorflow.keras.utils import text_dataset_from_directory\n",
    "from tensorflow.keras.models import Sequential\n",
    "from tensorflow.keras.layers import Input, Dense, Dropout, Embedding, GlobalAveragePooling1D"
   ]
  },
  {
   "cell_type": "markdown",
   "id": "2ed6452d-671d-491c-9540-9a21c98caf3f",
   "metadata": {},
   "source": [
    "# StackOverflow Multi-class Classification"
   ]
  },
  {
   "cell_type": "code",
   "execution_count": 14,
   "id": "7ca77197-25f7-4713-a962-24e828b93feb",
   "metadata": {},
   "outputs": [],
   "source": [
    "SEED = 42"
   ]
  },
  {
   "cell_type": "code",
   "execution_count": 12,
   "id": "1bbec2aa-fc85-4f72-9cce-c07b2155879d",
   "metadata": {},
   "outputs": [
    {
     "data": {
      "text/plain": [
       "[WindowsPath('C:/Users/a1056968/Desktop/datasets/stackoverflow/stack_overflow_16k/train/csharp'),\n",
       " WindowsPath('C:/Users/a1056968/Desktop/datasets/stackoverflow/stack_overflow_16k/train/java'),\n",
       " WindowsPath('C:/Users/a1056968/Desktop/datasets/stackoverflow/stack_overflow_16k/train/javascript'),\n",
       " WindowsPath('C:/Users/a1056968/Desktop/datasets/stackoverflow/stack_overflow_16k/train/python')]"
      ]
     },
     "execution_count": 12,
     "metadata": {},
     "output_type": "execute_result"
    }
   ],
   "source": [
    "dataset_path = Path().home() / 'Desktop\\\\datasets\\\\stackoverflow\\\\stack_overflow_16k'\n",
    "train_path = dataset_path / 'train'\n",
    "test_path = dataset_path / 'test'"
   ]
  },
  {
   "cell_type": "code",
   "execution_count": 15,
   "id": "5d82901f-16f6-4c64-89e6-77ad7ce913c2",
   "metadata": {},
   "outputs": [
    {
     "name": "stdout",
     "output_type": "stream",
     "text": [
      "Found 8000 files belonging to 4 classes.\n",
      "Using 6400 files for training.\n",
      "Using 1600 files for validation.\n"
     ]
    },
    {
     "data": {
      "text/plain": [
       "(<BatchDataset element_spec=(TensorSpec(shape=(None,), dtype=tf.string, name=None), TensorSpec(shape=(None,), dtype=tf.int32, name=None))>,\n",
       " <BatchDataset element_spec=(TensorSpec(shape=(None,), dtype=tf.string, name=None), TensorSpec(shape=(None,), dtype=tf.int32, name=None))>)"
      ]
     },
     "execution_count": 15,
     "metadata": {},
     "output_type": "execute_result"
    }
   ],
   "source": [
    "raw_train_ds, raw_val_ds = text_dataset_from_directory(\n",
    "    train_path,\n",
    "    seed=SEED,\n",
    "    validation_split=0.2,\n",
    "    subset='both'\n",
    ")\n",
    "\n",
    "raw_train_ds, raw_val_ds"
   ]
  },
  {
   "cell_type": "code",
   "execution_count": 17,
   "id": "09f4c940-1018-4f14-b86c-ecafcf27ec38",
   "metadata": {},
   "outputs": [
    {
     "name": "stdout",
     "output_type": "stream",
     "text": [
      "Found 8000 files belonging to 4 classes.\n"
     ]
    },
    {
     "data": {
      "text/plain": [
       "<BatchDataset element_spec=(TensorSpec(shape=(None,), dtype=tf.string, name=None), TensorSpec(shape=(None,), dtype=tf.int32, name=None))>"
      ]
     },
     "execution_count": 17,
     "metadata": {},
     "output_type": "execute_result"
    }
   ],
   "source": [
    "raw_test_ds = text_dataset_from_directory(\n",
    "    test_path\n",
    ")\n",
    "raw_test_ds"
   ]
  },
  {
   "cell_type": "code",
   "execution_count": null,
   "id": "3338ac66-9c02-4a98-a313-6156c809dc4a",
   "metadata": {},
   "outputs": [],
   "source": []
  }
 ],
 "metadata": {
  "kernelspec": {
   "display_name": "Python 3 (ipykernel)",
   "language": "python",
   "name": "python3"
  },
  "language_info": {
   "codemirror_mode": {
    "name": "ipython",
    "version": 3
   },
   "file_extension": ".py",
   "mimetype": "text/x-python",
   "name": "python",
   "nbconvert_exporter": "python",
   "pygments_lexer": "ipython3",
   "version": "3.10.9"
  }
 },
 "nbformat": 4,
 "nbformat_minor": 5
}
