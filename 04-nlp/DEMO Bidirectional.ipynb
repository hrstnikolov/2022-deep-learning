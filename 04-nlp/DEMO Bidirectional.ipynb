{
 "cells": [
  {
   "cell_type": "code",
   "execution_count": 1,
   "id": "a06aa5cf-55d8-46ba-a603-4f78e03abe96",
   "metadata": {},
   "outputs": [],
   "source": [
    "%matplotlib inline"
   ]
  },
  {
   "cell_type": "code",
   "execution_count": 2,
   "id": "84010859-4a67-48bb-a75e-1b536fcd5981",
   "metadata": {},
   "outputs": [],
   "source": [
    "import numpy as np\n",
    "import pandas as pd\n",
    "import matplotlib.pyplot as plt\n",
    "\n",
    "from IPython.display import display\n",
    "\n",
    "import tensorflow as tf\n",
    "from tensorflow.keras.models import Sequential\n",
    "from tensorflow.keras.layers import Input, LSTM, GRU, Bidirectional"
   ]
  },
  {
   "cell_type": "markdown",
   "id": "4627bca2-7b67-4d93-916c-723503c3fc0e",
   "metadata": {
    "tags": []
   },
   "source": [
    "# Bidirectional Layer"
   ]
  },
  {
   "cell_type": "markdown",
   "id": "c03706fd-f807-4786-86b3-bff0b52df3ed",
   "metadata": {},
   "source": [
    "**SHAPE OF THE INPUT LAYER**\n",
    "\n",
    "When defining the shape of the Input layer, the batch size is not included in the shape because it can vary depending on the batch of data being processed. Instead, only the shape of a single data instance is specified.\n",
    "\n",
    "For example, consider an input data consisting of 32 images, each of size 28x28 and with 3 color channels. The shape of the Input layer would be defined as follows:\n",
    "\n",
    "```python\n",
    "from tensorflow.keras.layers import Input\n",
    "\n",
    "input_shape = (28, 28, 3)\n",
    "inputs = Input(shape=input_shape)\n",
    "```\n",
    "\n",
    "In this case, the shape of the Input layer is (28, 28, 3), which corresponds to the shape of a single image. The batch size of 32 is not included in the shape definition, and will be automatically determined based on the batch of data being fed into the network during training or inference.\n",
    "\n",
    "By omitting the batch size from the shape definition, the same model architecture can be used to process data with varying batch sizes, making the model more flexible and easier to reuse.\n",
    "\n",
    "**SHAPE OF TEXT**\n",
    "\n",
    "```python\n",
    "BATCH_SIZE = 32              # [\"My cat is black.\", \"I wear glasses.\", ...]\n",
    "MAX_SEQUENCE_LENGTH = 10     # \"My cat is black. NULL NULL ...\"\n",
    "EMBEDDING_LENGTH = 5         # \"my -> [254, 3, 5, 2, 87], cat -> [...], ...\"\n",
    "```"
   ]
  },
  {
   "cell_type": "markdown",
   "id": "9a21b993-e650-4c33-9513-965a97a153e2",
   "metadata": {},
   "source": [
    "### Using input layer"
   ]
  },
  {
   "cell_type": "code",
   "execution_count": 17,
   "id": "a181cc79-7e91-410e-9e17-ba755ca2d3bf",
   "metadata": {},
   "outputs": [
    {
     "data": {
      "text/plain": [
       "<KerasTensor: shape=(None, 40) dtype=float32 (created by layer 'bidirectional_10')>"
      ]
     },
     "execution_count": 17,
     "metadata": {},
     "output_type": "execute_result"
    }
   ],
   "source": [
    "input_layer = Input(shape=(10, 5))\n",
    "lstm_layer = LSTM(20)\n",
    "bidirectional_layer = Bidirectional(lstm_layer)\n",
    "output = bidirectional_layer(input_layer)\n",
    "\n",
    "# The output is keras tensor (no values, yet).\n",
    "output"
   ]
  },
  {
   "cell_type": "markdown",
   "id": "809aeb2c-8c4f-47ac-ac16-375a6c8b9595",
   "metadata": {},
   "source": [
    "### Using input values"
   ]
  },
  {
   "cell_type": "code",
   "execution_count": 19,
   "id": "3a7a90b9-24a1-4a80-91c4-210950d1b9c2",
   "metadata": {},
   "outputs": [
    {
     "data": {
      "text/plain": [
       "<tf.Tensor: shape=(32, 40), dtype=float32, numpy=\n",
       "array([[-0.18838741,  0.04260767, -0.07224035, ...,  0.04364341,\n",
       "        -0.00166474, -0.19681224],\n",
       "       [-0.15869983,  0.00556247, -0.06004506, ...,  0.0692396 ,\n",
       "        -0.03293317, -0.25512323],\n",
       "       [-0.15612747,  0.02972779, -0.07140367, ...,  0.05190247,\n",
       "        -0.03081059, -0.24716586],\n",
       "       ...,\n",
       "       [-0.1240718 , -0.01141947, -0.05324303, ...,  0.06523241,\n",
       "         0.04116708, -0.23248076],\n",
       "       [-0.15993057, -0.09914766, -0.05532391, ...,  0.05644035,\n",
       "        -0.05249197, -0.23391026],\n",
       "       [-0.1850729 ,  0.02952537, -0.02644309, ...,  0.08815773,\n",
       "        -0.04372393, -0.2554341 ]], dtype=float32)>"
      ]
     },
     "execution_count": 19,
     "metadata": {},
     "output_type": "execute_result"
    }
   ],
   "source": [
    "input_values = np.random.random([32, 10, 5]).astype(np.float32)\n",
    "\n",
    "lstm_layer = LSTM(20)\n",
    "bidirectional_layer = Bidirectional(lstm_layer)\n",
    "output = bidirectional_layer(input_values)\n",
    "\n",
    "# The output is values. Default `merge_mode` is `concat`.\n",
    "output"
   ]
  },
  {
   "cell_type": "markdown",
   "id": "f4720e88-0a12-407a-ba4f-9b6b25a90515",
   "metadata": {},
   "source": [
    "### Sum the outputs"
   ]
  },
  {
   "cell_type": "code",
   "execution_count": 20,
   "id": "7c98b3e2-6e3f-46ea-979d-5a25fe279a80",
   "metadata": {},
   "outputs": [
    {
     "data": {
      "text/plain": [
       "TensorShape([32, 20])"
      ]
     },
     "execution_count": 20,
     "metadata": {},
     "output_type": "execute_result"
    }
   ],
   "source": [
    "input_values = np.random.random([32, 10, 5]).astype(np.float32)\n",
    "\n",
    "lstm_layer = LSTM(20)\n",
    "bidirectional_layer = Bidirectional(lstm_layer, merge_mode='sum')\n",
    "output = bidirectional_layer(input_values)\n",
    "\n",
    "# The output is values.\n",
    "output.shape"
   ]
  },
  {
   "cell_type": "markdown",
   "id": "33925026-3e53-4e8a-89fb-bb7e93af1bfc",
   "metadata": {},
   "source": [
    "## Merge mode 'concat'\n",
    "\n",
    "Първият `Bidirectional` връща вектори с дължина 40 защото залепя резултатите (2х20) от подслоевете LSTM-и. 20 за forward, 20 за backward."
   ]
  },
  {
   "cell_type": "markdown",
   "id": "c9ba5842-1d04-45bc-b273-f35544e65e11",
   "metadata": {
    "tags": []
   },
   "source": [
    "Създаваме 2 слоя които работят едновременно: единия чете думите стандартно (ляво->дясно), а другият наобратно (отзад->напред). Всеки слой дава n активации, колкото неврона има (в примера долу: 20). Тъй като са 2 слоя, резултатите може да обединим като ги \"залепим\" (конкатенираме) или вземем средното им. "
   ]
  },
  {
   "cell_type": "code",
   "execution_count": 18,
   "id": "af6d87a5-7d58-43e4-ae7d-ea5f099c3ae6",
   "metadata": {},
   "outputs": [],
   "source": [
    "model = Sequential([\n",
    "    Input(shape=(50,5)),\n",
    "    \n",
    "    Bidirectional(LSTM(20, return_sequences = True)),\n",
    "    Bidirectional(LSTM(20)),\n",
    "])"
   ]
  },
  {
   "cell_type": "code",
   "execution_count": 19,
   "id": "63d14279-68d7-48f5-b6a8-e5ce52aea424",
   "metadata": {},
   "outputs": [
    {
     "name": "stdout",
     "output_type": "stream",
     "text": [
      "Model: \"sequential_4\"\n",
      "_________________________________________________________________\n",
      " Layer (type)                Output Shape              Param #   \n",
      "=================================================================\n",
      " bidirectional_4 (Bidirectio  (None, 50, 40)           4160      \n",
      " nal)                                                            \n",
      "                                                                 \n",
      " bidirectional_5 (Bidirectio  (None, 40)               9760      \n",
      " nal)                                                            \n",
      "                                                                 \n",
      "=================================================================\n",
      "Total params: 13,920\n",
      "Trainable params: 13,920\n",
      "Non-trainable params: 0\n",
      "_________________________________________________________________\n"
     ]
    }
   ],
   "source": [
    "model.summary()"
   ]
  },
  {
   "cell_type": "markdown",
   "id": "6b09903e-a136-44fc-b19e-26a20c2801fe",
   "metadata": {},
   "source": [
    "## Merge mode 'sum'"
   ]
  },
  {
   "cell_type": "code",
   "execution_count": 20,
   "id": "957e38f8-b73c-4bca-bdd0-387655e59d4d",
   "metadata": {},
   "outputs": [],
   "source": [
    "model = Sequential([\n",
    "    Input(shape=(50,5)),\n",
    "    \n",
    "    Bidirectional(LSTM(20, return_sequences = True), merge_mode='sum'),\n",
    "    Bidirectional(LSTM(20)),\n",
    "])"
   ]
  },
  {
   "cell_type": "code",
   "execution_count": 21,
   "id": "7eeba3c8-32d0-4ec7-913e-097491c13dac",
   "metadata": {},
   "outputs": [
    {
     "name": "stdout",
     "output_type": "stream",
     "text": [
      "Model: \"sequential_5\"\n",
      "_________________________________________________________________\n",
      " Layer (type)                Output Shape              Param #   \n",
      "=================================================================\n",
      " bidirectional_6 (Bidirectio  (None, 50, 20)           4160      \n",
      " nal)                                                            \n",
      "                                                                 \n",
      " bidirectional_7 (Bidirectio  (None, 40)               6560      \n",
      " nal)                                                            \n",
      "                                                                 \n",
      "=================================================================\n",
      "Total params: 10,720\n",
      "Trainable params: 10,720\n",
      "Non-trainable params: 0\n",
      "_________________________________________________________________\n"
     ]
    }
   ],
   "source": [
    "model.summary()"
   ]
  },
  {
   "cell_type": "markdown",
   "id": "6c75a7b2-4609-47e5-a888-38405f9a3854",
   "metadata": {},
   "source": [
    "## Backward layer"
   ]
  },
  {
   "cell_type": "code",
   "execution_count": 24,
   "id": "76126ea8-9560-4814-b993-0b2de5c70a43",
   "metadata": {},
   "outputs": [],
   "source": [
    "model = Sequential([\n",
    "    Input(shape=(50,5)),\n",
    "    \n",
    "    Bidirectional(LSTM(20, return_sequences=True), merge_mode='sum'),\n",
    "    Bidirectional(LSTM(20), backward_layer=GRU(15, go_backwards=True)),\n",
    "])"
   ]
  },
  {
   "cell_type": "code",
   "execution_count": 25,
   "id": "e4934745-399a-4ce8-b40e-083c12dfdaef",
   "metadata": {},
   "outputs": [
    {
     "name": "stdout",
     "output_type": "stream",
     "text": [
      "Model: \"sequential_6\"\n",
      "_________________________________________________________________\n",
      " Layer (type)                Output Shape              Param #   \n",
      "=================================================================\n",
      " bidirectional_9 (Bidirectio  (None, 50, 20)           4160      \n",
      " nal)                                                            \n",
      "                                                                 \n",
      " bidirectional_10 (Bidirecti  (None, 35)               4945      \n",
      " onal)                                                           \n",
      "                                                                 \n",
      "=================================================================\n",
      "Total params: 9,105\n",
      "Trainable params: 9,105\n",
      "Non-trainable params: 0\n",
      "_________________________________________________________________\n"
     ]
    }
   ],
   "source": [
    "model.summary()"
   ]
  }
 ],
 "metadata": {
  "kernelspec": {
   "display_name": "Python 3 (ipykernel)",
   "language": "python",
   "name": "python3"
  },
  "language_info": {
   "codemirror_mode": {
    "name": "ipython",
    "version": 3
   },
   "file_extension": ".py",
   "mimetype": "text/x-python",
   "name": "python",
   "nbconvert_exporter": "python",
   "pygments_lexer": "ipython3",
   "version": "3.10.10"
  }
 },
 "nbformat": 4,
 "nbformat_minor": 5
}
