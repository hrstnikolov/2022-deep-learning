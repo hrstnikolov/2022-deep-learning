{
 "cells": [
  {
   "cell_type": "code",
   "execution_count": 7,
   "id": "a4a26faa-613d-427f-bad0-6eced3fc410b",
   "metadata": {},
   "outputs": [],
   "source": [
    "%matplotlib inline"
   ]
  },
  {
   "cell_type": "code",
   "execution_count": 8,
   "id": "a323569b-fb9f-408b-89ca-57e7468d418d",
   "metadata": {},
   "outputs": [],
   "source": [
    "import numpy as np\n",
    "import pandas as pd\n",
    "import matplotlib.pyplot as plt\n",
    "\n",
    "import tensorflow as tf\n",
    "from tensorflow.keras.layers import GlobalAvgPool2D"
   ]
  },
  {
   "cell_type": "markdown",
   "id": "29cefe90-bd3e-43f8-9c6e-fb34c6c39a36",
   "metadata": {
    "tags": []
   },
   "source": [
    "# `GlobalAvgPool2D`"
   ]
  },
  {
   "cell_type": "code",
   "execution_count": 9,
   "id": "9f28e1bb-6099-4d01-93f7-ca56ab52b53c",
   "metadata": {},
   "outputs": [
    {
     "data": {
      "text/plain": [
       "(2, 3, 3, 1)"
      ]
     },
     "execution_count": 9,
     "metadata": {},
     "output_type": "execute_result"
    }
   ],
   "source": [
    "# batch of 1 images, 3x3, 1 channel\n",
    "dummy_image_batch = np.arange(18).reshape(2, 3, 3, 1)\n",
    "dummy_image_batch.shape"
   ]
  },
  {
   "cell_type": "code",
   "execution_count": 10,
   "id": "d6bf9ae8-76ac-4072-acbd-a9e184a1e6e4",
   "metadata": {},
   "outputs": [
    {
     "data": {
      "text/plain": [
       "<tf.Tensor: shape=(2, 1), dtype=int32, numpy=\n",
       "array([[ 4],\n",
       "       [13]])>"
      ]
     },
     "execution_count": 10,
     "metadata": {},
     "output_type": "execute_result"
    }
   ],
   "source": [
    "GlobalAvgPool2D()(dummy_image_batch)"
   ]
  }
 ],
 "metadata": {
  "kernelspec": {
   "display_name": "Python 3 (ipykernel)",
   "language": "python",
   "name": "python3"
  },
  "language_info": {
   "codemirror_mode": {
    "name": "ipython",
    "version": 3
   },
   "file_extension": ".py",
   "mimetype": "text/x-python",
   "name": "python",
   "nbconvert_exporter": "python",
   "pygments_lexer": "ipython3",
   "version": "3.10.10"
  }
 },
 "nbformat": 4,
 "nbformat_minor": 5
}
