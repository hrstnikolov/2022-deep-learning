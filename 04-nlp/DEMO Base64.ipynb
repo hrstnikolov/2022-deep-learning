{
 "cells": [
  {
   "cell_type": "code",
   "execution_count": 2,
   "id": "a4a26faa-613d-427f-bad0-6eced3fc410b",
   "metadata": {},
   "outputs": [],
   "source": [
    "%matplotlib inline"
   ]
  },
  {
   "cell_type": "code",
   "execution_count": 3,
   "id": "a323569b-fb9f-408b-89ca-57e7468d418d",
   "metadata": {},
   "outputs": [],
   "source": [
    "import numpy as np\n",
    "import pandas as pd\n",
    "import matplotlib.pyplot as plt\n",
    "\n",
    "import base64"
   ]
  },
  {
   "cell_type": "markdown",
   "id": "2e6ad7b0-42c9-4ac8-a1a3-f9cc3b9994db",
   "metadata": {
    "tags": []
   },
   "source": [
    "# Base64 image encoding\n",
    "\n",
    "<a href=\"https://www.flaticon.com/free-icons/lion\" title=\"lion icons\">Lion icons created by Aranagraphics - Flaticon</a>\n",
    "\n",
    "Base64 is a binary-to-text encoding scheme that represents binary data in an ASCII string format. In the context of images, a base64-encoded string represents the image data as a series of ASCII characters that can be embedded directly into a text file or a web page. This allows images to be included in files and web pages without the need for separate image files.\n",
    "\n",
    "For example, let's say you have an image file called my_image.jpg that you want to include in a Jupyter Notebook. You can encode the image as a base64-encoded string using Python's built-in base64 module:\n",
    "\n",
    "```python\n",
    "import base64\n",
    "\n",
    "with open(\"my_image.jpg\", \"rb\") as image_file:\n",
    "    encoded_string = base64.b64encode(image_file.read()).decode(\"utf-8\")\n",
    "The base64.b64encode function takes the binary data of the image file as input and returns a base64-encoded byte string. The decode(\"utf-8\") method converts the byte string to a regular string in UTF-8 encoding.\n",
    "```\n",
    "\n",
    "You can then embed the base64-encoded string directly into a Jupyter Notebook Markdown cell using the following syntax:\n",
    "\n",
    "```markdown\n",
    "![My Image](data:image/jpeg;base64, {base64-encoded string})\n",
    "```\n",
    "\n",
    "The data:image/jpeg;base64, prefix tells the browser that the following string is a base64-encoded image in JPEG format. You can replace image/jpeg with the appropriate MIME type for the image format you're using.\n",
    "\n",
    "There are many websites that can encode images as base64-encoded strings, such as Base64 Image Encoder (https://www.base64-image.de/) and Online Base64 Image Encoder (https://www.browserling.com/tools/image-to-base64). Simply upload your image to the website and it will generate the corresponding base64-encoded string for you."
   ]
  },
  {
   "cell_type": "code",
   "execution_count": 4,
   "id": "666eddf0-e41f-4567-9163-c42a900bb6b7",
   "metadata": {},
   "outputs": [
    {
     "data": {
      "image/png": "[encoded data removed]",
      "text/plain": [
       "<Figure size 640x480 with 1 Axes>"
      ]
     },
     "metadata": {},
     "output_type": "display_data"
    }
   ],
   "source": [
    "image_path = \"../lion.png\"\n",
    "lion = plt.imread(image_path)\n",
    "plt.imshow(lion)\n",
    "plt.show()"
   ]
  },
  {
   "cell_type": "code",
   "execution_count": 5,
   "id": "604f0ec5-6112-4a58-9a37-7f113a0431bf",
   "metadata": {},
   "outputs": [
    {
     "data": {
      "text/plain": [
       "'iVBORw0KGgoAAAANSUhEUgAAABAAAAAQCAYAAAAf8/9hAAAACXBIWXMAAAB2AAAAdgFOeyYIAAAAGXRFWHRTb2Z0d2FyZQB3d3cuaW5rc2NhcGUub3Jnm+48GgAAAudJREFUOI1lkktME2EUhc8828KMxZZHBdqCIMFHRFCRRuMjLhAhYojGjQs2JibuDBLdaOJKjWujG+LWuDAuSNTEBA3E+EaphJoSLbQWG6fMlLbz/GdcKKat/+rkz71fzj05FCqeT+C38zRzozvkg0OBmk1kHcMml7N540vlLABQpXqwK/hgqKv5mK+aF+u9HgBARlEh5fXc5OfUk8lPy2cqAXSJ3rBa0Pq6wz4xXCvAwzHwcAzCtQJ6WvwbpIIWAeCtBDDroifsP3ft5K7TOc2kp+UsvmsqvqlFRFcV1FAsDncEhFg6l0or6lsAAgADANh1ACF2r24SzEoyLlzpBvX3OMcB7t2cxY6NXhDH3gfgTk+L76FmktvzKeX5P0CVm035RRfTaYv4Mp+FRmgQ4qCad9DuFeAXXYybY5NbNwkHz/a175paWBktAzSI7rCLZdDkrUL8m4JlmYbjOAjW2OjwVoNnadSLnpBukXaaobw6sZWyEBXNKj76kJBcLIOFOQm8vQaXk0csmgXP0nj0ISHpxFY+JrKPJ17Fck/nkhfLQrQc8j5jmL17gr62zaKAeFqGmbdwKNCAnG5i4s3iy+8/lfGedv+5vm21gdcL0t0yB0lJTQ0NhItRkodqEQy3hXBicwhFi2CO5DF4vLUguNnqgb7G0Xg6P/1fDyJd9f08x+y9NLYb6HRhKpnBVDIDdLowPrYbHo6ORHbWPSvoVnFmIXV9fY8FgG0h3/bzpzruExcbAIATg61I7KwFRQGhZvFPyH53Y+hAo3lrInpVliGXOairY0dGjgYDxCQAgNiiDM0gUHWC2OKfWdMkGD4S5Hw1nlBpE1kAWJH1mWh8VTMN4gYATbcqGwvbsBGNr2ppWZ0p/WcAYH9XfX9TgxCxiCPIqgklZyC1lENWKsJyKCz9WEMuq6FQMKV0Rpv7mlDelzngOHrLi3dppmg45kz0F2iaYuy/59AcA9t2iG0QVPEUw3NUR6mD33dZTThyshcYAAAAAElFTkSuQmCC'"
      ]
     },
     "execution_count": 5,
     "metadata": {},
     "output_type": "execute_result"
    }
   ],
   "source": [
    "with open(image_path, \"rb\") as image_file:\n",
    "    image_bytes = base64.b64encode(image_file.read())\n",
    "    encoded_string = image_bytes.decode(\"utf-8\")\n",
    "\n",
    "encoded_string"
   ]
  }
 ],
 "metadata": {
  "kernelspec": {
   "display_name": "Python 3 (ipykernel)",
   "language": "python",
   "name": "python3"
  },
  "language_info": {
   "codemirror_mode": {
    "name": "ipython",
    "version": 3
   },
   "file_extension": ".py",
   "mimetype": "text/x-python",
   "name": "python",
   "nbconvert_exporter": "python",
   "pygments_lexer": "ipython3",
   "version": "3.10.10"
  }
 },
 "nbformat": 4,
 "nbformat_minor": 5
}
