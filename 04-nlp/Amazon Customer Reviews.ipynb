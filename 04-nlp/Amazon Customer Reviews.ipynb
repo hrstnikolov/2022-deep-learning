{
 "cells": [
  {
   "cell_type": "code",
   "execution_count": 1,
   "id": "0e858148-4a28-4711-9360-1eb6387b8e21",
   "metadata": {},
   "outputs": [],
   "source": [
    "%matplotlib inline"
   ]
  },
  {
   "cell_type": "code",
   "execution_count": 88,
   "id": "63ee7d63-a803-42ff-99b7-a4c6720ba4ff",
   "metadata": {},
   "outputs": [],
   "source": [
    "import numpy as np\n",
    "import pandas as pd\n",
    "import matplotlib.pyplot as plt\n",
    "\n",
    "from pathlib import Path\n",
    "\n",
    "import nltk\n",
    "from sklearn.feature_extraction.text import CountVectorizer, TfidfVectorizer\n",
    "from sklearn.model_selection import train_test_split\n",
    "from sklearn.naive_bayes import MultinomialNB, BernoulliNB\n",
    "from sklearn.svm import LinearSVC\n",
    "from sklearn.linear_model import SGDClassifier\n",
    "from sklearn.pipeline import Pipeline, make_pipeline\n",
    "from sklearn.metrics import classification_report"
   ]
  },
  {
   "cell_type": "markdown",
   "id": "a8e9741e-19b6-4c6a-92bb-1d14d654a35c",
   "metadata": {
    "tags": []
   },
   "source": [
    "# Amazon Customer Reviews"
   ]
  },
  {
   "cell_type": "markdown",
   "id": "748272c5-304e-42c9-8341-4d3c93a8b1b1",
   "metadata": {},
   "source": [
    "Amazon customer reviews of products. Sentiment analysis. Label # 1 = 1 or 2, label # 2 = 4 or 5.\n",
    "\n",
    "Dataset from [here](https://www.kaggle.com/datasets/bittlingmayer/amazonreviews?resource=download).\n",
    "\n",
    "Steps"
   ]
  },
  {
   "cell_type": "markdown",
   "id": "765cc7c0-dc17-49f1-a7bf-f039a4562ac9",
   "metadata": {
    "tags": []
   },
   "source": [
    "## Read and preprocess data"
   ]
  },
  {
   "cell_type": "code",
   "execution_count": 71,
   "id": "de6cdad6-b304-4e22-b49a-64860f9b0c84",
   "metadata": {},
   "outputs": [
    {
     "data": {
      "text/html": [
       "<div>\n",
       "<style scoped>\n",
       "    .dataframe tbody tr th:only-of-type {\n",
       "        vertical-align: middle;\n",
       "    }\n",
       "\n",
       "    .dataframe tbody tr th {\n",
       "        vertical-align: top;\n",
       "    }\n",
       "\n",
       "    .dataframe thead th {\n",
       "        text-align: right;\n",
       "    }\n",
       "</style>\n",
       "<table border=\"1\" class=\"dataframe\">\n",
       "  <thead>\n",
       "    <tr style=\"text-align: right;\">\n",
       "      <th></th>\n",
       "      <th>sentiment</th>\n",
       "      <th>review</th>\n",
       "    </tr>\n",
       "  </thead>\n",
       "  <tbody>\n",
       "    <tr>\n",
       "      <th>0</th>\n",
       "      <td>__label__2</td>\n",
       "      <td>Great CD: My lovely Pat has one of the GREAT v...</td>\n",
       "    </tr>\n",
       "    <tr>\n",
       "      <th>1</th>\n",
       "      <td>__label__2</td>\n",
       "      <td>One of the best game music soundtracks - for a...</td>\n",
       "    </tr>\n",
       "    <tr>\n",
       "      <th>2</th>\n",
       "      <td>__label__1</td>\n",
       "      <td>Batteries died within a year ...: I bought thi...</td>\n",
       "    </tr>\n",
       "    <tr>\n",
       "      <th>3</th>\n",
       "      <td>__label__2</td>\n",
       "      <td>works fine, but Maha Energy is better: Check o...</td>\n",
       "    </tr>\n",
       "    <tr>\n",
       "      <th>4</th>\n",
       "      <td>__label__2</td>\n",
       "      <td>Great for the non-audiophile: Reviewed quite a...</td>\n",
       "    </tr>\n",
       "    <tr>\n",
       "      <th>...</th>\n",
       "      <td>...</td>\n",
       "      <td>...</td>\n",
       "    </tr>\n",
       "    <tr>\n",
       "      <th>995</th>\n",
       "      <td>__label__1</td>\n",
       "      <td>Borinmg &amp; dumb: A waste of time.Glory for old ...</td>\n",
       "    </tr>\n",
       "    <tr>\n",
       "      <th>996</th>\n",
       "      <td>__label__2</td>\n",
       "      <td>Best film of the year: One of the best films e...</td>\n",
       "    </tr>\n",
       "    <tr>\n",
       "      <th>997</th>\n",
       "      <td>__label__2</td>\n",
       "      <td>See this movie just for Ian McKellen's perform...</td>\n",
       "    </tr>\n",
       "    <tr>\n",
       "      <th>998</th>\n",
       "      <td>__label__2</td>\n",
       "      <td>best screenplays have more stability: One of t...</td>\n",
       "    </tr>\n",
       "    <tr>\n",
       "      <th>999</th>\n",
       "      <td>__label__1</td>\n",
       "      <td>Tree arrived bent and poorly packed: The manuf...</td>\n",
       "    </tr>\n",
       "  </tbody>\n",
       "</table>\n",
       "<p>1000 rows × 2 columns</p>\n",
       "</div>"
      ],
      "text/plain": [
       "      sentiment                                             review\n",
       "0    __label__2  Great CD: My lovely Pat has one of the GREAT v...\n",
       "1    __label__2  One of the best game music soundtracks - for a...\n",
       "2    __label__1  Batteries died within a year ...: I bought thi...\n",
       "3    __label__2  works fine, but Maha Energy is better: Check o...\n",
       "4    __label__2  Great for the non-audiophile: Reviewed quite a...\n",
       "..          ...                                                ...\n",
       "995  __label__1  Borinmg & dumb: A waste of time.Glory for old ...\n",
       "996  __label__2  Best film of the year: One of the best films e...\n",
       "997  __label__2  See this movie just for Ian McKellen's perform...\n",
       "998  __label__2  best screenplays have more stability: One of t...\n",
       "999  __label__1  Tree arrived bent and poorly packed: The manuf...\n",
       "\n",
       "[1000 rows x 2 columns]"
      ]
     },
     "execution_count": 71,
     "metadata": {},
     "output_type": "execute_result"
    }
   ],
   "source": [
    "def read_amazon_reviews():\n",
    "    filepath = Path().home() / r'Desktop\\datasets\\amazon_reivews\\test.ft.txt'\n",
    "    with open(filepath, encoding='utf8') as f:\n",
    "        lines = f.readlines()\n",
    "    records = [line.split(' ', 1) for line in lines[:1_000]]    \n",
    "    amazon_reviews = pd.DataFrame().from_records(records, columns=['sentiment', 'review'])\n",
    "    \n",
    "    return amazon_reviews\n",
    "\n",
    "amazon = read_amazon_reviews()\n",
    "amazon"
   ]
  },
  {
   "cell_type": "code",
   "execution_count": 72,
   "id": "35fdf7f6-5d8e-4663-9d96-be68350001a8",
   "metadata": {},
   "outputs": [
    {
     "data": {
      "text/html": [
       "<div>\n",
       "<style scoped>\n",
       "    .dataframe tbody tr th:only-of-type {\n",
       "        vertical-align: middle;\n",
       "    }\n",
       "\n",
       "    .dataframe tbody tr th {\n",
       "        vertical-align: top;\n",
       "    }\n",
       "\n",
       "    .dataframe thead th {\n",
       "        text-align: right;\n",
       "    }\n",
       "</style>\n",
       "<table border=\"1\" class=\"dataframe\">\n",
       "  <thead>\n",
       "    <tr style=\"text-align: right;\">\n",
       "      <th></th>\n",
       "      <th>sentiment</th>\n",
       "      <th>review</th>\n",
       "    </tr>\n",
       "  </thead>\n",
       "  <tbody>\n",
       "    <tr>\n",
       "      <th>0</th>\n",
       "      <td>True</td>\n",
       "      <td>Great CD: My lovely Pat has one of the GREAT v...</td>\n",
       "    </tr>\n",
       "    <tr>\n",
       "      <th>1</th>\n",
       "      <td>True</td>\n",
       "      <td>One of the best game music soundtracks - for a...</td>\n",
       "    </tr>\n",
       "    <tr>\n",
       "      <th>2</th>\n",
       "      <td>False</td>\n",
       "      <td>Batteries died within a year ...: I bought thi...</td>\n",
       "    </tr>\n",
       "    <tr>\n",
       "      <th>3</th>\n",
       "      <td>True</td>\n",
       "      <td>works fine, but Maha Energy is better: Check o...</td>\n",
       "    </tr>\n",
       "    <tr>\n",
       "      <th>4</th>\n",
       "      <td>True</td>\n",
       "      <td>Great for the non-audiophile: Reviewed quite a...</td>\n",
       "    </tr>\n",
       "    <tr>\n",
       "      <th>...</th>\n",
       "      <td>...</td>\n",
       "      <td>...</td>\n",
       "    </tr>\n",
       "    <tr>\n",
       "      <th>995</th>\n",
       "      <td>False</td>\n",
       "      <td>Borinmg &amp; dumb: A waste of time.Glory for old ...</td>\n",
       "    </tr>\n",
       "    <tr>\n",
       "      <th>996</th>\n",
       "      <td>True</td>\n",
       "      <td>Best film of the year: One of the best films e...</td>\n",
       "    </tr>\n",
       "    <tr>\n",
       "      <th>997</th>\n",
       "      <td>True</td>\n",
       "      <td>See this movie just for Ian McKellen's perform...</td>\n",
       "    </tr>\n",
       "    <tr>\n",
       "      <th>998</th>\n",
       "      <td>True</td>\n",
       "      <td>best screenplays have more stability: One of t...</td>\n",
       "    </tr>\n",
       "    <tr>\n",
       "      <th>999</th>\n",
       "      <td>False</td>\n",
       "      <td>Tree arrived bent and poorly packed: The manuf...</td>\n",
       "    </tr>\n",
       "  </tbody>\n",
       "</table>\n",
       "<p>1000 rows × 2 columns</p>\n",
       "</div>"
      ],
      "text/plain": [
       "     sentiment                                             review\n",
       "0         True  Great CD: My lovely Pat has one of the GREAT v...\n",
       "1         True  One of the best game music soundtracks - for a...\n",
       "2        False  Batteries died within a year ...: I bought thi...\n",
       "3         True  works fine, but Maha Energy is better: Check o...\n",
       "4         True  Great for the non-audiophile: Reviewed quite a...\n",
       "..         ...                                                ...\n",
       "995      False  Borinmg & dumb: A waste of time.Glory for old ...\n",
       "996       True  Best film of the year: One of the best films e...\n",
       "997       True  See this movie just for Ian McKellen's perform...\n",
       "998       True  best screenplays have more stability: One of t...\n",
       "999      False  Tree arrived bent and poorly packed: The manuf...\n",
       "\n",
       "[1000 rows x 2 columns]"
      ]
     },
     "execution_count": 72,
     "metadata": {},
     "output_type": "execute_result"
    }
   ],
   "source": [
    "def tweak_amazon_reviews(df):\n",
    "    return (df\n",
    "            .assign(\n",
    "                sentiment=lambda df_: df_.sentiment.replace({'__label__1': False, '__label__2': True}),\n",
    "                review=lambda df_: df.review.str.strip())\n",
    "            )\n",
    "\n",
    "tweak_amazon_reviews(amazon)"
   ]
  },
  {
   "cell_type": "code",
   "execution_count": 75,
   "id": "9295bc8c-9271-43ce-a592-e090436bc804",
   "metadata": {},
   "outputs": [],
   "source": [
    "def split_amazon_reviews(df):\n",
    "    return train_test_split(df.review, df.sentiment, test_size=0.1)"
   ]
  },
  {
   "cell_type": "code",
   "execution_count": 75,
   "id": "43f68be3-6f80-44ef-b46e-f38961c33888",
   "metadata": {},
   "outputs": [
    {
     "data": {
      "text/plain": [
       "((900,), (100,), (900,), (100,))"
      ]
     },
     "execution_count": 75,
     "metadata": {},
     "output_type": "execute_result"
    }
   ],
   "source": [
    "attributes_train, attributes_test, labels_train, labels_test = (amazon\n",
    "                                                                .pipe(tweak_amazon_reviews)\n",
    "                                                                .pipe(split_amazon_reviews)\n",
    "                                                               )\n",
    "attributes_train.shape, attributes_test.shape, labels_train.shape, labels_test.shape"
   ]
  },
  {
   "cell_type": "markdown",
   "id": "44413ee7-2010-47b6-9b52-34a483353ac5",
   "metadata": {},
   "source": [
    "## Vectorize"
   ]
  },
  {
   "cell_type": "markdown",
   "id": "d877cc25-d2a6-4f55-86c3-5d78736a88c6",
   "metadata": {},
   "source": [
    "### Bag of words"
   ]
  },
  {
   "cell_type": "code",
   "execution_count": 41,
   "id": "e6494046-362e-4f49-9a28-94e67dead958",
   "metadata": {},
   "outputs": [
    {
     "data": {
      "text/plain": [
       "['i', 'me', 'my', 'myself', 'we', 'our', 'ours', 'ourselves', 'you', \"you're\"]"
      ]
     },
     "execution_count": 41,
     "metadata": {},
     "output_type": "execute_result"
    }
   ],
   "source": [
    "stop_words = nltk.corpus.stopwords.words('english')\n",
    "stop_words[:10]"
   ]
  },
  {
   "cell_type": "code",
   "execution_count": 42,
   "id": "1180bf96-3643-426f-9c86-b9918483b260",
   "metadata": {},
   "outputs": [
    {
     "data": {
      "text/plain": [
       "<900x8758 sparse matrix of type '<class 'numpy.int64'>'\n",
       "\twith 31834 stored elements in Compressed Sparse Row format>"
      ]
     },
     "execution_count": 42,
     "metadata": {},
     "output_type": "execute_result"
    }
   ],
   "source": [
    "vectorizer = CountVectorizer(stop_words=stop_words)\n",
    "\n",
    "vectorizer.fit(attributes_train)\n",
    "vectorizer.transform(attributes_train)"
   ]
  },
  {
   "cell_type": "markdown",
   "id": "d881643c-08ce-4d8a-915f-7180af1d3d2b",
   "metadata": {},
   "source": [
    "## Heading"
   ]
  },
  {
   "cell_type": "code",
   "execution_count": 43,
   "id": "b12f3b8c-f22a-4f73-b938-cef6cc71afda",
   "metadata": {},
   "outputs": [
    {
     "data": {
      "text/plain": [
       "<900x8758 sparse matrix of type '<class 'numpy.float64'>'\n",
       "\twith 31834 stored elements in Compressed Sparse Row format>"
      ]
     },
     "execution_count": 43,
     "metadata": {},
     "output_type": "execute_result"
    }
   ],
   "source": [
    "vectorizer = TfidfVectorizer(stop_words=stop_words)\n",
    "vectorizer.fit_transform(attributes_train)"
   ]
  },
  {
   "cell_type": "markdown",
   "id": "23aa0adc-fb20-4347-bdf0-8fcef0748aa3",
   "metadata": {},
   "source": [
    "## Heading"
   ]
  },
  {
   "cell_type": "code",
   "execution_count": 58,
   "id": "cf972421-a498-4f2d-8a88-4420990318b6",
   "metadata": {},
   "outputs": [
    {
     "data": {
      "text/html": [
       "<style>#sk-container-id-5 {color: black;background-color: white;}#sk-container-id-5 pre{padding: 0;}#sk-container-id-5 div.sk-toggleable {background-color: white;}#sk-container-id-5 label.sk-toggleable__label {cursor: pointer;display: block;width: 100%;margin-bottom: 0;padding: 0.3em;box-sizing: border-box;text-align: center;}#sk-container-id-5 label.sk-toggleable__label-arrow:before {content: \"▸\";float: left;margin-right: 0.25em;color: #696969;}#sk-container-id-5 label.sk-toggleable__label-arrow:hover:before {color: black;}#sk-container-id-5 div.sk-estimator:hover label.sk-toggleable__label-arrow:before {color: black;}#sk-container-id-5 div.sk-toggleable__content {max-height: 0;max-width: 0;overflow: hidden;text-align: left;background-color: #f0f8ff;}#sk-container-id-5 div.sk-toggleable__content pre {margin: 0.2em;color: black;border-radius: 0.25em;background-color: #f0f8ff;}#sk-container-id-5 input.sk-toggleable__control:checked~div.sk-toggleable__content {max-height: 200px;max-width: 100%;overflow: auto;}#sk-container-id-5 input.sk-toggleable__control:checked~label.sk-toggleable__label-arrow:before {content: \"▾\";}#sk-container-id-5 div.sk-estimator input.sk-toggleable__control:checked~label.sk-toggleable__label {background-color: #d4ebff;}#sk-container-id-5 div.sk-label input.sk-toggleable__control:checked~label.sk-toggleable__label {background-color: #d4ebff;}#sk-container-id-5 input.sk-hidden--visually {border: 0;clip: rect(1px 1px 1px 1px);clip: rect(1px, 1px, 1px, 1px);height: 1px;margin: -1px;overflow: hidden;padding: 0;position: absolute;width: 1px;}#sk-container-id-5 div.sk-estimator {font-family: monospace;background-color: #f0f8ff;border: 1px dotted black;border-radius: 0.25em;box-sizing: border-box;margin-bottom: 0.5em;}#sk-container-id-5 div.sk-estimator:hover {background-color: #d4ebff;}#sk-container-id-5 div.sk-parallel-item::after {content: \"\";width: 100%;border-bottom: 1px solid gray;flex-grow: 1;}#sk-container-id-5 div.sk-label:hover label.sk-toggleable__label {background-color: #d4ebff;}#sk-container-id-5 div.sk-serial::before {content: \"\";position: absolute;border-left: 1px solid gray;box-sizing: border-box;top: 0;bottom: 0;left: 50%;z-index: 0;}#sk-container-id-5 div.sk-serial {display: flex;flex-direction: column;align-items: center;background-color: white;padding-right: 0.2em;padding-left: 0.2em;position: relative;}#sk-container-id-5 div.sk-item {position: relative;z-index: 1;}#sk-container-id-5 div.sk-parallel {display: flex;align-items: stretch;justify-content: center;background-color: white;position: relative;}#sk-container-id-5 div.sk-item::before, #sk-container-id-5 div.sk-parallel-item::before {content: \"\";position: absolute;border-left: 1px solid gray;box-sizing: border-box;top: 0;bottom: 0;left: 50%;z-index: -1;}#sk-container-id-5 div.sk-parallel-item {display: flex;flex-direction: column;z-index: 1;position: relative;background-color: white;}#sk-container-id-5 div.sk-parallel-item:first-child::after {align-self: flex-end;width: 50%;}#sk-container-id-5 div.sk-parallel-item:last-child::after {align-self: flex-start;width: 50%;}#sk-container-id-5 div.sk-parallel-item:only-child::after {width: 0;}#sk-container-id-5 div.sk-dashed-wrapped {border: 1px dashed gray;margin: 0 0.4em 0.5em 0.4em;box-sizing: border-box;padding-bottom: 0.4em;background-color: white;}#sk-container-id-5 div.sk-label label {font-family: monospace;font-weight: bold;display: inline-block;line-height: 1.2em;}#sk-container-id-5 div.sk-label-container {text-align: center;}#sk-container-id-5 div.sk-container {/* jupyter's `normalize.less` sets `[hidden] { display: none; }` but bootstrap.min.css set `[hidden] { display: none !important; }` so we also need the `!important` here to be able to override the default hidden behavior on the sphinx rendered scikit-learn.org. See: https://github.com/scikit-learn/scikit-learn/issues/21755 */display: inline-block !important;position: relative;}#sk-container-id-5 div.sk-text-repr-fallback {display: none;}</style><div id=\"sk-container-id-5\" class=\"sk-top-container\"><div class=\"sk-text-repr-fallback\"><pre>Pipeline(steps=[(&#x27;tfidfvectorizer&#x27;,\n",
       "                 TfidfVectorizer(stop_words=[&#x27;i&#x27;, &#x27;me&#x27;, &#x27;my&#x27;, &#x27;myself&#x27;, &#x27;we&#x27;,\n",
       "                                             &#x27;our&#x27;, &#x27;ours&#x27;, &#x27;ourselves&#x27;, &#x27;you&#x27;,\n",
       "                                             &quot;you&#x27;re&quot;, &quot;you&#x27;ve&quot;, &quot;you&#x27;ll&quot;,\n",
       "                                             &quot;you&#x27;d&quot;, &#x27;your&#x27;, &#x27;yours&#x27;,\n",
       "                                             &#x27;yourself&#x27;, &#x27;yourselves&#x27;, &#x27;he&#x27;,\n",
       "                                             &#x27;him&#x27;, &#x27;his&#x27;, &#x27;himself&#x27;, &#x27;she&#x27;,\n",
       "                                             &quot;she&#x27;s&quot;, &#x27;her&#x27;, &#x27;hers&#x27;, &#x27;herself&#x27;,\n",
       "                                             &#x27;it&#x27;, &quot;it&#x27;s&quot;, &#x27;its&#x27;, &#x27;itself&#x27;, ...]))])</pre><b>In a Jupyter environment, please rerun this cell to show the HTML representation or trust the notebook. <br />On GitHub, the HTML representation is unable to render, please try loading this page with nbviewer.org.</b></div><div class=\"sk-container\" hidden><div class=\"sk-item sk-dashed-wrapped\"><div class=\"sk-label-container\"><div class=\"sk-label sk-toggleable\"><input class=\"sk-toggleable__control sk-hidden--visually\" id=\"sk-estimator-id-6\" type=\"checkbox\" ><label for=\"sk-estimator-id-6\" class=\"sk-toggleable__label sk-toggleable__label-arrow\">Pipeline</label><div class=\"sk-toggleable__content\"><pre>Pipeline(steps=[(&#x27;tfidfvectorizer&#x27;,\n",
       "                 TfidfVectorizer(stop_words=[&#x27;i&#x27;, &#x27;me&#x27;, &#x27;my&#x27;, &#x27;myself&#x27;, &#x27;we&#x27;,\n",
       "                                             &#x27;our&#x27;, &#x27;ours&#x27;, &#x27;ourselves&#x27;, &#x27;you&#x27;,\n",
       "                                             &quot;you&#x27;re&quot;, &quot;you&#x27;ve&quot;, &quot;you&#x27;ll&quot;,\n",
       "                                             &quot;you&#x27;d&quot;, &#x27;your&#x27;, &#x27;yours&#x27;,\n",
       "                                             &#x27;yourself&#x27;, &#x27;yourselves&#x27;, &#x27;he&#x27;,\n",
       "                                             &#x27;him&#x27;, &#x27;his&#x27;, &#x27;himself&#x27;, &#x27;she&#x27;,\n",
       "                                             &quot;she&#x27;s&quot;, &#x27;her&#x27;, &#x27;hers&#x27;, &#x27;herself&#x27;,\n",
       "                                             &#x27;it&#x27;, &quot;it&#x27;s&quot;, &#x27;its&#x27;, &#x27;itself&#x27;, ...]))])</pre></div></div></div><div class=\"sk-serial\"><div class=\"sk-item\"><div class=\"sk-estimator sk-toggleable\"><input class=\"sk-toggleable__control sk-hidden--visually\" id=\"sk-estimator-id-7\" type=\"checkbox\" ><label for=\"sk-estimator-id-7\" class=\"sk-toggleable__label sk-toggleable__label-arrow\">TfidfVectorizer</label><div class=\"sk-toggleable__content\"><pre>TfidfVectorizer(stop_words=[&#x27;i&#x27;, &#x27;me&#x27;, &#x27;my&#x27;, &#x27;myself&#x27;, &#x27;we&#x27;, &#x27;our&#x27;, &#x27;ours&#x27;,\n",
       "                            &#x27;ourselves&#x27;, &#x27;you&#x27;, &quot;you&#x27;re&quot;, &quot;you&#x27;ve&quot;, &quot;you&#x27;ll&quot;,\n",
       "                            &quot;you&#x27;d&quot;, &#x27;your&#x27;, &#x27;yours&#x27;, &#x27;yourself&#x27;, &#x27;yourselves&#x27;,\n",
       "                            &#x27;he&#x27;, &#x27;him&#x27;, &#x27;his&#x27;, &#x27;himself&#x27;, &#x27;she&#x27;, &quot;she&#x27;s&quot;,\n",
       "                            &#x27;her&#x27;, &#x27;hers&#x27;, &#x27;herself&#x27;, &#x27;it&#x27;, &quot;it&#x27;s&quot;, &#x27;its&#x27;,\n",
       "                            &#x27;itself&#x27;, ...])</pre></div></div></div></div></div></div></div>"
      ],
      "text/plain": [
       "Pipeline(steps=[('tfidfvectorizer',\n",
       "                 TfidfVectorizer(stop_words=['i', 'me', 'my', 'myself', 'we',\n",
       "                                             'our', 'ours', 'ourselves', 'you',\n",
       "                                             \"you're\", \"you've\", \"you'll\",\n",
       "                                             \"you'd\", 'your', 'yours',\n",
       "                                             'yourself', 'yourselves', 'he',\n",
       "                                             'him', 'his', 'himself', 'she',\n",
       "                                             \"she's\", 'her', 'hers', 'herself',\n",
       "                                             'it', \"it's\", 'its', 'itself', ...]))])"
      ]
     },
     "execution_count": 58,
     "metadata": {},
     "output_type": "execute_result"
    }
   ],
   "source": [
    "process_attributes = make_pipeline(\n",
    "    TfidfVectorizer(stop_words=stop_words)\n",
    ")\n",
    "\n",
    "process_attributes.fit(attributes_train)"
   ]
  },
  {
   "cell_type": "markdown",
   "id": "8e3a5bb5-0759-430d-ba1b-4ae84e2778c4",
   "metadata": {},
   "source": [
    "## Heading"
   ]
  },
  {
   "cell_type": "code",
   "execution_count": 60,
   "id": "7416f8c9-f82d-467c-97bf-cf9d032f3df9",
   "metadata": {},
   "outputs": [],
   "source": [
    "attributes_train_processed = process_attributes.transform(attributes_train)\n",
    "attributes_test_processed = process_attributes.transform(attributes_test)"
   ]
  },
  {
   "cell_type": "code",
   "execution_count": 61,
   "id": "2c9299c5-2e64-4714-acfd-c6f473920a62",
   "metadata": {},
   "outputs": [
    {
     "data": {
      "text/html": [
       "<style>#sk-container-id-6 {color: black;background-color: white;}#sk-container-id-6 pre{padding: 0;}#sk-container-id-6 div.sk-toggleable {background-color: white;}#sk-container-id-6 label.sk-toggleable__label {cursor: pointer;display: block;width: 100%;margin-bottom: 0;padding: 0.3em;box-sizing: border-box;text-align: center;}#sk-container-id-6 label.sk-toggleable__label-arrow:before {content: \"▸\";float: left;margin-right: 0.25em;color: #696969;}#sk-container-id-6 label.sk-toggleable__label-arrow:hover:before {color: black;}#sk-container-id-6 div.sk-estimator:hover label.sk-toggleable__label-arrow:before {color: black;}#sk-container-id-6 div.sk-toggleable__content {max-height: 0;max-width: 0;overflow: hidden;text-align: left;background-color: #f0f8ff;}#sk-container-id-6 div.sk-toggleable__content pre {margin: 0.2em;color: black;border-radius: 0.25em;background-color: #f0f8ff;}#sk-container-id-6 input.sk-toggleable__control:checked~div.sk-toggleable__content {max-height: 200px;max-width: 100%;overflow: auto;}#sk-container-id-6 input.sk-toggleable__control:checked~label.sk-toggleable__label-arrow:before {content: \"▾\";}#sk-container-id-6 div.sk-estimator input.sk-toggleable__control:checked~label.sk-toggleable__label {background-color: #d4ebff;}#sk-container-id-6 div.sk-label input.sk-toggleable__control:checked~label.sk-toggleable__label {background-color: #d4ebff;}#sk-container-id-6 input.sk-hidden--visually {border: 0;clip: rect(1px 1px 1px 1px);clip: rect(1px, 1px, 1px, 1px);height: 1px;margin: -1px;overflow: hidden;padding: 0;position: absolute;width: 1px;}#sk-container-id-6 div.sk-estimator {font-family: monospace;background-color: #f0f8ff;border: 1px dotted black;border-radius: 0.25em;box-sizing: border-box;margin-bottom: 0.5em;}#sk-container-id-6 div.sk-estimator:hover {background-color: #d4ebff;}#sk-container-id-6 div.sk-parallel-item::after {content: \"\";width: 100%;border-bottom: 1px solid gray;flex-grow: 1;}#sk-container-id-6 div.sk-label:hover label.sk-toggleable__label {background-color: #d4ebff;}#sk-container-id-6 div.sk-serial::before {content: \"\";position: absolute;border-left: 1px solid gray;box-sizing: border-box;top: 0;bottom: 0;left: 50%;z-index: 0;}#sk-container-id-6 div.sk-serial {display: flex;flex-direction: column;align-items: center;background-color: white;padding-right: 0.2em;padding-left: 0.2em;position: relative;}#sk-container-id-6 div.sk-item {position: relative;z-index: 1;}#sk-container-id-6 div.sk-parallel {display: flex;align-items: stretch;justify-content: center;background-color: white;position: relative;}#sk-container-id-6 div.sk-item::before, #sk-container-id-6 div.sk-parallel-item::before {content: \"\";position: absolute;border-left: 1px solid gray;box-sizing: border-box;top: 0;bottom: 0;left: 50%;z-index: -1;}#sk-container-id-6 div.sk-parallel-item {display: flex;flex-direction: column;z-index: 1;position: relative;background-color: white;}#sk-container-id-6 div.sk-parallel-item:first-child::after {align-self: flex-end;width: 50%;}#sk-container-id-6 div.sk-parallel-item:last-child::after {align-self: flex-start;width: 50%;}#sk-container-id-6 div.sk-parallel-item:only-child::after {width: 0;}#sk-container-id-6 div.sk-dashed-wrapped {border: 1px dashed gray;margin: 0 0.4em 0.5em 0.4em;box-sizing: border-box;padding-bottom: 0.4em;background-color: white;}#sk-container-id-6 div.sk-label label {font-family: monospace;font-weight: bold;display: inline-block;line-height: 1.2em;}#sk-container-id-6 div.sk-label-container {text-align: center;}#sk-container-id-6 div.sk-container {/* jupyter's `normalize.less` sets `[hidden] { display: none; }` but bootstrap.min.css set `[hidden] { display: none !important; }` so we also need the `!important` here to be able to override the default hidden behavior on the sphinx rendered scikit-learn.org. See: https://github.com/scikit-learn/scikit-learn/issues/21755 */display: inline-block !important;position: relative;}#sk-container-id-6 div.sk-text-repr-fallback {display: none;}</style><div id=\"sk-container-id-6\" class=\"sk-top-container\"><div class=\"sk-text-repr-fallback\"><pre>MultinomialNB()</pre><b>In a Jupyter environment, please rerun this cell to show the HTML representation or trust the notebook. <br />On GitHub, the HTML representation is unable to render, please try loading this page with nbviewer.org.</b></div><div class=\"sk-container\" hidden><div class=\"sk-item\"><div class=\"sk-estimator sk-toggleable\"><input class=\"sk-toggleable__control sk-hidden--visually\" id=\"sk-estimator-id-8\" type=\"checkbox\" checked><label for=\"sk-estimator-id-8\" class=\"sk-toggleable__label sk-toggleable__label-arrow\">MultinomialNB</label><div class=\"sk-toggleable__content\"><pre>MultinomialNB()</pre></div></div></div></div></div>"
      ],
      "text/plain": [
       "MultinomialNB()"
      ]
     },
     "execution_count": 61,
     "metadata": {},
     "output_type": "execute_result"
    }
   ],
   "source": [
    "model = MultinomialNB()\n",
    "model.fit(attributes_train_processed, labels_train)"
   ]
  },
  {
   "cell_type": "code",
   "execution_count": 62,
   "id": "c3882d8b-0a6e-4f8f-b4e9-45d7ba68fe9f",
   "metadata": {},
   "outputs": [
    {
     "data": {
      "text/plain": [
       "0.75"
      ]
     },
     "execution_count": 62,
     "metadata": {},
     "output_type": "execute_result"
    }
   ],
   "source": [
    "# accuracy\n",
    "model.score(attributes_test_processed, labels_test)"
   ]
  },
  {
   "cell_type": "code",
   "execution_count": 68,
   "id": "c2a35a1c-9c09-4908-8b5e-a0c7e72eb261",
   "metadata": {},
   "outputs": [
    {
     "name": "stdout",
     "output_type": "stream",
     "text": [
      "---TRAINING SET---\n",
      "               precision    recall  f1-score   support\n",
      "\n",
      "       False       0.99      0.99      0.99       449\n",
      "        True       0.99      0.99      0.99       451\n",
      "\n",
      "    accuracy                           0.99       900\n",
      "   macro avg       0.99      0.99      0.99       900\n",
      "weighted avg       0.99      0.99      0.99       900\n",
      "\n",
      "---TEST SET---\n",
      "               precision    recall  f1-score   support\n",
      "\n",
      "       False       0.75      0.73      0.74        49\n",
      "        True       0.75      0.76      0.76        51\n",
      "\n",
      "    accuracy                           0.75       100\n",
      "   macro avg       0.75      0.75      0.75       100\n",
      "weighted avg       0.75      0.75      0.75       100\n",
      "\n"
     ]
    }
   ],
   "source": [
    "print('---TRAINING SET---\\n', classification_report(labels_train, model.predict(attributes_train_processed)))\n",
    "print('---TEST SET---\\n', classification_report(labels_test, model.predict(attributes_test_processed)))"
   ]
  },
  {
   "cell_type": "markdown",
   "id": "cc8c255b-4bac-44c7-b64e-7d510786ab56",
   "metadata": {},
   "source": [
    "## Heading"
   ]
  },
  {
   "cell_type": "code",
   "execution_count": 81,
   "id": "642fee47-13dd-4a10-8f30-9c9fe1cd8f06",
   "metadata": {},
   "outputs": [
    {
     "data": {
      "text/html": [
       "<style>#sk-container-id-9 {color: black;background-color: white;}#sk-container-id-9 pre{padding: 0;}#sk-container-id-9 div.sk-toggleable {background-color: white;}#sk-container-id-9 label.sk-toggleable__label {cursor: pointer;display: block;width: 100%;margin-bottom: 0;padding: 0.3em;box-sizing: border-box;text-align: center;}#sk-container-id-9 label.sk-toggleable__label-arrow:before {content: \"▸\";float: left;margin-right: 0.25em;color: #696969;}#sk-container-id-9 label.sk-toggleable__label-arrow:hover:before {color: black;}#sk-container-id-9 div.sk-estimator:hover label.sk-toggleable__label-arrow:before {color: black;}#sk-container-id-9 div.sk-toggleable__content {max-height: 0;max-width: 0;overflow: hidden;text-align: left;background-color: #f0f8ff;}#sk-container-id-9 div.sk-toggleable__content pre {margin: 0.2em;color: black;border-radius: 0.25em;background-color: #f0f8ff;}#sk-container-id-9 input.sk-toggleable__control:checked~div.sk-toggleable__content {max-height: 200px;max-width: 100%;overflow: auto;}#sk-container-id-9 input.sk-toggleable__control:checked~label.sk-toggleable__label-arrow:before {content: \"▾\";}#sk-container-id-9 div.sk-estimator input.sk-toggleable__control:checked~label.sk-toggleable__label {background-color: #d4ebff;}#sk-container-id-9 div.sk-label input.sk-toggleable__control:checked~label.sk-toggleable__label {background-color: #d4ebff;}#sk-container-id-9 input.sk-hidden--visually {border: 0;clip: rect(1px 1px 1px 1px);clip: rect(1px, 1px, 1px, 1px);height: 1px;margin: -1px;overflow: hidden;padding: 0;position: absolute;width: 1px;}#sk-container-id-9 div.sk-estimator {font-family: monospace;background-color: #f0f8ff;border: 1px dotted black;border-radius: 0.25em;box-sizing: border-box;margin-bottom: 0.5em;}#sk-container-id-9 div.sk-estimator:hover {background-color: #d4ebff;}#sk-container-id-9 div.sk-parallel-item::after {content: \"\";width: 100%;border-bottom: 1px solid gray;flex-grow: 1;}#sk-container-id-9 div.sk-label:hover label.sk-toggleable__label {background-color: #d4ebff;}#sk-container-id-9 div.sk-serial::before {content: \"\";position: absolute;border-left: 1px solid gray;box-sizing: border-box;top: 0;bottom: 0;left: 50%;z-index: 0;}#sk-container-id-9 div.sk-serial {display: flex;flex-direction: column;align-items: center;background-color: white;padding-right: 0.2em;padding-left: 0.2em;position: relative;}#sk-container-id-9 div.sk-item {position: relative;z-index: 1;}#sk-container-id-9 div.sk-parallel {display: flex;align-items: stretch;justify-content: center;background-color: white;position: relative;}#sk-container-id-9 div.sk-item::before, #sk-container-id-9 div.sk-parallel-item::before {content: \"\";position: absolute;border-left: 1px solid gray;box-sizing: border-box;top: 0;bottom: 0;left: 50%;z-index: -1;}#sk-container-id-9 div.sk-parallel-item {display: flex;flex-direction: column;z-index: 1;position: relative;background-color: white;}#sk-container-id-9 div.sk-parallel-item:first-child::after {align-self: flex-end;width: 50%;}#sk-container-id-9 div.sk-parallel-item:last-child::after {align-self: flex-start;width: 50%;}#sk-container-id-9 div.sk-parallel-item:only-child::after {width: 0;}#sk-container-id-9 div.sk-dashed-wrapped {border: 1px dashed gray;margin: 0 0.4em 0.5em 0.4em;box-sizing: border-box;padding-bottom: 0.4em;background-color: white;}#sk-container-id-9 div.sk-label label {font-family: monospace;font-weight: bold;display: inline-block;line-height: 1.2em;}#sk-container-id-9 div.sk-label-container {text-align: center;}#sk-container-id-9 div.sk-container {/* jupyter's `normalize.less` sets `[hidden] { display: none; }` but bootstrap.min.css set `[hidden] { display: none !important; }` so we also need the `!important` here to be able to override the default hidden behavior on the sphinx rendered scikit-learn.org. See: https://github.com/scikit-learn/scikit-learn/issues/21755 */display: inline-block !important;position: relative;}#sk-container-id-9 div.sk-text-repr-fallback {display: none;}</style><div id=\"sk-container-id-9\" class=\"sk-top-container\"><div class=\"sk-text-repr-fallback\"><pre>TfidfVectorizer(max_df=0.95, min_df=2,\n",
       "                stop_words=[&#x27;i&#x27;, &#x27;me&#x27;, &#x27;my&#x27;, &#x27;myself&#x27;, &#x27;we&#x27;, &#x27;our&#x27;, &#x27;ours&#x27;,\n",
       "                            &#x27;ourselves&#x27;, &#x27;you&#x27;, &quot;you&#x27;re&quot;, &quot;you&#x27;ve&quot;, &quot;you&#x27;ll&quot;,\n",
       "                            &quot;you&#x27;d&quot;, &#x27;your&#x27;, &#x27;yours&#x27;, &#x27;yourself&#x27;, &#x27;yourselves&#x27;,\n",
       "                            &#x27;he&#x27;, &#x27;him&#x27;, &#x27;his&#x27;, &#x27;himself&#x27;, &#x27;she&#x27;, &quot;she&#x27;s&quot;,\n",
       "                            &#x27;her&#x27;, &#x27;hers&#x27;, &#x27;herself&#x27;, &#x27;it&#x27;, &quot;it&#x27;s&quot;, &#x27;its&#x27;,\n",
       "                            &#x27;itself&#x27;, ...])</pre><b>In a Jupyter environment, please rerun this cell to show the HTML representation or trust the notebook. <br />On GitHub, the HTML representation is unable to render, please try loading this page with nbviewer.org.</b></div><div class=\"sk-container\" hidden><div class=\"sk-item\"><div class=\"sk-estimator sk-toggleable\"><input class=\"sk-toggleable__control sk-hidden--visually\" id=\"sk-estimator-id-11\" type=\"checkbox\" checked><label for=\"sk-estimator-id-11\" class=\"sk-toggleable__label sk-toggleable__label-arrow\">TfidfVectorizer</label><div class=\"sk-toggleable__content\"><pre>TfidfVectorizer(max_df=0.95, min_df=2,\n",
       "                stop_words=[&#x27;i&#x27;, &#x27;me&#x27;, &#x27;my&#x27;, &#x27;myself&#x27;, &#x27;we&#x27;, &#x27;our&#x27;, &#x27;ours&#x27;,\n",
       "                            &#x27;ourselves&#x27;, &#x27;you&#x27;, &quot;you&#x27;re&quot;, &quot;you&#x27;ve&quot;, &quot;you&#x27;ll&quot;,\n",
       "                            &quot;you&#x27;d&quot;, &#x27;your&#x27;, &#x27;yours&#x27;, &#x27;yourself&#x27;, &#x27;yourselves&#x27;,\n",
       "                            &#x27;he&#x27;, &#x27;him&#x27;, &#x27;his&#x27;, &#x27;himself&#x27;, &#x27;she&#x27;, &quot;she&#x27;s&quot;,\n",
       "                            &#x27;her&#x27;, &#x27;hers&#x27;, &#x27;herself&#x27;, &#x27;it&#x27;, &quot;it&#x27;s&quot;, &#x27;its&#x27;,\n",
       "                            &#x27;itself&#x27;, ...])</pre></div></div></div></div></div>"
      ],
      "text/plain": [
       "TfidfVectorizer(max_df=0.95, min_df=2,\n",
       "                stop_words=['i', 'me', 'my', 'myself', 'we', 'our', 'ours',\n",
       "                            'ourselves', 'you', \"you're\", \"you've\", \"you'll\",\n",
       "                            \"you'd\", 'your', 'yours', 'yourself', 'yourselves',\n",
       "                            'he', 'him', 'his', 'himself', 'she', \"she's\",\n",
       "                            'her', 'hers', 'herself', 'it', \"it's\", 'its',\n",
       "                            'itself', ...])"
      ]
     },
     "execution_count": 81,
     "metadata": {},
     "output_type": "execute_result"
    }
   ],
   "source": [
    "vectorizer2 = TfidfVectorizer(stop_words=stop_words, min_df=2, max_df=0.95)\n",
    "vectorizer2.fit(attributes_train)"
   ]
  },
  {
   "cell_type": "code",
   "execution_count": 83,
   "id": "4acf64c4-e443-4b34-84ce-14188642c0c0",
   "metadata": {},
   "outputs": [
    {
     "data": {
      "text/plain": [
       "<900x3412 sparse matrix of type '<class 'numpy.float64'>'\n",
       "\twith 26069 stored elements in Compressed Sparse Row format>"
      ]
     },
     "execution_count": 83,
     "metadata": {},
     "output_type": "execute_result"
    }
   ],
   "source": [
    "attributes_train_processed = vectorizer2.transform(attributes_train)\n",
    "attributes_test_processed = vectorizer2.transform(attributes_test)\n",
    "\n",
    "# drastic descres in the number of features\n",
    "attributes_train_processed"
   ]
  },
  {
   "cell_type": "markdown",
   "id": "29995e59-c915-437c-ad55-0603afdaf1a8",
   "metadata": {},
   "source": [
    "## Heading"
   ]
  },
  {
   "cell_type": "code",
   "execution_count": 84,
   "id": "5a5c8801-439f-438e-820c-76aecb7a11ce",
   "metadata": {},
   "outputs": [
    {
     "name": "stdout",
     "output_type": "stream",
     "text": [
      "---TRAINING SET---\n",
      "               precision    recall  f1-score   support\n",
      "\n",
      "       False       0.98      0.97      0.98       444\n",
      "        True       0.97      0.98      0.98       456\n",
      "\n",
      "    accuracy                           0.98       900\n",
      "   macro avg       0.98      0.98      0.98       900\n",
      "weighted avg       0.98      0.98      0.98       900\n",
      "\n",
      "---TEST SET---\n",
      "               precision    recall  f1-score   support\n",
      "\n",
      "       False       0.90      0.81      0.85        54\n",
      "        True       0.80      0.89      0.85        46\n",
      "\n",
      "    accuracy                           0.85       100\n",
      "   macro avg       0.85      0.85      0.85       100\n",
      "weighted avg       0.85      0.85      0.85       100\n",
      "\n"
     ]
    }
   ],
   "source": [
    "model.fit(attributes_train_processed, labels_train)\n",
    "\n",
    "print('---TRAINING SET---\\n', classification_report(labels_train, model.predict(attributes_train_processed)))\n",
    "print('---TEST SET---\\n', classification_report(labels_test, model.predict(attributes_test_processed)))"
   ]
  },
  {
   "cell_type": "markdown",
   "id": "c6f20e83-6cf1-4733-979f-83075f67974c",
   "metadata": {},
   "source": [
    "## Heading"
   ]
  },
  {
   "cell_type": "code",
   "execution_count": 87,
   "id": "6a489f41-34ae-4feb-a4db-52efe3f7d653",
   "metadata": {},
   "outputs": [
    {
     "name": "stdout",
     "output_type": "stream",
     "text": [
      "---TRAINING SET---\n",
      "               precision    recall  f1-score   support\n",
      "\n",
      "       False       0.98      0.97      0.98       444\n",
      "        True       0.97      0.98      0.98       456\n",
      "\n",
      "    accuracy                           0.98       900\n",
      "   macro avg       0.98      0.98      0.98       900\n",
      "weighted avg       0.98      0.98      0.98       900\n",
      "\n",
      "---TEST SET---\n",
      "               precision    recall  f1-score   support\n",
      "\n",
      "       False       0.90      0.81      0.85        54\n",
      "        True       0.80      0.89      0.85        46\n",
      "\n",
      "    accuracy                           0.85       100\n",
      "   macro avg       0.85      0.85      0.85       100\n",
      "weighted avg       0.85      0.85      0.85       100\n",
      "\n"
     ]
    }
   ],
   "source": [
    "linear_svc = LinearSVC()\n",
    "\n",
    "linear_svc.fit(attributes_train_processed, labels_train)\n",
    "\n",
    "train_predictions = model.predict(attributes_train_processed)\n",
    "test_predictions = model.predict(attributes_test_processed)\n",
    "print('---TRAINING SET---\\n', classification_report(labels_train, train_predictions))\n",
    "print('---TEST SET---\\n', classification_report(labels_test, test_predictions))"
   ]
  },
  {
   "cell_type": "markdown",
   "id": "0c8f40dd-7706-480d-9a26-bfdc5749315e",
   "metadata": {},
   "source": [
    "## Heading"
   ]
  },
  {
   "cell_type": "code",
   "execution_count": 90,
   "id": "360de6a4-6696-4d1a-b05c-1ae5a74267ec",
   "metadata": {},
   "outputs": [
    {
     "name": "stdout",
     "output_type": "stream",
     "text": [
      "---TRAINING SET---\n",
      "               precision    recall  f1-score   support\n",
      "\n",
      "       False       0.98      0.99      0.98       444\n",
      "        True       0.99      0.98      0.98       456\n",
      "\n",
      "    accuracy                           0.98       900\n",
      "   macro avg       0.98      0.98      0.98       900\n",
      "weighted avg       0.98      0.98      0.98       900\n",
      "\n",
      "---TEST SET---\n",
      "               precision    recall  f1-score   support\n",
      "\n",
      "       False       0.87      0.76      0.81        54\n",
      "        True       0.75      0.87      0.81        46\n",
      "\n",
      "    accuracy                           0.81       100\n",
      "   macro avg       0.81      0.81      0.81       100\n",
      "weighted avg       0.82      0.81      0.81       100\n",
      "\n"
     ]
    }
   ],
   "source": [
    "sgd = SGDClassifier(learning_rate='optimal', early_stopping=True)\n",
    "\n",
    "sgd.fit(attributes_train_processed, labels_train)\n",
    "\n",
    "train_predictions = sgd.predict(attributes_train_processed)\n",
    "test_predictions = sgd.predict(attributes_test_processed)\n",
    "print('---TRAINING SET---\\n', classification_report(labels_train, train_predictions))\n",
    "print('---TEST SET---\\n', classification_report(labels_test, test_predictions))"
   ]
  },
  {
   "cell_type": "markdown",
   "id": "92d06968-f22c-49e4-b621-dffe24f39e43",
   "metadata": {},
   "source": [
    "## Heading"
   ]
  },
  {
   "cell_type": "code",
   "execution_count": 120,
   "id": "d0e32ec1-1ec0-45cf-a166-3f5b9368c14e",
   "metadata": {},
   "outputs": [
    {
     "data": {
      "text/plain": [
       "array([-2.16039121, -2.44448132, -2.37809493, -2.28509055, -2.27279432,\n",
       "        1.23330635,  1.92638629,  1.39991925,  1.17428486, -1.08260938,\n",
       "        0.86403707,  1.22027852, -1.77672271,  2.74631733, -3.73643866,\n",
       "       -1.4882854 , -0.55972211, -1.4882854 ,  2.3504956 ,  1.25540851])"
      ]
     },
     "execution_count": 120,
     "metadata": {},
     "output_type": "execute_result"
    }
   ],
   "source": [
    "sgd2 = SGDClassifier()\n",
    "\n",
    "sgd2.partial_fit(attributes_train_processed.toarray()[:20], labels_train.iloc[:20], classes=[True, False])\n",
    "\n",
    "indeces = sgd2.coef_.nonzero()[1][:20]\n",
    "coefs_sample = sgd2.coef_[0][indeces]\n",
    "coefs_sample"
   ]
  },
  {
   "cell_type": "code",
   "execution_count": 121,
   "id": "499ba182-3c26-4d0a-b1d6-3b5d5cbc688e",
   "metadata": {},
   "outputs": [
    {
     "data": {
      "text/plain": [
       "array([-3.16007142, -2.39742682,  3.82157689, -3.68592292,  1.42256799,\n",
       "       -2.24110421, -2.22904467,  1.20956609,  1.5772515 ,  1.70732765,\n",
       "        1.88930474,  1.37297181, -0.86028361,  1.91078844,  1.15168073,\n",
       "       -1.06176993,  0.84740498,  1.19678904, -2.74349507,  2.69345271])"
      ]
     },
     "execution_count": 121,
     "metadata": {},
     "output_type": "execute_result"
    }
   ],
   "source": [
    "sgd2.partial_fit(attributes_train_processed.toarray()[20:40], labels_train.iloc[20:40], classes=[True, False])\n",
    "\n",
    "indeces = sgd2.coef_.nonzero()[1][:20]\n",
    "coefs_sample = sgd2.coef_[0][indeces]\n",
    "coefs_sample"
   ]
  },
  {
   "cell_type": "markdown",
   "id": "aa1620af-563e-40e5-9734-ba207305eaba",
   "metadata": {
    "tags": []
   },
   "source": [
    "## Heading"
   ]
  },
  {
   "cell_type": "code",
   "execution_count": 135,
   "id": "0164094c-f83e-4749-a1d4-a9f49a6c25a0",
   "metadata": {},
   "outputs": [
    {
     "name": "stderr",
     "output_type": "stream",
     "text": [
      "C:\\Users\\a1056968\\Anaconda3\\envs\\deep_learning\\lib\\site-packages\\numpy\\lib\\shape_base.py:790: FutureWarning: The behavior of `series[i:j]` with an integer-dtype index is deprecated. In a future version, this will be treated as *label-based* indexing, consistent with e.g. `series[i]` lookups. To retain the old behavior, use `series.iloc[i:j]`. To get the future behavior, use `series.loc[i:j]`.\n",
      "  sub_arys.append(_nx.swapaxes(sary[st:end], axis, 0))\n"
     ]
    },
    {
     "data": {
      "text/plain": [
       "(56, 56)"
      ]
     },
     "execution_count": 135,
     "metadata": {},
     "output_type": "execute_result"
    }
   ],
   "source": [
    "# split into 16 mini batches\n",
    "mini_batches = np.array_split(attributes_train_processed.toarray(), len(attributes_train_processed.toarray()) // 16)\n",
    "mini_batches_labels = np.array_split(labels_train, len(labels_train) // 16)\n",
    "\n",
    "len(mini_batches), len(mini_batches_labels)"
   ]
  },
  {
   "cell_type": "code",
   "execution_count": 136,
   "id": "a8eb8a43-922a-49f3-835f-a37fc150eb7d",
   "metadata": {},
   "outputs": [],
   "source": [
    "for i in range(16):\n",
    "    # sgd2.partial_fit(mini_batches[i], mini_batches_labels[i])\n",
    "    pass"
   ]
  },
  {
   "cell_type": "markdown",
   "id": "5724d22a-d4a4-424c-9bab-71dd0475006c",
   "metadata": {},
   "source": [
    "## Heading"
   ]
  },
  {
   "cell_type": "code",
   "execution_count": null,
   "id": "61ffba32-0815-4de2-8cc8-d1d6df52f283",
   "metadata": {},
   "outputs": [],
   "source": []
  },
  {
   "cell_type": "markdown",
   "id": "3a2ca7a1-9c13-4ae9-b896-47159e0aab0b",
   "metadata": {},
   "source": [
    "## Heading"
   ]
  },
  {
   "cell_type": "code",
   "execution_count": 142,
   "id": "206d2727-9fd0-48ea-a686-2cd263b5931c",
   "metadata": {},
   "outputs": [],
   "source": [
    "import pickle\n",
    "\n",
    "with open('sgd2.pickle', 'wb') as f:\n",
    "    pickle.dump(sgd2, f)"
   ]
  },
  {
   "cell_type": "markdown",
   "id": "8d6e8706-dd16-46f9-86a4-3a6a4b86e800",
   "metadata": {},
   "source": [
    "## Heading"
   ]
  },
  {
   "cell_type": "code",
   "execution_count": null,
   "id": "ed4aea11-eada-40d2-976c-b551bd1056a4",
   "metadata": {},
   "outputs": [],
   "source": []
  },
  {
   "cell_type": "markdown",
   "id": "4439a7e3-e1c3-440c-874e-06c715a72636",
   "metadata": {},
   "source": [
    "## Heading"
   ]
  },
  {
   "cell_type": "code",
   "execution_count": null,
   "id": "f63ccfcd-b7f9-4715-8f9e-66ae87fb7a4d",
   "metadata": {},
   "outputs": [],
   "source": []
  },
  {
   "cell_type": "markdown",
   "id": "1aeab09c-c87c-4022-87b5-4bdf21f7f73b",
   "metadata": {},
   "source": [
    "## Heading"
   ]
  },
  {
   "cell_type": "code",
   "execution_count": null,
   "id": "f38d0d11-f146-472a-9901-83b4ab617602",
   "metadata": {},
   "outputs": [],
   "source": []
  },
  {
   "cell_type": "markdown",
   "id": "6035f2d8-d72b-4800-a2db-a5e8e70ab6f8",
   "metadata": {},
   "source": [
    "## Heading"
   ]
  },
  {
   "cell_type": "code",
   "execution_count": null,
   "id": "4d9e2441-cc16-4216-ac29-2a2ff015b881",
   "metadata": {},
   "outputs": [],
   "source": []
  }
 ],
 "metadata": {
  "kernelspec": {
   "display_name": "Python 3 (ipykernel)",
   "language": "python",
   "name": "python3"
  },
  "language_info": {
   "codemirror_mode": {
    "name": "ipython",
    "version": 3
   },
   "file_extension": ".py",
   "mimetype": "text/x-python",
   "name": "python",
   "nbconvert_exporter": "python",
   "pygments_lexer": "ipython3",
   "version": "3.10.10"
  }
 },
 "nbformat": 4,
 "nbformat_minor": 5
}
