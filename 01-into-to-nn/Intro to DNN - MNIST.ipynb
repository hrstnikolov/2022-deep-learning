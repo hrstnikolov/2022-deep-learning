{
 "cells": [
  {
   "cell_type": "code",
   "execution_count": 1,
   "id": "3d032623-c4be-4019-bb1d-acb47a9f07de",
   "metadata": {},
   "outputs": [],
   "source": [
    "%matplotlib inline"
   ]
  },
  {
   "cell_type": "code",
   "execution_count": 12,
   "id": "5f8fb6d6-77ab-48ce-a5b5-fab5aaab5ac1",
   "metadata": {},
   "outputs": [],
   "source": [
    "import numpy as np\n",
    "import pandas as pd\n",
    "import matplotlib.pyplot as plt\n",
    "\n",
    "import tensorflow as tf\n",
    "from tensorflow.keras.datasets import mnist\n",
    "from tensorflow.keras.models import Sequential\n",
    "from tensorflow.keras.layers import Dense, Input, Flatten, Conv2D, MaxPooling2D"
   ]
  },
  {
   "cell_type": "markdown",
   "id": "77e1d373-59bb-43e1-b230-0c6f06289207",
   "metadata": {},
   "source": [
    "# Intro to DNN - MNIST\n",
    "\n",
    "\n",
    "Task is multiclass classification of the MNIST dataset.\n",
    "\n",
    "**NN**\n",
    "\n",
    "1. Build the model (define its layers).\n",
    "    - define the shape of a single input and the number of classes\n",
    "    - use a layer to flatten the images to a single row\n",
    "    - define the activation func for the output layer - `softmax` for multiclass classification.\n",
    "1. Compile the model.\n",
    "    - define a loss `sparse_categorical_crossentropy`\n",
    "    - define optimizer `sgd`, `adam`\n",
    "    - define metrics `accuracy`\n",
    "1. Fit the model.\n",
    "\n",
    "**Deep NN**\n",
    "\n",
    "1. Add hidden layers.\n",
    "- Each layer shall have number of units (neurons) and activation func (ReLU).\n",
    "\n",
    "**CNN**\n",
    "\n",
    "1. Change the DNN layers to `Conv2D`.\n",
    "- add kernel_size\n",
    "- reshape the images to leave 1 channel (add layer)\n",
    "- add MaxPooling2D() layers\n",
    "- add last but one Flatten layer\n",
    "\n",
    "\n",
    "\n",
    "да разпиша какво е batch, epoch, sgd,\n",
    "\n",
    "1. Use regular NN.\n",
    "- Build.\n",
    "- Compile.\n",
    "- Fit.\n",
    "2. Use deep NN.\n",
    "- Add hidden layers.\n",
    "3. Use convolutional NN"
   ]
  },
  {
   "cell_type": "code",
   "execution_count": 3,
   "id": "4b7ffc1c-0f2a-4279-b3ba-be965248992c",
   "metadata": {},
   "outputs": [],
   "source": [
    "(train_images, train_classes), (test_images, test_classes) = mnist.load_data()"
   ]
  },
  {
   "cell_type": "code",
   "execution_count": 4,
   "id": "26279a73-cfc5-4482-a589-a06de6bea830",
   "metadata": {},
   "outputs": [
    {
     "data": {
      "text/plain": [
       "((28, 28), 10)"
      ]
     },
     "execution_count": 4,
     "metadata": {},
     "output_type": "execute_result"
    }
   ],
   "source": [
    "input_shape = train_images[0].shape\n",
    "n_classes = len(set(train_classes))\n",
    "input_shape, n_classes"
   ]
  },
  {
   "cell_type": "markdown",
   "id": "73c795a5-ebbc-4b0c-8a30-df1bc6fcf7b8",
   "metadata": {},
   "source": [
    "### Regular neural network"
   ]
  },
  {
   "cell_type": "code",
   "execution_count": 5,
   "id": "09c224be-cbf7-4d94-9770-ad43742cb7e5",
   "metadata": {},
   "outputs": [
    {
     "name": "stdout",
     "output_type": "stream",
     "text": [
      "Model: \"sequential\"\n",
      "_________________________________________________________________\n",
      " Layer (type)                Output Shape              Param #   \n",
      "=================================================================\n",
      " flatten (Flatten)           (None, 784)               0         \n",
      "                                                                 \n",
      " dense (Dense)               (None, 10)                7850      \n",
      "                                                                 \n",
      "=================================================================\n",
      "Total params: 7,850\n",
      "Trainable params: 7,850\n",
      "Non-trainable params: 0\n",
      "_________________________________________________________________\n"
     ]
    }
   ],
   "source": [
    "model = Sequential([\n",
    "    Input(shape=input_shape),\n",
    "    Flatten(),\n",
    "    Dense(units=n_classes, activation=tf.keras.activations.softmax),\n",
    "])\n",
    "\n",
    "model.summary()"
   ]
  },
  {
   "cell_type": "markdown",
   "id": "cb3f7de1-5a7d-4c17-8330-25f57cf6029b",
   "metadata": {},
   "source": [
    "#### SGD"
   ]
  },
  {
   "cell_type": "code",
   "execution_count": 6,
   "id": "1cf39696-6f0f-49d9-816a-a72afc07c5d8",
   "metadata": {},
   "outputs": [],
   "source": [
    "model.compile(\n",
    "    optimizer='sgd',\n",
    "    loss='sparse_categorical_crossentropy',\n",
    "    metrics=('accuracy',),\n",
    ")"
   ]
  },
  {
   "cell_type": "code",
   "execution_count": 7,
   "id": "0ca91bc2-c44a-4891-8bb7-3768e32e3dba",
   "metadata": {},
   "outputs": [
    {
     "name": "stdout",
     "output_type": "stream",
     "text": [
      "Epoch 1/10\n",
      "1875/1875 [==============================] - 6s 3ms/step - loss: 326.6837 - accuracy: 0.8420\n",
      "Epoch 2/10\n",
      "1875/1875 [==============================] - 6s 3ms/step - loss: 260.2490 - accuracy: 0.8686\n",
      "Epoch 3/10\n",
      "1875/1875 [==============================] - 5s 3ms/step - loss: 255.7409 - accuracy: 0.8711\n",
      "Epoch 4/10\n",
      "1875/1875 [==============================] - 7s 4ms/step - loss: 245.1794 - accuracy: 0.8759\n",
      "Epoch 5/10\n",
      "1875/1875 [==============================] - 7s 4ms/step - loss: 242.9563 - accuracy: 0.8792\n",
      "Epoch 6/10\n",
      "1875/1875 [==============================] - 6s 3ms/step - loss: 236.4105 - accuracy: 0.8793\n",
      "Epoch 7/10\n",
      "1875/1875 [==============================] - 6s 3ms/step - loss: 238.6371 - accuracy: 0.8802\n",
      "Epoch 8/10\n",
      "1875/1875 [==============================] - 6s 3ms/step - loss: 237.2310 - accuracy: 0.8827\n",
      "Epoch 9/10\n",
      "1875/1875 [==============================] - 4s 2ms/step - loss: 235.0191 - accuracy: 0.8812\n",
      "Epoch 10/10\n",
      "1875/1875 [==============================] - 5s 3ms/step - loss: 236.6667 - accuracy: 0.8807\n"
     ]
    },
    {
     "data": {
      "text/plain": [
       "<keras.callbacks.History at 0x1e7efe56e20>"
      ]
     },
     "execution_count": 7,
     "metadata": {},
     "output_type": "execute_result"
    }
   ],
   "source": [
    "model.fit(train_images, train_classes, epochs=10, )"
   ]
  },
  {
   "cell_type": "markdown",
   "id": "98a85672-7da8-4a9c-800e-c109ffc9b352",
   "metadata": {},
   "source": [
    "#### Adam"
   ]
  },
  {
   "cell_type": "code",
   "execution_count": 9,
   "id": "4031e451-bb6d-436e-a808-a658eb030f11",
   "metadata": {},
   "outputs": [
    {
     "name": "stdout",
     "output_type": "stream",
     "text": [
      "Epoch 1/10\n",
      "1875/1875 [==============================] - 7s 3ms/step - loss: 142.2347 - accuracy: 0.9243\n",
      "Epoch 2/10\n",
      "1875/1875 [==============================] - 5s 3ms/step - loss: 121.7077 - accuracy: 0.9288\n",
      "Epoch 3/10\n",
      "1875/1875 [==============================] - 4s 2ms/step - loss: 110.7857 - accuracy: 0.9286\n",
      "Epoch 4/10\n",
      "1875/1875 [==============================] - 6s 3ms/step - loss: 102.5136 - accuracy: 0.9290\n",
      "Epoch 5/10\n",
      "1875/1875 [==============================] - 6s 3ms/step - loss: 95.9446 - accuracy: 0.9288\n",
      "Epoch 6/10\n",
      "1875/1875 [==============================] - 5s 3ms/step - loss: 90.6883 - accuracy: 0.9284\n",
      "Epoch 7/10\n",
      "1875/1875 [==============================] - 6s 3ms/step - loss: 86.2914 - accuracy: 0.9286\n",
      "Epoch 8/10\n",
      "1875/1875 [==============================] - 6s 3ms/step - loss: 82.3833 - accuracy: 0.9282\n",
      "Epoch 9/10\n",
      "1875/1875 [==============================] - 5s 3ms/step - loss: 78.8128 - accuracy: 0.9273\n",
      "Epoch 10/10\n",
      "1875/1875 [==============================] - 6s 3ms/step - loss: 75.8052 - accuracy: 0.9266\n"
     ]
    },
    {
     "data": {
      "text/plain": [
       "<keras.callbacks.History at 0x1e7f2111070>"
      ]
     },
     "execution_count": 9,
     "metadata": {},
     "output_type": "execute_result"
    }
   ],
   "source": [
    "model.compile(\n",
    "    optimizer='adam',\n",
    "    loss='sparse_categorical_crossentropy',\n",
    "    metrics=('accuracy',),\n",
    ")\n",
    "model.fit(train_images, train_classes, epochs=10, )"
   ]
  },
  {
   "cell_type": "markdown",
   "id": "1508a064-1b8f-4e74-b518-c7ffd8eb73af",
   "metadata": {},
   "source": [
    "### Deep neural network"
   ]
  },
  {
   "cell_type": "code",
   "execution_count": 10,
   "id": "44c5075d-87c0-4e39-91e0-59e7fafb5ed0",
   "metadata": {},
   "outputs": [
    {
     "name": "stdout",
     "output_type": "stream",
     "text": [
      "Model: \"sequential_1\"\n",
      "_________________________________________________________________\n",
      " Layer (type)                Output Shape              Param #   \n",
      "=================================================================\n",
      " flatten_1 (Flatten)         (None, 784)               0         \n",
      "                                                                 \n",
      " dense_1 (Dense)             (None, 32)                25120     \n",
      "                                                                 \n",
      " dense_2 (Dense)             (None, 32)                1056      \n",
      "                                                                 \n",
      " dense_3 (Dense)             (None, 32)                1056      \n",
      "                                                                 \n",
      " dense_4 (Dense)             (None, 10)                330       \n",
      "                                                                 \n",
      "=================================================================\n",
      "Total params: 27,562\n",
      "Trainable params: 27,562\n",
      "Non-trainable params: 0\n",
      "_________________________________________________________________\n"
     ]
    }
   ],
   "source": [
    "deep_model = Sequential([\n",
    "    Input(shape=input_shape),\n",
    "    Flatten(),\n",
    "    \n",
    "    Dense(units=32, activation='relu'),\n",
    "    Dense(units=32, activation='relu'),\n",
    "    Dense(units=32, activation='relu'),    \n",
    "    \n",
    "    Dense(units=n_classes, activation=tf.keras.activations.softmax),\n",
    "])\n",
    "\n",
    "deep_model.summary()"
   ]
  },
  {
   "cell_type": "code",
   "execution_count": 11,
   "id": "3487781d-1d0e-4c03-8884-2ecec7d1d82a",
   "metadata": {},
   "outputs": [
    {
     "name": "stdout",
     "output_type": "stream",
     "text": [
      "Epoch 1/10\n",
      "1875/1875 [==============================] - 8s 3ms/step - loss: 1.2582 - accuracy: 0.6990\n",
      "Epoch 2/10\n",
      "1875/1875 [==============================] - 5s 3ms/step - loss: 0.4333 - accuracy: 0.8855\n",
      "Epoch 3/10\n",
      "1875/1875 [==============================] - 6s 3ms/step - loss: 0.3238 - accuracy: 0.9121\n",
      "Epoch 4/10\n",
      "1875/1875 [==============================] - 7s 3ms/step - loss: 0.2729 - accuracy: 0.9247\n",
      "Epoch 5/10\n",
      "1875/1875 [==============================] - 7s 4ms/step - loss: 0.2373 - accuracy: 0.9337\n",
      "Epoch 6/10\n",
      "1875/1875 [==============================] - 6s 3ms/step - loss: 0.2184 - accuracy: 0.9387\n",
      "Epoch 7/10\n",
      "1875/1875 [==============================] - 7s 3ms/step - loss: 0.1985 - accuracy: 0.9433\n",
      "Epoch 8/10\n",
      "1875/1875 [==============================] - 7s 4ms/step - loss: 0.1897 - accuracy: 0.9458\n",
      "Epoch 9/10\n",
      "1875/1875 [==============================] - 8s 4ms/step - loss: 0.1805 - accuracy: 0.9489\n",
      "Epoch 10/10\n",
      "1875/1875 [==============================] - 6s 3ms/step - loss: 0.1717 - accuracy: 0.9510\n"
     ]
    },
    {
     "data": {
      "text/plain": [
       "<keras.callbacks.History at 0x1e7f41f8430>"
      ]
     },
     "execution_count": 11,
     "metadata": {},
     "output_type": "execute_result"
    }
   ],
   "source": [
    "deep_model.compile(\n",
    "    optimizer='adam',\n",
    "    loss='sparse_categorical_crossentropy',\n",
    "    metrics=('accuracy',),\n",
    ")\n",
    "deep_model.fit(train_images, train_classes, epochs=10, )"
   ]
  },
  {
   "cell_type": "markdown",
   "id": "6cb254a2-1920-47bd-aff0-637115c3f0be",
   "metadata": {
    "tags": []
   },
   "source": [
    "### Convolutional neural network - TODO"
   ]
  },
  {
   "cell_type": "code",
   "execution_count": null,
   "id": "5d4d5383-1774-4e78-98b0-43082ff4e68e",
   "metadata": {},
   "outputs": [],
   "source": []
  },
  {
   "cell_type": "markdown",
   "id": "6dbde078-aeb6-4bd1-beba-4644b787ee8f",
   "metadata": {},
   "source": [
    "### Softmax from scratch"
   ]
  },
  {
   "cell_type": "code",
   "execution_count": 8,
   "id": "3b184eb9-5bf5-40c2-a5f7-b155860099d9",
   "metadata": {},
   "outputs": [],
   "source": [
    "# # Softmax demo\n",
    "\n",
    "# a = tf.constant([2, 3, -1], shape=(3, 1), dtype=tf.float16)\n",
    "# softmax1 = tf.exp(a) / tf.reduce_sum(tf.exp(a))\n",
    "# softmax2 = tf.keras.activations.softmax(a, axis=0)\n",
    "\n",
    "# softmax1.numpy(), softmax2.numpy()"
   ]
  },
  {
   "cell_type": "code",
   "execution_count": null,
   "id": "54c69808-97a4-4f57-b453-4b1b6a07916a",
   "metadata": {},
   "outputs": [],
   "source": []
  }
 ],
 "metadata": {
  "kernelspec": {
   "display_name": "Python 3 (ipykernel)",
   "language": "python",
   "name": "python3"
  },
  "language_info": {
   "codemirror_mode": {
    "name": "ipython",
    "version": 3
   },
   "file_extension": ".py",
   "mimetype": "text/x-python",
   "name": "python",
   "nbconvert_exporter": "python",
   "pygments_lexer": "ipython3",
   "version": "3.9.0"
  }
 },
 "nbformat": 4,
 "nbformat_minor": 5
}
