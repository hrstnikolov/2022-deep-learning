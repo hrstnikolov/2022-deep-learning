{
 "cells": [
  {
   "cell_type": "code",
   "execution_count": 1,
   "id": "4d804d4c-2802-458d-ae01-9220bd188ab9",
   "metadata": {},
   "outputs": [],
   "source": [
    "%matplotlib inline"
   ]
  },
  {
   "cell_type": "code",
   "execution_count": 2,
   "id": "ef957982-1bd0-4020-a70c-18a1128a8be6",
   "metadata": {},
   "outputs": [],
   "source": [
    "import numpy as np\n",
    "import pandas as pd\n",
    "import matplotlib.pyplot as plt\n",
    "\n",
    "import tensorflow as tf\n",
    "from tensorflow.keras.models import Sequential\n",
    "from tensorflow.keras.layers import Input, Dense"
   ]
  },
  {
   "cell_type": "markdown",
   "id": "ca45c207-33a0-49eb-9a12-0eae1b7cc922",
   "metadata": {
    "tags": []
   },
   "source": [
    "# Two-layer NN\n",
    "\n",
    "two-layer neural network = multi-layer perceptron (MLP)"
   ]
  },
  {
   "cell_type": "markdown",
   "id": "c4eb5c13-0173-4e47-bac6-90075bad321f",
   "metadata": {
    "tags": []
   },
   "source": [
    "## Define model"
   ]
  },
  {
   "cell_type": "code",
   "execution_count": 3,
   "id": "593934b7-6e50-4eb0-83ea-4c24ff9d3133",
   "metadata": {},
   "outputs": [],
   "source": [
    "two_layer_nn = Sequential([\n",
    "    Input(shape= (1,)),\n",
    "    Dense(units=10, activation='relu'),\n",
    "    Dense(units=1),\n",
    "])"
   ]
  },
  {
   "cell_type": "markdown",
   "id": "3e45feef-e231-408f-bafe-c740ee6ddcdb",
   "metadata": {},
   "source": [
    "The dense layer with 10 units has 10 activations (a number; one for each unit).\n",
    "\n",
    "10 weights - from the single input neuron to each of the 10 units.\n",
    "\n",
    "Plus biases for each of the 10 units, therefore 20 trainable params in total.\n",
    "\n",
    "\n",
    "The last dense layer (aka the otuput layer) has 10 weights for each connection it has to the prev layer.\n",
    "\n",
    "Plus a single bias coeff, therefore 11 in total."
   ]
  },
  {
   "cell_type": "code",
   "execution_count": 5,
   "id": "802e5507-0195-443c-9d77-e7d683ff20c8",
   "metadata": {},
   "outputs": [
    {
     "name": "stdout",
     "output_type": "stream",
     "text": [
      "Model: \"sequential\"\n",
      "_________________________________________________________________\n",
      " Layer (type)                Output Shape              Param #   \n",
      "=================================================================\n",
      " dense (Dense)               (None, 10)                20        \n",
      "                                                                 \n",
      " dense_1 (Dense)             (None, 1)                 11        \n",
      "                                                                 \n",
      "=================================================================\n",
      "Total params: 31\n",
      "Trainable params: 31\n",
      "Non-trainable params: 0\n",
      "_________________________________________________________________\n"
     ]
    }
   ],
   "source": [
    "two_layer_nn.summary()"
   ]
  },
  {
   "cell_type": "code",
   "execution_count": 6,
   "id": "4b81f929-e351-46dc-bef5-1c388b256d6e",
   "metadata": {},
   "outputs": [],
   "source": [
    "two_layer_nn.compile(loss='mean_squared_error', optimizer='sgd')"
   ]
  },
  {
   "cell_type": "markdown",
   "id": "d6dbb001-c578-4cbf-9cb9-9cdc5d0a6d5c",
   "metadata": {
    "tags": []
   },
   "source": [
    "## Create dummy data"
   ]
  },
  {
   "cell_type": "code",
   "execution_count": 9,
   "id": "a1451f04-310f-46a8-98ac-e10dcce53d9b",
   "metadata": {},
   "outputs": [
    {
     "data": {
      "image/png": "[encoded data removed]",
      "text/plain": [
       "<Figure size 640x480 with 1 Axes>"
      ]
     },
     "metadata": {},
     "output_type": "display_data"
    }
   ],
   "source": [
    "a = 0.4\n",
    "b = 3\n",
    "\n",
    "x = np.linspace(1, 4, 100)\n",
    "noise = np.random.rand(len(x))\n",
    "y = a * x + b + noise\n",
    "\n",
    "plt.plot(x, y, '.')\n",
    "plt.axis('equal')\n",
    "plt.show()"
   ]
  },
  {
   "cell_type": "markdown",
   "id": "c72eaf58-9ec4-4c89-96fb-f963de42cfb5",
   "metadata": {
    "tags": []
   },
   "source": [
    "## Fit model"
   ]
  },
  {
   "cell_type": "code",
   "execution_count": 10,
   "id": "800d0422-ed0f-4034-b01d-6610e8e156d0",
   "metadata": {
    "tags": []
   },
   "outputs": [
    {
     "name": "stdout",
     "output_type": "stream",
     "text": [
      "Epoch 1/5\n",
      "4/4 [==============================] - 1s 7ms/step - loss: 10.3682\n",
      "Epoch 2/5\n",
      "4/4 [==============================] - 0s 4ms/step - loss: 1.6275\n",
      "Epoch 3/5\n",
      "4/4 [==============================] - 0s 6ms/step - loss: 1.0425\n",
      "Epoch 4/5\n",
      "4/4 [==============================] - 0s 4ms/step - loss: 1.0263\n",
      "Epoch 5/5\n",
      "4/4 [==============================] - 0s 4ms/step - loss: 0.9726\n"
     ]
    },
    {
     "data": {
      "text/plain": [
       "<keras.callbacks.History at 0x1d9f1093f70>"
      ]
     },
     "execution_count": 10,
     "metadata": {},
     "output_type": "execute_result"
    }
   ],
   "source": [
    "two_layer_nn.fit(x, y, epochs=5)"
   ]
  },
  {
   "cell_type": "markdown",
   "id": "8281e724-942f-46d1-ac68-d4a03d256060",
   "metadata": {
    "tags": []
   },
   "source": [
    "## Check layers"
   ]
  },
  {
   "cell_type": "code",
   "execution_count": 11,
   "id": "7df571c6-e4bd-43a8-8912-23a8d838c310",
   "metadata": {},
   "outputs": [
    {
     "data": {
      "text/plain": [
       "[<keras.layers.core.dense.Dense at 0x1d9f048bf10>,\n",
       " <keras.layers.core.dense.Dense at 0x1d9e4ec6be0>]"
      ]
     },
     "execution_count": 11,
     "metadata": {},
     "output_type": "execute_result"
    }
   ],
   "source": [
    "two_layer_nn.layers"
   ]
  },
  {
   "cell_type": "markdown",
   "id": "65cd9472-f150-4a54-b18d-c99cd34e3acc",
   "metadata": {
    "tags": []
   },
   "source": [
    "## Predict "
   ]
  },
  {
   "cell_type": "code",
   "execution_count": 12,
   "id": "bb0f4322-452e-42b4-92d0-9cd98f28d5d6",
   "metadata": {},
   "outputs": [
    {
     "name": "stdout",
     "output_type": "stream",
     "text": [
      "1/1 [==============================] - 0s 186ms/step\n"
     ]
    }
   ],
   "source": [
    "x_pred = np.array([1, 2.5, 6])\n",
    "y_pred = two_layer_nn.predict(x_pred)"
   ]
  },
  {
   "cell_type": "code",
   "execution_count": 13,
   "id": "6f9c8aaf-54ea-46ae-ad11-08d6034d9f1e",
   "metadata": {},
   "outputs": [
    {
     "data": {
      "image/png": "[encoded data removed]",
      "text/plain": [
       "<Figure size 640x480 with 1 Axes>"
      ]
     },
     "metadata": {},
     "output_type": "display_data"
    }
   ],
   "source": [
    "plt.plot(x, y, '.')\n",
    "plt.plot(x_pred, y_pred, '-')\n",
    "plt.show()"
   ]
  }
 ],
 "metadata": {
  "kernelspec": {
   "display_name": "Python 3 (ipykernel)",
   "language": "python",
   "name": "python3"
  },
  "language_info": {
   "codemirror_mode": {
    "name": "ipython",
    "version": 3
   },
   "file_extension": ".py",
   "mimetype": "text/x-python",
   "name": "python",
   "nbconvert_exporter": "python",
   "pygments_lexer": "ipython3",
   "version": "3.9.0"
  }
 },
 "nbformat": 4,
 "nbformat_minor": 5
}
