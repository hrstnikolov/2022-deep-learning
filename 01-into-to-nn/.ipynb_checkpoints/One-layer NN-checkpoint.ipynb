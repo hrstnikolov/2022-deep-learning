{
 "cells": [
  {
   "cell_type": "code",
   "execution_count": 1,
   "id": "83dd9eb0-7e40-437b-a583-a53957f8e1d6",
   "metadata": {},
   "outputs": [],
   "source": [
    "%matplotlib inline"
   ]
  },
  {
   "cell_type": "code",
   "execution_count": 2,
   "id": "0db4b5c2-31db-4941-869a-5d34986520cd",
   "metadata": {},
   "outputs": [],
   "source": [
    "import numpy as np\n",
    "import pandas as pd\n",
    "import matplotlib.pyplot as plt\n",
    "\n",
    "import tensorflow as tf\n",
    "from tensorflow.keras.models import Sequential\n",
    "from tensorflow.keras.layers import Input, Dense"
   ]
  },
  {
   "cell_type": "markdown",
   "id": "581213dc-ea8f-439c-a4c3-6fb944728887",
   "metadata": {
    "tags": []
   },
   "source": [
    "# One-layer neural network\n",
    "\n",
    "One-layer neural network = single-layer perceptron\n",
    "\n",
    "Task: linear regression of a single variable."
   ]
  },
  {
   "cell_type": "markdown",
   "id": "38c7961c-b5bb-4b7f-b173-50eac0cab92e",
   "metadata": {
    "tags": []
   },
   "source": [
    "## Define model\n",
    "\n",
    "No activation func (actually defalts to `linear`) in the `Dense` layer as the task is regression."
   ]
  },
  {
   "cell_type": "code",
   "execution_count": 76,
   "id": "593934b7-6e50-4eb0-83ea-4c24ff9d3133",
   "metadata": {},
   "outputs": [],
   "source": [
    "one_layer_nn = Sequential([\n",
    "    Input(shape= (1,)),\n",
    "    Dense(units=1),\n",
    "])"
   ]
  },
  {
   "cell_type": "markdown",
   "id": "7c9f0dd8-37c0-4f63-804b-684a2c31b6e4",
   "metadata": {},
   "source": [
    "2 trainable params: 1 wight and 1 bias.\n",
    "\n",
    "The output layer is the same as the the `Dense` layer.\n",
    "\n",
    "The input layer is not in the summary. Its activations are not calculated - they are the values in the input variables."
   ]
  },
  {
   "cell_type": "code",
   "execution_count": 77,
   "id": "802e5507-0195-443c-9d77-e7d683ff20c8",
   "metadata": {},
   "outputs": [
    {
     "name": "stdout",
     "output_type": "stream",
     "text": [
      "Model: \"sequential_3\"\n",
      "_________________________________________________________________\n",
      " Layer (type)                Output Shape              Param #   \n",
      "=================================================================\n",
      " dense_3 (Dense)             (None, 1)                 2         \n",
      "                                                                 \n",
      "=================================================================\n",
      "Total params: 2\n",
      "Trainable params: 2\n",
      "Non-trainable params: 0\n",
      "_________________________________________________________________\n"
     ]
    }
   ],
   "source": [
    "one_layer_nn.summary()"
   ]
  },
  {
   "cell_type": "markdown",
   "id": "e327f9f0-c1a3-4af8-b4b8-f9ba30bf8da0",
   "metadata": {},
   "source": [
    "`sgd` = samples are taken one by one (batch_size=1), the gradient is updated after each sample."
   ]
  },
  {
   "cell_type": "code",
   "execution_count": 78,
   "id": "4b81f929-e351-46dc-bef5-1c388b256d6e",
   "metadata": {},
   "outputs": [],
   "source": [
    "one_layer_nn.compile(loss='mean_squared_error', optimizer='sgd')"
   ]
  },
  {
   "cell_type": "markdown",
   "id": "42b830df-0829-4c34-b644-3f5e4b55caa8",
   "metadata": {
    "tags": []
   },
   "source": [
    "## Create dummy data"
   ]
  },
  {
   "cell_type": "code",
   "execution_count": 79,
   "id": "a1451f04-310f-46a8-98ac-e10dcce53d9b",
   "metadata": {},
   "outputs": [
    {
     "data": {
      "image/png": "[encoded data removed]",
      "text/plain": [
       "<Figure size 640x480 with 1 Axes>"
      ]
     },
     "metadata": {},
     "output_type": "display_data"
    }
   ],
   "source": [
    "a = 2\n",
    "b = 3\n",
    "\n",
    "x = np.linspace(1, 4, 100)\n",
    "noise = np.random.rand(len(x))\n",
    "y = a * x + b + noise\n",
    "\n",
    "plt.plot(x, y, '.')\n",
    "plt.show()"
   ]
  },
  {
   "cell_type": "markdown",
   "id": "8113a5de-8ffb-40f4-a204-22c43be0aef1",
   "metadata": {
    "tags": []
   },
   "source": [
    "## Fit model"
   ]
  },
  {
   "cell_type": "code",
   "execution_count": 83,
   "id": "800d0422-ed0f-4034-b01d-6610e8e156d0",
   "metadata": {
    "tags": []
   },
   "outputs": [
    {
     "name": "stdout",
     "output_type": "stream",
     "text": [
      "4/4 [==============================] - 0s 4ms/step - loss: 0.2022\n"
     ]
    },
    {
     "data": {
      "text/plain": [
       "<keras.callbacks.History at 0x2237c25ee50>"
      ]
     },
     "execution_count": 83,
     "metadata": {},
     "output_type": "execute_result"
    }
   ],
   "source": [
    "one_layer_nn.fit(x, y, epochs=1)"
   ]
  },
  {
   "cell_type": "markdown",
   "id": "b5966dc7-f762-40f2-9814-ac8f640230f1",
   "metadata": {
    "tags": []
   },
   "source": [
    "## Check weights"
   ]
  },
  {
   "cell_type": "code",
   "execution_count": 55,
   "id": "7df571c6-e4bd-43a8-8912-23a8d838c310",
   "metadata": {},
   "outputs": [
    {
     "data": {
      "text/plain": [
       "[<keras.layers.core.dense.Dense at 0x22379e25070>]"
      ]
     },
     "execution_count": 55,
     "metadata": {},
     "output_type": "execute_result"
    }
   ],
   "source": [
    "one_layer_nn.layers"
   ]
  },
  {
   "cell_type": "code",
   "execution_count": 56,
   "id": "d3d32219-8404-4388-8f1b-7a5561bd7c2f",
   "metadata": {},
   "outputs": [
    {
     "data": {
      "text/plain": [
       "[<tf.Variable 'dense_2/kernel:0' shape=(1, 1) dtype=float32, numpy=array([[2.4218063]], dtype=float32)>,\n",
       " <tf.Variable 'dense_2/bias:0' shape=(1,) dtype=float32, numpy=array([2.366229], dtype=float32)>]"
      ]
     },
     "execution_count": 56,
     "metadata": {},
     "output_type": "execute_result"
    }
   ],
   "source": [
    "one_layer_nn.layers[0].weights"
   ]
  },
  {
   "cell_type": "markdown",
   "id": "2e64e19f-e84f-4ce2-8a0d-5fa505c5b8d7",
   "metadata": {
    "tags": []
   },
   "source": [
    "## Predict "
   ]
  },
  {
   "cell_type": "code",
   "execution_count": 86,
   "id": "bb0f4322-452e-42b4-92d0-9cd98f28d5d6",
   "metadata": {},
   "outputs": [
    {
     "name": "stdout",
     "output_type": "stream",
     "text": [
      "1/1 [==============================] - 0s 106ms/step\n"
     ]
    }
   ],
   "source": [
    "x_pred = np.array([1, 2.5, 6])\n",
    "y_pred = one_layer_nn.predict(x_pred)"
   ]
  },
  {
   "cell_type": "code",
   "execution_count": 89,
   "id": "6f9c8aaf-54ea-46ae-ad11-08d6034d9f1e",
   "metadata": {},
   "outputs": [
    {
     "data": {
      "image/png": "[encoded data removed]",
      "text/plain": [
       "<Figure size 640x480 with 1 Axes>"
      ]
     },
     "metadata": {},
     "output_type": "display_data"
    }
   ],
   "source": [
    "plt.plot(x, y, '.')\n",
    "plt.plot(x_pred, y_pred, '-')\n",
    "plt.show()"
   ]
  }
 ],
 "metadata": {
  "kernelspec": {
   "display_name": "Python 3 (ipykernel)",
   "language": "python",
   "name": "python3"
  },
  "language_info": {
   "codemirror_mode": {
    "name": "ipython",
    "version": 3
   },
   "file_extension": ".py",
   "mimetype": "text/x-python",
   "name": "python",
   "nbconvert_exporter": "python",
   "pygments_lexer": "ipython3",
   "version": "3.9.0"
  }
 },
 "nbformat": 4,
 "nbformat_minor": 5
}
