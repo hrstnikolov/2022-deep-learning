{
 "cells": [
  {
   "cell_type": "code",
   "execution_count": 1,
   "id": "3d032623-c4be-4019-bb1d-acb47a9f07de",
   "metadata": {},
   "outputs": [],
   "source": [
    "%matplotlib inline"
   ]
  },
  {
   "cell_type": "code",
   "execution_count": 4,
   "id": "5f8fb6d6-77ab-48ce-a5b5-fab5aaab5ac1",
   "metadata": {},
   "outputs": [],
   "source": [
    "import numpy as np\n",
    "import pandas as pd\n",
    "import matplotlib.pyplot as plt\n",
    "\n",
    "import tensorflow as tf\n",
    "from tensorflow.keras.datasets import mnist\n",
    "from tensorflow.keras.models import Sequential\n",
    "from tensorflow.keras.layers import Dense, Input, Flatten"
   ]
  },
  {
   "cell_type": "markdown",
   "id": "77e1d373-59bb-43e1-b230-0c6f06289207",
   "metadata": {},
   "source": [
    "# Intro to DNN - MNIST\n",
    "\n",
    "\n",
    "Task is multiclass classification of the MNIST dataset.\n",
    "\n",
    "**NN**\n",
    "\n",
    "1. Build the model (define its layers).\n",
    "    - define the shape of a single input and the number of classes\n",
    "    - use a layer to flatten the images to a single row\n",
    "    - define the activation func for the output layer - `softmax` for multiclass classification.\n",
    "1. Compile the model.\n",
    "    - define a loss `sparse_categorical_crossentropy`\n",
    "    - define optimizer `sgd`, `adam`\n",
    "    - define metrics `accuracy`\n",
    "1. Fit the model.\n",
    "\n",
    "**Deep NN**\n",
    "\n",
    "1. Add hidden layers.\n",
    "- Each layer shall have number of units (neurons) and activation func (ReLU).\n",
    "\n",
    "**CNN**\n",
    "\n",
    "1. Change the DNN layers to `Conv2D`.\n",
    "- add kernel_size\n",
    "- reshape the images to leave 1 channel (add layer)\n",
    "- add MaxPooling2D() layers\n",
    "- add last but one Flatten layer\n",
    "\n",
    "\n",
    "\n",
    "да разпиша какво е batch, epoch, sgd,\n",
    "\n",
    "1. Use regular NN.\n",
    "- Build.\n",
    "- Compile.\n",
    "- Fit.\n",
    "2. Use deep NN.\n",
    "- Add hidden layers.\n",
    "3. Use convolutional NN"
   ]
  },
  {
   "cell_type": "code",
   "execution_count": 5,
   "id": "4b7ffc1c-0f2a-4279-b3ba-be965248992c",
   "metadata": {},
   "outputs": [
    {
     "name": "stdout",
     "output_type": "stream",
     "text": [
      "Downloading data from https://storage.googleapis.com/tensorflow/tf-keras-datasets/mnist.npz\n",
      "11490434/11490434 [==============================] - 1s 0us/step\n"
     ]
    }
   ],
   "source": [
    "(train_images, train_classes), (test_images, test_classes) = mnist.load_data()"
   ]
  },
  {
   "cell_type": "code",
   "execution_count": 7,
   "id": "09c224be-cbf7-4d94-9770-ad43742cb7e5",
   "metadata": {},
   "outputs": [
    {
     "data": {
      "text/plain": [
       "(60000, 28, 28)"
      ]
     },
     "execution_count": 7,
     "metadata": {},
     "output_type": "execute_result"
    }
   ],
   "source": [
    "mnist"
   ]
  },
  {
   "cell_type": "code",
   "execution_count": null,
   "id": "fcbc8d3d-2b80-469a-9dee-50bea967ab2f",
   "metadata": {},
   "outputs": [],
   "source": []
  }
 ],
 "metadata": {
  "kernelspec": {
   "display_name": "Python 3 (ipykernel)",
   "language": "python",
   "name": "python3"
  },
  "language_info": {
   "codemirror_mode": {
    "name": "ipython",
    "version": 3
   },
   "file_extension": ".py",
   "mimetype": "text/x-python",
   "name": "python",
   "nbconvert_exporter": "python",
   "pygments_lexer": "ipython3",
   "version": "3.9.0"
  }
 },
 "nbformat": 4,
 "nbformat_minor": 5
}
