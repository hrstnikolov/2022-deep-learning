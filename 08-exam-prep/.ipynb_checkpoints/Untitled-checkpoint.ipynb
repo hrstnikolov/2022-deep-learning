{
 "cells": [
  {
   "cell_type": "code",
   "execution_count": 1,
   "id": "a4a26faa-613d-427f-bad0-6eced3fc410b",
   "metadata": {},
   "outputs": [],
   "source": [
    "%matplotlib inline"
   ]
  },
  {
   "cell_type": "code",
   "execution_count": 26,
   "id": "a323569b-fb9f-408b-89ca-57e7468d418d",
   "metadata": {},
   "outputs": [],
   "source": [
    "import numpy as np\n",
    "import pandas as pd\n",
    "import matplotlib.pyplot as plt\n",
    "\n",
    "from pathlib import Path\n",
    "\n",
    "import tensorflow as tf"
   ]
  },
  {
   "cell_type": "markdown",
   "id": "24558bab-550f-4f06-b3c9-bdbfb80b3402",
   "metadata": {},
   "source": [
    "# Title\n",
    "\n",
    "1. Create map-style dataset.\n",
    "    - Create records `(filepath, class)`. The `filepath` is in a way a proxy to the data.\n",
    "    - Read records using `tf.data.Dataset.from_tensor_slices()`.\n",
    "1. Preprocess images.\n",
    "    - Create function that preprocesses a single image.\n",
    "    - `dataset.map(func)`"
   ]
  },
  {
   "cell_type": "markdown",
   "id": "786e4add-e457-45fc-b019-c07a2207c5d8",
   "metadata": {},
   "source": [
    "## Heading"
   ]
  },
  {
   "cell_type": "code",
   "execution_count": 61,
   "id": "f090a388-5242-42d2-b06b-672a422c2f82",
   "metadata": {},
   "outputs": [],
   "source": [
    "DATASET_DIR = Path().home() / 'Desktop' / 'datasets' / 'natural_images'"
   ]
  },
  {
   "cell_type": "code",
   "execution_count": 84,
   "id": "adc0f844-9c90-4787-9b3c-2379ed0d7a54",
   "metadata": {
    "tags": []
   },
   "outputs": [
    {
     "data": {
      "text/plain": [
       "['airplane', 'car', 'cat', 'dog', 'flower', 'fruit', 'motorbike', 'person']"
      ]
     },
     "execution_count": 84,
     "metadata": {},
     "output_type": "execute_result"
    }
   ],
   "source": [
    "unique_labels = [item.name for item in DATASET_DIR.glob('*')]\n",
    "unique_labels"
   ]
  },
  {
   "cell_type": "code",
   "execution_count": 85,
   "id": "e7b75d79-d4e5-45c7-89c3-478d80cfa68e",
   "metadata": {},
   "outputs": [
    {
     "data": {
      "text/plain": [
       "[('C:/Users/a1056968/Desktop/datasets/natural_images/airplane/airplane_0000.jpg',\n",
       "  'airplane'),\n",
       " ('C:/Users/a1056968/Desktop/datasets/natural_images/airplane/airplane_0001.jpg',\n",
       "  'airplane')]"
      ]
     },
     "execution_count": 85,
     "metadata": {},
     "output_type": "execute_result"
    }
   ],
   "source": [
    "records = []\n",
    "\n",
    "for el in DATASET_DIR.glob('*/*'):\n",
    "    records.append((el.as_posix(), el.parent.name))\n",
    "\n",
    "records[:2]"
   ]
  },
  {
   "cell_type": "code",
   "execution_count": 88,
   "id": "b0ccb2a4-2f27-44e3-ba23-c8f5d6223b07",
   "metadata": {},
   "outputs": [],
   "source": [
    "dataset = tf.data.Dataset.from_tensor_slices(records)"
   ]
  },
  {
   "cell_type": "code",
   "execution_count": 93,
   "id": "2b0e382a-d132-471c-aa86-18317c4bd6c0",
   "metadata": {},
   "outputs": [
    {
     "name": "stdout",
     "output_type": "stream",
     "text": [
      "tf.Tensor(\n",
      "[b'C:/Users/a1056968/Desktop/datasets/natural_images/airplane/airplane_0000.jpg'\n",
      " b'airplane'], shape=(2,), dtype=string)\n",
      "tf.Tensor(\n",
      "[b'C:/Users/a1056968/Desktop/datasets/natural_images/airplane/airplane_0001.jpg'\n",
      " b'airplane'], shape=(2,), dtype=string)\n"
     ]
    }
   ],
   "source": [
    "for el in dataset.take(2):\n",
    "    print(el)"
   ]
  },
  {
   "cell_type": "code",
   "execution_count": null,
   "id": "3ad24112-8c40-4cc9-ba02-5e04ea8f9b5f",
   "metadata": {},
   "outputs": [],
   "source": []
  },
  {
   "cell_type": "code",
   "execution_count": null,
   "id": "33e26c63-0f85-4834-a59b-8ab937bfef2e",
   "metadata": {},
   "outputs": [],
   "source": []
  },
  {
   "cell_type": "code",
   "execution_count": null,
   "id": "455c8fc3-e30e-41f2-9390-6efa4b0430b2",
   "metadata": {},
   "outputs": [],
   "source": []
  },
  {
   "cell_type": "code",
   "execution_count": null,
   "id": "4b6175a1-3f6c-4b55-b363-a64e858d0bf1",
   "metadata": {},
   "outputs": [],
   "source": []
  }
 ],
 "metadata": {
  "kernelspec": {
   "display_name": "Python 3 (ipykernel)",
   "language": "python",
   "name": "python3"
  },
  "language_info": {
   "codemirror_mode": {
    "name": "ipython",
    "version": 3
   },
   "file_extension": ".py",
   "mimetype": "text/x-python",
   "name": "python",
   "nbconvert_exporter": "python",
   "pygments_lexer": "ipython3",
   "version": "3.10.9"
  }
 },
 "nbformat": 4,
 "nbformat_minor": 5
}
