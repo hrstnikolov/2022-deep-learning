{
 "cells": [
  {
   "cell_type": "code",
   "execution_count": 1,
   "id": "dce206c5-da97-4732-8460-42aaf3512538",
   "metadata": {},
   "outputs": [],
   "source": [
    "from pathlib import Path"
   ]
  },
  {
   "cell_type": "markdown",
   "id": "c335d28d-9ee1-4922-9b63-bd38ef4db595",
   "metadata": {},
   "source": [
    "# Pathlib"
   ]
  },
  {
   "cell_type": "code",
   "execution_count": 2,
   "id": "8707e55e-bd1a-45c8-a6b7-bf74f04a5dfc",
   "metadata": {},
   "outputs": [],
   "source": [
    "HOME = Path().home()\n",
    "DESKTOP = HOME / 'Desktop'"
   ]
  },
  {
   "cell_type": "markdown",
   "id": "35ac0c6c-e5e5-4acd-a891-95e4117a2bae",
   "metadata": {
    "tags": []
   },
   "source": [
    "### First-level iteration: `glob('*')`"
   ]
  },
  {
   "cell_type": "code",
   "execution_count": 7,
   "id": "382538a6-3e1c-421d-acc1-fa9148ea87e4",
   "metadata": {},
   "outputs": [
    {
     "name": "stdout",
     "output_type": "stream",
     "text": [
      "C:\\Users\\a1056968\\Desktop\\.ipynb_checkpoints\n",
      "C:\\Users\\a1056968\\Desktop\\Clean datasets\n",
      "C:\\Users\\a1056968\\Desktop\\data-science\n",
      "C:\\Users\\a1056968\\Desktop\\Deep Learning 2022\n",
      "C:\\Users\\a1056968\\Desktop\\dummy_batch.bat\n",
      "C:\\Users\\a1056968\\Desktop\\EagleEye dummy report\n",
      "C:\\Users\\a1056968\\Desktop\\EagleEye_STM_MSG_MLX12123_42PP8-2.html\n",
      "C:\\Users\\a1056968\\Desktop\\eagle_dashboard_v01\n",
      "C:\\Users\\a1056968\\Desktop\\Jupyter Lab.lnk\n",
      "C:\\Users\\a1056968\\Desktop\\machine-learning-2022\n"
     ]
    }
   ],
   "source": [
    "for el, _ in zip(DESKTOP.glob('*'), range(10)):\n",
    "    print(el)"
   ]
  },
  {
   "cell_type": "code",
   "execution_count": 12,
   "id": "1847b09a-497b-46eb-aafe-31e47b198123",
   "metadata": {},
   "outputs": [
    {
     "data": {
      "text/plain": [
       "23"
      ]
     },
     "execution_count": 12,
     "metadata": {},
     "output_type": "execute_result"
    }
   ],
   "source": [
    "len(list(DESKTOP.glob('*')))"
   ]
  },
  {
   "cell_type": "code",
   "execution_count": 15,
   "id": "1695f78e-7058-45d7-90cb-c8402318fdb3",
   "metadata": {},
   "outputs": [
    {
     "data": {
      "text/plain": [
       "20"
      ]
     },
     "execution_count": 15,
     "metadata": {},
     "output_type": "execute_result"
    }
   ],
   "source": [
    "len([el for el in DESKTOP.glob('*') if el.is_dir()])"
   ]
  },
  {
   "cell_type": "code",
   "execution_count": 18,
   "id": "b40c6dbb-6bfe-46d8-8ae8-b06002c53cd1",
   "metadata": {
    "tags": []
   },
   "outputs": [
    {
     "data": {
      "text/plain": [
       "3"
      ]
     },
     "execution_count": 18,
     "metadata": {},
     "output_type": "execute_result"
    }
   ],
   "source": [
    "len([el for el in DESKTOP.glob('*') if el.is_file()])"
   ]
  },
  {
   "cell_type": "markdown",
   "id": "4352a90b-90cd-45a4-b0b2-10baf1089207",
   "metadata": {
    "tags": []
   },
   "source": [
    "### Folders and subfolders: `glob('**')`"
   ]
  },
  {
   "cell_type": "code",
   "execution_count": 8,
   "id": "bed73adc-7255-4cef-b7d0-e0c98f344ea8",
   "metadata": {},
   "outputs": [
    {
     "name": "stdout",
     "output_type": "stream",
     "text": [
      "C:\\Users\\a1056968\\Desktop\n",
      "C:\\Users\\a1056968\\Desktop\\.ipynb_checkpoints\n",
      "C:\\Users\\a1056968\\Desktop\\Clean datasets\n",
      "C:\\Users\\a1056968\\Desktop\\data-science\n",
      "C:\\Users\\a1056968\\Desktop\\data-science\\.git\n",
      "C:\\Users\\a1056968\\Desktop\\data-science\\.git\\hooks\n",
      "C:\\Users\\a1056968\\Desktop\\data-science\\.git\\info\n",
      "C:\\Users\\a1056968\\Desktop\\data-science\\.git\\logs\n",
      "C:\\Users\\a1056968\\Desktop\\data-science\\.git\\logs\\refs\n",
      "C:\\Users\\a1056968\\Desktop\\data-science\\.git\\logs\\refs\\heads\n"
     ]
    }
   ],
   "source": [
    "for el, _ in zip(DESKTOP.glob('**'), range(10)):\n",
    "    print(el)"
   ]
  },
  {
   "cell_type": "code",
   "execution_count": 13,
   "id": "8f5a9344-cd4b-42a3-9746-a065cf02fb77",
   "metadata": {},
   "outputs": [
    {
     "data": {
      "text/plain": [
       "3756"
      ]
     },
     "execution_count": 13,
     "metadata": {},
     "output_type": "execute_result"
    }
   ],
   "source": [
    "len(list(DESKTOP.glob('**')))"
   ]
  },
  {
   "cell_type": "code",
   "execution_count": 19,
   "id": "40e57570-69e6-4370-b659-9008d12231da",
   "metadata": {},
   "outputs": [
    {
     "data": {
      "text/plain": [
       "3756"
      ]
     },
     "execution_count": 19,
     "metadata": {},
     "output_type": "execute_result"
    }
   ],
   "source": [
    "len([el for el in DESKTOP.glob('**') if el.is_dir()])"
   ]
  },
  {
   "cell_type": "code",
   "execution_count": 20,
   "id": "bf3acf65-d19d-494a-aa89-996692426849",
   "metadata": {},
   "outputs": [
    {
     "data": {
      "text/plain": [
       "0"
      ]
     },
     "execution_count": 20,
     "metadata": {},
     "output_type": "execute_result"
    }
   ],
   "source": [
    "len([el for el in DESKTOP.glob('**') if el.is_file()])"
   ]
  },
  {
   "cell_type": "markdown",
   "id": "c13db4d2-f2bc-4bc5-a236-a152c79c7e53",
   "metadata": {
    "jp-MarkdownHeadingCollapsed": true,
    "tags": []
   },
   "source": [
    "### `glob('**/*')`"
   ]
  },
  {
   "cell_type": "code",
   "execution_count": 10,
   "id": "0c175197-ac7d-4fa2-8376-e6726020072a",
   "metadata": {},
   "outputs": [
    {
     "name": "stdout",
     "output_type": "stream",
     "text": [
      "C:\\Users\\a1056968\\Desktop\\.ipynb_checkpoints\n",
      "C:\\Users\\a1056968\\Desktop\\Clean datasets\n",
      "C:\\Users\\a1056968\\Desktop\\data-science\n",
      "C:\\Users\\a1056968\\Desktop\\Deep Learning 2022\n",
      "C:\\Users\\a1056968\\Desktop\\dummy_batch.bat\n",
      "C:\\Users\\a1056968\\Desktop\\EagleEye dummy report\n",
      "C:\\Users\\a1056968\\Desktop\\EagleEye_STM_MSG_MLX12123_42PP8-2.html\n",
      "C:\\Users\\a1056968\\Desktop\\eagle_dashboard_v01\n",
      "C:\\Users\\a1056968\\Desktop\\Jupyter Lab.lnk\n",
      "C:\\Users\\a1056968\\Desktop\\machine-learning-2022\n"
     ]
    }
   ],
   "source": [
    "for el, _ in zip(DESKTOP.glob('**/*'), range(10)):\n",
    "    print(el)"
   ]
  },
  {
   "cell_type": "code",
   "execution_count": 14,
   "id": "638fca54-6d48-4e15-8087-dbdd396b5898",
   "metadata": {},
   "outputs": [
    {
     "data": {
      "text/plain": [
       "51404"
      ]
     },
     "execution_count": 14,
     "metadata": {},
     "output_type": "execute_result"
    }
   ],
   "source": [
    "len(list(DESKTOP.glob('**/*')))"
   ]
  },
  {
   "cell_type": "markdown",
   "id": "e3832575-185a-4766-9217-0ae7d97c91eb",
   "metadata": {
    "jp-MarkdownHeadingCollapsed": true,
    "tags": []
   },
   "source": [
    "### `rglob('*')`"
   ]
  },
  {
   "cell_type": "code",
   "execution_count": 9,
   "id": "13ea3b1d-04b7-44d7-92d7-f61e3b02ebba",
   "metadata": {},
   "outputs": [
    {
     "name": "stdout",
     "output_type": "stream",
     "text": [
      "C:\\Users\\a1056968\\Desktop\\.ipynb_checkpoints\n",
      "C:\\Users\\a1056968\\Desktop\\Clean datasets\n",
      "C:\\Users\\a1056968\\Desktop\\data-science\n",
      "C:\\Users\\a1056968\\Desktop\\Deep Learning 2022\n",
      "C:\\Users\\a1056968\\Desktop\\dummy_batch.bat\n",
      "C:\\Users\\a1056968\\Desktop\\EagleEye dummy report\n",
      "C:\\Users\\a1056968\\Desktop\\EagleEye_STM_MSG_MLX12123_42PP8-2.html\n",
      "C:\\Users\\a1056968\\Desktop\\eagle_dashboard_v01\n",
      "C:\\Users\\a1056968\\Desktop\\Jupyter Lab.lnk\n",
      "C:\\Users\\a1056968\\Desktop\\machine-learning-2022\n"
     ]
    }
   ],
   "source": [
    "for el, _ in zip(DESKTOP.rglob('*'), range(10)):\n",
    "    print(el)"
   ]
  }
 ],
 "metadata": {
  "kernelspec": {
   "display_name": "Python 3 (ipykernel)",
   "language": "python",
   "name": "python3"
  },
  "language_info": {
   "codemirror_mode": {
    "name": "ipython",
    "version": 3
   },
   "file_extension": ".py",
   "mimetype": "text/x-python",
   "name": "python",
   "nbconvert_exporter": "python",
   "pygments_lexer": "ipython3",
   "version": "3.9.0"
  }
 },
 "nbformat": 4,
 "nbformat_minor": 5
}
