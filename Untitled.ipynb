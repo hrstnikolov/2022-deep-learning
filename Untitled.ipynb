{
 "cells": [
  {
   "cell_type": "code",
   "execution_count": 2,
   "id": "ce12d87d-9a41-4e06-8271-526f7f7d6687",
   "metadata": {},
   "outputs": [],
   "source": [
    "from collections import namedtuple"
   ]
  },
  {
   "cell_type": "code",
   "execution_count": 3,
   "id": "fe44103a-a055-4752-be14-68f5b826d194",
   "metadata": {},
   "outputs": [
    {
     "data": {
      "text/plain": [
       "(3, 1)"
      ]
     },
     "execution_count": 3,
     "metadata": {},
     "output_type": "execute_result"
    }
   ],
   "source": [
    "divmod(10, 3)"
   ]
  },
  {
   "cell_type": "code",
   "execution_count": 16,
   "id": "c846a883-b57e-49f2-869b-9d7cfbe8f498",
   "metadata": {},
   "outputs": [],
   "source": [
    "d = {'a': 13, 'b': 44}"
   ]
  },
  {
   "cell_type": "code",
   "execution_count": 18,
   "id": "609f15cf-bb38-4e82-988d-749929b27b7f",
   "metadata": {},
   "outputs": [
    {
     "data": {
      "text/plain": [
       "(13, None)"
      ]
     },
     "execution_count": 18,
     "metadata": {},
     "output_type": "execute_result"
    }
   ],
   "source": [
    "# d['c']  # KeyError\n",
    "d.setdefault('a'), d.setdefault('c')"
   ]
  },
  {
   "cell_type": "code",
   "execution_count": null,
   "id": "eef2a08d-8aad-4e94-b761-7a0146eec95a",
   "metadata": {},
   "outputs": [],
   "source": []
  }
 ],
 "metadata": {
  "kernelspec": {
   "display_name": "Python 3 (ipykernel)",
   "language": "python",
   "name": "python3"
  },
  "language_info": {
   "codemirror_mode": {
    "name": "ipython",
    "version": 3
   },
   "file_extension": ".py",
   "mimetype": "text/x-python",
   "name": "python",
   "nbconvert_exporter": "python",
   "pygments_lexer": "ipython3",
   "version": "3.10.9"
  }
 },
 "nbformat": 4,
 "nbformat_minor": 5
}
