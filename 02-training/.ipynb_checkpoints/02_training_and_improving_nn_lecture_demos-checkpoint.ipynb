{
 "cells": [
  {
   "cell_type": "code",
   "execution_count": 2,
   "id": "6f303ff1-4cf7-4e05-8630-13c5cdca0a71",
   "metadata": {},
   "outputs": [],
   "source": [
    "%matplotlib inline"
   ]
  },
  {
   "cell_type": "code",
   "execution_count": 3,
   "id": "a093271b-9a75-4950-aa54-2136e9383086",
   "metadata": {},
   "outputs": [],
   "source": [
    "import numpy as np\n",
    "import pandas as pd\n",
    "import matplotlib.pyplot as plt\n",
    "\n",
    "import tensorflow as tf\n",
    "from tensorflow.keras.datasets import mnist\n",
    "from tensorflow.keras.models import Sequential\n",
    "from tensorflow.keras.layers import Input, Dense, Flatten, Dropout, BatchNormalization\n",
    "from tensorflow.keras.callbacks import TensorBoard"
   ]
  },
  {
   "cell_type": "markdown",
   "id": "d36bcb39-0950-4651-92e0-f46eb0692ee9",
   "metadata": {},
   "source": [
    "# 02 Training and Improving NNs - Lecture Demos"
   ]
  },
  {
   "cell_type": "markdown",
   "id": "cfddeb5f-8c28-436d-a902-8526cb7440fd",
   "metadata": {
    "jp-MarkdownHeadingCollapsed": true,
    "tags": []
   },
   "source": [
    "### Prepare MNIST"
   ]
  },
  {
   "cell_type": "code",
   "execution_count": 3,
   "id": "8f93179b-c477-4db9-932f-f4417121e660",
   "metadata": {},
   "outputs": [],
   "source": [
    "(train_data, train_classes), (test_data, test_classes) = mnist.load_data()"
   ]
  },
  {
   "cell_type": "code",
   "execution_count": 4,
   "id": "e48e5e73-e013-45df-8d68-c4badb82a82c",
   "metadata": {},
   "outputs": [
    {
     "data": {
      "text/plain": [
       "((60000, 28, 28), (60000,))"
      ]
     },
     "execution_count": 4,
     "metadata": {},
     "output_type": "execute_result"
    }
   ],
   "source": [
    "train_data.shape, train_classes.shape"
   ]
  },
  {
   "cell_type": "code",
   "execution_count": 5,
   "id": "ec23ee14-16fa-440f-a5b8-19e12c0952d8",
   "metadata": {},
   "outputs": [
    {
     "data": {
      "text/plain": [
       "((10000, 28, 28), (10000,))"
      ]
     },
     "execution_count": 5,
     "metadata": {},
     "output_type": "execute_result"
    }
   ],
   "source": [
    "test_data.shape, test_classes.shape"
   ]
  },
  {
   "cell_type": "code",
   "execution_count": 6,
   "id": "4466d809-5187-4060-8518-7499bc52473b",
   "metadata": {},
   "outputs": [
    {
     "name": "stdout",
     "output_type": "stream",
     "text": [
      "(28, 28) 10\n"
     ]
    }
   ],
   "source": [
    "input_shape = train_data[0].shape\n",
    "n_classes = len(set(train_classes))\n",
    "\n",
    "print(input_shape, n_classes)"
   ]
  },
  {
   "cell_type": "markdown",
   "id": "4bcc52da-4b2e-4d65-8dfe-5012bf50bc24",
   "metadata": {
    "jp-MarkdownHeadingCollapsed": true,
    "tags": []
   },
   "source": [
    "### Model 1 - baseline"
   ]
  },
  {
   "cell_type": "code",
   "execution_count": 7,
   "id": "e9b5c8d4-67fd-4359-8d95-b29a18836cf3",
   "metadata": {},
   "outputs": [
    {
     "name": "stdout",
     "output_type": "stream",
     "text": [
      "Model: \"sequential\"\n",
      "_________________________________________________________________\n",
      " Layer (type)                Output Shape              Param #   \n",
      "=================================================================\n",
      " flatten (Flatten)           (None, 784)               0         \n",
      "                                                                 \n",
      " dense (Dense)               (None, 40)                31400     \n",
      "                                                                 \n",
      " dense_1 (Dense)             (None, 30)                1230      \n",
      "                                                                 \n",
      " dense_2 (Dense)             (None, 20)                620       \n",
      "                                                                 \n",
      " dense_3 (Dense)             (None, 10)                210       \n",
      "                                                                 \n",
      "=================================================================\n",
      "Total params: 33,460\n",
      "Trainable params: 33,460\n",
      "Non-trainable params: 0\n",
      "_________________________________________________________________\n"
     ]
    }
   ],
   "source": [
    "model = Sequential([\n",
    "    Input(input_shape),\n",
    "    Flatten(),\n",
    "    Dense(40),\n",
    "    Dense(30),\n",
    "    Dense(20),\n",
    "    Dense(n_classes, activation='softmax'),\n",
    "])\n",
    "\n",
    "model.summary()"
   ]
  },
  {
   "cell_type": "code",
   "execution_count": 8,
   "id": "a891beee-cfa8-4783-a19d-d60797cd7a5b",
   "metadata": {},
   "outputs": [],
   "source": [
    "model.compile(\n",
    "    loss=tf.keras.losses.sparse_categorical_crossentropy, \n",
    "    optimizer=tf.keras.optimizers.Adam(), \n",
    "    # metrics=[tf.keras.metrics.Accuracy()],\n",
    ")"
   ]
  },
  {
   "cell_type": "code",
   "execution_count": 9,
   "id": "81611a1e-d1f1-401e-a8aa-5c39836ce540",
   "metadata": {},
   "outputs": [
    {
     "name": "stdout",
     "output_type": "stream",
     "text": [
      "1688/1688 [==============================] - 8s 4ms/step - loss: 6.3417 - val_loss: 1.0152\n"
     ]
    },
    {
     "data": {
      "text/plain": [
       "<keras.callbacks.History at 0x228b2529c70>"
      ]
     },
     "execution_count": 9,
     "metadata": {},
     "output_type": "execute_result"
    }
   ],
   "source": [
    "model.fit(train_data, train_classes, validation_split=0.1)"
   ]
  },
  {
   "cell_type": "markdown",
   "id": "95e3283a-7caf-4ee9-9be3-ad08c49ff34e",
   "metadata": {
    "jp-MarkdownHeadingCollapsed": true,
    "tags": []
   },
   "source": [
    "### Model 2 - activation"
   ]
  },
  {
   "cell_type": "code",
   "execution_count": 10,
   "id": "13c9323c-cc91-429e-b3f1-2ba4bb9943a9",
   "metadata": {},
   "outputs": [
    {
     "name": "stdout",
     "output_type": "stream",
     "text": [
      "Model: \"sequential_1\"\n",
      "_________________________________________________________________\n",
      " Layer (type)                Output Shape              Param #   \n",
      "=================================================================\n",
      " flatten_1 (Flatten)         (None, 784)               0         \n",
      "                                                                 \n",
      " dense_4 (Dense)             (None, 40)                31400     \n",
      "                                                                 \n",
      " dense_5 (Dense)             (None, 30)                1230      \n",
      "                                                                 \n",
      " dense_6 (Dense)             (None, 20)                620       \n",
      "                                                                 \n",
      " dense_7 (Dense)             (None, 10)                210       \n",
      "                                                                 \n",
      "=================================================================\n",
      "Total params: 33,460\n",
      "Trainable params: 33,460\n",
      "Non-trainable params: 0\n",
      "_________________________________________________________________\n"
     ]
    }
   ],
   "source": [
    "model = Sequential([\n",
    "    Input(input_shape),\n",
    "    Flatten(),\n",
    "    Dense(40, activation='relu'),\n",
    "    Dense(30, activation='relu'),\n",
    "    Dense(20, activation='relu'),\n",
    "    Dense(n_classes, activation='softmax'),\n",
    "])\n",
    "\n",
    "model.summary()"
   ]
  },
  {
   "cell_type": "code",
   "execution_count": 11,
   "id": "b77e6da6-1b2a-4040-b225-2ec3767b8e55",
   "metadata": {},
   "outputs": [],
   "source": [
    "model.compile(\n",
    "    loss=tf.keras.losses.sparse_categorical_crossentropy, \n",
    "    optimizer=tf.keras.optimizers.Adam(), \n",
    ")"
   ]
  },
  {
   "cell_type": "code",
   "execution_count": 12,
   "id": "e2b69c34-bead-4990-a6ab-17d05815094e",
   "metadata": {},
   "outputs": [
    {
     "name": "stdout",
     "output_type": "stream",
     "text": [
      "1688/1688 [==============================] - 7s 3ms/step - loss: 1.6120 - val_loss: 0.4099\n"
     ]
    },
    {
     "data": {
      "text/plain": [
       "<keras.callbacks.History at 0x228b62c32b0>"
      ]
     },
     "execution_count": 12,
     "metadata": {},
     "output_type": "execute_result"
    }
   ],
   "source": [
    "model.fit(train_data, train_classes, validation_split=0.1)"
   ]
  },
  {
   "cell_type": "markdown",
   "id": "5ec48151-d884-47f3-b91f-1fe9284ddf05",
   "metadata": {
    "jp-MarkdownHeadingCollapsed": true,
    "tags": []
   },
   "source": [
    "### Model 3 - regularizers"
   ]
  },
  {
   "cell_type": "code",
   "execution_count": 15,
   "id": "8cfd397c-8ef1-43f0-ab5c-fed035754b5e",
   "metadata": {},
   "outputs": [
    {
     "name": "stdout",
     "output_type": "stream",
     "text": [
      "Model: \"sequential_2\"\n",
      "_________________________________________________________________\n",
      " Layer (type)                Output Shape              Param #   \n",
      "=================================================================\n",
      " flatten_3 (Flatten)         (None, 784)               0         \n",
      "                                                                 \n",
      " dense_8 (Dense)             (None, 40)                31400     \n",
      "                                                                 \n",
      " dense_9 (Dense)             (None, 30)                1230      \n",
      "                                                                 \n",
      " dense_10 (Dense)            (None, 20)                620       \n",
      "                                                                 \n",
      " dense_11 (Dense)            (None, 10)                210       \n",
      "                                                                 \n",
      "=================================================================\n",
      "Total params: 33,460\n",
      "Trainable params: 33,460\n",
      "Non-trainable params: 0\n",
      "_________________________________________________________________\n"
     ]
    }
   ],
   "source": [
    "model = Sequential([\n",
    "    Input(input_shape),\n",
    "    Flatten(),\n",
    "    Dense(40, kernel_regularizer=tf.keras.regularizers.L1L2(l1=0.01,l2=0.001), activation='relu'),\n",
    "    Dense(30, activation='relu'),\n",
    "    Dense(20, activation='relu'),\n",
    "    Dense(n_classes, activation='softmax'),\n",
    "])\n",
    "\n",
    "model.summary()"
   ]
  },
  {
   "cell_type": "code",
   "execution_count": 16,
   "id": "9ff98c4b-189d-44f8-8192-964b1468f77b",
   "metadata": {},
   "outputs": [],
   "source": [
    "model.compile(\n",
    "    loss=tf.keras.losses.sparse_categorical_crossentropy, \n",
    "    optimizer=tf.keras.optimizers.Adam(), \n",
    ")"
   ]
  },
  {
   "cell_type": "code",
   "execution_count": 17,
   "id": "df7cc21e-100c-4e33-9524-aeefc964bd24",
   "metadata": {},
   "outputs": [
    {
     "name": "stdout",
     "output_type": "stream",
     "text": [
      "1688/1688 [==============================] - 9s 4ms/step - loss: 4.1686 - val_loss: 1.2649\n"
     ]
    },
    {
     "data": {
      "text/plain": [
       "<keras.callbacks.History at 0x228b60c0a60>"
      ]
     },
     "execution_count": 17,
     "metadata": {},
     "output_type": "execute_result"
    }
   ],
   "source": [
    "model.fit(train_data, train_classes, validation_split=0.1)"
   ]
  },
  {
   "cell_type": "markdown",
   "id": "613e6895-ff20-4674-82d7-fc0069026f6a",
   "metadata": {
    "jp-MarkdownHeadingCollapsed": true,
    "tags": []
   },
   "source": [
    "### Model 4 - dropout"
   ]
  },
  {
   "cell_type": "markdown",
   "id": "75175c9a-8657-4493-b734-abcd7aaf1c8a",
   "metadata": {},
   "source": [
    "Usually, dropout is used instead of regularizers.\n",
    "\n",
    "The dropout `rate` can be different.\n",
    "\n",
    "Dropout is applied after the previous layer."
   ]
  },
  {
   "cell_type": "code",
   "execution_count": 19,
   "id": "a3f5a886-740d-4d74-8257-e41208504192",
   "metadata": {},
   "outputs": [
    {
     "name": "stdout",
     "output_type": "stream",
     "text": [
      "Model: \"sequential_3\"\n",
      "_________________________________________________________________\n",
      " Layer (type)                Output Shape              Param #   \n",
      "=================================================================\n",
      " flatten_4 (Flatten)         (None, 784)               0         \n",
      "                                                                 \n",
      " dense_12 (Dense)            (None, 40)                31400     \n",
      "                                                                 \n",
      " dropout (Dropout)           (None, 40)                0         \n",
      "                                                                 \n",
      " dense_13 (Dense)            (None, 30)                1230      \n",
      "                                                                 \n",
      " dropout_1 (Dropout)         (None, 30)                0         \n",
      "                                                                 \n",
      " dense_14 (Dense)            (None, 20)                620       \n",
      "                                                                 \n",
      " dense_15 (Dense)            (None, 10)                210       \n",
      "                                                                 \n",
      "=================================================================\n",
      "Total params: 33,460\n",
      "Trainable params: 33,460\n",
      "Non-trainable params: 0\n",
      "_________________________________________________________________\n"
     ]
    }
   ],
   "source": [
    "model = Sequential([\n",
    "    Input(input_shape),\n",
    "    Flatten(),\n",
    "    Dense(40, activation='relu'),\n",
    "    Dropout(rate=0.1),\n",
    "    Dense(30, activation='relu'),\n",
    "    Dropout(rate=0.05),\n",
    "    Dense(20, activation='relu'),\n",
    "    Dense(n_classes, activation='softmax'),\n",
    "])\n",
    "\n",
    "model.summary()"
   ]
  },
  {
   "cell_type": "code",
   "execution_count": 20,
   "id": "20c129d2-db67-4d4c-a858-2324a5df22b0",
   "metadata": {},
   "outputs": [],
   "source": [
    "model.compile(\n",
    "    loss=tf.keras.losses.sparse_categorical_crossentropy, \n",
    "    optimizer=tf.keras.optimizers.Adam(), \n",
    ")"
   ]
  },
  {
   "cell_type": "code",
   "execution_count": 21,
   "id": "7777eb0b-a8c3-4e33-9397-e4aac05c8e3c",
   "metadata": {},
   "outputs": [
    {
     "name": "stdout",
     "output_type": "stream",
     "text": [
      "1688/1688 [==============================] - 11s 5ms/step - loss: 6.5917 - val_loss: 1.9943\n"
     ]
    },
    {
     "data": {
      "text/plain": [
       "<keras.callbacks.History at 0x228b7868f70>"
      ]
     },
     "execution_count": 21,
     "metadata": {},
     "output_type": "execute_result"
    }
   ],
   "source": [
    "model.fit(train_data, train_classes, validation_split=0.1)"
   ]
  },
  {
   "cell_type": "markdown",
   "id": "66ba29ec-a94b-4b19-b855-79a7b361d81e",
   "metadata": {
    "tags": []
   },
   "source": [
    "### Model 5 - tensorboard"
   ]
  },
  {
   "cell_type": "code",
   "execution_count": 19,
   "id": "aaf46c37-8e10-4f6d-82b0-dcdfc9ce8373",
   "metadata": {},
   "outputs": [
    {
     "name": "stdout",
     "output_type": "stream",
     "text": [
      "Model: \"sequential_3\"\n",
      "_________________________________________________________________\n",
      " Layer (type)                Output Shape              Param #   \n",
      "=================================================================\n",
      " flatten_4 (Flatten)         (None, 784)               0         \n",
      "                                                                 \n",
      " dense_12 (Dense)            (None, 40)                31400     \n",
      "                                                                 \n",
      " dropout (Dropout)           (None, 40)                0         \n",
      "                                                                 \n",
      " dense_13 (Dense)            (None, 30)                1230      \n",
      "                                                                 \n",
      " dropout_1 (Dropout)         (None, 30)                0         \n",
      "                                                                 \n",
      " dense_14 (Dense)            (None, 20)                620       \n",
      "                                                                 \n",
      " dense_15 (Dense)            (None, 10)                210       \n",
      "                                                                 \n",
      "=================================================================\n",
      "Total params: 33,460\n",
      "Trainable params: 33,460\n",
      "Non-trainable params: 0\n",
      "_________________________________________________________________\n"
     ]
    }
   ],
   "source": [
    "model = Sequential([\n",
    "    Input(input_shape),\n",
    "    Flatten(),\n",
    "    Dense(40, activation='relu'),\n",
    "    Dropout(rate=0.1),\n",
    "    Dense(30, activation='relu'),\n",
    "    Dropout(rate=0.05),\n",
    "    Dense(20, activation='relu'),\n",
    "    Dense(n_classes, activation='softmax'),\n",
    "])\n",
    "\n",
    "model.summary()"
   ]
  },
  {
   "cell_type": "code",
   "execution_count": 20,
   "id": "8eb03445-c383-42ad-9dd3-ff0bbaf024d6",
   "metadata": {},
   "outputs": [],
   "source": [
    "model.compile(\n",
    "    loss=tf.keras.losses.sparse_categorical_crossentropy, \n",
    "    optimizer=tf.keras.optimizers.Adam(), \n",
    ")"
   ]
  },
  {
   "cell_type": "code",
   "execution_count": null,
   "id": "c68df85f-84a2-4fc1-b245-0008f138e0fa",
   "metadata": {},
   "outputs": [
    {
     "name": "stdout",
     "output_type": "stream",
     "text": [
      "Epoch 1/10\n",
      "1688/1688 [==============================] - 10s 6ms/step - loss: 1.6284 - val_loss: 1.1370\n",
      "Epoch 2/10\n",
      "1688/1688 [==============================] - 10s 6ms/step - loss: 1.3561 - val_loss: 1.0772\n",
      "Epoch 3/10\n",
      "1688/1688 [==============================] - 8s 5ms/step - loss: 1.2563 - val_loss: 1.0388\n",
      "Epoch 4/10\n",
      "1688/1688 [==============================] - 8s 5ms/step - loss: 1.1949 - val_loss: 0.9712\n",
      "Epoch 5/10\n",
      "1688/1688 [==============================] - 13s 8ms/step - loss: 1.1356 - val_loss: 0.9227\n",
      "Epoch 6/10\n",
      "1688/1688 [==============================] - 8s 5ms/step - loss: 1.1059 - val_loss: 0.8908\n",
      "Epoch 7/10\n",
      "1688/1688 [==============================] - 8s 5ms/step - loss: 1.0684 - val_loss: 0.7784\n",
      "Epoch 8/10\n",
      "1688/1688 [==============================] - 7s 4ms/step - loss: 1.0644 - val_loss: 0.8508\n",
      "Epoch 9/10\n",
      "1688/1688 [==============================] - 7s 4ms/step - loss: 1.0479 - val_loss: 0.8297\n",
      "Epoch 10/10\n",
      "  76/1688 [>.............................] - ETA: 5s - loss: 1.0221"
     ]
    }
   ],
   "source": [
    "model.fit(\n",
    "    x=train_data,\n",
    "    y=train_classes,\n",
    "    validation_split=0.1,\n",
    "    epochs=10,\n",
    "    callbacks=[TensorBoard(),],\n",
    ")"
   ]
  },
  {
   "cell_type": "markdown",
   "id": "3d8937e6-1a9f-45e5-bdbe-87042fcd67a9",
   "metadata": {},
   "source": [
    "### Model 6 - weights initializers"
   ]
  },
  {
   "cell_type": "code",
   "execution_count": 25,
   "id": "faaa669b-917a-493c-a5d1-d75bcc3b2e4d",
   "metadata": {},
   "outputs": [],
   "source": [
    "new_model = Sequential([\n",
    "    Input(shape=(20,)),\n",
    "    Dense(5),\n",
    "    Dense(10),\n",
    "    Dense(2),\n",
    "])"
   ]
  },
  {
   "cell_type": "code",
   "execution_count": 29,
   "id": "dc8bda22-0155-4c85-b4f7-022b88075c29",
   "metadata": {},
   "outputs": [
    {
     "data": {
      "text/plain": [
       "<tf.Variable 'dense_16/kernel:0' shape=(20, 5) dtype=float32, numpy=\n",
       "array([[ 0.08362398,  0.09778807,  0.08567849,  0.23466697, -0.13509059],\n",
       "       [-0.32277614, -0.3444387 ,  0.34227124,  0.11765483,  0.33557817],\n",
       "       [-0.1997306 ,  0.37902853,  0.2853416 ,  0.30499277,  0.35001746],\n",
       "       [-0.27017736,  0.04396906,  0.02318951, -0.43664822, -0.01208434],\n",
       "       [ 0.0422965 , -0.45406416, -0.24506332,  0.46997055,  0.4052585 ],\n",
       "       [ 0.14840695, -0.46192193, -0.0698027 , -0.18631172,  0.46106836],\n",
       "       [-0.28739658,  0.1136981 ,  0.352779  ,  0.27175334,  0.47735342],\n",
       "       [ 0.4694228 , -0.06244263,  0.1153473 , -0.35899884, -0.36681843],\n",
       "       [-0.22347516,  0.26761857, -0.38983718, -0.12819925,  0.34945753],\n",
       "       [ 0.29177126, -0.2604078 , -0.34890962, -0.33208993, -0.19314656],\n",
       "       [ 0.4157466 , -0.22383934, -0.4123483 ,  0.06362841, -0.0196321 ],\n",
       "       [-0.17551044,  0.4265884 , -0.42637515,  0.19248441, -0.35184914],\n",
       "       [ 0.22357723, -0.02982366, -0.10228091, -0.20906031,  0.0302383 ],\n",
       "       [ 0.12493405, -0.29297757,  0.30473694,  0.20423529,  0.2851551 ],\n",
       "       [ 0.36005417,  0.44042566, -0.13067168,  0.43109307,  0.18888006],\n",
       "       [ 0.15725997,  0.4797009 ,  0.41590908, -0.26974988,  0.04759035],\n",
       "       [-0.17817199,  0.13579902, -0.392534  ,  0.36555794,  0.24840441],\n",
       "       [ 0.27103338,  0.11881521,  0.29532465,  0.33956787,  0.0452117 ],\n",
       "       [-0.12867999, -0.41916513,  0.45928493,  0.4719688 , -0.2597564 ],\n",
       "       [ 0.43147454, -0.28192097,  0.01425341,  0.19866022, -0.29200566]],\n",
       "      dtype=float32)>"
      ]
     },
     "execution_count": 29,
     "metadata": {},
     "output_type": "execute_result"
    }
   ],
   "source": [
    "new_model.layers[0].kernel  # Shape is (20, 5)"
   ]
  },
  {
   "cell_type": "code",
   "execution_count": 31,
   "id": "20905ef1-611a-4921-8aee-7ad6f651f6d6",
   "metadata": {},
   "outputs": [
    {
     "data": {
      "text/plain": [
       "<tf.Variable 'dense_17/kernel:0' shape=(5, 10) dtype=float32, numpy=\n",
       "array([[ 0.06221592, -0.16700593,  0.36394572,  0.0834235 , -0.09763598,\n",
       "        -0.53136575, -0.3250643 , -0.08648252,  0.00359237,  0.40301114],\n",
       "       [-0.22884741, -0.09620994,  0.11201131,  0.49379295,  0.59470063,\n",
       "        -0.33178845, -0.19935095, -0.42648253,  0.07278019, -0.38036323],\n",
       "       [ 0.06149679, -0.50385845, -0.4469502 ,  0.47943097, -0.3826065 ,\n",
       "         0.5969114 ,  0.37790126, -0.30654302,  0.42641062,  0.53824633],\n",
       "       [ 0.47752255, -0.2794031 , -0.53202873,  0.3784588 , -0.5498869 ,\n",
       "         0.54257685, -0.10970753,  0.13454676,  0.12194788, -0.32304752],\n",
       "       [-0.2873153 , -0.0114215 , -0.34724373,  0.4577499 , -0.2520647 ,\n",
       "         0.27173352,  0.46544188, -0.06075174, -0.61788535, -0.11282951]],\n",
       "      dtype=float32)>"
      ]
     },
     "execution_count": 31,
     "metadata": {},
     "output_type": "execute_result"
    }
   ],
   "source": [
    "new_model.layers[1].kernel  # Shape is (10, 5)"
   ]
  },
  {
   "cell_type": "code",
   "execution_count": 32,
   "id": "3c19784d-e229-4c45-a21a-78adfba27826",
   "metadata": {},
   "outputs": [
    {
     "data": {
      "text/plain": [
       "<keras.initializers.initializers_v2.GlorotUniform at 0x228b57626a0>"
      ]
     },
     "execution_count": 32,
     "metadata": {},
     "output_type": "execute_result"
    }
   ],
   "source": [
    "new_model.layers[0].kernel_initializer  # Glorot"
   ]
  },
  {
   "cell_type": "code",
   "execution_count": 33,
   "id": "ca1c93db-d2f1-483e-bafa-1130e9cab819",
   "metadata": {},
   "outputs": [
    {
     "data": {
      "text/plain": [
       "<keras.initializers.initializers_v2.GlorotUniform at 0x228b57626a0>"
      ]
     },
     "execution_count": 33,
     "metadata": {},
     "output_type": "execute_result"
    }
   ],
   "source": [
    "new_model.layers[0].kernel_initializer"
   ]
  },
  {
   "cell_type": "markdown",
   "id": "57ca85ca-1f3c-4098-90ce-0b532b9e11ea",
   "metadata": {},
   "source": [
    "### Model 7 - random search"
   ]
  },
  {
   "cell_type": "code",
   "execution_count": null,
   "id": "1d3de804-22c0-4b46-b09d-3c019a3fcbb2",
   "metadata": {},
   "outputs": [],
   "source": []
  },
  {
   "cell_type": "markdown",
   "id": "abeecda6-23d5-46fb-8095-f8a06500dc90",
   "metadata": {},
   "source": [
    "### Model 8 - batch normalization"
   ]
  },
  {
   "cell_type": "code",
   "execution_count": null,
   "id": "a76c1b42-0dc7-4a49-a1bd-4d68bb31de30",
   "metadata": {},
   "outputs": [],
   "source": [
    "model = Sequential([\n",
    "    Input(input_shape),\n",
    "    Flatten(),\n",
    "    Dense(40, activation='relu'),\n",
    "    Dropout(rate=0.1),\n",
    "    BatchNormalization(),  # New\n",
    "    Dense(30, activation='relu'),\n",
    "    Dropout(rate=0.05),\n",
    "    Dense(20, activation='relu'),\n",
    "    Dense(n_classes, activation='softmax'),\n",
    "])\n",
    "\n",
    "model.summary()"
   ]
  }
 ],
 "metadata": {
  "kernelspec": {
   "display_name": "Python 3 (ipykernel)",
   "language": "python",
   "name": "python3"
  },
  "language_info": {
   "codemirror_mode": {
    "name": "ipython",
    "version": 3
   },
   "file_extension": ".py",
   "mimetype": "text/x-python",
   "name": "python",
   "nbconvert_exporter": "python",
   "pygments_lexer": "ipython3",
   "version": "3.9.0"
  }
 },
 "nbformat": 4,
 "nbformat_minor": 5
}
